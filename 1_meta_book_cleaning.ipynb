{
 "cells": [
  {
   "cell_type": "code",
   "execution_count": null,
   "metadata": {
    "colab": {
     "base_uri": "https://localhost:8080/"
    },
    "id": "dZRjoH-EqNwW",
    "outputId": "84bd4eb0-eb94-4569-9789-a024632689b7"
   },
   "outputs": [
    {
     "name": "stdout",
     "output_type": "stream",
     "text": [
      "Drive already mounted at /content/gdrive; to attempt to forcibly remount, call drive.mount(\"/content/gdrive\", force_remount=True).\n"
     ]
    }
   ],
   "source": [
    "from google.colab import drive\n",
    "drive.mount('/content/gdrive')"
   ]
  },
  {
   "cell_type": "code",
   "execution_count": null,
   "metadata": {
    "colab": {
     "base_uri": "https://localhost:8080/"
    },
    "id": "i4_y0Zc4q6hO",
    "outputId": "5d2385b2-31d7-418d-9b2c-21674550bd2a"
   },
   "outputs": [
    {
     "name": "stdout",
     "output_type": "stream",
     "text": [
      "/content/gdrive/My Drive\n"
     ]
    }
   ],
   "source": [
    "%cd /content/gdrive/My Drive"
   ]
  },
  {
   "cell_type": "code",
   "execution_count": null,
   "metadata": {
    "colab": {
     "base_uri": "https://localhost:8080/"
    },
    "id": "qKXhvrLfrEDv",
    "outputId": "fb454d53-625e-46ba-e5a4-624d25827477"
   },
   "outputs": [
    {
     "name": "stdout",
     "output_type": "stream",
     "text": [
      "Requirement already satisfied: simplejson in /usr/local/lib/python3.6/dist-packages (3.17.2)\n"
     ]
    }
   ],
   "source": [
    "!pip install simplejson"
   ]
  },
  {
   "cell_type": "code",
   "execution_count": null,
   "metadata": {
    "id": "LZcT1EtzrH84"
   },
   "outputs": [],
   "source": [
    "# Dataframe\n",
    "import pandas as pd\n",
    "\n",
    "# Array\n",
    "import numpy as np\n",
    "\n",
    "# Decompress the file\n",
    "import gzip\n",
    "\n",
    "# Visualizations\n",
    "import matplotlib.pyplot as plt\n",
    "from matplotlib.colors import ListedColormap\n",
    "import seaborn as sns\n",
    "import matplotlib.colors as colors\n",
    "%matplotlib inline\n",
    "\n",
    "# Datetime\n",
    "from datetime import datetime\n",
    "\n",
    "## Warnings\n",
    "import warnings\n",
    "from scipy import stats\n",
    "warnings.filterwarnings('ignore')"
   ]
  },
  {
   "cell_type": "code",
   "execution_count": null,
   "metadata": {
    "colab": {
     "base_uri": "https://localhost:8080/"
    },
    "id": "ZwOgYPLoraMk",
    "outputId": "2d376076-93e6-4aaa-9f6e-08807e299246"
   },
   "outputs": [
    {
     "name": "stdout",
     "output_type": "stream",
     "text": [
      "Requirement already satisfied: simplejson in /usr/local/lib/python3.6/dist-packages (3.17.2)\n"
     ]
    }
   ],
   "source": [
    "!pip install simplejson"
   ]
  },
  {
   "cell_type": "code",
   "execution_count": null,
   "metadata": {
    "id": "BOuXg5YArduF"
   },
   "outputs": [],
   "source": [
    "def parse(path):\n",
    "  g = gzip.open(path, 'r')\n",
    "  for l in g:\n",
    "    yield json.loads(l)"
   ]
  },
  {
   "cell_type": "markdown",
   "metadata": {
    "id": "V5RabjSTFhdk"
   },
   "source": [
    "**Importing GoodreadsBook json file**"
   ]
  },
  {
   "cell_type": "code",
   "execution_count": null,
   "metadata": {
    "id": "fW0NYlZXrkfr"
   },
   "outputs": [],
   "source": [
    "import pandas as pd\n",
    "import gzip\n",
    "import json\n",
    "def parse(path):\n",
    "  g = open(path, 'rb')\n",
    "  for l in g:\n",
    "    yield json.loads(l)\n",
    "\n",
    "def getDF(path):\n",
    "  i = 0\n",
    "  df = {}\n",
    "  for d in parse(path):\n",
    "    df[i] = d\n",
    "    i += 1\n",
    "    if(i>=400000):\n",
    "      break\n",
    "  return pd.DataFrame.from_dict(df, orient='index')\n",
    "\n",
    "df = getDF('goodreads_books.json')"
   ]
  },
  {
   "cell_type": "code",
   "execution_count": null,
   "metadata": {
    "colab": {
     "base_uri": "https://localhost:8080/",
     "height": 1000
    },
    "id": "EFH895YGruEg",
    "outputId": "aad5527d-18e9-450c-a1ac-0ec18e9393b4"
   },
   "outputs": [
    {
     "data": {
      "text/html": [
       "<div>\n",
       "<style scoped>\n",
       "    .dataframe tbody tr th:only-of-type {\n",
       "        vertical-align: middle;\n",
       "    }\n",
       "\n",
       "    .dataframe tbody tr th {\n",
       "        vertical-align: top;\n",
       "    }\n",
       "\n",
       "    .dataframe thead th {\n",
       "        text-align: right;\n",
       "    }\n",
       "</style>\n",
       "<table border=\"1\" class=\"dataframe\">\n",
       "  <thead>\n",
       "    <tr style=\"text-align: right;\">\n",
       "      <th></th>\n",
       "      <th>isbn</th>\n",
       "      <th>text_reviews_count</th>\n",
       "      <th>series</th>\n",
       "      <th>country_code</th>\n",
       "      <th>language_code</th>\n",
       "      <th>popular_shelves</th>\n",
       "      <th>asin</th>\n",
       "      <th>is_ebook</th>\n",
       "      <th>average_rating</th>\n",
       "      <th>kindle_asin</th>\n",
       "      <th>similar_books</th>\n",
       "      <th>description</th>\n",
       "      <th>format</th>\n",
       "      <th>link</th>\n",
       "      <th>authors</th>\n",
       "      <th>publisher</th>\n",
       "      <th>num_pages</th>\n",
       "      <th>publication_day</th>\n",
       "      <th>isbn13</th>\n",
       "      <th>publication_month</th>\n",
       "      <th>edition_information</th>\n",
       "      <th>publication_year</th>\n",
       "      <th>url</th>\n",
       "      <th>image_url</th>\n",
       "      <th>book_id</th>\n",
       "      <th>ratings_count</th>\n",
       "      <th>work_id</th>\n",
       "      <th>title</th>\n",
       "      <th>title_without_series</th>\n",
       "    </tr>\n",
       "  </thead>\n",
       "  <tbody>\n",
       "    <tr>\n",
       "      <th>0</th>\n",
       "      <td>0312853122</td>\n",
       "      <td>1</td>\n",
       "      <td>[]</td>\n",
       "      <td>US</td>\n",
       "      <td></td>\n",
       "      <td>[{'count': '3', 'name': 'to-read'}, {'count': ...</td>\n",
       "      <td></td>\n",
       "      <td>false</td>\n",
       "      <td>4.00</td>\n",
       "      <td></td>\n",
       "      <td>[]</td>\n",
       "      <td></td>\n",
       "      <td>Paperback</td>\n",
       "      <td>https://www.goodreads.com/book/show/5333265-w-...</td>\n",
       "      <td>[{'author_id': '604031', 'role': ''}]</td>\n",
       "      <td>St. Martin's Press</td>\n",
       "      <td>256</td>\n",
       "      <td>1</td>\n",
       "      <td>9780312853129</td>\n",
       "      <td>9</td>\n",
       "      <td></td>\n",
       "      <td>1984</td>\n",
       "      <td>https://www.goodreads.com/book/show/5333265-w-...</td>\n",
       "      <td>https://images.gr-assets.com/books/1310220028m...</td>\n",
       "      <td>5333265</td>\n",
       "      <td>3</td>\n",
       "      <td>5400751</td>\n",
       "      <td>W.C. Fields: A Life on Film</td>\n",
       "      <td>W.C. Fields: A Life on Film</td>\n",
       "    </tr>\n",
       "    <tr>\n",
       "      <th>1</th>\n",
       "      <td>0743509986</td>\n",
       "      <td>6</td>\n",
       "      <td>[]</td>\n",
       "      <td>US</td>\n",
       "      <td></td>\n",
       "      <td>[{'count': '2634', 'name': 'to-read'}, {'count...</td>\n",
       "      <td></td>\n",
       "      <td>false</td>\n",
       "      <td>3.23</td>\n",
       "      <td>B000FC0PBC</td>\n",
       "      <td>[8709549, 17074050, 28937, 158816, 228563, 112...</td>\n",
       "      <td>Anita Diamant's international bestseller \"The ...</td>\n",
       "      <td>Audio CD</td>\n",
       "      <td>https://www.goodreads.com/book/show/1333909.Go...</td>\n",
       "      <td>[{'author_id': '626222', 'role': ''}]</td>\n",
       "      <td>Simon &amp; Schuster Audio</td>\n",
       "      <td></td>\n",
       "      <td>1</td>\n",
       "      <td>9780743509985</td>\n",
       "      <td>10</td>\n",
       "      <td>Abridged</td>\n",
       "      <td>2001</td>\n",
       "      <td>https://www.goodreads.com/book/show/1333909.Go...</td>\n",
       "      <td>https://s.gr-assets.com/assets/nophoto/book/11...</td>\n",
       "      <td>1333909</td>\n",
       "      <td>10</td>\n",
       "      <td>1323437</td>\n",
       "      <td>Good Harbor</td>\n",
       "      <td>Good Harbor</td>\n",
       "    </tr>\n",
       "    <tr>\n",
       "      <th>2</th>\n",
       "      <td></td>\n",
       "      <td>7</td>\n",
       "      <td>[189911]</td>\n",
       "      <td>US</td>\n",
       "      <td>eng</td>\n",
       "      <td>[{'count': '58', 'name': 'to-read'}, {'count':...</td>\n",
       "      <td>B00071IKUY</td>\n",
       "      <td>false</td>\n",
       "      <td>4.03</td>\n",
       "      <td></td>\n",
       "      <td>[19997, 828466, 1569323, 425389, 1176674, 2627...</td>\n",
       "      <td>Omnibus book club edition containing the Ladie...</td>\n",
       "      <td>Hardcover</td>\n",
       "      <td>https://www.goodreads.com/book/show/7327624-th...</td>\n",
       "      <td>[{'author_id': '10333', 'role': ''}]</td>\n",
       "      <td>Nelson Doubleday, Inc.</td>\n",
       "      <td>600</td>\n",
       "      <td></td>\n",
       "      <td></td>\n",
       "      <td></td>\n",
       "      <td>Book Club Edition</td>\n",
       "      <td>1987</td>\n",
       "      <td>https://www.goodreads.com/book/show/7327624-th...</td>\n",
       "      <td>https://images.gr-assets.com/books/1304100136m...</td>\n",
       "      <td>7327624</td>\n",
       "      <td>140</td>\n",
       "      <td>8948723</td>\n",
       "      <td>The Unschooled Wizard (Sun Wolf and Starhawk, ...</td>\n",
       "      <td>The Unschooled Wizard (Sun Wolf and Starhawk, ...</td>\n",
       "    </tr>\n",
       "    <tr>\n",
       "      <th>3</th>\n",
       "      <td>0743294297</td>\n",
       "      <td>3282</td>\n",
       "      <td>[]</td>\n",
       "      <td>US</td>\n",
       "      <td>eng</td>\n",
       "      <td>[{'count': '7615', 'name': 'to-read'}, {'count...</td>\n",
       "      <td></td>\n",
       "      <td>false</td>\n",
       "      <td>3.49</td>\n",
       "      <td>B002ENBLOK</td>\n",
       "      <td>[6604176, 6054190, 2285777, 82641, 7569453, 70...</td>\n",
       "      <td>Addie Downs and Valerie Adler were eight when ...</td>\n",
       "      <td>Hardcover</td>\n",
       "      <td>https://www.goodreads.com/book/show/6066819-be...</td>\n",
       "      <td>[{'author_id': '9212', 'role': ''}]</td>\n",
       "      <td>Atria Books</td>\n",
       "      <td>368</td>\n",
       "      <td>14</td>\n",
       "      <td>9780743294294</td>\n",
       "      <td>7</td>\n",
       "      <td></td>\n",
       "      <td>2009</td>\n",
       "      <td>https://www.goodreads.com/book/show/6066819-be...</td>\n",
       "      <td>https://s.gr-assets.com/assets/nophoto/book/11...</td>\n",
       "      <td>6066819</td>\n",
       "      <td>51184</td>\n",
       "      <td>6243154</td>\n",
       "      <td>Best Friends Forever</td>\n",
       "      <td>Best Friends Forever</td>\n",
       "    </tr>\n",
       "    <tr>\n",
       "      <th>4</th>\n",
       "      <td>0850308712</td>\n",
       "      <td>5</td>\n",
       "      <td>[]</td>\n",
       "      <td>US</td>\n",
       "      <td></td>\n",
       "      <td>[{'count': '32', 'name': 'to-read'}, {'count':...</td>\n",
       "      <td></td>\n",
       "      <td>false</td>\n",
       "      <td>3.40</td>\n",
       "      <td></td>\n",
       "      <td>[]</td>\n",
       "      <td></td>\n",
       "      <td></td>\n",
       "      <td>https://www.goodreads.com/book/show/287140.Run...</td>\n",
       "      <td>[{'author_id': '149918', 'role': ''}]</td>\n",
       "      <td></td>\n",
       "      <td></td>\n",
       "      <td></td>\n",
       "      <td>9780850308716</td>\n",
       "      <td></td>\n",
       "      <td></td>\n",
       "      <td></td>\n",
       "      <td>https://www.goodreads.com/book/show/287140.Run...</td>\n",
       "      <td>https://images.gr-assets.com/books/1413219371m...</td>\n",
       "      <td>287140</td>\n",
       "      <td>15</td>\n",
       "      <td>278577</td>\n",
       "      <td>Runic Astrology: Starcraft and Timekeeping in ...</td>\n",
       "      <td>Runic Astrology: Starcraft and Timekeeping in ...</td>\n",
       "    </tr>\n",
       "    <tr>\n",
       "      <th>...</th>\n",
       "      <td>...</td>\n",
       "      <td>...</td>\n",
       "      <td>...</td>\n",
       "      <td>...</td>\n",
       "      <td>...</td>\n",
       "      <td>...</td>\n",
       "      <td>...</td>\n",
       "      <td>...</td>\n",
       "      <td>...</td>\n",
       "      <td>...</td>\n",
       "      <td>...</td>\n",
       "      <td>...</td>\n",
       "      <td>...</td>\n",
       "      <td>...</td>\n",
       "      <td>...</td>\n",
       "      <td>...</td>\n",
       "      <td>...</td>\n",
       "      <td>...</td>\n",
       "      <td>...</td>\n",
       "      <td>...</td>\n",
       "      <td>...</td>\n",
       "      <td>...</td>\n",
       "      <td>...</td>\n",
       "      <td>...</td>\n",
       "      <td>...</td>\n",
       "      <td>...</td>\n",
       "      <td>...</td>\n",
       "      <td>...</td>\n",
       "      <td>...</td>\n",
       "    </tr>\n",
       "    <tr>\n",
       "      <th>399995</th>\n",
       "      <td>3939080314</td>\n",
       "      <td>1</td>\n",
       "      <td>[]</td>\n",
       "      <td>US</td>\n",
       "      <td></td>\n",
       "      <td>[]</td>\n",
       "      <td></td>\n",
       "      <td>false</td>\n",
       "      <td>3.50</td>\n",
       "      <td></td>\n",
       "      <td>[]</td>\n",
       "      <td></td>\n",
       "      <td></td>\n",
       "      <td>https://www.goodreads.com/book/show/8047305-di...</td>\n",
       "      <td>[{'author_id': '3486727', 'role': ''}]</td>\n",
       "      <td></td>\n",
       "      <td></td>\n",
       "      <td></td>\n",
       "      <td>9783939080312</td>\n",
       "      <td></td>\n",
       "      <td></td>\n",
       "      <td></td>\n",
       "      <td>https://www.goodreads.com/book/show/8047305-di...</td>\n",
       "      <td>https://s.gr-assets.com/assets/nophoto/book/11...</td>\n",
       "      <td>8047305</td>\n",
       "      <td>2</td>\n",
       "      <td>12691764</td>\n",
       "      <td>Die Sechs Schüsse Von Philadelphia</td>\n",
       "      <td>Die Sechs Schüsse Von Philadelphia</td>\n",
       "    </tr>\n",
       "    <tr>\n",
       "      <th>399996</th>\n",
       "      <td>0002446677</td>\n",
       "      <td>2</td>\n",
       "      <td>[220559]</td>\n",
       "      <td>US</td>\n",
       "      <td>eng</td>\n",
       "      <td>[{'count': '7', 'name': 'to-read'}, {'count': ...</td>\n",
       "      <td></td>\n",
       "      <td>false</td>\n",
       "      <td>3.76</td>\n",
       "      <td></td>\n",
       "      <td>[]</td>\n",
       "      <td>The girl in the dock, Camilla Barnard, was alm...</td>\n",
       "      <td>Hardcover</td>\n",
       "      <td>https://www.goodreads.com/book/show/1735650.Pa...</td>\n",
       "      <td>[{'author_id': '59132', 'role': ''}]</td>\n",
       "      <td>Harper</td>\n",
       "      <td>230</td>\n",
       "      <td></td>\n",
       "      <td>9780002446679</td>\n",
       "      <td></td>\n",
       "      <td></td>\n",
       "      <td>1970</td>\n",
       "      <td>https://www.goodreads.com/book/show/1735650.Pa...</td>\n",
       "      <td>https://images.gr-assets.com/books/1395765682m...</td>\n",
       "      <td>1735650</td>\n",
       "      <td>16</td>\n",
       "      <td>1733162</td>\n",
       "      <td>Past Praying For (Antony Maitland, #14)</td>\n",
       "      <td>Past Praying For (Antony Maitland, #14)</td>\n",
       "    </tr>\n",
       "    <tr>\n",
       "      <th>399997</th>\n",
       "      <td>0470154594</td>\n",
       "      <td>7</td>\n",
       "      <td>[]</td>\n",
       "      <td>US</td>\n",
       "      <td></td>\n",
       "      <td>[{'count': '42', 'name': 'to-read'}, {'count':...</td>\n",
       "      <td></td>\n",
       "      <td>false</td>\n",
       "      <td>3.10</td>\n",
       "      <td>B00UKFX5EI</td>\n",
       "      <td>[]</td>\n",
       "      <td>How many of us never meet the person with whom...</td>\n",
       "      <td>Paperback</td>\n",
       "      <td>https://www.goodreads.com/book/show/2609029-wh...</td>\n",
       "      <td>[{'author_id': '569879', 'role': ''}]</td>\n",
       "      <td>John Wiley &amp; Sons</td>\n",
       "      <td>271</td>\n",
       "      <td>1</td>\n",
       "      <td>9780470154595</td>\n",
       "      <td>1</td>\n",
       "      <td></td>\n",
       "      <td>2008</td>\n",
       "      <td>https://www.goodreads.com/book/show/2609029-wh...</td>\n",
       "      <td>https://s.gr-assets.com/assets/nophoto/book/11...</td>\n",
       "      <td>2609029</td>\n",
       "      <td>51</td>\n",
       "      <td>2633676</td>\n",
       "      <td>Why Mr. Right Can't Find You: The Surprising A...</td>\n",
       "      <td>Why Mr. Right Can't Find You: The Surprising A...</td>\n",
       "    </tr>\n",
       "    <tr>\n",
       "      <th>399998</th>\n",
       "      <td>1360122494</td>\n",
       "      <td>1</td>\n",
       "      <td>[]</td>\n",
       "      <td>US</td>\n",
       "      <td></td>\n",
       "      <td>[]</td>\n",
       "      <td></td>\n",
       "      <td>false</td>\n",
       "      <td>5.00</td>\n",
       "      <td></td>\n",
       "      <td>[]</td>\n",
       "      <td>This work has been selected by scholars as bei...</td>\n",
       "      <td>Paperback</td>\n",
       "      <td>https://www.goodreads.com/book/show/32087036-a...</td>\n",
       "      <td>[{'author_id': '15794963', 'role': ''}]</td>\n",
       "      <td>Wentworth Press</td>\n",
       "      <td></td>\n",
       "      <td>24</td>\n",
       "      <td>9781360122496</td>\n",
       "      <td>8</td>\n",
       "      <td></td>\n",
       "      <td>2016</td>\n",
       "      <td>https://www.goodreads.com/book/show/32087036-a...</td>\n",
       "      <td>https://images.gr-assets.com/books/1474570280m...</td>\n",
       "      <td>32087036</td>\n",
       "      <td>1</td>\n",
       "      <td>52735148</td>\n",
       "      <td>Adoniram Judson: A Biography</td>\n",
       "      <td>Adoniram Judson: A Biography</td>\n",
       "    </tr>\n",
       "    <tr>\n",
       "      <th>399999</th>\n",
       "      <td></td>\n",
       "      <td>2</td>\n",
       "      <td>[]</td>\n",
       "      <td>US</td>\n",
       "      <td>eng</td>\n",
       "      <td>[{'count': '16', 'name': 'to-read'}, {'count':...</td>\n",
       "      <td></td>\n",
       "      <td>false</td>\n",
       "      <td>2.50</td>\n",
       "      <td></td>\n",
       "      <td>[]</td>\n",
       "      <td>With a foreword by Sir Ray Avery - scientist, ...</td>\n",
       "      <td>Hardcover</td>\n",
       "      <td>https://www.goodreads.com/book/show/22593585-t...</td>\n",
       "      <td>[{'author_id': '3127690', 'role': ''}, {'autho...</td>\n",
       "      <td>Random House New Zealand</td>\n",
       "      <td>310</td>\n",
       "      <td></td>\n",
       "      <td>9781775530008</td>\n",
       "      <td></td>\n",
       "      <td></td>\n",
       "      <td>2012</td>\n",
       "      <td>https://www.goodreads.com/book/show/22593585-t...</td>\n",
       "      <td>https://images.gr-assets.com/books/1403832086m...</td>\n",
       "      <td>22593585</td>\n",
       "      <td>2</td>\n",
       "      <td>42074817</td>\n",
       "      <td>The Power of Us: New Zealanders Who Dare to Dream</td>\n",
       "      <td>The Power of Us: New Zealanders Who Dare to Dream</td>\n",
       "    </tr>\n",
       "  </tbody>\n",
       "</table>\n",
       "<p>400000 rows × 29 columns</p>\n",
       "</div>"
      ],
      "text/plain": [
       "              isbn  ...                               title_without_series\n",
       "0       0312853122  ...                        W.C. Fields: A Life on Film\n",
       "1       0743509986  ...                                        Good Harbor\n",
       "2                   ...  The Unschooled Wizard (Sun Wolf and Starhawk, ...\n",
       "3       0743294297  ...                               Best Friends Forever\n",
       "4       0850308712  ...  Runic Astrology: Starcraft and Timekeeping in ...\n",
       "...            ...  ...                                                ...\n",
       "399995  3939080314  ...                 Die Sechs Schüsse Von Philadelphia\n",
       "399996  0002446677  ...            Past Praying For (Antony Maitland, #14)\n",
       "399997  0470154594  ...  Why Mr. Right Can't Find You: The Surprising A...\n",
       "399998  1360122494  ...                       Adoniram Judson: A Biography\n",
       "399999              ...  The Power of Us: New Zealanders Who Dare to Dream\n",
       "\n",
       "[400000 rows x 29 columns]"
      ]
     },
     "execution_count": 8,
     "metadata": {
      "tags": []
     },
     "output_type": "execute_result"
    }
   ],
   "source": [
    "df"
   ]
  },
  {
   "cell_type": "code",
   "execution_count": null,
   "metadata": {
    "colab": {
     "base_uri": "https://localhost:8080/"
    },
    "id": "i6lUvRkZr4FV",
    "outputId": "b1f08656-e571-4628-f0d1-61ada7effbd7"
   },
   "outputs": [
    {
     "data": {
      "text/plain": [
       "Index(['isbn', 'text_reviews_count', 'series', 'country_code', 'language_code',\n",
       "       'popular_shelves', 'asin', 'is_ebook', 'average_rating', 'kindle_asin',\n",
       "       'similar_books', 'description', 'format', 'link', 'authors',\n",
       "       'publisher', 'num_pages', 'publication_day', 'isbn13',\n",
       "       'publication_month', 'edition_information', 'publication_year', 'url',\n",
       "       'image_url', 'book_id', 'ratings_count', 'work_id', 'title',\n",
       "       'title_without_series'],\n",
       "      dtype='object')"
      ]
     },
     "execution_count": 9,
     "metadata": {
      "tags": []
     },
     "output_type": "execute_result"
    }
   ],
   "source": [
    "df.columns"
   ]
  },
  {
   "cell_type": "markdown",
   "metadata": {
    "id": "MsTo75K2xPsL"
   },
   "source": [
    "**Dropping unwanted columns which are not needed for our hybrid system**"
   ]
  },
  {
   "cell_type": "code",
   "execution_count": null,
   "metadata": {
    "id": "udWrBh0tuXTQ"
   },
   "outputs": [],
   "source": [
    "# Most of these columns had null values so we are dropping them\n",
    "df=df.drop(['isbn', 'series', 'country_code', 'language_code',\n",
    "       'popular_shelves', 'asin', 'is_ebook', 'kindle_asin',\n",
    "       'similar_books', 'format','publisher', 'num_pages', 'publication_day', 'isbn13',\n",
    "       'publication_month', 'edition_information','work_id'],axis=1)"
   ]
  },
  {
   "cell_type": "code",
   "execution_count": null,
   "metadata": {
    "colab": {
     "base_uri": "https://localhost:8080/",
     "height": 534
    },
    "id": "0HS9oib-vgT-",
    "outputId": "a988720e-579e-4363-bb06-4c7f86976f4d"
   },
   "outputs": [
    {
     "data": {
      "text/html": [
       "<div>\n",
       "<style scoped>\n",
       "    .dataframe tbody tr th:only-of-type {\n",
       "        vertical-align: middle;\n",
       "    }\n",
       "\n",
       "    .dataframe tbody tr th {\n",
       "        vertical-align: top;\n",
       "    }\n",
       "\n",
       "    .dataframe thead th {\n",
       "        text-align: right;\n",
       "    }\n",
       "</style>\n",
       "<table border=\"1\" class=\"dataframe\">\n",
       "  <thead>\n",
       "    <tr style=\"text-align: right;\">\n",
       "      <th></th>\n",
       "      <th>text_reviews_count</th>\n",
       "      <th>average_rating</th>\n",
       "      <th>description</th>\n",
       "      <th>link</th>\n",
       "      <th>authors</th>\n",
       "      <th>publication_year</th>\n",
       "      <th>url</th>\n",
       "      <th>image_url</th>\n",
       "      <th>book_id</th>\n",
       "      <th>ratings_count</th>\n",
       "      <th>title</th>\n",
       "      <th>title_without_series</th>\n",
       "    </tr>\n",
       "  </thead>\n",
       "  <tbody>\n",
       "    <tr>\n",
       "      <th>0</th>\n",
       "      <td>1</td>\n",
       "      <td>4.00</td>\n",
       "      <td></td>\n",
       "      <td>https://www.goodreads.com/book/show/5333265-w-...</td>\n",
       "      <td>[{'author_id': '604031', 'role': ''}]</td>\n",
       "      <td>1984</td>\n",
       "      <td>https://www.goodreads.com/book/show/5333265-w-...</td>\n",
       "      <td>https://images.gr-assets.com/books/1310220028m...</td>\n",
       "      <td>5333265</td>\n",
       "      <td>3</td>\n",
       "      <td>W.C. Fields: A Life on Film</td>\n",
       "      <td>W.C. Fields: A Life on Film</td>\n",
       "    </tr>\n",
       "    <tr>\n",
       "      <th>1</th>\n",
       "      <td>6</td>\n",
       "      <td>3.23</td>\n",
       "      <td>Anita Diamant's international bestseller \"The ...</td>\n",
       "      <td>https://www.goodreads.com/book/show/1333909.Go...</td>\n",
       "      <td>[{'author_id': '626222', 'role': ''}]</td>\n",
       "      <td>2001</td>\n",
       "      <td>https://www.goodreads.com/book/show/1333909.Go...</td>\n",
       "      <td>https://s.gr-assets.com/assets/nophoto/book/11...</td>\n",
       "      <td>1333909</td>\n",
       "      <td>10</td>\n",
       "      <td>Good Harbor</td>\n",
       "      <td>Good Harbor</td>\n",
       "    </tr>\n",
       "    <tr>\n",
       "      <th>2</th>\n",
       "      <td>7</td>\n",
       "      <td>4.03</td>\n",
       "      <td>Omnibus book club edition containing the Ladie...</td>\n",
       "      <td>https://www.goodreads.com/book/show/7327624-th...</td>\n",
       "      <td>[{'author_id': '10333', 'role': ''}]</td>\n",
       "      <td>1987</td>\n",
       "      <td>https://www.goodreads.com/book/show/7327624-th...</td>\n",
       "      <td>https://images.gr-assets.com/books/1304100136m...</td>\n",
       "      <td>7327624</td>\n",
       "      <td>140</td>\n",
       "      <td>The Unschooled Wizard (Sun Wolf and Starhawk, ...</td>\n",
       "      <td>The Unschooled Wizard (Sun Wolf and Starhawk, ...</td>\n",
       "    </tr>\n",
       "    <tr>\n",
       "      <th>3</th>\n",
       "      <td>3282</td>\n",
       "      <td>3.49</td>\n",
       "      <td>Addie Downs and Valerie Adler were eight when ...</td>\n",
       "      <td>https://www.goodreads.com/book/show/6066819-be...</td>\n",
       "      <td>[{'author_id': '9212', 'role': ''}]</td>\n",
       "      <td>2009</td>\n",
       "      <td>https://www.goodreads.com/book/show/6066819-be...</td>\n",
       "      <td>https://s.gr-assets.com/assets/nophoto/book/11...</td>\n",
       "      <td>6066819</td>\n",
       "      <td>51184</td>\n",
       "      <td>Best Friends Forever</td>\n",
       "      <td>Best Friends Forever</td>\n",
       "    </tr>\n",
       "    <tr>\n",
       "      <th>4</th>\n",
       "      <td>5</td>\n",
       "      <td>3.40</td>\n",
       "      <td></td>\n",
       "      <td>https://www.goodreads.com/book/show/287140.Run...</td>\n",
       "      <td>[{'author_id': '149918', 'role': ''}]</td>\n",
       "      <td></td>\n",
       "      <td>https://www.goodreads.com/book/show/287140.Run...</td>\n",
       "      <td>https://images.gr-assets.com/books/1413219371m...</td>\n",
       "      <td>287140</td>\n",
       "      <td>15</td>\n",
       "      <td>Runic Astrology: Starcraft and Timekeeping in ...</td>\n",
       "      <td>Runic Astrology: Starcraft and Timekeeping in ...</td>\n",
       "    </tr>\n",
       "  </tbody>\n",
       "</table>\n",
       "</div>"
      ],
      "text/plain": [
       "  text_reviews_count  ...                               title_without_series\n",
       "0                  1  ...                        W.C. Fields: A Life on Film\n",
       "1                  6  ...                                        Good Harbor\n",
       "2                  7  ...  The Unschooled Wizard (Sun Wolf and Starhawk, ...\n",
       "3               3282  ...                               Best Friends Forever\n",
       "4                  5  ...  Runic Astrology: Starcraft and Timekeeping in ...\n",
       "\n",
       "[5 rows x 12 columns]"
      ]
     },
     "execution_count": 14,
     "metadata": {
      "tags": []
     },
     "output_type": "execute_result"
    }
   ],
   "source": [
    "df.head()"
   ]
  },
  {
   "cell_type": "code",
   "execution_count": null,
   "metadata": {
    "colab": {
     "base_uri": "https://localhost:8080/"
    },
    "id": "WBRjGmvCvh-t",
    "outputId": "f8f24297-497c-4335-b302-7403efab4254"
   },
   "outputs": [
    {
     "data": {
      "text/plain": [
       "Index(['text_reviews_count', 'average_rating', 'description', 'link',\n",
       "       'authors', 'publication_year', 'url', 'image_url', 'book_id',\n",
       "       'ratings_count', 'title', 'title_without_series'],\n",
       "      dtype='object')"
      ]
     },
     "execution_count": 12,
     "metadata": {
      "tags": []
     },
     "output_type": "execute_result"
    }
   ],
   "source": [
    "df.columns"
   ]
  },
  {
   "cell_type": "markdown",
   "metadata": {
    "id": "VOJx87Rzv_yM"
   },
   "source": [
    "**Dropping rows with Repeated Titles**\n",
    "\n",
    "*Some of the books had same title with different book id so we are dropping those titles.*"
   ]
  },
  {
   "cell_type": "code",
   "execution_count": null,
   "metadata": {
    "id": "G0To5-fwvjyX"
   },
   "outputs": [],
   "source": [
    "df= df.drop_duplicates(subset = [\"title\"])"
   ]
  },
  {
   "cell_type": "code",
   "execution_count": null,
   "metadata": {
    "colab": {
     "base_uri": "https://localhost:8080/"
    },
    "id": "hkIX-McRwTgP",
    "outputId": "3639edbe-8002-4a70-bc8d-980f9d0d25fd"
   },
   "outputs": [
    {
     "data": {
      "text/plain": [
       "(359916, 12)"
      ]
     },
     "execution_count": 16,
     "metadata": {
      "tags": []
     },
     "output_type": "execute_result"
    }
   ],
   "source": [
    "df.shape"
   ]
  },
  {
   "cell_type": "markdown",
   "metadata": {
    "id": "tqekao_lwpou"
   },
   "source": [
    "**Extracting books with only English Language**\n",
    "\n",
    "*Some of the books where in multiple languages, for this project we are taking the books only in english language*"
   ]
  },
  {
   "cell_type": "code",
   "execution_count": null,
   "metadata": {
    "colab": {
     "base_uri": "https://localhost:8080/"
    },
    "id": "1tlko954xt3F",
    "outputId": "c70e8078-d352-4fac-c255-75b983110faa"
   },
   "outputs": [
    {
     "name": "stdout",
     "output_type": "stream",
     "text": [
      "Collecting langdetect\n",
      "\u001b[?25l  Downloading https://files.pythonhosted.org/packages/56/a3/8407c1e62d5980188b4acc45ef3d94b933d14a2ebc9ef3505f22cf772570/langdetect-1.0.8.tar.gz (981kB)\n",
      "\r",
      "\u001b[K     |▍                               | 10kB 16.9MB/s eta 0:00:01\r",
      "\u001b[K     |▊                               | 20kB 22.3MB/s eta 0:00:01\r",
      "\u001b[K     |█                               | 30kB 12.1MB/s eta 0:00:01\r",
      "\u001b[K     |█▍                              | 40kB 10.2MB/s eta 0:00:01\r",
      "\u001b[K     |█▊                              | 51kB 5.3MB/s eta 0:00:01\r",
      "\u001b[K     |██                              | 61kB 5.8MB/s eta 0:00:01\r",
      "\u001b[K     |██▍                             | 71kB 5.9MB/s eta 0:00:01\r",
      "\u001b[K     |██▊                             | 81kB 6.3MB/s eta 0:00:01\r",
      "\u001b[K     |███                             | 92kB 6.5MB/s eta 0:00:01\r",
      "\u001b[K     |███▍                            | 102kB 6.9MB/s eta 0:00:01\r",
      "\u001b[K     |███▊                            | 112kB 6.9MB/s eta 0:00:01\r",
      "\u001b[K     |████                            | 122kB 6.9MB/s eta 0:00:01\r",
      "\u001b[K     |████▍                           | 133kB 6.9MB/s eta 0:00:01\r",
      "\u001b[K     |████▊                           | 143kB 6.9MB/s eta 0:00:01\r",
      "\u001b[K     |█████                           | 153kB 6.9MB/s eta 0:00:01\r",
      "\u001b[K     |█████▍                          | 163kB 6.9MB/s eta 0:00:01\r",
      "\u001b[K     |█████▊                          | 174kB 6.9MB/s eta 0:00:01\r",
      "\u001b[K     |██████                          | 184kB 6.9MB/s eta 0:00:01\r",
      "\u001b[K     |██████▍                         | 194kB 6.9MB/s eta 0:00:01\r",
      "\u001b[K     |██████▊                         | 204kB 6.9MB/s eta 0:00:01\r",
      "\u001b[K     |███████                         | 215kB 6.9MB/s eta 0:00:01\r",
      "\u001b[K     |███████▍                        | 225kB 6.9MB/s eta 0:00:01\r",
      "\u001b[K     |███████▊                        | 235kB 6.9MB/s eta 0:00:01\r",
      "\u001b[K     |████████                        | 245kB 6.9MB/s eta 0:00:01\r",
      "\u001b[K     |████████▍                       | 256kB 6.9MB/s eta 0:00:01\r",
      "\u001b[K     |████████▊                       | 266kB 6.9MB/s eta 0:00:01\r",
      "\u001b[K     |█████████                       | 276kB 6.9MB/s eta 0:00:01\r",
      "\u001b[K     |█████████▍                      | 286kB 6.9MB/s eta 0:00:01\r",
      "\u001b[K     |█████████▊                      | 296kB 6.9MB/s eta 0:00:01\r",
      "\u001b[K     |██████████                      | 307kB 6.9MB/s eta 0:00:01\r",
      "\u001b[K     |██████████▍                     | 317kB 6.9MB/s eta 0:00:01\r",
      "\u001b[K     |██████████▊                     | 327kB 6.9MB/s eta 0:00:01\r",
      "\u001b[K     |███████████                     | 337kB 6.9MB/s eta 0:00:01\r",
      "\u001b[K     |███████████▍                    | 348kB 6.9MB/s eta 0:00:01\r",
      "\u001b[K     |███████████▊                    | 358kB 6.9MB/s eta 0:00:01\r",
      "\u001b[K     |████████████                    | 368kB 6.9MB/s eta 0:00:01\r",
      "\u001b[K     |████████████▍                   | 378kB 6.9MB/s eta 0:00:01\r",
      "\u001b[K     |████████████▊                   | 389kB 6.9MB/s eta 0:00:01\r",
      "\u001b[K     |█████████████                   | 399kB 6.9MB/s eta 0:00:01\r",
      "\u001b[K     |█████████████▍                  | 409kB 6.9MB/s eta 0:00:01\r",
      "\u001b[K     |█████████████▊                  | 419kB 6.9MB/s eta 0:00:01\r",
      "\u001b[K     |██████████████                  | 430kB 6.9MB/s eta 0:00:01\r",
      "\u001b[K     |██████████████▍                 | 440kB 6.9MB/s eta 0:00:01\r",
      "\u001b[K     |██████████████▊                 | 450kB 6.9MB/s eta 0:00:01\r",
      "\u001b[K     |███████████████                 | 460kB 6.9MB/s eta 0:00:01\r",
      "\u001b[K     |███████████████▍                | 471kB 6.9MB/s eta 0:00:01\r",
      "\u001b[K     |███████████████▊                | 481kB 6.9MB/s eta 0:00:01\r",
      "\u001b[K     |████████████████                | 491kB 6.9MB/s eta 0:00:01\r",
      "\u001b[K     |████████████████▍               | 501kB 6.9MB/s eta 0:00:01\r",
      "\u001b[K     |████████████████▊               | 512kB 6.9MB/s eta 0:00:01\r",
      "\u001b[K     |█████████████████               | 522kB 6.9MB/s eta 0:00:01\r",
      "\u001b[K     |█████████████████▍              | 532kB 6.9MB/s eta 0:00:01\r",
      "\u001b[K     |█████████████████▊              | 542kB 6.9MB/s eta 0:00:01\r",
      "\u001b[K     |██████████████████              | 552kB 6.9MB/s eta 0:00:01\r",
      "\u001b[K     |██████████████████▍             | 563kB 6.9MB/s eta 0:00:01\r",
      "\u001b[K     |██████████████████▊             | 573kB 6.9MB/s eta 0:00:01\r",
      "\u001b[K     |███████████████████             | 583kB 6.9MB/s eta 0:00:01\r",
      "\u001b[K     |███████████████████▍            | 593kB 6.9MB/s eta 0:00:01\r",
      "\u001b[K     |███████████████████▊            | 604kB 6.9MB/s eta 0:00:01\r",
      "\u001b[K     |████████████████████            | 614kB 6.9MB/s eta 0:00:01\r",
      "\u001b[K     |████████████████████▍           | 624kB 6.9MB/s eta 0:00:01\r",
      "\u001b[K     |████████████████████▊           | 634kB 6.9MB/s eta 0:00:01\r",
      "\u001b[K     |█████████████████████           | 645kB 6.9MB/s eta 0:00:01\r",
      "\u001b[K     |█████████████████████▍          | 655kB 6.9MB/s eta 0:00:01\r",
      "\u001b[K     |█████████████████████▊          | 665kB 6.9MB/s eta 0:00:01\r",
      "\u001b[K     |██████████████████████          | 675kB 6.9MB/s eta 0:00:01\r",
      "\u001b[K     |██████████████████████▍         | 686kB 6.9MB/s eta 0:00:01\r",
      "\u001b[K     |██████████████████████▊         | 696kB 6.9MB/s eta 0:00:01\r",
      "\u001b[K     |███████████████████████         | 706kB 6.9MB/s eta 0:00:01\r",
      "\u001b[K     |███████████████████████▍        | 716kB 6.9MB/s eta 0:00:01\r",
      "\u001b[K     |███████████████████████▊        | 727kB 6.9MB/s eta 0:00:01\r",
      "\u001b[K     |████████████████████████        | 737kB 6.9MB/s eta 0:00:01\r",
      "\u001b[K     |████████████████████████▍       | 747kB 6.9MB/s eta 0:00:01\r",
      "\u001b[K     |████████████████████████▊       | 757kB 6.9MB/s eta 0:00:01\r",
      "\u001b[K     |█████████████████████████       | 768kB 6.9MB/s eta 0:00:01\r",
      "\u001b[K     |█████████████████████████▍      | 778kB 6.9MB/s eta 0:00:01\r",
      "\u001b[K     |█████████████████████████▊      | 788kB 6.9MB/s eta 0:00:01\r",
      "\u001b[K     |██████████████████████████      | 798kB 6.9MB/s eta 0:00:01\r",
      "\u001b[K     |██████████████████████████▍     | 808kB 6.9MB/s eta 0:00:01\r",
      "\u001b[K     |██████████████████████████▊     | 819kB 6.9MB/s eta 0:00:01\r",
      "\u001b[K     |███████████████████████████     | 829kB 6.9MB/s eta 0:00:01\r",
      "\u001b[K     |███████████████████████████▍    | 839kB 6.9MB/s eta 0:00:01\r",
      "\u001b[K     |███████████████████████████▊    | 849kB 6.9MB/s eta 0:00:01\r",
      "\u001b[K     |████████████████████████████    | 860kB 6.9MB/s eta 0:00:01\r",
      "\u001b[K     |████████████████████████████▍   | 870kB 6.9MB/s eta 0:00:01\r",
      "\u001b[K     |████████████████████████████▊   | 880kB 6.9MB/s eta 0:00:01\r",
      "\u001b[K     |█████████████████████████████   | 890kB 6.9MB/s eta 0:00:01\r",
      "\u001b[K     |█████████████████████████████▍  | 901kB 6.9MB/s eta 0:00:01\r",
      "\u001b[K     |█████████████████████████████▊  | 911kB 6.9MB/s eta 0:00:01\r",
      "\u001b[K     |██████████████████████████████  | 921kB 6.9MB/s eta 0:00:01\r",
      "\u001b[K     |██████████████████████████████▍ | 931kB 6.9MB/s eta 0:00:01\r",
      "\u001b[K     |██████████████████████████████▊ | 942kB 6.9MB/s eta 0:00:01\r",
      "\u001b[K     |███████████████████████████████ | 952kB 6.9MB/s eta 0:00:01\r",
      "\u001b[K     |███████████████████████████████▍| 962kB 6.9MB/s eta 0:00:01\r",
      "\u001b[K     |███████████████████████████████▊| 972kB 6.9MB/s eta 0:00:01\r",
      "\u001b[K     |████████████████████████████████| 983kB 6.9MB/s \n",
      "\u001b[?25hRequirement already satisfied: six in /usr/local/lib/python3.6/dist-packages (from langdetect) (1.15.0)\n",
      "Building wheels for collected packages: langdetect\n",
      "  Building wheel for langdetect (setup.py) ... \u001b[?25l\u001b[?25hdone\n",
      "  Created wheel for langdetect: filename=langdetect-1.0.8-cp36-none-any.whl size=993195 sha256=e3e3b11a7eb5d8fb57e8d7a0dfa9768e2d38a9c3a3f3538fecc8ed3b53641a81\n",
      "  Stored in directory: /root/.cache/pip/wheels/8d/b3/aa/6d99de9f3841d7d3d40a60ea06e6d669e8e5012e6c8b947a57\n",
      "Successfully built langdetect\n",
      "Installing collected packages: langdetect\n",
      "Successfully installed langdetect-1.0.8\n"
     ]
    }
   ],
   "source": [
    "!pip install langdetect"
   ]
  },
  {
   "cell_type": "code",
   "execution_count": null,
   "metadata": {
    "id": "0MFMxsdJwVQl"
   },
   "outputs": [],
   "source": [
    "from langdetect import detect"
   ]
  },
  {
   "cell_type": "code",
   "execution_count": null,
   "metadata": {
    "id": "qMp-lLPbxo6K"
   },
   "outputs": [],
   "source": [
    "def language(text):\n",
    "  from langdetect import detect\n",
    "  try:\n",
    "    lang=detect(str(text))\n",
    "    return lang\n",
    "  except:\n",
    "    return 'NULL'"
   ]
  },
  {
   "cell_type": "code",
   "execution_count": null,
   "metadata": {
    "id": "7bh_A2liyACK"
   },
   "outputs": [],
   "source": [
    "df['language'] = df['title'].apply(language)"
   ]
  },
  {
   "cell_type": "code",
   "execution_count": null,
   "metadata": {
    "colab": {
     "base_uri": "https://localhost:8080/"
    },
    "id": "7aIP_b5zyQqN",
    "outputId": "4be1ded5-1f24-4c5d-b239-e49c3919b651"
   },
   "outputs": [
    {
     "data": {
      "text/plain": [
       "en       237753\n",
       "de        18002\n",
       "es         9666\n",
       "it         9555\n",
       "ar         8361\n",
       "fr         7700\n",
       "nl         6101\n",
       "id         6015\n",
       "pt         5167\n",
       "af         3924\n",
       "tl         3496\n",
       "no         3211\n",
       "ca         3087\n",
       "da         2986\n",
       "ro         2887\n",
       "fi         2788\n",
       "tr         2722\n",
       "sv         2509\n",
       "fa         2419\n",
       "et         2318\n",
       "el         1710\n",
       "pl         1596\n",
       "cy         1443\n",
       "so         1270\n",
       "sw         1226\n",
       "cs         1161\n",
       "ru         1068\n",
       "bg         1056\n",
       "hr         1015\n",
       "lt          944\n",
       "sl          876\n",
       "vi          832\n",
       "hu          632\n",
       "sk          619\n",
       "bn          577\n",
       "th          504\n",
       "lv          434\n",
       "ja          398\n",
       "sq          272\n",
       "ur          233\n",
       "mk          222\n",
       "ko          218\n",
       "he          200\n",
       "NULL        172\n",
       "uk          165\n",
       "ta           94\n",
       "ml           92\n",
       "zh-cn        84\n",
       "te           40\n",
       "zh-tw        34\n",
       "hi           20\n",
       "mr           19\n",
       "ne           10\n",
       "kn           10\n",
       "gu            3\n",
       "Name: language, dtype: int64"
      ]
     },
     "execution_count": 22,
     "metadata": {
      "tags": []
     },
     "output_type": "execute_result"
    }
   ],
   "source": [
    "df.language.value_counts()"
   ]
  },
  {
   "cell_type": "code",
   "execution_count": null,
   "metadata": {
    "id": "mXRKq2-pyfzX"
   },
   "outputs": [],
   "source": [
    "df=df[df['language']=='en']"
   ]
  },
  {
   "cell_type": "code",
   "execution_count": null,
   "metadata": {
    "colab": {
     "base_uri": "https://localhost:8080/",
     "height": 1000
    },
    "id": "nac9UVme7v8C",
    "outputId": "1ebf2c6f-e707-45a1-ed1c-b13b4c5ddd49"
   },
   "outputs": [
    {
     "data": {
      "text/html": [
       "<div>\n",
       "<style scoped>\n",
       "    .dataframe tbody tr th:only-of-type {\n",
       "        vertical-align: middle;\n",
       "    }\n",
       "\n",
       "    .dataframe tbody tr th {\n",
       "        vertical-align: top;\n",
       "    }\n",
       "\n",
       "    .dataframe thead th {\n",
       "        text-align: right;\n",
       "    }\n",
       "</style>\n",
       "<table border=\"1\" class=\"dataframe\">\n",
       "  <thead>\n",
       "    <tr style=\"text-align: right;\">\n",
       "      <th></th>\n",
       "      <th>text_reviews_count</th>\n",
       "      <th>average_rating</th>\n",
       "      <th>description</th>\n",
       "      <th>link</th>\n",
       "      <th>authors</th>\n",
       "      <th>publication_year</th>\n",
       "      <th>url</th>\n",
       "      <th>image_url</th>\n",
       "      <th>book_id</th>\n",
       "      <th>ratings_count</th>\n",
       "      <th>title</th>\n",
       "      <th>title_without_series</th>\n",
       "      <th>language</th>\n",
       "    </tr>\n",
       "  </thead>\n",
       "  <tbody>\n",
       "    <tr>\n",
       "      <th>0</th>\n",
       "      <td>1</td>\n",
       "      <td>4.00</td>\n",
       "      <td></td>\n",
       "      <td>https://www.goodreads.com/book/show/5333265-w-...</td>\n",
       "      <td>[{'author_id': '604031', 'role': ''}]</td>\n",
       "      <td>1984</td>\n",
       "      <td>https://www.goodreads.com/book/show/5333265-w-...</td>\n",
       "      <td>https://images.gr-assets.com/books/1310220028m...</td>\n",
       "      <td>5333265</td>\n",
       "      <td>3</td>\n",
       "      <td>W.C. Fields: A Life on Film</td>\n",
       "      <td>W.C. Fields: A Life on Film</td>\n",
       "      <td>en</td>\n",
       "    </tr>\n",
       "    <tr>\n",
       "      <th>2</th>\n",
       "      <td>7</td>\n",
       "      <td>4.03</td>\n",
       "      <td>Omnibus book club edition containing the Ladie...</td>\n",
       "      <td>https://www.goodreads.com/book/show/7327624-th...</td>\n",
       "      <td>[{'author_id': '10333', 'role': ''}]</td>\n",
       "      <td>1987</td>\n",
       "      <td>https://www.goodreads.com/book/show/7327624-th...</td>\n",
       "      <td>https://images.gr-assets.com/books/1304100136m...</td>\n",
       "      <td>7327624</td>\n",
       "      <td>140</td>\n",
       "      <td>The Unschooled Wizard (Sun Wolf and Starhawk, ...</td>\n",
       "      <td>The Unschooled Wizard (Sun Wolf and Starhawk, ...</td>\n",
       "      <td>en</td>\n",
       "    </tr>\n",
       "    <tr>\n",
       "      <th>4</th>\n",
       "      <td>5</td>\n",
       "      <td>3.40</td>\n",
       "      <td></td>\n",
       "      <td>https://www.goodreads.com/book/show/287140.Run...</td>\n",
       "      <td>[{'author_id': '149918', 'role': ''}]</td>\n",
       "      <td></td>\n",
       "      <td>https://www.goodreads.com/book/show/287140.Run...</td>\n",
       "      <td>https://images.gr-assets.com/books/1413219371m...</td>\n",
       "      <td>287140</td>\n",
       "      <td>15</td>\n",
       "      <td>Runic Astrology: Starcraft and Timekeeping in ...</td>\n",
       "      <td>Runic Astrology: Starcraft and Timekeeping in ...</td>\n",
       "      <td>en</td>\n",
       "    </tr>\n",
       "    <tr>\n",
       "      <th>5</th>\n",
       "      <td>7</td>\n",
       "      <td>4.13</td>\n",
       "      <td>Relates in vigorous prose the tale of Aeneas, ...</td>\n",
       "      <td>https://www.goodreads.com/book/show/287141.The...</td>\n",
       "      <td>[{'author_id': '3041852', 'role': ''}]</td>\n",
       "      <td>2006</td>\n",
       "      <td>https://www.goodreads.com/book/show/287141.The...</td>\n",
       "      <td>https://s.gr-assets.com/assets/nophoto/book/11...</td>\n",
       "      <td>287141</td>\n",
       "      <td>46</td>\n",
       "      <td>The Aeneid for Boys and Girls</td>\n",
       "      <td>The Aeneid for Boys and Girls</td>\n",
       "      <td>en</td>\n",
       "    </tr>\n",
       "    <tr>\n",
       "      <th>6</th>\n",
       "      <td>4</td>\n",
       "      <td>4.38</td>\n",
       "      <td></td>\n",
       "      <td>https://www.goodreads.com/book/show/378460.The...</td>\n",
       "      <td>[{'author_id': '215594', 'role': ''}]</td>\n",
       "      <td>1979</td>\n",
       "      <td>https://www.goodreads.com/book/show/378460.The...</td>\n",
       "      <td>https://s.gr-assets.com/assets/nophoto/book/11...</td>\n",
       "      <td>378460</td>\n",
       "      <td>12</td>\n",
       "      <td>The Wanting of Levine</td>\n",
       "      <td>The Wanting of Levine</td>\n",
       "      <td>en</td>\n",
       "    </tr>\n",
       "    <tr>\n",
       "      <th>...</th>\n",
       "      <td>...</td>\n",
       "      <td>...</td>\n",
       "      <td>...</td>\n",
       "      <td>...</td>\n",
       "      <td>...</td>\n",
       "      <td>...</td>\n",
       "      <td>...</td>\n",
       "      <td>...</td>\n",
       "      <td>...</td>\n",
       "      <td>...</td>\n",
       "      <td>...</td>\n",
       "      <td>...</td>\n",
       "      <td>...</td>\n",
       "    </tr>\n",
       "    <tr>\n",
       "      <th>399994</th>\n",
       "      <td>7</td>\n",
       "      <td>3.58</td>\n",
       "      <td>Werewolf Sabrina Kelly longs to put her family...</td>\n",
       "      <td>https://www.goodreads.com/book/show/9776119-co...</td>\n",
       "      <td>[{'author_id': '259021', 'role': ''}]</td>\n",
       "      <td></td>\n",
       "      <td>https://www.goodreads.com/book/show/9776119-co...</td>\n",
       "      <td>https://s.gr-assets.com/assets/nophoto/book/11...</td>\n",
       "      <td>9776119</td>\n",
       "      <td>69</td>\n",
       "      <td>Courage of the Wolf (Draicon Werewolves, #8)</td>\n",
       "      <td>Courage of the Wolf (Draicon Werewolves, #8)</td>\n",
       "      <td>en</td>\n",
       "    </tr>\n",
       "    <tr>\n",
       "      <th>399996</th>\n",
       "      <td>2</td>\n",
       "      <td>3.76</td>\n",
       "      <td>The girl in the dock, Camilla Barnard, was alm...</td>\n",
       "      <td>https://www.goodreads.com/book/show/1735650.Pa...</td>\n",
       "      <td>[{'author_id': '59132', 'role': ''}]</td>\n",
       "      <td>1970</td>\n",
       "      <td>https://www.goodreads.com/book/show/1735650.Pa...</td>\n",
       "      <td>https://images.gr-assets.com/books/1395765682m...</td>\n",
       "      <td>1735650</td>\n",
       "      <td>16</td>\n",
       "      <td>Past Praying For (Antony Maitland, #14)</td>\n",
       "      <td>Past Praying For (Antony Maitland, #14)</td>\n",
       "      <td>en</td>\n",
       "    </tr>\n",
       "    <tr>\n",
       "      <th>399997</th>\n",
       "      <td>7</td>\n",
       "      <td>3.10</td>\n",
       "      <td>How many of us never meet the person with whom...</td>\n",
       "      <td>https://www.goodreads.com/book/show/2609029-wh...</td>\n",
       "      <td>[{'author_id': '569879', 'role': ''}]</td>\n",
       "      <td>2008</td>\n",
       "      <td>https://www.goodreads.com/book/show/2609029-wh...</td>\n",
       "      <td>https://s.gr-assets.com/assets/nophoto/book/11...</td>\n",
       "      <td>2609029</td>\n",
       "      <td>51</td>\n",
       "      <td>Why Mr. Right Can't Find You: The Surprising A...</td>\n",
       "      <td>Why Mr. Right Can't Find You: The Surprising A...</td>\n",
       "      <td>en</td>\n",
       "    </tr>\n",
       "    <tr>\n",
       "      <th>399998</th>\n",
       "      <td>1</td>\n",
       "      <td>5.00</td>\n",
       "      <td>This work has been selected by scholars as bei...</td>\n",
       "      <td>https://www.goodreads.com/book/show/32087036-a...</td>\n",
       "      <td>[{'author_id': '15794963', 'role': ''}]</td>\n",
       "      <td>2016</td>\n",
       "      <td>https://www.goodreads.com/book/show/32087036-a...</td>\n",
       "      <td>https://images.gr-assets.com/books/1474570280m...</td>\n",
       "      <td>32087036</td>\n",
       "      <td>1</td>\n",
       "      <td>Adoniram Judson: A Biography</td>\n",
       "      <td>Adoniram Judson: A Biography</td>\n",
       "      <td>en</td>\n",
       "    </tr>\n",
       "    <tr>\n",
       "      <th>399999</th>\n",
       "      <td>2</td>\n",
       "      <td>2.50</td>\n",
       "      <td>With a foreword by Sir Ray Avery - scientist, ...</td>\n",
       "      <td>https://www.goodreads.com/book/show/22593585-t...</td>\n",
       "      <td>[{'author_id': '3127690', 'role': ''}, {'autho...</td>\n",
       "      <td>2012</td>\n",
       "      <td>https://www.goodreads.com/book/show/22593585-t...</td>\n",
       "      <td>https://images.gr-assets.com/books/1403832086m...</td>\n",
       "      <td>22593585</td>\n",
       "      <td>2</td>\n",
       "      <td>The Power of Us: New Zealanders Who Dare to Dream</td>\n",
       "      <td>The Power of Us: New Zealanders Who Dare to Dream</td>\n",
       "      <td>en</td>\n",
       "    </tr>\n",
       "  </tbody>\n",
       "</table>\n",
       "<p>237753 rows × 13 columns</p>\n",
       "</div>"
      ],
      "text/plain": [
       "       text_reviews_count  ... language\n",
       "0                       1  ...       en\n",
       "2                       7  ...       en\n",
       "4                       5  ...       en\n",
       "5                       7  ...       en\n",
       "6                       4  ...       en\n",
       "...                   ...  ...      ...\n",
       "399994                  7  ...       en\n",
       "399996                  2  ...       en\n",
       "399997                  7  ...       en\n",
       "399998                  1  ...       en\n",
       "399999                  2  ...       en\n",
       "\n",
       "[237753 rows x 13 columns]"
      ]
     },
     "execution_count": 24,
     "metadata": {
      "tags": []
     },
     "output_type": "execute_result"
    }
   ],
   "source": [
    "df"
   ]
  },
  {
   "cell_type": "code",
   "execution_count": null,
   "metadata": {
    "id": "mW1Xt-kn7x5s"
   },
   "outputs": [],
   "source": [
    "#description should not have a min lenght for nlp topic modelling\n",
    "df=df[(df.description.str.len() > 10)]"
   ]
  },
  {
   "cell_type": "code",
   "execution_count": null,
   "metadata": {
    "colab": {
     "base_uri": "https://localhost:8080/"
    },
    "id": "X6tKY5fD80ZX",
    "outputId": "c3f19c78-f5e6-4155-d0a5-283bbeed057a"
   },
   "outputs": [
    {
     "data": {
      "text/plain": [
       "(193680, 13)"
      ]
     },
     "execution_count": 28,
     "metadata": {
      "tags": []
     },
     "output_type": "execute_result"
    }
   ],
   "source": [
    "df.shape"
   ]
  },
  {
   "cell_type": "code",
   "execution_count": null,
   "metadata": {
    "id": "-JR_hShs816_"
   },
   "outputs": [],
   "source": [
    "df['language'] = df['description'].apply(language)"
   ]
  },
  {
   "cell_type": "code",
   "execution_count": null,
   "metadata": {
    "colab": {
     "base_uri": "https://localhost:8080/",
     "height": 1000
    },
    "id": "Y3r7Mn3GBcCY",
    "outputId": "1cf052af-4fbf-4ca0-f935-f112eeb6c03a"
   },
   "outputs": [
    {
     "data": {
      "text/html": [
       "<div>\n",
       "<style scoped>\n",
       "    .dataframe tbody tr th:only-of-type {\n",
       "        vertical-align: middle;\n",
       "    }\n",
       "\n",
       "    .dataframe tbody tr th {\n",
       "        vertical-align: top;\n",
       "    }\n",
       "\n",
       "    .dataframe thead th {\n",
       "        text-align: right;\n",
       "    }\n",
       "</style>\n",
       "<table border=\"1\" class=\"dataframe\">\n",
       "  <thead>\n",
       "    <tr style=\"text-align: right;\">\n",
       "      <th></th>\n",
       "      <th>text_reviews_count</th>\n",
       "      <th>average_rating</th>\n",
       "      <th>description</th>\n",
       "      <th>link</th>\n",
       "      <th>authors</th>\n",
       "      <th>publication_year</th>\n",
       "      <th>url</th>\n",
       "      <th>image_url</th>\n",
       "      <th>book_id</th>\n",
       "      <th>ratings_count</th>\n",
       "      <th>title</th>\n",
       "      <th>title_without_series</th>\n",
       "      <th>language</th>\n",
       "    </tr>\n",
       "  </thead>\n",
       "  <tbody>\n",
       "    <tr>\n",
       "      <th>2</th>\n",
       "      <td>7</td>\n",
       "      <td>4.03</td>\n",
       "      <td>Omnibus book club edition containing the Ladie...</td>\n",
       "      <td>https://www.goodreads.com/book/show/7327624-th...</td>\n",
       "      <td>[{'author_id': '10333', 'role': ''}]</td>\n",
       "      <td>1987</td>\n",
       "      <td>https://www.goodreads.com/book/show/7327624-th...</td>\n",
       "      <td>https://images.gr-assets.com/books/1304100136m...</td>\n",
       "      <td>7327624</td>\n",
       "      <td>140</td>\n",
       "      <td>The Unschooled Wizard (Sun Wolf and Starhawk, ...</td>\n",
       "      <td>The Unschooled Wizard (Sun Wolf and Starhawk, ...</td>\n",
       "      <td>en</td>\n",
       "    </tr>\n",
       "    <tr>\n",
       "      <th>5</th>\n",
       "      <td>7</td>\n",
       "      <td>4.13</td>\n",
       "      <td>Relates in vigorous prose the tale of Aeneas, ...</td>\n",
       "      <td>https://www.goodreads.com/book/show/287141.The...</td>\n",
       "      <td>[{'author_id': '3041852', 'role': ''}]</td>\n",
       "      <td>2006</td>\n",
       "      <td>https://www.goodreads.com/book/show/287141.The...</td>\n",
       "      <td>https://s.gr-assets.com/assets/nophoto/book/11...</td>\n",
       "      <td>287141</td>\n",
       "      <td>46</td>\n",
       "      <td>The Aeneid for Boys and Girls</td>\n",
       "      <td>The Aeneid for Boys and Girls</td>\n",
       "      <td>en</td>\n",
       "    </tr>\n",
       "    <tr>\n",
       "      <th>7</th>\n",
       "      <td>6</td>\n",
       "      <td>4.22</td>\n",
       "      <td>To Kara's astonishment, she discovers that a p...</td>\n",
       "      <td>https://www.goodreads.com/book/show/6066812-al...</td>\n",
       "      <td>[{'author_id': '19158', 'role': ''}]</td>\n",
       "      <td>2009</td>\n",
       "      <td>https://www.goodreads.com/book/show/6066812-al...</td>\n",
       "      <td>https://images.gr-assets.com/books/1316637798m...</td>\n",
       "      <td>6066812</td>\n",
       "      <td>98</td>\n",
       "      <td>All's Fairy in Love and War (Avalon: Web of Ma...</td>\n",
       "      <td>All's Fairy in Love and War (Avalon: Web of Ma...</td>\n",
       "      <td>en</td>\n",
       "    </tr>\n",
       "    <tr>\n",
       "      <th>8</th>\n",
       "      <td>4</td>\n",
       "      <td>3.86</td>\n",
       "      <td>Secrets. Sometimes keeping them in confidence ...</td>\n",
       "      <td>https://www.goodreads.com/book/show/34883016-p...</td>\n",
       "      <td>[{'author_id': '5807700', 'role': ''}]</td>\n",
       "      <td>2017</td>\n",
       "      <td>https://www.goodreads.com/book/show/34883016-p...</td>\n",
       "      <td>https://images.gr-assets.com/books/1493525974m...</td>\n",
       "      <td>34883016</td>\n",
       "      <td>5</td>\n",
       "      <td>Playmaker: A Venom Series Novella</td>\n",
       "      <td>Playmaker: A Venom Series Novella</td>\n",
       "      <td>en</td>\n",
       "    </tr>\n",
       "    <tr>\n",
       "      <th>9</th>\n",
       "      <td>39</td>\n",
       "      <td>3.81</td>\n",
       "      <td>Wisdom, humor, and dark observations by the fo...</td>\n",
       "      <td>https://www.goodreads.com/book/show/287149.The...</td>\n",
       "      <td>[{'author_id': '2983296', 'role': ''}, {'autho...</td>\n",
       "      <td>2000</td>\n",
       "      <td>https://www.goodreads.com/book/show/287149.The...</td>\n",
       "      <td>https://images.gr-assets.com/books/1328768789m...</td>\n",
       "      <td>287149</td>\n",
       "      <td>986</td>\n",
       "      <td>The Devil's Notebook</td>\n",
       "      <td>The Devil's Notebook</td>\n",
       "      <td>en</td>\n",
       "    </tr>\n",
       "    <tr>\n",
       "      <th>...</th>\n",
       "      <td>...</td>\n",
       "      <td>...</td>\n",
       "      <td>...</td>\n",
       "      <td>...</td>\n",
       "      <td>...</td>\n",
       "      <td>...</td>\n",
       "      <td>...</td>\n",
       "      <td>...</td>\n",
       "      <td>...</td>\n",
       "      <td>...</td>\n",
       "      <td>...</td>\n",
       "      <td>...</td>\n",
       "      <td>...</td>\n",
       "    </tr>\n",
       "    <tr>\n",
       "      <th>399994</th>\n",
       "      <td>7</td>\n",
       "      <td>3.58</td>\n",
       "      <td>Werewolf Sabrina Kelly longs to put her family...</td>\n",
       "      <td>https://www.goodreads.com/book/show/9776119-co...</td>\n",
       "      <td>[{'author_id': '259021', 'role': ''}]</td>\n",
       "      <td></td>\n",
       "      <td>https://www.goodreads.com/book/show/9776119-co...</td>\n",
       "      <td>https://s.gr-assets.com/assets/nophoto/book/11...</td>\n",
       "      <td>9776119</td>\n",
       "      <td>69</td>\n",
       "      <td>Courage of the Wolf (Draicon Werewolves, #8)</td>\n",
       "      <td>Courage of the Wolf (Draicon Werewolves, #8)</td>\n",
       "      <td>en</td>\n",
       "    </tr>\n",
       "    <tr>\n",
       "      <th>399996</th>\n",
       "      <td>2</td>\n",
       "      <td>3.76</td>\n",
       "      <td>The girl in the dock, Camilla Barnard, was alm...</td>\n",
       "      <td>https://www.goodreads.com/book/show/1735650.Pa...</td>\n",
       "      <td>[{'author_id': '59132', 'role': ''}]</td>\n",
       "      <td>1970</td>\n",
       "      <td>https://www.goodreads.com/book/show/1735650.Pa...</td>\n",
       "      <td>https://images.gr-assets.com/books/1395765682m...</td>\n",
       "      <td>1735650</td>\n",
       "      <td>16</td>\n",
       "      <td>Past Praying For (Antony Maitland, #14)</td>\n",
       "      <td>Past Praying For (Antony Maitland, #14)</td>\n",
       "      <td>en</td>\n",
       "    </tr>\n",
       "    <tr>\n",
       "      <th>399997</th>\n",
       "      <td>7</td>\n",
       "      <td>3.10</td>\n",
       "      <td>How many of us never meet the person with whom...</td>\n",
       "      <td>https://www.goodreads.com/book/show/2609029-wh...</td>\n",
       "      <td>[{'author_id': '569879', 'role': ''}]</td>\n",
       "      <td>2008</td>\n",
       "      <td>https://www.goodreads.com/book/show/2609029-wh...</td>\n",
       "      <td>https://s.gr-assets.com/assets/nophoto/book/11...</td>\n",
       "      <td>2609029</td>\n",
       "      <td>51</td>\n",
       "      <td>Why Mr. Right Can't Find You: The Surprising A...</td>\n",
       "      <td>Why Mr. Right Can't Find You: The Surprising A...</td>\n",
       "      <td>en</td>\n",
       "    </tr>\n",
       "    <tr>\n",
       "      <th>399998</th>\n",
       "      <td>1</td>\n",
       "      <td>5.00</td>\n",
       "      <td>This work has been selected by scholars as bei...</td>\n",
       "      <td>https://www.goodreads.com/book/show/32087036-a...</td>\n",
       "      <td>[{'author_id': '15794963', 'role': ''}]</td>\n",
       "      <td>2016</td>\n",
       "      <td>https://www.goodreads.com/book/show/32087036-a...</td>\n",
       "      <td>https://images.gr-assets.com/books/1474570280m...</td>\n",
       "      <td>32087036</td>\n",
       "      <td>1</td>\n",
       "      <td>Adoniram Judson: A Biography</td>\n",
       "      <td>Adoniram Judson: A Biography</td>\n",
       "      <td>en</td>\n",
       "    </tr>\n",
       "    <tr>\n",
       "      <th>399999</th>\n",
       "      <td>2</td>\n",
       "      <td>2.50</td>\n",
       "      <td>With a foreword by Sir Ray Avery - scientist, ...</td>\n",
       "      <td>https://www.goodreads.com/book/show/22593585-t...</td>\n",
       "      <td>[{'author_id': '3127690', 'role': ''}, {'autho...</td>\n",
       "      <td>2012</td>\n",
       "      <td>https://www.goodreads.com/book/show/22593585-t...</td>\n",
       "      <td>https://images.gr-assets.com/books/1403832086m...</td>\n",
       "      <td>22593585</td>\n",
       "      <td>2</td>\n",
       "      <td>The Power of Us: New Zealanders Who Dare to Dream</td>\n",
       "      <td>The Power of Us: New Zealanders Who Dare to Dream</td>\n",
       "      <td>en</td>\n",
       "    </tr>\n",
       "  </tbody>\n",
       "</table>\n",
       "<p>193680 rows × 13 columns</p>\n",
       "</div>"
      ],
      "text/plain": [
       "       text_reviews_count  ... language\n",
       "2                       7  ...       en\n",
       "5                       7  ...       en\n",
       "7                       6  ...       en\n",
       "8                       4  ...       en\n",
       "9                      39  ...       en\n",
       "...                   ...  ...      ...\n",
       "399994                  7  ...       en\n",
       "399996                  2  ...       en\n",
       "399997                  7  ...       en\n",
       "399998                  1  ...       en\n",
       "399999                  2  ...       en\n",
       "\n",
       "[193680 rows x 13 columns]"
      ]
     },
     "execution_count": 30,
     "metadata": {
      "tags": []
     },
     "output_type": "execute_result"
    }
   ],
   "source": [
    "df"
   ]
  },
  {
   "cell_type": "code",
   "execution_count": null,
   "metadata": {
    "colab": {
     "base_uri": "https://localhost:8080/"
    },
    "id": "K4FjAFAdBl5k",
    "outputId": "fb6eed67-5f33-4a4b-8d59-fb7d7b9ce3ee"
   },
   "outputs": [
    {
     "data": {
      "text/plain": [
       "en      189625\n",
       "id         996\n",
       "fr         518\n",
       "it         490\n",
       "es         462\n",
       "de         418\n",
       "pt         231\n",
       "nl         159\n",
       "tr          70\n",
       "tl          65\n",
       "hr          64\n",
       "sv          63\n",
       "fi          55\n",
       "pl          50\n",
       "sk          49\n",
       "cy          49\n",
       "et          35\n",
       "da          35\n",
       "no          35\n",
       "sl          35\n",
       "ro          30\n",
       "cs          30\n",
       "af          24\n",
       "NULL        19\n",
       "so          18\n",
       "hu          17\n",
       "ca          15\n",
       "vi          10\n",
       "lt           7\n",
       "sw           5\n",
       "sq           1\n",
       "Name: language, dtype: int64"
      ]
     },
     "execution_count": 31,
     "metadata": {
      "tags": []
     },
     "output_type": "execute_result"
    }
   ],
   "source": [
    "df.language.value_counts()"
   ]
  },
  {
   "cell_type": "code",
   "execution_count": null,
   "metadata": {
    "id": "YEQk6MAN9Kwe"
   },
   "outputs": [],
   "source": [
    "df=df[df['language']=='en']"
   ]
  },
  {
   "cell_type": "code",
   "execution_count": null,
   "metadata": {
    "colab": {
     "base_uri": "https://localhost:8080/"
    },
    "id": "gV-4OULaBq7Z",
    "outputId": "cc073d4f-07d8-44ae-bfad-47e3418ec627"
   },
   "outputs": [
    {
     "data": {
      "text/plain": [
       "(189625, 13)"
      ]
     },
     "execution_count": 33,
     "metadata": {
      "tags": []
     },
     "output_type": "execute_result"
    }
   ],
   "source": [
    "df.shape"
   ]
  },
  {
   "cell_type": "code",
   "execution_count": null,
   "metadata": {
    "id": "Lz7IVD9NCya4"
   },
   "outputs": [],
   "source": [
    "df=df.reset_index(drop=True)"
   ]
  },
  {
   "cell_type": "code",
   "execution_count": null,
   "metadata": {
    "colab": {
     "base_uri": "https://localhost:8080/",
     "height": 1000
    },
    "id": "N5z2XOOvC_kL",
    "outputId": "2f8aacc3-5ea1-4fdd-f32d-2418aed72973"
   },
   "outputs": [
    {
     "data": {
      "text/html": [
       "<div>\n",
       "<style scoped>\n",
       "    .dataframe tbody tr th:only-of-type {\n",
       "        vertical-align: middle;\n",
       "    }\n",
       "\n",
       "    .dataframe tbody tr th {\n",
       "        vertical-align: top;\n",
       "    }\n",
       "\n",
       "    .dataframe thead th {\n",
       "        text-align: right;\n",
       "    }\n",
       "</style>\n",
       "<table border=\"1\" class=\"dataframe\">\n",
       "  <thead>\n",
       "    <tr style=\"text-align: right;\">\n",
       "      <th></th>\n",
       "      <th>text_reviews_count</th>\n",
       "      <th>average_rating</th>\n",
       "      <th>description</th>\n",
       "      <th>link</th>\n",
       "      <th>authors</th>\n",
       "      <th>publication_year</th>\n",
       "      <th>url</th>\n",
       "      <th>image_url</th>\n",
       "      <th>book_id</th>\n",
       "      <th>ratings_count</th>\n",
       "      <th>title</th>\n",
       "      <th>title_without_series</th>\n",
       "      <th>language</th>\n",
       "    </tr>\n",
       "  </thead>\n",
       "  <tbody>\n",
       "    <tr>\n",
       "      <th>0</th>\n",
       "      <td>7</td>\n",
       "      <td>4.03</td>\n",
       "      <td>Omnibus book club edition containing the Ladie...</td>\n",
       "      <td>https://www.goodreads.com/book/show/7327624-th...</td>\n",
       "      <td>[{'author_id': '10333', 'role': ''}]</td>\n",
       "      <td>1987</td>\n",
       "      <td>https://www.goodreads.com/book/show/7327624-th...</td>\n",
       "      <td>https://images.gr-assets.com/books/1304100136m...</td>\n",
       "      <td>7327624</td>\n",
       "      <td>140</td>\n",
       "      <td>The Unschooled Wizard (Sun Wolf and Starhawk, ...</td>\n",
       "      <td>The Unschooled Wizard (Sun Wolf and Starhawk, ...</td>\n",
       "      <td>en</td>\n",
       "    </tr>\n",
       "    <tr>\n",
       "      <th>1</th>\n",
       "      <td>7</td>\n",
       "      <td>4.13</td>\n",
       "      <td>Relates in vigorous prose the tale of Aeneas, ...</td>\n",
       "      <td>https://www.goodreads.com/book/show/287141.The...</td>\n",
       "      <td>[{'author_id': '3041852', 'role': ''}]</td>\n",
       "      <td>2006</td>\n",
       "      <td>https://www.goodreads.com/book/show/287141.The...</td>\n",
       "      <td>https://s.gr-assets.com/assets/nophoto/book/11...</td>\n",
       "      <td>287141</td>\n",
       "      <td>46</td>\n",
       "      <td>The Aeneid for Boys and Girls</td>\n",
       "      <td>The Aeneid for Boys and Girls</td>\n",
       "      <td>en</td>\n",
       "    </tr>\n",
       "    <tr>\n",
       "      <th>2</th>\n",
       "      <td>6</td>\n",
       "      <td>4.22</td>\n",
       "      <td>To Kara's astonishment, she discovers that a p...</td>\n",
       "      <td>https://www.goodreads.com/book/show/6066812-al...</td>\n",
       "      <td>[{'author_id': '19158', 'role': ''}]</td>\n",
       "      <td>2009</td>\n",
       "      <td>https://www.goodreads.com/book/show/6066812-al...</td>\n",
       "      <td>https://images.gr-assets.com/books/1316637798m...</td>\n",
       "      <td>6066812</td>\n",
       "      <td>98</td>\n",
       "      <td>All's Fairy in Love and War (Avalon: Web of Ma...</td>\n",
       "      <td>All's Fairy in Love and War (Avalon: Web of Ma...</td>\n",
       "      <td>en</td>\n",
       "    </tr>\n",
       "    <tr>\n",
       "      <th>3</th>\n",
       "      <td>4</td>\n",
       "      <td>3.86</td>\n",
       "      <td>Secrets. Sometimes keeping them in confidence ...</td>\n",
       "      <td>https://www.goodreads.com/book/show/34883016-p...</td>\n",
       "      <td>[{'author_id': '5807700', 'role': ''}]</td>\n",
       "      <td>2017</td>\n",
       "      <td>https://www.goodreads.com/book/show/34883016-p...</td>\n",
       "      <td>https://images.gr-assets.com/books/1493525974m...</td>\n",
       "      <td>34883016</td>\n",
       "      <td>5</td>\n",
       "      <td>Playmaker: A Venom Series Novella</td>\n",
       "      <td>Playmaker: A Venom Series Novella</td>\n",
       "      <td>en</td>\n",
       "    </tr>\n",
       "    <tr>\n",
       "      <th>4</th>\n",
       "      <td>39</td>\n",
       "      <td>3.81</td>\n",
       "      <td>Wisdom, humor, and dark observations by the fo...</td>\n",
       "      <td>https://www.goodreads.com/book/show/287149.The...</td>\n",
       "      <td>[{'author_id': '2983296', 'role': ''}, {'autho...</td>\n",
       "      <td>2000</td>\n",
       "      <td>https://www.goodreads.com/book/show/287149.The...</td>\n",
       "      <td>https://images.gr-assets.com/books/1328768789m...</td>\n",
       "      <td>287149</td>\n",
       "      <td>986</td>\n",
       "      <td>The Devil's Notebook</td>\n",
       "      <td>The Devil's Notebook</td>\n",
       "      <td>en</td>\n",
       "    </tr>\n",
       "    <tr>\n",
       "      <th>...</th>\n",
       "      <td>...</td>\n",
       "      <td>...</td>\n",
       "      <td>...</td>\n",
       "      <td>...</td>\n",
       "      <td>...</td>\n",
       "      <td>...</td>\n",
       "      <td>...</td>\n",
       "      <td>...</td>\n",
       "      <td>...</td>\n",
       "      <td>...</td>\n",
       "      <td>...</td>\n",
       "      <td>...</td>\n",
       "      <td>...</td>\n",
       "    </tr>\n",
       "    <tr>\n",
       "      <th>189620</th>\n",
       "      <td>7</td>\n",
       "      <td>3.58</td>\n",
       "      <td>Werewolf Sabrina Kelly longs to put her family...</td>\n",
       "      <td>https://www.goodreads.com/book/show/9776119-co...</td>\n",
       "      <td>[{'author_id': '259021', 'role': ''}]</td>\n",
       "      <td></td>\n",
       "      <td>https://www.goodreads.com/book/show/9776119-co...</td>\n",
       "      <td>https://s.gr-assets.com/assets/nophoto/book/11...</td>\n",
       "      <td>9776119</td>\n",
       "      <td>69</td>\n",
       "      <td>Courage of the Wolf (Draicon Werewolves, #8)</td>\n",
       "      <td>Courage of the Wolf (Draicon Werewolves, #8)</td>\n",
       "      <td>en</td>\n",
       "    </tr>\n",
       "    <tr>\n",
       "      <th>189621</th>\n",
       "      <td>2</td>\n",
       "      <td>3.76</td>\n",
       "      <td>The girl in the dock, Camilla Barnard, was alm...</td>\n",
       "      <td>https://www.goodreads.com/book/show/1735650.Pa...</td>\n",
       "      <td>[{'author_id': '59132', 'role': ''}]</td>\n",
       "      <td>1970</td>\n",
       "      <td>https://www.goodreads.com/book/show/1735650.Pa...</td>\n",
       "      <td>https://images.gr-assets.com/books/1395765682m...</td>\n",
       "      <td>1735650</td>\n",
       "      <td>16</td>\n",
       "      <td>Past Praying For (Antony Maitland, #14)</td>\n",
       "      <td>Past Praying For (Antony Maitland, #14)</td>\n",
       "      <td>en</td>\n",
       "    </tr>\n",
       "    <tr>\n",
       "      <th>189622</th>\n",
       "      <td>7</td>\n",
       "      <td>3.10</td>\n",
       "      <td>How many of us never meet the person with whom...</td>\n",
       "      <td>https://www.goodreads.com/book/show/2609029-wh...</td>\n",
       "      <td>[{'author_id': '569879', 'role': ''}]</td>\n",
       "      <td>2008</td>\n",
       "      <td>https://www.goodreads.com/book/show/2609029-wh...</td>\n",
       "      <td>https://s.gr-assets.com/assets/nophoto/book/11...</td>\n",
       "      <td>2609029</td>\n",
       "      <td>51</td>\n",
       "      <td>Why Mr. Right Can't Find You: The Surprising A...</td>\n",
       "      <td>Why Mr. Right Can't Find You: The Surprising A...</td>\n",
       "      <td>en</td>\n",
       "    </tr>\n",
       "    <tr>\n",
       "      <th>189623</th>\n",
       "      <td>1</td>\n",
       "      <td>5.00</td>\n",
       "      <td>This work has been selected by scholars as bei...</td>\n",
       "      <td>https://www.goodreads.com/book/show/32087036-a...</td>\n",
       "      <td>[{'author_id': '15794963', 'role': ''}]</td>\n",
       "      <td>2016</td>\n",
       "      <td>https://www.goodreads.com/book/show/32087036-a...</td>\n",
       "      <td>https://images.gr-assets.com/books/1474570280m...</td>\n",
       "      <td>32087036</td>\n",
       "      <td>1</td>\n",
       "      <td>Adoniram Judson: A Biography</td>\n",
       "      <td>Adoniram Judson: A Biography</td>\n",
       "      <td>en</td>\n",
       "    </tr>\n",
       "    <tr>\n",
       "      <th>189624</th>\n",
       "      <td>2</td>\n",
       "      <td>2.50</td>\n",
       "      <td>With a foreword by Sir Ray Avery - scientist, ...</td>\n",
       "      <td>https://www.goodreads.com/book/show/22593585-t...</td>\n",
       "      <td>[{'author_id': '3127690', 'role': ''}, {'autho...</td>\n",
       "      <td>2012</td>\n",
       "      <td>https://www.goodreads.com/book/show/22593585-t...</td>\n",
       "      <td>https://images.gr-assets.com/books/1403832086m...</td>\n",
       "      <td>22593585</td>\n",
       "      <td>2</td>\n",
       "      <td>The Power of Us: New Zealanders Who Dare to Dream</td>\n",
       "      <td>The Power of Us: New Zealanders Who Dare to Dream</td>\n",
       "      <td>en</td>\n",
       "    </tr>\n",
       "  </tbody>\n",
       "</table>\n",
       "<p>189625 rows × 13 columns</p>\n",
       "</div>"
      ],
      "text/plain": [
       "       text_reviews_count  ... language\n",
       "0                       7  ...       en\n",
       "1                       7  ...       en\n",
       "2                       6  ...       en\n",
       "3                       4  ...       en\n",
       "4                      39  ...       en\n",
       "...                   ...  ...      ...\n",
       "189620                  7  ...       en\n",
       "189621                  2  ...       en\n",
       "189622                  7  ...       en\n",
       "189623                  1  ...       en\n",
       "189624                  2  ...       en\n",
       "\n",
       "[189625 rows x 13 columns]"
      ]
     },
     "execution_count": 38,
     "metadata": {
      "tags": []
     },
     "output_type": "execute_result"
    }
   ],
   "source": [
    "df"
   ]
  },
  {
   "cell_type": "code",
   "execution_count": null,
   "metadata": {
    "id": "CnVnwOYTD63p"
   },
   "outputs": [],
   "source": [
    "final_book=df"
   ]
  },
  {
   "cell_type": "code",
   "execution_count": null,
   "metadata": {
    "colab": {
     "base_uri": "https://localhost:8080/"
    },
    "id": "YwRwvPHuEe3N",
    "outputId": "aff5b58a-70f6-4ef6-acce-e19adc5debba"
   },
   "outputs": [
    {
     "name": "stdout",
     "output_type": "stream",
     "text": [
      "Collecting xlsxwriter\n",
      "\u001b[?25l  Downloading https://files.pythonhosted.org/packages/6b/41/bf1aae04932d1eaffee1fc5f8b38ca47bbbf07d765129539bc4bcce1ce0c/XlsxWriter-1.3.7-py2.py3-none-any.whl (144kB)\n",
      "\r",
      "\u001b[K     |██▎                             | 10kB 16.4MB/s eta 0:00:01\r",
      "\u001b[K     |████▌                           | 20kB 21.5MB/s eta 0:00:01\r",
      "\u001b[K     |██████▉                         | 30kB 13.4MB/s eta 0:00:01\r",
      "\u001b[K     |█████████                       | 40kB 10.1MB/s eta 0:00:01\r",
      "\u001b[K     |███████████▎                    | 51kB 5.5MB/s eta 0:00:01\r",
      "\u001b[K     |█████████████▋                  | 61kB 5.3MB/s eta 0:00:01\r",
      "\u001b[K     |███████████████▉                | 71kB 5.9MB/s eta 0:00:01\r",
      "\u001b[K     |██████████████████▏             | 81kB 6.4MB/s eta 0:00:01\r",
      "\u001b[K     |████████████████████▍           | 92kB 6.7MB/s eta 0:00:01\r",
      "\u001b[K     |██████████████████████▋         | 102kB 6.5MB/s eta 0:00:01\r",
      "\u001b[K     |█████████████████████████       | 112kB 6.5MB/s eta 0:00:01\r",
      "\u001b[K     |███████████████████████████▏    | 122kB 6.5MB/s eta 0:00:01\r",
      "\u001b[K     |█████████████████████████████▌  | 133kB 6.5MB/s eta 0:00:01\r",
      "\u001b[K     |███████████████████████████████▊| 143kB 6.5MB/s eta 0:00:01\r",
      "\u001b[K     |████████████████████████████████| 153kB 6.5MB/s \n",
      "\u001b[?25hInstalling collected packages: xlsxwriter\n",
      "Successfully installed xlsxwriter-1.3.7\n"
     ]
    }
   ],
   "source": [
    "#pip install xlsxwriter"
   ]
  },
  {
   "cell_type": "code",
   "execution_count": null,
   "metadata": {
    "id": "X4f-gOXFEcjX"
   },
   "outputs": [],
   "source": [
    "#import xlsxwriter"
   ]
  },
  {
   "cell_type": "code",
   "execution_count": null,
   "metadata": {
    "id": "RdENXtO9GqY0"
   },
   "outputs": [],
   "source": [
    "#writer = pd.ExcelWriter(r'cleaned_goodreadsbook#1.xlsx', engine='xlsxwriter',options={'strings_to_urls': False})\n",
    "#final_book.to_excel(writer)\n",
    "#writer.close()"
   ]
  },
  {
   "cell_type": "code",
   "execution_count": null,
   "metadata": {
    "id": "WU9BQSFSJARs"
   },
   "outputs": [],
   "source": []
  }
 ],
 "metadata": {
  "colab": {
   "collapsed_sections": [],
   "name": "1#meta_book_cleaning.ipynb",
   "provenance": []
  },
  "kernelspec": {
   "display_name": "Python 3",
   "language": "python",
   "name": "python3"
  },
  "language_info": {
   "codemirror_mode": {
    "name": "ipython",
    "version": 3
   },
   "file_extension": ".py",
   "mimetype": "text/x-python",
   "name": "python",
   "nbconvert_exporter": "python",
   "pygments_lexer": "ipython3",
   "version": "3.8.3"
  }
 },
 "nbformat": 4,
 "nbformat_minor": 1
}
