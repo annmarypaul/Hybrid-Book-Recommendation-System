{
 "cells": [
  {
   "cell_type": "code",
   "execution_count": 1,
   "metadata": {
    "colab": {
     "base_uri": "https://localhost:8080/"
    },
    "id": "87VLmGHoe6xM",
    "outputId": "9705556a-3547-4747-f89a-6d2ec04fa4ba"
   },
   "outputs": [
    {
     "name": "stdout",
     "output_type": "stream",
     "text": [
      "Mounted at /content/gdrive\n"
     ]
    }
   ],
   "source": [
    "from google.colab import drive\n",
    "drive.mount('/content/gdrive')"
   ]
  },
  {
   "cell_type": "code",
   "execution_count": 2,
   "metadata": {
    "colab": {
     "base_uri": "https://localhost:8080/"
    },
    "id": "E6VatQ2KgCtv",
    "outputId": "3b1f11bd-dcfa-4e32-c98b-39c59dadd8fe"
   },
   "outputs": [
    {
     "name": "stdout",
     "output_type": "stream",
     "text": [
      "/content/gdrive/My Drive\n"
     ]
    }
   ],
   "source": [
    "%cd /content/gdrive/My Drive"
   ]
  },
  {
   "cell_type": "code",
   "execution_count": 3,
   "metadata": {
    "id": "yvHWVR9rgJzg"
   },
   "outputs": [],
   "source": [
    "# Dataframe\n",
    "import pandas as pd\n",
    "import numpy as np\n",
    "\n",
    "# Visualizations\n",
    "import matplotlib.pyplot as plt\n",
    "from matplotlib.colors import ListedColormap\n",
    "import seaborn as sns\n",
    "import matplotlib.colors as colors\n",
    "%matplotlib inline\n",
    "\n",
    "# Datetime\n",
    "from datetime import datetime\n",
    "\n",
    "## Warnings\n",
    "import warnings\n",
    "from scipy import stats\n",
    "warnings.filterwarnings('ignore')"
   ]
  },
  {
   "cell_type": "code",
   "execution_count": 4,
   "metadata": {
    "id": "Aithcp_AgjFK"
   },
   "outputs": [],
   "source": [
    "goodreads_book = pd.read_excel('meta_dataset.xlsx')"
   ]
  },
  {
   "cell_type": "code",
   "execution_count": 5,
   "metadata": {
    "colab": {
     "base_uri": "https://localhost:8080/",
     "height": 955
    },
    "id": "xW04WZTRhSfG",
    "outputId": "f2e207c2-0040-4598-f8ce-fb0c9dc03055"
   },
   "outputs": [
    {
     "data": {
      "text/html": [
       "<div>\n",
       "<style scoped>\n",
       "    .dataframe tbody tr th:only-of-type {\n",
       "        vertical-align: middle;\n",
       "    }\n",
       "\n",
       "    .dataframe tbody tr th {\n",
       "        vertical-align: top;\n",
       "    }\n",
       "\n",
       "    .dataframe thead th {\n",
       "        text-align: right;\n",
       "    }\n",
       "</style>\n",
       "<table border=\"1\" class=\"dataframe\">\n",
       "  <thead>\n",
       "    <tr style=\"text-align: right;\">\n",
       "      <th></th>\n",
       "      <th>Unnamed: 0</th>\n",
       "      <th>book_id</th>\n",
       "      <th>text_reviews_count</th>\n",
       "      <th>average_rating</th>\n",
       "      <th>description</th>\n",
       "      <th>link</th>\n",
       "      <th>authors</th>\n",
       "      <th>publication_year</th>\n",
       "      <th>url</th>\n",
       "      <th>image_url</th>\n",
       "      <th>ratings_count</th>\n",
       "      <th>title</th>\n",
       "      <th>title_without_series</th>\n",
       "      <th>language</th>\n",
       "    </tr>\n",
       "  </thead>\n",
       "  <tbody>\n",
       "    <tr>\n",
       "      <th>0</th>\n",
       "      <td>0</td>\n",
       "      <td>19398490</td>\n",
       "      <td>2311</td>\n",
       "      <td>4.31</td>\n",
       "      <td>Winner of the Pulitzer Prize\\nFrom the highly ...</td>\n",
       "      <td>https://www.goodreads.com/book/show/19398490-a...</td>\n",
       "      <td>[{'author_id': '28186', 'role': ''}]</td>\n",
       "      <td>2014.0</td>\n",
       "      <td>https://www.goodreads.com/book/show/19398490-a...</td>\n",
       "      <td>https://images.gr-assets.com/books/1440903901m...</td>\n",
       "      <td>53342</td>\n",
       "      <td>All the Light We Cannot See</td>\n",
       "      <td>All the Light We Cannot See</td>\n",
       "      <td>en</td>\n",
       "    </tr>\n",
       "    <tr>\n",
       "      <th>1</th>\n",
       "      <td>1</td>\n",
       "      <td>12969594</td>\n",
       "      <td>241</td>\n",
       "      <td>4.06</td>\n",
       "      <td>An alternate cover of this ASIN can be found \u0001...</td>\n",
       "      <td>https://www.goodreads.com/book/show/12969594-t...</td>\n",
       "      <td>[{'author_id': '36615', 'role': ''}]</td>\n",
       "      <td>2012.0</td>\n",
       "      <td>https://www.goodreads.com/book/show/12969594-t...</td>\n",
       "      <td>https://images.gr-assets.com/books/1328309680m...</td>\n",
       "      <td>6390</td>\n",
       "      <td>The Orphan Master's Son</td>\n",
       "      <td>The Orphan Master's Son</td>\n",
       "      <td>en</td>\n",
       "    </tr>\n",
       "    <tr>\n",
       "      <th>2</th>\n",
       "      <td>2</td>\n",
       "      <td>8664353</td>\n",
       "      <td>38878</td>\n",
       "      <td>4.39</td>\n",
       "      <td>In her long-awaited new book, Laura Hillenbran...</td>\n",
       "      <td>https://www.goodreads.com/book/show/8664353-un...</td>\n",
       "      <td>[{'author_id': '30913', 'role': ''}]</td>\n",
       "      <td>2010.0</td>\n",
       "      <td>https://www.goodreads.com/book/show/8664353-un...</td>\n",
       "      <td>https://images.gr-assets.com/books/1327861115m...</td>\n",
       "      <td>504961</td>\n",
       "      <td>Unbroken: A World War II Story of Survival, Re...</td>\n",
       "      <td>Unbroken: A World War II Story of Survival, Re...</td>\n",
       "      <td>en</td>\n",
       "    </tr>\n",
       "    <tr>\n",
       "      <th>3</th>\n",
       "      <td>3</td>\n",
       "      <td>6452796</td>\n",
       "      <td>2930</td>\n",
       "      <td>3.95</td>\n",
       "      <td>Forget everything you thought you knew about h...</td>\n",
       "      <td>https://www.goodreads.com/book/show/6452796-drive</td>\n",
       "      <td>[{'author_id': '96150', 'role': ''}]</td>\n",
       "      <td>2009.0</td>\n",
       "      <td>https://www.goodreads.com/book/show/6452796-drive</td>\n",
       "      <td>https://s.gr-assets.com/assets/nophoto/book/11...</td>\n",
       "      <td>58428</td>\n",
       "      <td>Drive: The Surprising Truth About What Motivat...</td>\n",
       "      <td>Drive: The Surprising Truth About What Motivat...</td>\n",
       "      <td>en</td>\n",
       "    </tr>\n",
       "    <tr>\n",
       "      <th>4</th>\n",
       "      <td>4</td>\n",
       "      <td>178186</td>\n",
       "      <td>26</td>\n",
       "      <td>3.87</td>\n",
       "      <td>An autobiographical memoir revealing the tradi...</td>\n",
       "      <td>https://www.goodreads.com/book/show/178186.The...</td>\n",
       "      <td>[{'author_id': '103752', 'role': ''}]</td>\n",
       "      <td>1988.0</td>\n",
       "      <td>https://www.goodreads.com/book/show/178186.The...</td>\n",
       "      <td>https://s.gr-assets.com/assets/nophoto/book/11...</td>\n",
       "      <td>245</td>\n",
       "      <td>The Worlds of a Maasai Warrior: An Autobiography</td>\n",
       "      <td>The Worlds of a Maasai Warrior: An Autobiography</td>\n",
       "      <td>en</td>\n",
       "    </tr>\n",
       "    <tr>\n",
       "      <th>...</th>\n",
       "      <td>...</td>\n",
       "      <td>...</td>\n",
       "      <td>...</td>\n",
       "      <td>...</td>\n",
       "      <td>...</td>\n",
       "      <td>...</td>\n",
       "      <td>...</td>\n",
       "      <td>...</td>\n",
       "      <td>...</td>\n",
       "      <td>...</td>\n",
       "      <td>...</td>\n",
       "      <td>...</td>\n",
       "      <td>...</td>\n",
       "      <td>...</td>\n",
       "    </tr>\n",
       "    <tr>\n",
       "      <th>24010</th>\n",
       "      <td>101220</td>\n",
       "      <td>23228256</td>\n",
       "      <td>28</td>\n",
       "      <td>4.09</td>\n",
       "      <td>From Brazil's most acclaimed young novelist, t...</td>\n",
       "      <td>https://www.goodreads.com/book/show/23228256-b...</td>\n",
       "      <td>[{'author_id': '1169290', 'role': ''}, {'autho...</td>\n",
       "      <td>2015.0</td>\n",
       "      <td>https://www.goodreads.com/book/show/23228256-b...</td>\n",
       "      <td>https://images.gr-assets.com/books/1411183144m...</td>\n",
       "      <td>159</td>\n",
       "      <td>Blood-Drenched Beard</td>\n",
       "      <td>Blood-Drenched Beard</td>\n",
       "      <td>en</td>\n",
       "    </tr>\n",
       "    <tr>\n",
       "      <th>24011</th>\n",
       "      <td>101227</td>\n",
       "      <td>30340824</td>\n",
       "      <td>45</td>\n",
       "      <td>4.33</td>\n",
       "      <td>Ten seconds can change everything.\\nDaisy Conn...</td>\n",
       "      <td>https://www.goodreads.com/book/show/30340824-c...</td>\n",
       "      <td>[{'author_id': '3975855', 'role': ''}]</td>\n",
       "      <td>2016.0</td>\n",
       "      <td>https://www.goodreads.com/book/show/30340824-c...</td>\n",
       "      <td>https://images.gr-assets.com/books/1464920539m...</td>\n",
       "      <td>68</td>\n",
       "      <td>Collateral Damage (Hidden Scars, #2)</td>\n",
       "      <td>Collateral Damage (Hidden Scars, #2)</td>\n",
       "      <td>en</td>\n",
       "    </tr>\n",
       "    <tr>\n",
       "      <th>24012</th>\n",
       "      <td>101228</td>\n",
       "      <td>33125385</td>\n",
       "      <td>29</td>\n",
       "      <td>4.40</td>\n",
       "      <td>Librarian Note: Alternate Cover Edition for \u0001....</td>\n",
       "      <td>https://www.goodreads.com/book/show/33125385-u...</td>\n",
       "      <td>[{'author_id': '8577407', 'role': ''}]</td>\n",
       "      <td>2014.0</td>\n",
       "      <td>https://www.goodreads.com/book/show/33125385-u...</td>\n",
       "      <td>https://images.gr-assets.com/books/1480090010m...</td>\n",
       "      <td>93</td>\n",
       "      <td>Untouched (Untouched #1)</td>\n",
       "      <td>Untouched (Untouched #1)</td>\n",
       "      <td>en</td>\n",
       "    </tr>\n",
       "    <tr>\n",
       "      <th>24013</th>\n",
       "      <td>101248</td>\n",
       "      <td>22798607</td>\n",
       "      <td>3</td>\n",
       "      <td>3.90</td>\n",
       "      <td>In his debut collection, Christian Winn throws...</td>\n",
       "      <td>https://www.goodreads.com/book/show/22798607-n...</td>\n",
       "      <td>[{'author_id': '8409842', 'role': ''}]</td>\n",
       "      <td>2014.0</td>\n",
       "      <td>https://www.goodreads.com/book/show/22798607-n...</td>\n",
       "      <td>https://images.gr-assets.com/books/1417750817m...</td>\n",
       "      <td>21</td>\n",
       "      <td>Naked Me</td>\n",
       "      <td>Naked Me</td>\n",
       "      <td>en</td>\n",
       "    </tr>\n",
       "    <tr>\n",
       "      <th>24014</th>\n",
       "      <td>101250</td>\n",
       "      <td>26047380</td>\n",
       "      <td>2</td>\n",
       "      <td>4.70</td>\n",
       "      <td>Sadly Beautiful is a collection of poems and e...</td>\n",
       "      <td>https://www.goodreads.com/book/show/26047380-s...</td>\n",
       "      <td>[{'author_id': '4952802', 'role': ''}, {'autho...</td>\n",
       "      <td>2015.0</td>\n",
       "      <td>https://www.goodreads.com/book/show/26047380-s...</td>\n",
       "      <td>https://images.gr-assets.com/books/1438812276m...</td>\n",
       "      <td>9</td>\n",
       "      <td>Sadly Beautiful</td>\n",
       "      <td>Sadly Beautiful</td>\n",
       "      <td>en</td>\n",
       "    </tr>\n",
       "  </tbody>\n",
       "</table>\n",
       "<p>24015 rows × 14 columns</p>\n",
       "</div>"
      ],
      "text/plain": [
       "       Unnamed: 0  ...  language\n",
       "0               0  ...        en\n",
       "1               1  ...        en\n",
       "2               2  ...        en\n",
       "3               3  ...        en\n",
       "4               4  ...        en\n",
       "...           ...  ...       ...\n",
       "24010      101220  ...        en\n",
       "24011      101227  ...        en\n",
       "24012      101228  ...        en\n",
       "24013      101248  ...        en\n",
       "24014      101250  ...        en\n",
       "\n",
       "[24015 rows x 14 columns]"
      ]
     },
     "execution_count": 5,
     "metadata": {
      "tags": []
     },
     "output_type": "execute_result"
    }
   ],
   "source": [
    "goodreads_book"
   ]
  },
  {
   "cell_type": "code",
   "execution_count": 6,
   "metadata": {
    "colab": {
     "base_uri": "https://localhost:8080/"
    },
    "id": "KTaYr_jPidDu",
    "outputId": "3dbbb6fd-400e-46a3-ab5f-dd68a3ccf31f"
   },
   "outputs": [
    {
     "data": {
      "text/plain": [
       "Index(['Unnamed: 0', 'book_id', 'text_reviews_count', 'average_rating',\n",
       "       'description', 'link', 'authors', 'publication_year', 'url',\n",
       "       'image_url', 'ratings_count', 'title', 'title_without_series',\n",
       "       'language'],\n",
       "      dtype='object')"
      ]
     },
     "execution_count": 6,
     "metadata": {
      "tags": []
     },
     "output_type": "execute_result"
    }
   ],
   "source": [
    "goodreads_book.columns"
   ]
  },
  {
   "cell_type": "markdown",
   "metadata": {
    "id": "GiGSg0DDmvCp"
   },
   "source": [
    "## Data Cleaning"
   ]
  },
  {
   "cell_type": "code",
   "execution_count": 7,
   "metadata": {
    "id": "Vcrkeu2qh4MB"
   },
   "outputs": [],
   "source": [
    "goodreads_book=goodreads_book.drop(['Unnamed: 0','publication_year'],axis=1)"
   ]
  },
  {
   "cell_type": "code",
   "execution_count": 8,
   "metadata": {
    "colab": {
     "base_uri": "https://localhost:8080/",
     "height": 351
    },
    "id": "OIQnbXJWi5hr",
    "outputId": "aed8866a-6e03-4afe-d922-3f043669af8b"
   },
   "outputs": [
    {
     "data": {
      "text/html": [
       "<div>\n",
       "<style scoped>\n",
       "    .dataframe tbody tr th:only-of-type {\n",
       "        vertical-align: middle;\n",
       "    }\n",
       "\n",
       "    .dataframe tbody tr th {\n",
       "        vertical-align: top;\n",
       "    }\n",
       "\n",
       "    .dataframe thead th {\n",
       "        text-align: right;\n",
       "    }\n",
       "</style>\n",
       "<table border=\"1\" class=\"dataframe\">\n",
       "  <thead>\n",
       "    <tr style=\"text-align: right;\">\n",
       "      <th></th>\n",
       "      <th>book_id</th>\n",
       "      <th>text_reviews_count</th>\n",
       "      <th>average_rating</th>\n",
       "      <th>description</th>\n",
       "      <th>link</th>\n",
       "      <th>authors</th>\n",
       "      <th>url</th>\n",
       "      <th>image_url</th>\n",
       "      <th>ratings_count</th>\n",
       "      <th>title</th>\n",
       "      <th>title_without_series</th>\n",
       "      <th>language</th>\n",
       "    </tr>\n",
       "  </thead>\n",
       "  <tbody>\n",
       "    <tr>\n",
       "      <th>0</th>\n",
       "      <td>19398490</td>\n",
       "      <td>2311</td>\n",
       "      <td>4.31</td>\n",
       "      <td>Winner of the Pulitzer Prize\\nFrom the highly ...</td>\n",
       "      <td>https://www.goodreads.com/book/show/19398490-a...</td>\n",
       "      <td>[{'author_id': '28186', 'role': ''}]</td>\n",
       "      <td>https://www.goodreads.com/book/show/19398490-a...</td>\n",
       "      <td>https://images.gr-assets.com/books/1440903901m...</td>\n",
       "      <td>53342</td>\n",
       "      <td>All the Light We Cannot See</td>\n",
       "      <td>All the Light We Cannot See</td>\n",
       "      <td>en</td>\n",
       "    </tr>\n",
       "    <tr>\n",
       "      <th>1</th>\n",
       "      <td>12969594</td>\n",
       "      <td>241</td>\n",
       "      <td>4.06</td>\n",
       "      <td>An alternate cover of this ASIN can be found \u0001...</td>\n",
       "      <td>https://www.goodreads.com/book/show/12969594-t...</td>\n",
       "      <td>[{'author_id': '36615', 'role': ''}]</td>\n",
       "      <td>https://www.goodreads.com/book/show/12969594-t...</td>\n",
       "      <td>https://images.gr-assets.com/books/1328309680m...</td>\n",
       "      <td>6390</td>\n",
       "      <td>The Orphan Master's Son</td>\n",
       "      <td>The Orphan Master's Son</td>\n",
       "      <td>en</td>\n",
       "    </tr>\n",
       "    <tr>\n",
       "      <th>2</th>\n",
       "      <td>8664353</td>\n",
       "      <td>38878</td>\n",
       "      <td>4.39</td>\n",
       "      <td>In her long-awaited new book, Laura Hillenbran...</td>\n",
       "      <td>https://www.goodreads.com/book/show/8664353-un...</td>\n",
       "      <td>[{'author_id': '30913', 'role': ''}]</td>\n",
       "      <td>https://www.goodreads.com/book/show/8664353-un...</td>\n",
       "      <td>https://images.gr-assets.com/books/1327861115m...</td>\n",
       "      <td>504961</td>\n",
       "      <td>Unbroken: A World War II Story of Survival, Re...</td>\n",
       "      <td>Unbroken: A World War II Story of Survival, Re...</td>\n",
       "      <td>en</td>\n",
       "    </tr>\n",
       "  </tbody>\n",
       "</table>\n",
       "</div>"
      ],
      "text/plain": [
       "    book_id  ...  language\n",
       "0  19398490  ...        en\n",
       "1  12969594  ...        en\n",
       "2   8664353  ...        en\n",
       "\n",
       "[3 rows x 12 columns]"
      ]
     },
     "execution_count": 8,
     "metadata": {
      "tags": []
     },
     "output_type": "execute_result"
    }
   ],
   "source": [
    "goodreads_book.head(3)"
   ]
  },
  {
   "cell_type": "code",
   "execution_count": 9,
   "metadata": {
    "colab": {
     "base_uri": "https://localhost:8080/",
     "height": 506
    },
    "id": "wQuUEdhNnBj1",
    "outputId": "d5b73622-ec2d-47bb-b1a2-9eb0f21dce54"
   },
   "outputs": [
    {
     "data": {
      "text/html": [
       "<div>\n",
       "<style scoped>\n",
       "    .dataframe tbody tr th:only-of-type {\n",
       "        vertical-align: middle;\n",
       "    }\n",
       "\n",
       "    .dataframe tbody tr th {\n",
       "        vertical-align: top;\n",
       "    }\n",
       "\n",
       "    .dataframe thead th {\n",
       "        text-align: right;\n",
       "    }\n",
       "</style>\n",
       "<table border=\"1\" class=\"dataframe\">\n",
       "  <thead>\n",
       "    <tr style=\"text-align: right;\">\n",
       "      <th></th>\n",
       "      <th>0</th>\n",
       "      <th>1</th>\n",
       "      <th>2</th>\n",
       "      <th>3</th>\n",
       "      <th>4</th>\n",
       "    </tr>\n",
       "  </thead>\n",
       "  <tbody>\n",
       "    <tr>\n",
       "      <th>book_id</th>\n",
       "      <td>19398490</td>\n",
       "      <td>12969594</td>\n",
       "      <td>8664353</td>\n",
       "      <td>6452796</td>\n",
       "      <td>178186</td>\n",
       "    </tr>\n",
       "    <tr>\n",
       "      <th>text_reviews_count</th>\n",
       "      <td>2311</td>\n",
       "      <td>241</td>\n",
       "      <td>38878</td>\n",
       "      <td>2930</td>\n",
       "      <td>26</td>\n",
       "    </tr>\n",
       "    <tr>\n",
       "      <th>average_rating</th>\n",
       "      <td>4.31</td>\n",
       "      <td>4.06</td>\n",
       "      <td>4.39</td>\n",
       "      <td>3.95</td>\n",
       "      <td>3.87</td>\n",
       "    </tr>\n",
       "    <tr>\n",
       "      <th>description</th>\n",
       "      <td>Winner of the Pulitzer Prize\\nFrom the highly ...</td>\n",
       "      <td>An alternate cover of this ASIN can be found \u0001...</td>\n",
       "      <td>In her long-awaited new book, Laura Hillenbran...</td>\n",
       "      <td>Forget everything you thought you knew about h...</td>\n",
       "      <td>An autobiographical memoir revealing the tradi...</td>\n",
       "    </tr>\n",
       "    <tr>\n",
       "      <th>link</th>\n",
       "      <td>https://www.goodreads.com/book/show/19398490-a...</td>\n",
       "      <td>https://www.goodreads.com/book/show/12969594-t...</td>\n",
       "      <td>https://www.goodreads.com/book/show/8664353-un...</td>\n",
       "      <td>https://www.goodreads.com/book/show/6452796-drive</td>\n",
       "      <td>https://www.goodreads.com/book/show/178186.The...</td>\n",
       "    </tr>\n",
       "    <tr>\n",
       "      <th>authors</th>\n",
       "      <td>[{'author_id': '28186', 'role': ''}]</td>\n",
       "      <td>[{'author_id': '36615', 'role': ''}]</td>\n",
       "      <td>[{'author_id': '30913', 'role': ''}]</td>\n",
       "      <td>[{'author_id': '96150', 'role': ''}]</td>\n",
       "      <td>[{'author_id': '103752', 'role': ''}]</td>\n",
       "    </tr>\n",
       "    <tr>\n",
       "      <th>url</th>\n",
       "      <td>https://www.goodreads.com/book/show/19398490-a...</td>\n",
       "      <td>https://www.goodreads.com/book/show/12969594-t...</td>\n",
       "      <td>https://www.goodreads.com/book/show/8664353-un...</td>\n",
       "      <td>https://www.goodreads.com/book/show/6452796-drive</td>\n",
       "      <td>https://www.goodreads.com/book/show/178186.The...</td>\n",
       "    </tr>\n",
       "    <tr>\n",
       "      <th>image_url</th>\n",
       "      <td>https://images.gr-assets.com/books/1440903901m...</td>\n",
       "      <td>https://images.gr-assets.com/books/1328309680m...</td>\n",
       "      <td>https://images.gr-assets.com/books/1327861115m...</td>\n",
       "      <td>https://s.gr-assets.com/assets/nophoto/book/11...</td>\n",
       "      <td>https://s.gr-assets.com/assets/nophoto/book/11...</td>\n",
       "    </tr>\n",
       "    <tr>\n",
       "      <th>ratings_count</th>\n",
       "      <td>53342</td>\n",
       "      <td>6390</td>\n",
       "      <td>504961</td>\n",
       "      <td>58428</td>\n",
       "      <td>245</td>\n",
       "    </tr>\n",
       "    <tr>\n",
       "      <th>title</th>\n",
       "      <td>All the Light We Cannot See</td>\n",
       "      <td>The Orphan Master's Son</td>\n",
       "      <td>Unbroken: A World War II Story of Survival, Re...</td>\n",
       "      <td>Drive: The Surprising Truth About What Motivat...</td>\n",
       "      <td>The Worlds of a Maasai Warrior: An Autobiography</td>\n",
       "    </tr>\n",
       "    <tr>\n",
       "      <th>title_without_series</th>\n",
       "      <td>All the Light We Cannot See</td>\n",
       "      <td>The Orphan Master's Son</td>\n",
       "      <td>Unbroken: A World War II Story of Survival, Re...</td>\n",
       "      <td>Drive: The Surprising Truth About What Motivat...</td>\n",
       "      <td>The Worlds of a Maasai Warrior: An Autobiography</td>\n",
       "    </tr>\n",
       "    <tr>\n",
       "      <th>language</th>\n",
       "      <td>en</td>\n",
       "      <td>en</td>\n",
       "      <td>en</td>\n",
       "      <td>en</td>\n",
       "      <td>en</td>\n",
       "    </tr>\n",
       "  </tbody>\n",
       "</table>\n",
       "</div>"
      ],
      "text/plain": [
       "                                                                      0  ...                                                  4\n",
       "book_id                                                        19398490  ...                                             178186\n",
       "text_reviews_count                                                 2311  ...                                                 26\n",
       "average_rating                                                     4.31  ...                                               3.87\n",
       "description           Winner of the Pulitzer Prize\\nFrom the highly ...  ...  An autobiographical memoir revealing the tradi...\n",
       "link                  https://www.goodreads.com/book/show/19398490-a...  ...  https://www.goodreads.com/book/show/178186.The...\n",
       "authors                            [{'author_id': '28186', 'role': ''}]  ...              [{'author_id': '103752', 'role': ''}]\n",
       "url                   https://www.goodreads.com/book/show/19398490-a...  ...  https://www.goodreads.com/book/show/178186.The...\n",
       "image_url             https://images.gr-assets.com/books/1440903901m...  ...  https://s.gr-assets.com/assets/nophoto/book/11...\n",
       "ratings_count                                                     53342  ...                                                245\n",
       "title                                       All the Light We Cannot See  ...   The Worlds of a Maasai Warrior: An Autobiography\n",
       "title_without_series                        All the Light We Cannot See  ...   The Worlds of a Maasai Warrior: An Autobiography\n",
       "language                                                             en  ...                                                 en\n",
       "\n",
       "[12 rows x 5 columns]"
      ]
     },
     "execution_count": 9,
     "metadata": {
      "tags": []
     },
     "output_type": "execute_result"
    }
   ],
   "source": [
    "goodreads_book.head().transpose()"
   ]
  },
  {
   "cell_type": "code",
   "execution_count": 10,
   "metadata": {
    "colab": {
     "base_uri": "https://localhost:8080/"
    },
    "id": "cgS9uOz4rTCX",
    "outputId": "06c83c22-6568-40e3-9efd-286aeb7d0e2b"
   },
   "outputs": [
    {
     "name": "stdout",
     "output_type": "stream",
     "text": [
      "<class 'pandas.core.frame.DataFrame'>\n",
      "RangeIndex: 24015 entries, 0 to 24014\n",
      "Data columns (total 12 columns):\n",
      " #   Column                Non-Null Count  Dtype  \n",
      "---  ------                --------------  -----  \n",
      " 0   book_id               24015 non-null  int64  \n",
      " 1   text_reviews_count    24015 non-null  int64  \n",
      " 2   average_rating        24015 non-null  float64\n",
      " 3   description           24015 non-null  object \n",
      " 4   link                  24015 non-null  object \n",
      " 5   authors               24015 non-null  object \n",
      " 6   url                   24015 non-null  object \n",
      " 7   image_url             24015 non-null  object \n",
      " 8   ratings_count         24015 non-null  int64  \n",
      " 9   title                 24015 non-null  object \n",
      " 10  title_without_series  24015 non-null  object \n",
      " 11  language              24015 non-null  object \n",
      "dtypes: float64(1), int64(3), object(8)\n",
      "memory usage: 2.2+ MB\n"
     ]
    }
   ],
   "source": [
    "goodreads_book.info()"
   ]
  },
  {
   "cell_type": "code",
   "execution_count": 11,
   "metadata": {
    "colab": {
     "base_uri": "https://localhost:8080/",
     "height": 294
    },
    "id": "GqAagx01rv3n",
    "outputId": "7409856d-dc91-4535-b207-2b12c59feebf"
   },
   "outputs": [
    {
     "data": {
      "text/html": [
       "<div>\n",
       "<style scoped>\n",
       "    .dataframe tbody tr th:only-of-type {\n",
       "        vertical-align: middle;\n",
       "    }\n",
       "\n",
       "    .dataframe tbody tr th {\n",
       "        vertical-align: top;\n",
       "    }\n",
       "\n",
       "    .dataframe thead th {\n",
       "        text-align: right;\n",
       "    }\n",
       "</style>\n",
       "<table border=\"1\" class=\"dataframe\">\n",
       "  <thead>\n",
       "    <tr style=\"text-align: right;\">\n",
       "      <th></th>\n",
       "      <th>book_id</th>\n",
       "      <th>text_reviews_count</th>\n",
       "      <th>average_rating</th>\n",
       "      <th>ratings_count</th>\n",
       "    </tr>\n",
       "  </thead>\n",
       "  <tbody>\n",
       "    <tr>\n",
       "      <th>count</th>\n",
       "      <td>2.401500e+04</td>\n",
       "      <td>24015.000000</td>\n",
       "      <td>24015.000000</td>\n",
       "      <td>24015.000000</td>\n",
       "    </tr>\n",
       "    <tr>\n",
       "      <th>mean</th>\n",
       "      <td>1.425268e+07</td>\n",
       "      <td>76.638934</td>\n",
       "      <td>3.897751</td>\n",
       "      <td>1024.398959</td>\n",
       "    </tr>\n",
       "    <tr>\n",
       "      <th>std</th>\n",
       "      <td>1.086071e+07</td>\n",
       "      <td>504.830494</td>\n",
       "      <td>0.379555</td>\n",
       "      <td>10099.925052</td>\n",
       "    </tr>\n",
       "    <tr>\n",
       "      <th>min</th>\n",
       "      <td>2.280000e+02</td>\n",
       "      <td>0.000000</td>\n",
       "      <td>0.000000</td>\n",
       "      <td>0.000000</td>\n",
       "    </tr>\n",
       "    <tr>\n",
       "      <th>25%</th>\n",
       "      <td>2.403230e+06</td>\n",
       "      <td>5.000000</td>\n",
       "      <td>3.680000</td>\n",
       "      <td>24.000000</td>\n",
       "    </tr>\n",
       "    <tr>\n",
       "      <th>50%</th>\n",
       "      <td>1.458705e+07</td>\n",
       "      <td>16.000000</td>\n",
       "      <td>3.920000</td>\n",
       "      <td>90.000000</td>\n",
       "    </tr>\n",
       "    <tr>\n",
       "      <th>75%</th>\n",
       "      <td>2.326101e+07</td>\n",
       "      <td>46.000000</td>\n",
       "      <td>4.140000</td>\n",
       "      <td>360.000000</td>\n",
       "    </tr>\n",
       "    <tr>\n",
       "      <th>max</th>\n",
       "      <td>3.646933e+07</td>\n",
       "      <td>38878.000000</td>\n",
       "      <td>5.000000</td>\n",
       "      <td>748926.000000</td>\n",
       "    </tr>\n",
       "  </tbody>\n",
       "</table>\n",
       "</div>"
      ],
      "text/plain": [
       "            book_id  text_reviews_count  average_rating  ratings_count\n",
       "count  2.401500e+04        24015.000000    24015.000000   24015.000000\n",
       "mean   1.425268e+07           76.638934        3.897751    1024.398959\n",
       "std    1.086071e+07          504.830494        0.379555   10099.925052\n",
       "min    2.280000e+02            0.000000        0.000000       0.000000\n",
       "25%    2.403230e+06            5.000000        3.680000      24.000000\n",
       "50%    1.458705e+07           16.000000        3.920000      90.000000\n",
       "75%    2.326101e+07           46.000000        4.140000     360.000000\n",
       "max    3.646933e+07        38878.000000        5.000000  748926.000000"
      ]
     },
     "execution_count": 11,
     "metadata": {
      "tags": []
     },
     "output_type": "execute_result"
    }
   ],
   "source": [
    "goodreads_book.describe()"
   ]
  },
  {
   "cell_type": "markdown",
   "metadata": {
    "id": "X4_vFV9H0_LQ"
   },
   "source": [
    "# Author Dataset Cleaning"
   ]
  },
  {
   "cell_type": "code",
   "execution_count": 12,
   "metadata": {
    "id": "HP9F1UsM1JPf"
   },
   "outputs": [],
   "source": [
    "single_row=goodreads_book['authors'].iloc[1]"
   ]
  },
  {
   "cell_type": "code",
   "execution_count": 13,
   "metadata": {
    "colab": {
     "base_uri": "https://localhost:8080/",
     "height": 35
    },
    "id": "vdtdPRxY92p_",
    "outputId": "d01b40e2-af7d-40b7-d53b-9e17eeca7ce0"
   },
   "outputs": [
    {
     "data": {
      "application/vnd.google.colaboratory.intrinsic+json": {
       "type": "string"
      },
      "text/plain": [
       "\"[{'author_id': '36615', 'role': ''}]\""
      ]
     },
     "execution_count": 13,
     "metadata": {
      "tags": []
     },
     "output_type": "execute_result"
    }
   ],
   "source": [
    "single_row"
   ]
  },
  {
   "cell_type": "code",
   "execution_count": 14,
   "metadata": {
    "id": "IJHzbWLh1aN4"
   },
   "outputs": [],
   "source": [
    "single_row=single_row.replace('[','')\n",
    "single_row=single_row.replace(']','')\n",
    "\n"
   ]
  },
  {
   "cell_type": "code",
   "execution_count": 15,
   "metadata": {
    "id": "rF0XNIr83t0B"
   },
   "outputs": [],
   "source": [
    "dict2 = eval(single_row)"
   ]
  },
  {
   "cell_type": "code",
   "execution_count": 16,
   "metadata": {
    "colab": {
     "base_uri": "https://localhost:8080/"
    },
    "id": "L-JeI1feuGb0",
    "outputId": "9d58f32a-cb8b-4ed4-f370-31f684d7a3ac"
   },
   "outputs": [
    {
     "data": {
      "text/plain": [
       "dict"
      ]
     },
     "execution_count": 16,
     "metadata": {
      "tags": []
     },
     "output_type": "execute_result"
    }
   ],
   "source": [
    "type(dict2)"
   ]
  },
  {
   "cell_type": "code",
   "execution_count": 17,
   "metadata": {
    "colab": {
     "base_uri": "https://localhost:8080/"
    },
    "id": "lq3Eq4RFMKpw",
    "outputId": "a8f9eeec-2843-4db7-ba66-1e06243f4688"
   },
   "outputs": [
    {
     "data": {
      "text/plain": [
       "{'author_id': '36615', 'role': ''}"
      ]
     },
     "execution_count": 17,
     "metadata": {
      "tags": []
     },
     "output_type": "execute_result"
    }
   ],
   "source": [
    "dict2"
   ]
  },
  {
   "cell_type": "code",
   "execution_count": 18,
   "metadata": {
    "id": "X-FQBJC2_rWd"
   },
   "outputs": [],
   "source": [
    "#dict2[2]['author_id']"
   ]
  },
  {
   "cell_type": "code",
   "execution_count": 19,
   "metadata": {
    "id": "cuwCiIJo1k-I"
   },
   "outputs": [],
   "source": [
    "def author_list(text):\n",
    "    text=text.replace('[','')\n",
    "    text=text.replace(']','')\n",
    "    dic=eval(text)\n",
    "    if((str(dic).count('author_id'))==1):\n",
    "      new=dic['author_id']\n",
    "    elif((str(dic).count('author_id'))>1):\n",
    "      new=dic[0]['author_id']\n",
    "    else:\n",
    "      new='NIL'\n",
    "    #nn=dict((key,d[key]) for d in new for key in d)\n",
    "    #print(nn)\n",
    "    return new"
   ]
  },
  {
   "cell_type": "code",
   "execution_count": 20,
   "metadata": {
    "colab": {
     "base_uri": "https://localhost:8080/",
     "height": 35
    },
    "id": "mDK0X5QiHCbt",
    "outputId": "283d4e57-e3e7-43e1-e0b5-b72045270163"
   },
   "outputs": [
    {
     "data": {
      "application/vnd.google.colaboratory.intrinsic+json": {
       "type": "string"
      },
      "text/plain": [
       "'3618'"
      ]
     },
     "execution_count": 20,
     "metadata": {
      "tags": []
     },
     "output_type": "execute_result"
    }
   ],
   "source": [
    "author_list(goodreads_book['authors'].iloc[5])"
   ]
  },
  {
   "cell_type": "code",
   "execution_count": 21,
   "metadata": {
    "id": "Q5zozcCf1syn"
   },
   "outputs": [],
   "source": [
    "goodreads_book['author_id']=goodreads_book['authors'].apply(author_list)"
   ]
  },
  {
   "cell_type": "code",
   "execution_count": 22,
   "metadata": {
    "colab": {
     "base_uri": "https://localhost:8080/"
    },
    "id": "pfwoehe_43oI",
    "outputId": "6ae3c84d-4876-49db-e449-23ba84d38b42"
   },
   "outputs": [
    {
     "data": {
      "text/plain": [
       "0          28186\n",
       "1          36615\n",
       "2          30913\n",
       "3          96150\n",
       "4         103752\n",
       "          ...   \n",
       "24010    1169290\n",
       "24011    3975855\n",
       "24012    8577407\n",
       "24013    8409842\n",
       "24014    4952802\n",
       "Name: author_id, Length: 24015, dtype: object"
      ]
     },
     "execution_count": 22,
     "metadata": {
      "tags": []
     },
     "output_type": "execute_result"
    }
   ],
   "source": [
    "goodreads_book['author_id']"
   ]
  },
  {
   "cell_type": "code",
   "execution_count": 23,
   "metadata": {
    "colab": {
     "base_uri": "https://localhost:8080/",
     "height": 938
    },
    "id": "yNHpKDm6welq",
    "outputId": "0151c234-118e-4ef6-fdea-a24bb6bfc80f"
   },
   "outputs": [
    {
     "data": {
      "text/html": [
       "<div>\n",
       "<style scoped>\n",
       "    .dataframe tbody tr th:only-of-type {\n",
       "        vertical-align: middle;\n",
       "    }\n",
       "\n",
       "    .dataframe tbody tr th {\n",
       "        vertical-align: top;\n",
       "    }\n",
       "\n",
       "    .dataframe thead th {\n",
       "        text-align: right;\n",
       "    }\n",
       "</style>\n",
       "<table border=\"1\" class=\"dataframe\">\n",
       "  <thead>\n",
       "    <tr style=\"text-align: right;\">\n",
       "      <th></th>\n",
       "      <th>book_id</th>\n",
       "      <th>text_reviews_count</th>\n",
       "      <th>average_rating</th>\n",
       "      <th>description</th>\n",
       "      <th>link</th>\n",
       "      <th>authors</th>\n",
       "      <th>url</th>\n",
       "      <th>image_url</th>\n",
       "      <th>ratings_count</th>\n",
       "      <th>title</th>\n",
       "      <th>title_without_series</th>\n",
       "      <th>language</th>\n",
       "      <th>author_id</th>\n",
       "    </tr>\n",
       "  </thead>\n",
       "  <tbody>\n",
       "    <tr>\n",
       "      <th>0</th>\n",
       "      <td>19398490</td>\n",
       "      <td>2311</td>\n",
       "      <td>4.31</td>\n",
       "      <td>Winner of the Pulitzer Prize\\nFrom the highly ...</td>\n",
       "      <td>https://www.goodreads.com/book/show/19398490-a...</td>\n",
       "      <td>[{'author_id': '28186', 'role': ''}]</td>\n",
       "      <td>https://www.goodreads.com/book/show/19398490-a...</td>\n",
       "      <td>https://images.gr-assets.com/books/1440903901m...</td>\n",
       "      <td>53342</td>\n",
       "      <td>All the Light We Cannot See</td>\n",
       "      <td>All the Light We Cannot See</td>\n",
       "      <td>en</td>\n",
       "      <td>28186</td>\n",
       "    </tr>\n",
       "    <tr>\n",
       "      <th>1</th>\n",
       "      <td>12969594</td>\n",
       "      <td>241</td>\n",
       "      <td>4.06</td>\n",
       "      <td>An alternate cover of this ASIN can be found \u0001...</td>\n",
       "      <td>https://www.goodreads.com/book/show/12969594-t...</td>\n",
       "      <td>[{'author_id': '36615', 'role': ''}]</td>\n",
       "      <td>https://www.goodreads.com/book/show/12969594-t...</td>\n",
       "      <td>https://images.gr-assets.com/books/1328309680m...</td>\n",
       "      <td>6390</td>\n",
       "      <td>The Orphan Master's Son</td>\n",
       "      <td>The Orphan Master's Son</td>\n",
       "      <td>en</td>\n",
       "      <td>36615</td>\n",
       "    </tr>\n",
       "    <tr>\n",
       "      <th>2</th>\n",
       "      <td>8664353</td>\n",
       "      <td>38878</td>\n",
       "      <td>4.39</td>\n",
       "      <td>In her long-awaited new book, Laura Hillenbran...</td>\n",
       "      <td>https://www.goodreads.com/book/show/8664353-un...</td>\n",
       "      <td>[{'author_id': '30913', 'role': ''}]</td>\n",
       "      <td>https://www.goodreads.com/book/show/8664353-un...</td>\n",
       "      <td>https://images.gr-assets.com/books/1327861115m...</td>\n",
       "      <td>504961</td>\n",
       "      <td>Unbroken: A World War II Story of Survival, Re...</td>\n",
       "      <td>Unbroken: A World War II Story of Survival, Re...</td>\n",
       "      <td>en</td>\n",
       "      <td>30913</td>\n",
       "    </tr>\n",
       "    <tr>\n",
       "      <th>3</th>\n",
       "      <td>6452796</td>\n",
       "      <td>2930</td>\n",
       "      <td>3.95</td>\n",
       "      <td>Forget everything you thought you knew about h...</td>\n",
       "      <td>https://www.goodreads.com/book/show/6452796-drive</td>\n",
       "      <td>[{'author_id': '96150', 'role': ''}]</td>\n",
       "      <td>https://www.goodreads.com/book/show/6452796-drive</td>\n",
       "      <td>https://s.gr-assets.com/assets/nophoto/book/11...</td>\n",
       "      <td>58428</td>\n",
       "      <td>Drive: The Surprising Truth About What Motivat...</td>\n",
       "      <td>Drive: The Surprising Truth About What Motivat...</td>\n",
       "      <td>en</td>\n",
       "      <td>96150</td>\n",
       "    </tr>\n",
       "    <tr>\n",
       "      <th>4</th>\n",
       "      <td>178186</td>\n",
       "      <td>26</td>\n",
       "      <td>3.87</td>\n",
       "      <td>An autobiographical memoir revealing the tradi...</td>\n",
       "      <td>https://www.goodreads.com/book/show/178186.The...</td>\n",
       "      <td>[{'author_id': '103752', 'role': ''}]</td>\n",
       "      <td>https://www.goodreads.com/book/show/178186.The...</td>\n",
       "      <td>https://s.gr-assets.com/assets/nophoto/book/11...</td>\n",
       "      <td>245</td>\n",
       "      <td>The Worlds of a Maasai Warrior: An Autobiography</td>\n",
       "      <td>The Worlds of a Maasai Warrior: An Autobiography</td>\n",
       "      <td>en</td>\n",
       "      <td>103752</td>\n",
       "    </tr>\n",
       "    <tr>\n",
       "      <th>...</th>\n",
       "      <td>...</td>\n",
       "      <td>...</td>\n",
       "      <td>...</td>\n",
       "      <td>...</td>\n",
       "      <td>...</td>\n",
       "      <td>...</td>\n",
       "      <td>...</td>\n",
       "      <td>...</td>\n",
       "      <td>...</td>\n",
       "      <td>...</td>\n",
       "      <td>...</td>\n",
       "      <td>...</td>\n",
       "      <td>...</td>\n",
       "    </tr>\n",
       "    <tr>\n",
       "      <th>24010</th>\n",
       "      <td>23228256</td>\n",
       "      <td>28</td>\n",
       "      <td>4.09</td>\n",
       "      <td>From Brazil's most acclaimed young novelist, t...</td>\n",
       "      <td>https://www.goodreads.com/book/show/23228256-b...</td>\n",
       "      <td>[{'author_id': '1169290', 'role': ''}, {'autho...</td>\n",
       "      <td>https://www.goodreads.com/book/show/23228256-b...</td>\n",
       "      <td>https://images.gr-assets.com/books/1411183144m...</td>\n",
       "      <td>159</td>\n",
       "      <td>Blood-Drenched Beard</td>\n",
       "      <td>Blood-Drenched Beard</td>\n",
       "      <td>en</td>\n",
       "      <td>1169290</td>\n",
       "    </tr>\n",
       "    <tr>\n",
       "      <th>24011</th>\n",
       "      <td>30340824</td>\n",
       "      <td>45</td>\n",
       "      <td>4.33</td>\n",
       "      <td>Ten seconds can change everything.\\nDaisy Conn...</td>\n",
       "      <td>https://www.goodreads.com/book/show/30340824-c...</td>\n",
       "      <td>[{'author_id': '3975855', 'role': ''}]</td>\n",
       "      <td>https://www.goodreads.com/book/show/30340824-c...</td>\n",
       "      <td>https://images.gr-assets.com/books/1464920539m...</td>\n",
       "      <td>68</td>\n",
       "      <td>Collateral Damage (Hidden Scars, #2)</td>\n",
       "      <td>Collateral Damage (Hidden Scars, #2)</td>\n",
       "      <td>en</td>\n",
       "      <td>3975855</td>\n",
       "    </tr>\n",
       "    <tr>\n",
       "      <th>24012</th>\n",
       "      <td>33125385</td>\n",
       "      <td>29</td>\n",
       "      <td>4.40</td>\n",
       "      <td>Librarian Note: Alternate Cover Edition for \u0001....</td>\n",
       "      <td>https://www.goodreads.com/book/show/33125385-u...</td>\n",
       "      <td>[{'author_id': '8577407', 'role': ''}]</td>\n",
       "      <td>https://www.goodreads.com/book/show/33125385-u...</td>\n",
       "      <td>https://images.gr-assets.com/books/1480090010m...</td>\n",
       "      <td>93</td>\n",
       "      <td>Untouched (Untouched #1)</td>\n",
       "      <td>Untouched (Untouched #1)</td>\n",
       "      <td>en</td>\n",
       "      <td>8577407</td>\n",
       "    </tr>\n",
       "    <tr>\n",
       "      <th>24013</th>\n",
       "      <td>22798607</td>\n",
       "      <td>3</td>\n",
       "      <td>3.90</td>\n",
       "      <td>In his debut collection, Christian Winn throws...</td>\n",
       "      <td>https://www.goodreads.com/book/show/22798607-n...</td>\n",
       "      <td>[{'author_id': '8409842', 'role': ''}]</td>\n",
       "      <td>https://www.goodreads.com/book/show/22798607-n...</td>\n",
       "      <td>https://images.gr-assets.com/books/1417750817m...</td>\n",
       "      <td>21</td>\n",
       "      <td>Naked Me</td>\n",
       "      <td>Naked Me</td>\n",
       "      <td>en</td>\n",
       "      <td>8409842</td>\n",
       "    </tr>\n",
       "    <tr>\n",
       "      <th>24014</th>\n",
       "      <td>26047380</td>\n",
       "      <td>2</td>\n",
       "      <td>4.70</td>\n",
       "      <td>Sadly Beautiful is a collection of poems and e...</td>\n",
       "      <td>https://www.goodreads.com/book/show/26047380-s...</td>\n",
       "      <td>[{'author_id': '4952802', 'role': ''}, {'autho...</td>\n",
       "      <td>https://www.goodreads.com/book/show/26047380-s...</td>\n",
       "      <td>https://images.gr-assets.com/books/1438812276m...</td>\n",
       "      <td>9</td>\n",
       "      <td>Sadly Beautiful</td>\n",
       "      <td>Sadly Beautiful</td>\n",
       "      <td>en</td>\n",
       "      <td>4952802</td>\n",
       "    </tr>\n",
       "  </tbody>\n",
       "</table>\n",
       "<p>24015 rows × 13 columns</p>\n",
       "</div>"
      ],
      "text/plain": [
       "        book_id  text_reviews_count  ...  language author_id\n",
       "0      19398490                2311  ...        en     28186\n",
       "1      12969594                 241  ...        en     36615\n",
       "2       8664353               38878  ...        en     30913\n",
       "3       6452796                2930  ...        en     96150\n",
       "4        178186                  26  ...        en    103752\n",
       "...         ...                 ...  ...       ...       ...\n",
       "24010  23228256                  28  ...        en   1169290\n",
       "24011  30340824                  45  ...        en   3975855\n",
       "24012  33125385                  29  ...        en   8577407\n",
       "24013  22798607                   3  ...        en   8409842\n",
       "24014  26047380                   2  ...        en   4952802\n",
       "\n",
       "[24015 rows x 13 columns]"
      ]
     },
     "execution_count": 23,
     "metadata": {
      "tags": []
     },
     "output_type": "execute_result"
    }
   ],
   "source": [
    "goodreads_book"
   ]
  },
  {
   "cell_type": "code",
   "execution_count": 24,
   "metadata": {
    "colab": {
     "base_uri": "https://localhost:8080/"
    },
    "id": "0elIFJIouRoT",
    "outputId": "e01bcffc-a65c-4eb9-c765-ad108d1fd839"
   },
   "outputs": [
    {
     "name": "stdout",
     "output_type": "stream",
     "text": [
      "NIL not there\n"
     ]
    }
   ],
   "source": [
    "if goodreads_book['author_id'].str.contains('NIL').any():\n",
    "    print (\"NIL is there\")\n",
    "else :\n",
    "    print (\"NIL not there\")"
   ]
  },
  {
   "cell_type": "code",
   "execution_count": 25,
   "metadata": {
    "id": "531MesgUuw6v"
   },
   "outputs": [],
   "source": [
    "goodreads_book=goodreads_book.drop('authors',axis=1)"
   ]
  },
  {
   "cell_type": "code",
   "execution_count": 26,
   "metadata": {
    "colab": {
     "base_uri": "https://localhost:8080/",
     "height": 517
    },
    "id": "92gWQOwFq4TC",
    "outputId": "eaad19f3-d2de-4bb8-ff77-6fb1ef025694"
   },
   "outputs": [
    {
     "data": {
      "text/html": [
       "<div>\n",
       "<style scoped>\n",
       "    .dataframe tbody tr th:only-of-type {\n",
       "        vertical-align: middle;\n",
       "    }\n",
       "\n",
       "    .dataframe tbody tr th {\n",
       "        vertical-align: top;\n",
       "    }\n",
       "\n",
       "    .dataframe thead th {\n",
       "        text-align: right;\n",
       "    }\n",
       "</style>\n",
       "<table border=\"1\" class=\"dataframe\">\n",
       "  <thead>\n",
       "    <tr style=\"text-align: right;\">\n",
       "      <th></th>\n",
       "      <th>book_id</th>\n",
       "      <th>text_reviews_count</th>\n",
       "      <th>average_rating</th>\n",
       "      <th>description</th>\n",
       "      <th>link</th>\n",
       "      <th>url</th>\n",
       "      <th>image_url</th>\n",
       "      <th>ratings_count</th>\n",
       "      <th>title</th>\n",
       "      <th>title_without_series</th>\n",
       "      <th>language</th>\n",
       "      <th>author_id</th>\n",
       "    </tr>\n",
       "  </thead>\n",
       "  <tbody>\n",
       "    <tr>\n",
       "      <th>0</th>\n",
       "      <td>19398490</td>\n",
       "      <td>2311</td>\n",
       "      <td>4.31</td>\n",
       "      <td>Winner of the Pulitzer Prize\\nFrom the highly ...</td>\n",
       "      <td>https://www.goodreads.com/book/show/19398490-a...</td>\n",
       "      <td>https://www.goodreads.com/book/show/19398490-a...</td>\n",
       "      <td>https://images.gr-assets.com/books/1440903901m...</td>\n",
       "      <td>53342</td>\n",
       "      <td>All the Light We Cannot See</td>\n",
       "      <td>All the Light We Cannot See</td>\n",
       "      <td>en</td>\n",
       "      <td>28186</td>\n",
       "    </tr>\n",
       "    <tr>\n",
       "      <th>1</th>\n",
       "      <td>12969594</td>\n",
       "      <td>241</td>\n",
       "      <td>4.06</td>\n",
       "      <td>An alternate cover of this ASIN can be found \u0001...</td>\n",
       "      <td>https://www.goodreads.com/book/show/12969594-t...</td>\n",
       "      <td>https://www.goodreads.com/book/show/12969594-t...</td>\n",
       "      <td>https://images.gr-assets.com/books/1328309680m...</td>\n",
       "      <td>6390</td>\n",
       "      <td>The Orphan Master's Son</td>\n",
       "      <td>The Orphan Master's Son</td>\n",
       "      <td>en</td>\n",
       "      <td>36615</td>\n",
       "    </tr>\n",
       "    <tr>\n",
       "      <th>2</th>\n",
       "      <td>8664353</td>\n",
       "      <td>38878</td>\n",
       "      <td>4.39</td>\n",
       "      <td>In her long-awaited new book, Laura Hillenbran...</td>\n",
       "      <td>https://www.goodreads.com/book/show/8664353-un...</td>\n",
       "      <td>https://www.goodreads.com/book/show/8664353-un...</td>\n",
       "      <td>https://images.gr-assets.com/books/1327861115m...</td>\n",
       "      <td>504961</td>\n",
       "      <td>Unbroken: A World War II Story of Survival, Re...</td>\n",
       "      <td>Unbroken: A World War II Story of Survival, Re...</td>\n",
       "      <td>en</td>\n",
       "      <td>30913</td>\n",
       "    </tr>\n",
       "    <tr>\n",
       "      <th>3</th>\n",
       "      <td>6452796</td>\n",
       "      <td>2930</td>\n",
       "      <td>3.95</td>\n",
       "      <td>Forget everything you thought you knew about h...</td>\n",
       "      <td>https://www.goodreads.com/book/show/6452796-drive</td>\n",
       "      <td>https://www.goodreads.com/book/show/6452796-drive</td>\n",
       "      <td>https://s.gr-assets.com/assets/nophoto/book/11...</td>\n",
       "      <td>58428</td>\n",
       "      <td>Drive: The Surprising Truth About What Motivat...</td>\n",
       "      <td>Drive: The Surprising Truth About What Motivat...</td>\n",
       "      <td>en</td>\n",
       "      <td>96150</td>\n",
       "    </tr>\n",
       "    <tr>\n",
       "      <th>4</th>\n",
       "      <td>178186</td>\n",
       "      <td>26</td>\n",
       "      <td>3.87</td>\n",
       "      <td>An autobiographical memoir revealing the tradi...</td>\n",
       "      <td>https://www.goodreads.com/book/show/178186.The...</td>\n",
       "      <td>https://www.goodreads.com/book/show/178186.The...</td>\n",
       "      <td>https://s.gr-assets.com/assets/nophoto/book/11...</td>\n",
       "      <td>245</td>\n",
       "      <td>The Worlds of a Maasai Warrior: An Autobiography</td>\n",
       "      <td>The Worlds of a Maasai Warrior: An Autobiography</td>\n",
       "      <td>en</td>\n",
       "      <td>103752</td>\n",
       "    </tr>\n",
       "  </tbody>\n",
       "</table>\n",
       "</div>"
      ],
      "text/plain": [
       "    book_id  text_reviews_count  ...  language author_id\n",
       "0  19398490                2311  ...        en     28186\n",
       "1  12969594                 241  ...        en     36615\n",
       "2   8664353               38878  ...        en     30913\n",
       "3   6452796                2930  ...        en     96150\n",
       "4    178186                  26  ...        en    103752\n",
       "\n",
       "[5 rows x 12 columns]"
      ]
     },
     "execution_count": 26,
     "metadata": {
      "tags": []
     },
     "output_type": "execute_result"
    }
   ],
   "source": [
    "goodreads_book.head()"
   ]
  },
  {
   "cell_type": "markdown",
   "metadata": {
    "id": "b9tLcFXCyn_N"
   },
   "source": [
    "# Importing Author Dataset"
   ]
  },
  {
   "cell_type": "code",
   "execution_count": 27,
   "metadata": {
    "id": "xR-wO5RRxnjx"
   },
   "outputs": [],
   "source": [
    "def parse(path):\n",
    "  g = gzip.open(path, 'r')\n",
    "  for l in g:\n",
    "    yield json.loads(l)"
   ]
  },
  {
   "cell_type": "code",
   "execution_count": 28,
   "metadata": {
    "id": "5y-oxGsSy0ai"
   },
   "outputs": [],
   "source": [
    "import pandas as pd\n",
    "import gzip\n",
    "import json\n",
    "def parse(path):\n",
    "  g = open(path, 'rb')\n",
    "  for l in g:\n",
    "    yield json.loads(l)\n",
    "\n",
    "def getDF(path):\n",
    "  i = 0\n",
    "  df = {}\n",
    "  for d in parse(path):\n",
    "    df[i] = d\n",
    "    i += 1\n",
    "    if(i>=829529):   \n",
    "      break\n",
    "  return pd.DataFrame.from_dict(df, orient='index')\n",
    "\n",
    "author_book = getDF('goodreads_book_authors.json')"
   ]
  },
  {
   "cell_type": "code",
   "execution_count": 29,
   "metadata": {
    "colab": {
     "base_uri": "https://localhost:8080/",
     "height": 415
    },
    "id": "zdZ4XwmezNC5",
    "outputId": "6a910abc-b647-4611-9bf4-f55c086bf589"
   },
   "outputs": [
    {
     "data": {
      "text/html": [
       "<div>\n",
       "<style scoped>\n",
       "    .dataframe tbody tr th:only-of-type {\n",
       "        vertical-align: middle;\n",
       "    }\n",
       "\n",
       "    .dataframe tbody tr th {\n",
       "        vertical-align: top;\n",
       "    }\n",
       "\n",
       "    .dataframe thead th {\n",
       "        text-align: right;\n",
       "    }\n",
       "</style>\n",
       "<table border=\"1\" class=\"dataframe\">\n",
       "  <thead>\n",
       "    <tr style=\"text-align: right;\">\n",
       "      <th></th>\n",
       "      <th>average_rating</th>\n",
       "      <th>author_id</th>\n",
       "      <th>text_reviews_count</th>\n",
       "      <th>name</th>\n",
       "      <th>ratings_count</th>\n",
       "    </tr>\n",
       "  </thead>\n",
       "  <tbody>\n",
       "    <tr>\n",
       "      <th>0</th>\n",
       "      <td>3.98</td>\n",
       "      <td>604031</td>\n",
       "      <td>7</td>\n",
       "      <td>Ronald J. Fields</td>\n",
       "      <td>49</td>\n",
       "    </tr>\n",
       "    <tr>\n",
       "      <th>1</th>\n",
       "      <td>4.08</td>\n",
       "      <td>626222</td>\n",
       "      <td>28716</td>\n",
       "      <td>Anita Diamant</td>\n",
       "      <td>546796</td>\n",
       "    </tr>\n",
       "    <tr>\n",
       "      <th>2</th>\n",
       "      <td>3.92</td>\n",
       "      <td>10333</td>\n",
       "      <td>5075</td>\n",
       "      <td>Barbara Hambly</td>\n",
       "      <td>122118</td>\n",
       "    </tr>\n",
       "    <tr>\n",
       "      <th>3</th>\n",
       "      <td>3.68</td>\n",
       "      <td>9212</td>\n",
       "      <td>36262</td>\n",
       "      <td>Jennifer Weiner</td>\n",
       "      <td>888522</td>\n",
       "    </tr>\n",
       "    <tr>\n",
       "      <th>4</th>\n",
       "      <td>3.82</td>\n",
       "      <td>149918</td>\n",
       "      <td>96</td>\n",
       "      <td>Nigel Pennick</td>\n",
       "      <td>1740</td>\n",
       "    </tr>\n",
       "    <tr>\n",
       "      <th>...</th>\n",
       "      <td>...</td>\n",
       "      <td>...</td>\n",
       "      <td>...</td>\n",
       "      <td>...</td>\n",
       "      <td>...</td>\n",
       "    </tr>\n",
       "    <tr>\n",
       "      <th>829524</th>\n",
       "      <td>4.36</td>\n",
       "      <td>197551</td>\n",
       "      <td>4</td>\n",
       "      <td>Patty Furbush</td>\n",
       "      <td>11</td>\n",
       "    </tr>\n",
       "    <tr>\n",
       "      <th>829525</th>\n",
       "      <td>4.33</td>\n",
       "      <td>3988103</td>\n",
       "      <td>3</td>\n",
       "      <td>Jim Schlinkman</td>\n",
       "      <td>6</td>\n",
       "    </tr>\n",
       "    <tr>\n",
       "      <th>829526</th>\n",
       "      <td>4.00</td>\n",
       "      <td>13464507</td>\n",
       "      <td>2</td>\n",
       "      <td>Rich Jolly</td>\n",
       "      <td>18</td>\n",
       "    </tr>\n",
       "    <tr>\n",
       "      <th>829527</th>\n",
       "      <td>3.31</td>\n",
       "      <td>7427847</td>\n",
       "      <td>1</td>\n",
       "      <td>sr@ mwrGn</td>\n",
       "      <td>13</td>\n",
       "    </tr>\n",
       "    <tr>\n",
       "      <th>829528</th>\n",
       "      <td>3.70</td>\n",
       "      <td>5401342</td>\n",
       "      <td>11</td>\n",
       "      <td>Barry S. Brown</td>\n",
       "      <td>43</td>\n",
       "    </tr>\n",
       "  </tbody>\n",
       "</table>\n",
       "<p>829529 rows × 5 columns</p>\n",
       "</div>"
      ],
      "text/plain": [
       "       average_rating author_id  ...              name ratings_count\n",
       "0                3.98    604031  ...  Ronald J. Fields            49\n",
       "1                4.08    626222  ...     Anita Diamant        546796\n",
       "2                3.92     10333  ...    Barbara Hambly        122118\n",
       "3                3.68      9212  ...   Jennifer Weiner        888522\n",
       "4                3.82    149918  ...     Nigel Pennick          1740\n",
       "...               ...       ...  ...               ...           ...\n",
       "829524           4.36    197551  ...     Patty Furbush            11\n",
       "829525           4.33   3988103  ...    Jim Schlinkman             6\n",
       "829526           4.00  13464507  ...        Rich Jolly            18\n",
       "829527           3.31   7427847  ...         sr@ mwrGn            13\n",
       "829528           3.70   5401342  ...    Barry S. Brown            43\n",
       "\n",
       "[829529 rows x 5 columns]"
      ]
     },
     "execution_count": 29,
     "metadata": {
      "tags": []
     },
     "output_type": "execute_result"
    }
   ],
   "source": [
    "author_book"
   ]
  },
  {
   "cell_type": "code",
   "execution_count": 30,
   "metadata": {
    "colab": {
     "base_uri": "https://localhost:8080/"
    },
    "id": "WXNhc22s0h78",
    "outputId": "fbb2aa9b-9eb3-46e9-a807-93b251279bc5"
   },
   "outputs": [
    {
     "data": {
      "text/plain": [
       "Index(['average_rating', 'author_id', 'text_reviews_count', 'name',\n",
       "       'ratings_count'],\n",
       "      dtype='object')"
      ]
     },
     "execution_count": 30,
     "metadata": {
      "tags": []
     },
     "output_type": "execute_result"
    }
   ],
   "source": [
    "author_book.columns"
   ]
  },
  {
   "cell_type": "code",
   "execution_count": 31,
   "metadata": {
    "id": "YMXHd2wEzTJV"
   },
   "outputs": [],
   "source": [
    "author_book = author_book.rename(columns={'name': 'author_name','average_rating': 'author_average_rating', 'ratings_count': 'author_ratings_count', 'text_reviews_count': 'author_text_reviews_count'})"
   ]
  },
  {
   "cell_type": "code",
   "execution_count": 32,
   "metadata": {
    "colab": {
     "base_uri": "https://localhost:8080/",
     "height": 415
    },
    "id": "7ZHrQsf_1EIF",
    "outputId": "fa150323-0361-4440-d3bf-4f9f157a349e"
   },
   "outputs": [
    {
     "data": {
      "text/html": [
       "<div>\n",
       "<style scoped>\n",
       "    .dataframe tbody tr th:only-of-type {\n",
       "        vertical-align: middle;\n",
       "    }\n",
       "\n",
       "    .dataframe tbody tr th {\n",
       "        vertical-align: top;\n",
       "    }\n",
       "\n",
       "    .dataframe thead th {\n",
       "        text-align: right;\n",
       "    }\n",
       "</style>\n",
       "<table border=\"1\" class=\"dataframe\">\n",
       "  <thead>\n",
       "    <tr style=\"text-align: right;\">\n",
       "      <th></th>\n",
       "      <th>author_average_rating</th>\n",
       "      <th>author_id</th>\n",
       "      <th>author_text_reviews_count</th>\n",
       "      <th>author_name</th>\n",
       "      <th>author_ratings_count</th>\n",
       "    </tr>\n",
       "  </thead>\n",
       "  <tbody>\n",
       "    <tr>\n",
       "      <th>0</th>\n",
       "      <td>3.98</td>\n",
       "      <td>604031</td>\n",
       "      <td>7</td>\n",
       "      <td>Ronald J. Fields</td>\n",
       "      <td>49</td>\n",
       "    </tr>\n",
       "    <tr>\n",
       "      <th>1</th>\n",
       "      <td>4.08</td>\n",
       "      <td>626222</td>\n",
       "      <td>28716</td>\n",
       "      <td>Anita Diamant</td>\n",
       "      <td>546796</td>\n",
       "    </tr>\n",
       "    <tr>\n",
       "      <th>2</th>\n",
       "      <td>3.92</td>\n",
       "      <td>10333</td>\n",
       "      <td>5075</td>\n",
       "      <td>Barbara Hambly</td>\n",
       "      <td>122118</td>\n",
       "    </tr>\n",
       "    <tr>\n",
       "      <th>3</th>\n",
       "      <td>3.68</td>\n",
       "      <td>9212</td>\n",
       "      <td>36262</td>\n",
       "      <td>Jennifer Weiner</td>\n",
       "      <td>888522</td>\n",
       "    </tr>\n",
       "    <tr>\n",
       "      <th>4</th>\n",
       "      <td>3.82</td>\n",
       "      <td>149918</td>\n",
       "      <td>96</td>\n",
       "      <td>Nigel Pennick</td>\n",
       "      <td>1740</td>\n",
       "    </tr>\n",
       "    <tr>\n",
       "      <th>...</th>\n",
       "      <td>...</td>\n",
       "      <td>...</td>\n",
       "      <td>...</td>\n",
       "      <td>...</td>\n",
       "      <td>...</td>\n",
       "    </tr>\n",
       "    <tr>\n",
       "      <th>829524</th>\n",
       "      <td>4.36</td>\n",
       "      <td>197551</td>\n",
       "      <td>4</td>\n",
       "      <td>Patty Furbush</td>\n",
       "      <td>11</td>\n",
       "    </tr>\n",
       "    <tr>\n",
       "      <th>829525</th>\n",
       "      <td>4.33</td>\n",
       "      <td>3988103</td>\n",
       "      <td>3</td>\n",
       "      <td>Jim Schlinkman</td>\n",
       "      <td>6</td>\n",
       "    </tr>\n",
       "    <tr>\n",
       "      <th>829526</th>\n",
       "      <td>4.00</td>\n",
       "      <td>13464507</td>\n",
       "      <td>2</td>\n",
       "      <td>Rich Jolly</td>\n",
       "      <td>18</td>\n",
       "    </tr>\n",
       "    <tr>\n",
       "      <th>829527</th>\n",
       "      <td>3.31</td>\n",
       "      <td>7427847</td>\n",
       "      <td>1</td>\n",
       "      <td>sr@ mwrGn</td>\n",
       "      <td>13</td>\n",
       "    </tr>\n",
       "    <tr>\n",
       "      <th>829528</th>\n",
       "      <td>3.70</td>\n",
       "      <td>5401342</td>\n",
       "      <td>11</td>\n",
       "      <td>Barry S. Brown</td>\n",
       "      <td>43</td>\n",
       "    </tr>\n",
       "  </tbody>\n",
       "</table>\n",
       "<p>829529 rows × 5 columns</p>\n",
       "</div>"
      ],
      "text/plain": [
       "       author_average_rating author_id  ...       author_name author_ratings_count\n",
       "0                       3.98    604031  ...  Ronald J. Fields                   49\n",
       "1                       4.08    626222  ...     Anita Diamant               546796\n",
       "2                       3.92     10333  ...    Barbara Hambly               122118\n",
       "3                       3.68      9212  ...   Jennifer Weiner               888522\n",
       "4                       3.82    149918  ...     Nigel Pennick                 1740\n",
       "...                      ...       ...  ...               ...                  ...\n",
       "829524                  4.36    197551  ...     Patty Furbush                   11\n",
       "829525                  4.33   3988103  ...    Jim Schlinkman                    6\n",
       "829526                  4.00  13464507  ...        Rich Jolly                   18\n",
       "829527                  3.31   7427847  ...         sr@ mwrGn                   13\n",
       "829528                  3.70   5401342  ...    Barry S. Brown                   43\n",
       "\n",
       "[829529 rows x 5 columns]"
      ]
     },
     "execution_count": 32,
     "metadata": {
      "tags": []
     },
     "output_type": "execute_result"
    }
   ],
   "source": [
    "author_book"
   ]
  },
  {
   "cell_type": "code",
   "execution_count": 33,
   "metadata": {
    "id": "AF-5Uu-J1PDD"
   },
   "outputs": [],
   "source": [
    "author_goodreads=pd.merge(goodreads_book,author_book,on='author_id',how='left')"
   ]
  },
  {
   "cell_type": "code",
   "execution_count": 34,
   "metadata": {
    "colab": {
     "base_uri": "https://localhost:8080/",
     "height": 903
    },
    "id": "VSsNthHS2QrA",
    "outputId": "ef7784ee-566a-40ed-d1ee-0dd7a085e37a"
   },
   "outputs": [
    {
     "data": {
      "text/html": [
       "<div>\n",
       "<style scoped>\n",
       "    .dataframe tbody tr th:only-of-type {\n",
       "        vertical-align: middle;\n",
       "    }\n",
       "\n",
       "    .dataframe tbody tr th {\n",
       "        vertical-align: top;\n",
       "    }\n",
       "\n",
       "    .dataframe thead th {\n",
       "        text-align: right;\n",
       "    }\n",
       "</style>\n",
       "<table border=\"1\" class=\"dataframe\">\n",
       "  <thead>\n",
       "    <tr style=\"text-align: right;\">\n",
       "      <th></th>\n",
       "      <th>book_id</th>\n",
       "      <th>text_reviews_count</th>\n",
       "      <th>average_rating</th>\n",
       "      <th>description</th>\n",
       "      <th>link</th>\n",
       "      <th>url</th>\n",
       "      <th>image_url</th>\n",
       "      <th>ratings_count</th>\n",
       "      <th>title</th>\n",
       "      <th>title_without_series</th>\n",
       "      <th>language</th>\n",
       "      <th>author_id</th>\n",
       "      <th>author_average_rating</th>\n",
       "      <th>author_text_reviews_count</th>\n",
       "      <th>author_name</th>\n",
       "      <th>author_ratings_count</th>\n",
       "    </tr>\n",
       "  </thead>\n",
       "  <tbody>\n",
       "    <tr>\n",
       "      <th>0</th>\n",
       "      <td>19398490</td>\n",
       "      <td>2311</td>\n",
       "      <td>4.31</td>\n",
       "      <td>Winner of the Pulitzer Prize\\nFrom the highly ...</td>\n",
       "      <td>https://www.goodreads.com/book/show/19398490-a...</td>\n",
       "      <td>https://www.goodreads.com/book/show/19398490-a...</td>\n",
       "      <td>https://images.gr-assets.com/books/1440903901m...</td>\n",
       "      <td>53342</td>\n",
       "      <td>All the Light We Cannot See</td>\n",
       "      <td>All the Light We Cannot See</td>\n",
       "      <td>en</td>\n",
       "      <td>28186</td>\n",
       "      <td>4.30</td>\n",
       "      <td>58804</td>\n",
       "      <td>Anthony Doerr</td>\n",
       "      <td>605261</td>\n",
       "    </tr>\n",
       "    <tr>\n",
       "      <th>1</th>\n",
       "      <td>12969594</td>\n",
       "      <td>241</td>\n",
       "      <td>4.06</td>\n",
       "      <td>An alternate cover of this ASIN can be found \u0001...</td>\n",
       "      <td>https://www.goodreads.com/book/show/12969594-t...</td>\n",
       "      <td>https://www.goodreads.com/book/show/12969594-t...</td>\n",
       "      <td>https://images.gr-assets.com/books/1328309680m...</td>\n",
       "      <td>6390</td>\n",
       "      <td>The Orphan Master's Son</td>\n",
       "      <td>The Orphan Master's Son</td>\n",
       "      <td>en</td>\n",
       "      <td>36615</td>\n",
       "      <td>4.04</td>\n",
       "      <td>10114</td>\n",
       "      <td>Adam Johnson</td>\n",
       "      <td>76277</td>\n",
       "    </tr>\n",
       "    <tr>\n",
       "      <th>2</th>\n",
       "      <td>8664353</td>\n",
       "      <td>38878</td>\n",
       "      <td>4.39</td>\n",
       "      <td>In her long-awaited new book, Laura Hillenbran...</td>\n",
       "      <td>https://www.goodreads.com/book/show/8664353-un...</td>\n",
       "      <td>https://www.goodreads.com/book/show/8664353-un...</td>\n",
       "      <td>https://images.gr-assets.com/books/1327861115m...</td>\n",
       "      <td>504961</td>\n",
       "      <td>Unbroken: A World War II Story of Survival, Re...</td>\n",
       "      <td>Unbroken: A World War II Story of Survival, Re...</td>\n",
       "      <td>en</td>\n",
       "      <td>30913</td>\n",
       "      <td>4.36</td>\n",
       "      <td>46010</td>\n",
       "      <td>Laura Hillenbrand</td>\n",
       "      <td>668476</td>\n",
       "    </tr>\n",
       "    <tr>\n",
       "      <th>3</th>\n",
       "      <td>6452796</td>\n",
       "      <td>2930</td>\n",
       "      <td>3.95</td>\n",
       "      <td>Forget everything you thought you knew about h...</td>\n",
       "      <td>https://www.goodreads.com/book/show/6452796-drive</td>\n",
       "      <td>https://www.goodreads.com/book/show/6452796-drive</td>\n",
       "      <td>https://s.gr-assets.com/assets/nophoto/book/11...</td>\n",
       "      <td>58428</td>\n",
       "      <td>Drive: The Surprising Truth About What Motivat...</td>\n",
       "      <td>Drive: The Surprising Truth About What Motivat...</td>\n",
       "      <td>en</td>\n",
       "      <td>96150</td>\n",
       "      <td>3.94</td>\n",
       "      <td>6268</td>\n",
       "      <td>Daniel H. Pink</td>\n",
       "      <td>99839</td>\n",
       "    </tr>\n",
       "    <tr>\n",
       "      <th>4</th>\n",
       "      <td>178186</td>\n",
       "      <td>26</td>\n",
       "      <td>3.87</td>\n",
       "      <td>An autobiographical memoir revealing the tradi...</td>\n",
       "      <td>https://www.goodreads.com/book/show/178186.The...</td>\n",
       "      <td>https://www.goodreads.com/book/show/178186.The...</td>\n",
       "      <td>https://s.gr-assets.com/assets/nophoto/book/11...</td>\n",
       "      <td>245</td>\n",
       "      <td>The Worlds of a Maasai Warrior: An Autobiography</td>\n",
       "      <td>The Worlds of a Maasai Warrior: An Autobiography</td>\n",
       "      <td>en</td>\n",
       "      <td>103752</td>\n",
       "      <td>3.88</td>\n",
       "      <td>29</td>\n",
       "      <td>Tepilit Ole Saitoti</td>\n",
       "      <td>297</td>\n",
       "    </tr>\n",
       "    <tr>\n",
       "      <th>...</th>\n",
       "      <td>...</td>\n",
       "      <td>...</td>\n",
       "      <td>...</td>\n",
       "      <td>...</td>\n",
       "      <td>...</td>\n",
       "      <td>...</td>\n",
       "      <td>...</td>\n",
       "      <td>...</td>\n",
       "      <td>...</td>\n",
       "      <td>...</td>\n",
       "      <td>...</td>\n",
       "      <td>...</td>\n",
       "      <td>...</td>\n",
       "      <td>...</td>\n",
       "      <td>...</td>\n",
       "      <td>...</td>\n",
       "    </tr>\n",
       "    <tr>\n",
       "      <th>24010</th>\n",
       "      <td>23228256</td>\n",
       "      <td>28</td>\n",
       "      <td>4.09</td>\n",
       "      <td>From Brazil's most acclaimed young novelist, t...</td>\n",
       "      <td>https://www.goodreads.com/book/show/23228256-b...</td>\n",
       "      <td>https://www.goodreads.com/book/show/23228256-b...</td>\n",
       "      <td>https://images.gr-assets.com/books/1411183144m...</td>\n",
       "      <td>159</td>\n",
       "      <td>Blood-Drenched Beard</td>\n",
       "      <td>Blood-Drenched Beard</td>\n",
       "      <td>en</td>\n",
       "      <td>1169290</td>\n",
       "      <td>3.85</td>\n",
       "      <td>375</td>\n",
       "      <td>Daniel Galera</td>\n",
       "      <td>4588</td>\n",
       "    </tr>\n",
       "    <tr>\n",
       "      <th>24011</th>\n",
       "      <td>30340824</td>\n",
       "      <td>45</td>\n",
       "      <td>4.33</td>\n",
       "      <td>Ten seconds can change everything.\\nDaisy Conn...</td>\n",
       "      <td>https://www.goodreads.com/book/show/30340824-c...</td>\n",
       "      <td>https://www.goodreads.com/book/show/30340824-c...</td>\n",
       "      <td>https://images.gr-assets.com/books/1464920539m...</td>\n",
       "      <td>68</td>\n",
       "      <td>Collateral Damage (Hidden Scars, #2)</td>\n",
       "      <td>Collateral Damage (Hidden Scars, #2)</td>\n",
       "      <td>en</td>\n",
       "      <td>3975855</td>\n",
       "      <td>4.35</td>\n",
       "      <td>377</td>\n",
       "      <td>A.M. Myers</td>\n",
       "      <td>815</td>\n",
       "    </tr>\n",
       "    <tr>\n",
       "      <th>24012</th>\n",
       "      <td>33125385</td>\n",
       "      <td>29</td>\n",
       "      <td>4.40</td>\n",
       "      <td>Librarian Note: Alternate Cover Edition for \u0001....</td>\n",
       "      <td>https://www.goodreads.com/book/show/33125385-u...</td>\n",
       "      <td>https://www.goodreads.com/book/show/33125385-u...</td>\n",
       "      <td>https://images.gr-assets.com/books/1480090010m...</td>\n",
       "      <td>93</td>\n",
       "      <td>Untouched (Untouched #1)</td>\n",
       "      <td>Untouched (Untouched #1)</td>\n",
       "      <td>en</td>\n",
       "      <td>8577407</td>\n",
       "      <td>4.55</td>\n",
       "      <td>427</td>\n",
       "      <td>Lilly Wilde</td>\n",
       "      <td>1507</td>\n",
       "    </tr>\n",
       "    <tr>\n",
       "      <th>24013</th>\n",
       "      <td>22798607</td>\n",
       "      <td>3</td>\n",
       "      <td>3.90</td>\n",
       "      <td>In his debut collection, Christian Winn throws...</td>\n",
       "      <td>https://www.goodreads.com/book/show/22798607-n...</td>\n",
       "      <td>https://www.goodreads.com/book/show/22798607-n...</td>\n",
       "      <td>https://images.gr-assets.com/books/1417750817m...</td>\n",
       "      <td>21</td>\n",
       "      <td>Naked Me</td>\n",
       "      <td>Naked Me</td>\n",
       "      <td>en</td>\n",
       "      <td>8409842</td>\n",
       "      <td>3.98</td>\n",
       "      <td>9</td>\n",
       "      <td>Christian Winn</td>\n",
       "      <td>45</td>\n",
       "    </tr>\n",
       "    <tr>\n",
       "      <th>24014</th>\n",
       "      <td>26047380</td>\n",
       "      <td>2</td>\n",
       "      <td>4.70</td>\n",
       "      <td>Sadly Beautiful is a collection of poems and e...</td>\n",
       "      <td>https://www.goodreads.com/book/show/26047380-s...</td>\n",
       "      <td>https://www.goodreads.com/book/show/26047380-s...</td>\n",
       "      <td>https://images.gr-assets.com/books/1438812276m...</td>\n",
       "      <td>9</td>\n",
       "      <td>Sadly Beautiful</td>\n",
       "      <td>Sadly Beautiful</td>\n",
       "      <td>en</td>\n",
       "      <td>4952802</td>\n",
       "      <td>4.48</td>\n",
       "      <td>29</td>\n",
       "      <td>Jason Fisk</td>\n",
       "      <td>63</td>\n",
       "    </tr>\n",
       "  </tbody>\n",
       "</table>\n",
       "<p>24015 rows × 16 columns</p>\n",
       "</div>"
      ],
      "text/plain": [
       "        book_id  text_reviews_count  ...          author_name author_ratings_count\n",
       "0      19398490                2311  ...        Anthony Doerr               605261\n",
       "1      12969594                 241  ...         Adam Johnson                76277\n",
       "2       8664353               38878  ...    Laura Hillenbrand               668476\n",
       "3       6452796                2930  ...       Daniel H. Pink                99839\n",
       "4        178186                  26  ...  Tepilit Ole Saitoti                  297\n",
       "...         ...                 ...  ...                  ...                  ...\n",
       "24010  23228256                  28  ...        Daniel Galera                 4588\n",
       "24011  30340824                  45  ...           A.M. Myers                  815\n",
       "24012  33125385                  29  ...          Lilly Wilde                 1507\n",
       "24013  22798607                   3  ...       Christian Winn                   45\n",
       "24014  26047380                   2  ...           Jason Fisk                   63\n",
       "\n",
       "[24015 rows x 16 columns]"
      ]
     },
     "execution_count": 34,
     "metadata": {
      "tags": []
     },
     "output_type": "execute_result"
    }
   ],
   "source": [
    "author_goodreads"
   ]
  },
  {
   "cell_type": "code",
   "execution_count": 35,
   "metadata": {
    "colab": {
     "base_uri": "https://localhost:8080/"
    },
    "id": "uBi-Si2p27es",
    "outputId": "c2ae85cc-b08a-480a-d985-b2d95319ef17"
   },
   "outputs": [
    {
     "data": {
      "text/plain": [
       "Index(['book_id', 'text_reviews_count', 'average_rating', 'description',\n",
       "       'link', 'url', 'image_url', 'ratings_count', 'title',\n",
       "       'title_without_series', 'language', 'author_id',\n",
       "       'author_average_rating', 'author_text_reviews_count', 'author_name',\n",
       "       'author_ratings_count'],\n",
       "      dtype='object')"
      ]
     },
     "execution_count": 35,
     "metadata": {
      "tags": []
     },
     "output_type": "execute_result"
    }
   ],
   "source": [
    "author_goodreads.columns"
   ]
  },
  {
   "cell_type": "markdown",
   "metadata": {
    "id": "a2BQduGfuGfh"
   },
   "source": [
    "# Importing genre dataset "
   ]
  },
  {
   "cell_type": "code",
   "execution_count": 36,
   "metadata": {
    "id": "ff7wcNOMuGG1"
   },
   "outputs": [],
   "source": [
    "import pandas as pd\n",
    "import gzip\n",
    "import json\n",
    "def parse(path):\n",
    "  g = open(path, 'rb')\n",
    "  for l in g:\n",
    "    yield json.loads(l)\n",
    "\n",
    "def getDF(path):\n",
    "  i = 0\n",
    "  df = {}\n",
    "  for idx,d in enumerate(parse(path)):\n",
    "    if(idx>=0):\n",
    "      df[i] = d\n",
    "      i += 1\n",
    "      if(i>=2360655):   \n",
    "        break\n",
    "  return pd.DataFrame.from_dict(df, orient='index')\n",
    "  \n",
    "genre_book = getDF('goodreads_book_genres_initial.json')"
   ]
  },
  {
   "cell_type": "code",
   "execution_count": 37,
   "metadata": {
    "colab": {
     "base_uri": "https://localhost:8080/"
    },
    "id": "N-xyoyt_0c3X",
    "outputId": "dd21210a-a712-4897-c299-df3575606345"
   },
   "outputs": [
    {
     "data": {
      "text/plain": [
       "(2360655, 2)"
      ]
     },
     "execution_count": 37,
     "metadata": {
      "tags": []
     },
     "output_type": "execute_result"
    }
   ],
   "source": [
    "genre_book.shape"
   ]
  },
  {
   "cell_type": "code",
   "execution_count": 38,
   "metadata": {
    "colab": {
     "base_uri": "https://localhost:8080/",
     "height": 415
    },
    "id": "OuImxf1Z0iTv",
    "outputId": "7c320b4a-bf6f-4489-8a47-e41d8cd41e51"
   },
   "outputs": [
    {
     "data": {
      "text/html": [
       "<div>\n",
       "<style scoped>\n",
       "    .dataframe tbody tr th:only-of-type {\n",
       "        vertical-align: middle;\n",
       "    }\n",
       "\n",
       "    .dataframe tbody tr th {\n",
       "        vertical-align: top;\n",
       "    }\n",
       "\n",
       "    .dataframe thead th {\n",
       "        text-align: right;\n",
       "    }\n",
       "</style>\n",
       "<table border=\"1\" class=\"dataframe\">\n",
       "  <thead>\n",
       "    <tr style=\"text-align: right;\">\n",
       "      <th></th>\n",
       "      <th>book_id</th>\n",
       "      <th>genres</th>\n",
       "    </tr>\n",
       "  </thead>\n",
       "  <tbody>\n",
       "    <tr>\n",
       "      <th>0</th>\n",
       "      <td>5333265</td>\n",
       "      <td>{'history, historical fiction, biography': 1}</td>\n",
       "    </tr>\n",
       "    <tr>\n",
       "      <th>1</th>\n",
       "      <td>1333909</td>\n",
       "      <td>{'fiction': 219, 'history, historical fiction,...</td>\n",
       "    </tr>\n",
       "    <tr>\n",
       "      <th>2</th>\n",
       "      <td>7327624</td>\n",
       "      <td>{'fantasy, paranormal': 31, 'fiction': 8, 'mys...</td>\n",
       "    </tr>\n",
       "    <tr>\n",
       "      <th>3</th>\n",
       "      <td>6066819</td>\n",
       "      <td>{'fiction': 555, 'romance': 23, 'mystery, thri...</td>\n",
       "    </tr>\n",
       "    <tr>\n",
       "      <th>4</th>\n",
       "      <td>287140</td>\n",
       "      <td>{'non-fiction': 3}</td>\n",
       "    </tr>\n",
       "    <tr>\n",
       "      <th>...</th>\n",
       "      <td>...</td>\n",
       "      <td>...</td>\n",
       "    </tr>\n",
       "    <tr>\n",
       "      <th>2360650</th>\n",
       "      <td>3084038</td>\n",
       "      <td>{'non-fiction': 5, 'history, historical fictio...</td>\n",
       "    </tr>\n",
       "    <tr>\n",
       "      <th>2360651</th>\n",
       "      <td>26168430</td>\n",
       "      <td>{'mystery, thriller, crime': 4, 'children': 1,...</td>\n",
       "    </tr>\n",
       "    <tr>\n",
       "      <th>2360652</th>\n",
       "      <td>2342551</td>\n",
       "      <td>{'poetry': 14, 'children': 7, 'young-adult': 1...</td>\n",
       "    </tr>\n",
       "    <tr>\n",
       "      <th>2360653</th>\n",
       "      <td>22017381</td>\n",
       "      <td>{'romance': 13, 'mystery, thriller, crime': 2}</td>\n",
       "    </tr>\n",
       "    <tr>\n",
       "      <th>2360654</th>\n",
       "      <td>11419866</td>\n",
       "      <td>{'romance': 19, 'fiction': 4}</td>\n",
       "    </tr>\n",
       "  </tbody>\n",
       "</table>\n",
       "<p>2360655 rows × 2 columns</p>\n",
       "</div>"
      ],
      "text/plain": [
       "          book_id                                             genres\n",
       "0         5333265      {'history, historical fiction, biography': 1}\n",
       "1         1333909  {'fiction': 219, 'history, historical fiction,...\n",
       "2         7327624  {'fantasy, paranormal': 31, 'fiction': 8, 'mys...\n",
       "3         6066819  {'fiction': 555, 'romance': 23, 'mystery, thri...\n",
       "4          287140                                 {'non-fiction': 3}\n",
       "...           ...                                                ...\n",
       "2360650   3084038  {'non-fiction': 5, 'history, historical fictio...\n",
       "2360651  26168430  {'mystery, thriller, crime': 4, 'children': 1,...\n",
       "2360652   2342551  {'poetry': 14, 'children': 7, 'young-adult': 1...\n",
       "2360653  22017381     {'romance': 13, 'mystery, thriller, crime': 2}\n",
       "2360654  11419866                      {'romance': 19, 'fiction': 4}\n",
       "\n",
       "[2360655 rows x 2 columns]"
      ]
     },
     "execution_count": 38,
     "metadata": {
      "tags": []
     },
     "output_type": "execute_result"
    }
   ],
   "source": [
    "genre_book"
   ]
  },
  {
   "cell_type": "code",
   "execution_count": 39,
   "metadata": {
    "id": "ANqqjXj80lfm"
   },
   "outputs": [],
   "source": [
    "def clean_genre(dictionary):\n",
    "    s=list(dictionary.keys())\n",
    "    if(len(s)>0):       \n",
    "        new=s[0].split(',')\n",
    "        return new[0]\n",
    "    else:\n",
    "        return('thriller,crime')"
   ]
  },
  {
   "cell_type": "code",
   "execution_count": 40,
   "metadata": {
    "id": "rUPjmlbw1Js5"
   },
   "outputs": [],
   "source": [
    "genre_book['genres_book']=genre_book['genres'].apply(clean_genre)"
   ]
  },
  {
   "cell_type": "code",
   "execution_count": 41,
   "metadata": {
    "colab": {
     "base_uri": "https://localhost:8080/"
    },
    "id": "9NE-UH-r1SL4",
    "outputId": "91322ff6-d06e-4ca4-cc27-4f96d63edfa4"
   },
   "outputs": [
    {
     "data": {
      "text/plain": [
       "0              history\n",
       "1              fiction\n",
       "2              fantasy\n",
       "3              fiction\n",
       "4          non-fiction\n",
       "              ...     \n",
       "2360650    non-fiction\n",
       "2360651        mystery\n",
       "2360652         poetry\n",
       "2360653        romance\n",
       "2360654        romance\n",
       "Name: genres_book, Length: 2360655, dtype: object"
      ]
     },
     "execution_count": 41,
     "metadata": {
      "tags": []
     },
     "output_type": "execute_result"
    }
   ],
   "source": [
    "genre_book['genres_book']"
   ]
  },
  {
   "cell_type": "code",
   "execution_count": 42,
   "metadata": {
    "colab": {
     "base_uri": "https://localhost:8080/",
     "height": 415
    },
    "id": "XZuZSFYl1X-g",
    "outputId": "780c5425-c7dd-4fa3-a838-1bd942fe9f5a"
   },
   "outputs": [
    {
     "data": {
      "text/html": [
       "<div>\n",
       "<style scoped>\n",
       "    .dataframe tbody tr th:only-of-type {\n",
       "        vertical-align: middle;\n",
       "    }\n",
       "\n",
       "    .dataframe tbody tr th {\n",
       "        vertical-align: top;\n",
       "    }\n",
       "\n",
       "    .dataframe thead th {\n",
       "        text-align: right;\n",
       "    }\n",
       "</style>\n",
       "<table border=\"1\" class=\"dataframe\">\n",
       "  <thead>\n",
       "    <tr style=\"text-align: right;\">\n",
       "      <th></th>\n",
       "      <th>book_id</th>\n",
       "      <th>genres</th>\n",
       "      <th>genres_book</th>\n",
       "    </tr>\n",
       "  </thead>\n",
       "  <tbody>\n",
       "    <tr>\n",
       "      <th>0</th>\n",
       "      <td>5333265</td>\n",
       "      <td>{'history, historical fiction, biography': 1}</td>\n",
       "      <td>history</td>\n",
       "    </tr>\n",
       "    <tr>\n",
       "      <th>1</th>\n",
       "      <td>1333909</td>\n",
       "      <td>{'fiction': 219, 'history, historical fiction,...</td>\n",
       "      <td>fiction</td>\n",
       "    </tr>\n",
       "    <tr>\n",
       "      <th>2</th>\n",
       "      <td>7327624</td>\n",
       "      <td>{'fantasy, paranormal': 31, 'fiction': 8, 'mys...</td>\n",
       "      <td>fantasy</td>\n",
       "    </tr>\n",
       "    <tr>\n",
       "      <th>3</th>\n",
       "      <td>6066819</td>\n",
       "      <td>{'fiction': 555, 'romance': 23, 'mystery, thri...</td>\n",
       "      <td>fiction</td>\n",
       "    </tr>\n",
       "    <tr>\n",
       "      <th>4</th>\n",
       "      <td>287140</td>\n",
       "      <td>{'non-fiction': 3}</td>\n",
       "      <td>non-fiction</td>\n",
       "    </tr>\n",
       "    <tr>\n",
       "      <th>...</th>\n",
       "      <td>...</td>\n",
       "      <td>...</td>\n",
       "      <td>...</td>\n",
       "    </tr>\n",
       "    <tr>\n",
       "      <th>2360650</th>\n",
       "      <td>3084038</td>\n",
       "      <td>{'non-fiction': 5, 'history, historical fictio...</td>\n",
       "      <td>non-fiction</td>\n",
       "    </tr>\n",
       "    <tr>\n",
       "      <th>2360651</th>\n",
       "      <td>26168430</td>\n",
       "      <td>{'mystery, thriller, crime': 4, 'children': 1,...</td>\n",
       "      <td>mystery</td>\n",
       "    </tr>\n",
       "    <tr>\n",
       "      <th>2360652</th>\n",
       "      <td>2342551</td>\n",
       "      <td>{'poetry': 14, 'children': 7, 'young-adult': 1...</td>\n",
       "      <td>poetry</td>\n",
       "    </tr>\n",
       "    <tr>\n",
       "      <th>2360653</th>\n",
       "      <td>22017381</td>\n",
       "      <td>{'romance': 13, 'mystery, thriller, crime': 2}</td>\n",
       "      <td>romance</td>\n",
       "    </tr>\n",
       "    <tr>\n",
       "      <th>2360654</th>\n",
       "      <td>11419866</td>\n",
       "      <td>{'romance': 19, 'fiction': 4}</td>\n",
       "      <td>romance</td>\n",
       "    </tr>\n",
       "  </tbody>\n",
       "</table>\n",
       "<p>2360655 rows × 3 columns</p>\n",
       "</div>"
      ],
      "text/plain": [
       "          book_id  ...  genres_book\n",
       "0         5333265  ...      history\n",
       "1         1333909  ...      fiction\n",
       "2         7327624  ...      fantasy\n",
       "3         6066819  ...      fiction\n",
       "4          287140  ...  non-fiction\n",
       "...           ...  ...          ...\n",
       "2360650   3084038  ...  non-fiction\n",
       "2360651  26168430  ...      mystery\n",
       "2360652   2342551  ...       poetry\n",
       "2360653  22017381  ...      romance\n",
       "2360654  11419866  ...      romance\n",
       "\n",
       "[2360655 rows x 3 columns]"
      ]
     },
     "execution_count": 42,
     "metadata": {
      "tags": []
     },
     "output_type": "execute_result"
    }
   ],
   "source": [
    "genre_book"
   ]
  },
  {
   "cell_type": "code",
   "execution_count": 43,
   "metadata": {
    "colab": {
     "base_uri": "https://localhost:8080/"
    },
    "id": "IAA6Sz_u1cxf",
    "outputId": "ed2833a3-8c84-43a1-9156-f8cd57a70886"
   },
   "outputs": [
    {
     "data": {
      "text/plain": [
       "array(['history', 'fiction', 'fantasy', 'non-fiction', 'romance',\n",
       "       'thriller,crime', 'children', 'young-adult', 'poetry', 'mystery',\n",
       "       'comics'], dtype=object)"
      ]
     },
     "execution_count": 43,
     "metadata": {
      "tags": []
     },
     "output_type": "execute_result"
    }
   ],
   "source": [
    "genre_book['genres_book'].unique()"
   ]
  },
  {
   "cell_type": "code",
   "execution_count": 44,
   "metadata": {
    "id": "ZWR7wG6E1jDx"
   },
   "outputs": [],
   "source": [
    "genre_book=genre_book.drop(['genres'],axis=1)"
   ]
  },
  {
   "cell_type": "code",
   "execution_count": 45,
   "metadata": {
    "id": "2PjdaW422PBl"
   },
   "outputs": [],
   "source": [
    "author_goodreads['book_id']=author_goodreads['book_id'].astype(str)"
   ]
  },
  {
   "cell_type": "code",
   "execution_count": 46,
   "metadata": {
    "id": "eSYsnRX01v_Y"
   },
   "outputs": [],
   "source": [
    "meta_goodreads=pd.merge(author_goodreads,genre_book,on='book_id',how='left')"
   ]
  },
  {
   "cell_type": "code",
   "execution_count": 47,
   "metadata": {
    "colab": {
     "base_uri": "https://localhost:8080/"
    },
    "id": "hkGNfFQf2azE",
    "outputId": "593d3bc5-04da-4ab7-a4bf-a925c7741485"
   },
   "outputs": [
    {
     "name": "stdout",
     "output_type": "stream",
     "text": [
      "<class 'pandas.core.frame.DataFrame'>\n",
      "Int64Index: 24015 entries, 0 to 24014\n",
      "Data columns (total 17 columns):\n",
      " #   Column                     Non-Null Count  Dtype  \n",
      "---  ------                     --------------  -----  \n",
      " 0   book_id                    24015 non-null  object \n",
      " 1   text_reviews_count         24015 non-null  int64  \n",
      " 2   average_rating             24015 non-null  float64\n",
      " 3   description                24015 non-null  object \n",
      " 4   link                       24015 non-null  object \n",
      " 5   url                        24015 non-null  object \n",
      " 6   image_url                  24015 non-null  object \n",
      " 7   ratings_count              24015 non-null  int64  \n",
      " 8   title                      24015 non-null  object \n",
      " 9   title_without_series       24015 non-null  object \n",
      " 10  language                   24015 non-null  object \n",
      " 11  author_id                  24015 non-null  object \n",
      " 12  author_average_rating      24015 non-null  object \n",
      " 13  author_text_reviews_count  24015 non-null  object \n",
      " 14  author_name                24015 non-null  object \n",
      " 15  author_ratings_count       24015 non-null  object \n",
      " 16  genres_book                24015 non-null  object \n",
      "dtypes: float64(1), int64(2), object(14)\n",
      "memory usage: 3.3+ MB\n"
     ]
    }
   ],
   "source": [
    "meta_goodreads.info()"
   ]
  },
  {
   "cell_type": "code",
   "execution_count": 48,
   "metadata": {
    "colab": {
     "base_uri": "https://localhost:8080/",
     "height": 903
    },
    "id": "j-B72l_92jwR",
    "outputId": "eb52ef22-c1f8-483e-df4f-6c3096b4051a"
   },
   "outputs": [
    {
     "data": {
      "text/html": [
       "<div>\n",
       "<style scoped>\n",
       "    .dataframe tbody tr th:only-of-type {\n",
       "        vertical-align: middle;\n",
       "    }\n",
       "\n",
       "    .dataframe tbody tr th {\n",
       "        vertical-align: top;\n",
       "    }\n",
       "\n",
       "    .dataframe thead th {\n",
       "        text-align: right;\n",
       "    }\n",
       "</style>\n",
       "<table border=\"1\" class=\"dataframe\">\n",
       "  <thead>\n",
       "    <tr style=\"text-align: right;\">\n",
       "      <th></th>\n",
       "      <th>book_id</th>\n",
       "      <th>text_reviews_count</th>\n",
       "      <th>average_rating</th>\n",
       "      <th>description</th>\n",
       "      <th>link</th>\n",
       "      <th>url</th>\n",
       "      <th>image_url</th>\n",
       "      <th>ratings_count</th>\n",
       "      <th>title</th>\n",
       "      <th>title_without_series</th>\n",
       "      <th>language</th>\n",
       "      <th>author_id</th>\n",
       "      <th>author_average_rating</th>\n",
       "      <th>author_text_reviews_count</th>\n",
       "      <th>author_name</th>\n",
       "      <th>author_ratings_count</th>\n",
       "      <th>genres_book</th>\n",
       "    </tr>\n",
       "  </thead>\n",
       "  <tbody>\n",
       "    <tr>\n",
       "      <th>0</th>\n",
       "      <td>19398490</td>\n",
       "      <td>2311</td>\n",
       "      <td>4.31</td>\n",
       "      <td>Winner of the Pulitzer Prize\\nFrom the highly ...</td>\n",
       "      <td>https://www.goodreads.com/book/show/19398490-a...</td>\n",
       "      <td>https://www.goodreads.com/book/show/19398490-a...</td>\n",
       "      <td>https://images.gr-assets.com/books/1440903901m...</td>\n",
       "      <td>53342</td>\n",
       "      <td>All the Light We Cannot See</td>\n",
       "      <td>All the Light We Cannot See</td>\n",
       "      <td>en</td>\n",
       "      <td>28186</td>\n",
       "      <td>4.30</td>\n",
       "      <td>58804</td>\n",
       "      <td>Anthony Doerr</td>\n",
       "      <td>605261</td>\n",
       "      <td>fiction</td>\n",
       "    </tr>\n",
       "    <tr>\n",
       "      <th>1</th>\n",
       "      <td>12969594</td>\n",
       "      <td>241</td>\n",
       "      <td>4.06</td>\n",
       "      <td>An alternate cover of this ASIN can be found \u0001...</td>\n",
       "      <td>https://www.goodreads.com/book/show/12969594-t...</td>\n",
       "      <td>https://www.goodreads.com/book/show/12969594-t...</td>\n",
       "      <td>https://images.gr-assets.com/books/1328309680m...</td>\n",
       "      <td>6390</td>\n",
       "      <td>The Orphan Master's Son</td>\n",
       "      <td>The Orphan Master's Son</td>\n",
       "      <td>en</td>\n",
       "      <td>36615</td>\n",
       "      <td>4.04</td>\n",
       "      <td>10114</td>\n",
       "      <td>Adam Johnson</td>\n",
       "      <td>76277</td>\n",
       "      <td>fiction</td>\n",
       "    </tr>\n",
       "    <tr>\n",
       "      <th>2</th>\n",
       "      <td>8664353</td>\n",
       "      <td>38878</td>\n",
       "      <td>4.39</td>\n",
       "      <td>In her long-awaited new book, Laura Hillenbran...</td>\n",
       "      <td>https://www.goodreads.com/book/show/8664353-un...</td>\n",
       "      <td>https://www.goodreads.com/book/show/8664353-un...</td>\n",
       "      <td>https://images.gr-assets.com/books/1327861115m...</td>\n",
       "      <td>504961</td>\n",
       "      <td>Unbroken: A World War II Story of Survival, Re...</td>\n",
       "      <td>Unbroken: A World War II Story of Survival, Re...</td>\n",
       "      <td>en</td>\n",
       "      <td>30913</td>\n",
       "      <td>4.36</td>\n",
       "      <td>46010</td>\n",
       "      <td>Laura Hillenbrand</td>\n",
       "      <td>668476</td>\n",
       "      <td>non-fiction</td>\n",
       "    </tr>\n",
       "    <tr>\n",
       "      <th>3</th>\n",
       "      <td>6452796</td>\n",
       "      <td>2930</td>\n",
       "      <td>3.95</td>\n",
       "      <td>Forget everything you thought you knew about h...</td>\n",
       "      <td>https://www.goodreads.com/book/show/6452796-drive</td>\n",
       "      <td>https://www.goodreads.com/book/show/6452796-drive</td>\n",
       "      <td>https://s.gr-assets.com/assets/nophoto/book/11...</td>\n",
       "      <td>58428</td>\n",
       "      <td>Drive: The Surprising Truth About What Motivat...</td>\n",
       "      <td>Drive: The Surprising Truth About What Motivat...</td>\n",
       "      <td>en</td>\n",
       "      <td>96150</td>\n",
       "      <td>3.94</td>\n",
       "      <td>6268</td>\n",
       "      <td>Daniel H. Pink</td>\n",
       "      <td>99839</td>\n",
       "      <td>non-fiction</td>\n",
       "    </tr>\n",
       "    <tr>\n",
       "      <th>4</th>\n",
       "      <td>178186</td>\n",
       "      <td>26</td>\n",
       "      <td>3.87</td>\n",
       "      <td>An autobiographical memoir revealing the tradi...</td>\n",
       "      <td>https://www.goodreads.com/book/show/178186.The...</td>\n",
       "      <td>https://www.goodreads.com/book/show/178186.The...</td>\n",
       "      <td>https://s.gr-assets.com/assets/nophoto/book/11...</td>\n",
       "      <td>245</td>\n",
       "      <td>The Worlds of a Maasai Warrior: An Autobiography</td>\n",
       "      <td>The Worlds of a Maasai Warrior: An Autobiography</td>\n",
       "      <td>en</td>\n",
       "      <td>103752</td>\n",
       "      <td>3.88</td>\n",
       "      <td>29</td>\n",
       "      <td>Tepilit Ole Saitoti</td>\n",
       "      <td>297</td>\n",
       "      <td>non-fiction</td>\n",
       "    </tr>\n",
       "    <tr>\n",
       "      <th>...</th>\n",
       "      <td>...</td>\n",
       "      <td>...</td>\n",
       "      <td>...</td>\n",
       "      <td>...</td>\n",
       "      <td>...</td>\n",
       "      <td>...</td>\n",
       "      <td>...</td>\n",
       "      <td>...</td>\n",
       "      <td>...</td>\n",
       "      <td>...</td>\n",
       "      <td>...</td>\n",
       "      <td>...</td>\n",
       "      <td>...</td>\n",
       "      <td>...</td>\n",
       "      <td>...</td>\n",
       "      <td>...</td>\n",
       "      <td>...</td>\n",
       "    </tr>\n",
       "    <tr>\n",
       "      <th>24010</th>\n",
       "      <td>23228256</td>\n",
       "      <td>28</td>\n",
       "      <td>4.09</td>\n",
       "      <td>From Brazil's most acclaimed young novelist, t...</td>\n",
       "      <td>https://www.goodreads.com/book/show/23228256-b...</td>\n",
       "      <td>https://www.goodreads.com/book/show/23228256-b...</td>\n",
       "      <td>https://images.gr-assets.com/books/1411183144m...</td>\n",
       "      <td>159</td>\n",
       "      <td>Blood-Drenched Beard</td>\n",
       "      <td>Blood-Drenched Beard</td>\n",
       "      <td>en</td>\n",
       "      <td>1169290</td>\n",
       "      <td>3.85</td>\n",
       "      <td>375</td>\n",
       "      <td>Daniel Galera</td>\n",
       "      <td>4588</td>\n",
       "      <td>fiction</td>\n",
       "    </tr>\n",
       "    <tr>\n",
       "      <th>24011</th>\n",
       "      <td>30340824</td>\n",
       "      <td>45</td>\n",
       "      <td>4.33</td>\n",
       "      <td>Ten seconds can change everything.\\nDaisy Conn...</td>\n",
       "      <td>https://www.goodreads.com/book/show/30340824-c...</td>\n",
       "      <td>https://www.goodreads.com/book/show/30340824-c...</td>\n",
       "      <td>https://images.gr-assets.com/books/1464920539m...</td>\n",
       "      <td>68</td>\n",
       "      <td>Collateral Damage (Hidden Scars, #2)</td>\n",
       "      <td>Collateral Damage (Hidden Scars, #2)</td>\n",
       "      <td>en</td>\n",
       "      <td>3975855</td>\n",
       "      <td>4.35</td>\n",
       "      <td>377</td>\n",
       "      <td>A.M. Myers</td>\n",
       "      <td>815</td>\n",
       "      <td>romance</td>\n",
       "    </tr>\n",
       "    <tr>\n",
       "      <th>24012</th>\n",
       "      <td>33125385</td>\n",
       "      <td>29</td>\n",
       "      <td>4.40</td>\n",
       "      <td>Librarian Note: Alternate Cover Edition for \u0001....</td>\n",
       "      <td>https://www.goodreads.com/book/show/33125385-u...</td>\n",
       "      <td>https://www.goodreads.com/book/show/33125385-u...</td>\n",
       "      <td>https://images.gr-assets.com/books/1480090010m...</td>\n",
       "      <td>93</td>\n",
       "      <td>Untouched (Untouched #1)</td>\n",
       "      <td>Untouched (Untouched #1)</td>\n",
       "      <td>en</td>\n",
       "      <td>8577407</td>\n",
       "      <td>4.55</td>\n",
       "      <td>427</td>\n",
       "      <td>Lilly Wilde</td>\n",
       "      <td>1507</td>\n",
       "      <td>romance</td>\n",
       "    </tr>\n",
       "    <tr>\n",
       "      <th>24013</th>\n",
       "      <td>22798607</td>\n",
       "      <td>3</td>\n",
       "      <td>3.90</td>\n",
       "      <td>In his debut collection, Christian Winn throws...</td>\n",
       "      <td>https://www.goodreads.com/book/show/22798607-n...</td>\n",
       "      <td>https://www.goodreads.com/book/show/22798607-n...</td>\n",
       "      <td>https://images.gr-assets.com/books/1417750817m...</td>\n",
       "      <td>21</td>\n",
       "      <td>Naked Me</td>\n",
       "      <td>Naked Me</td>\n",
       "      <td>en</td>\n",
       "      <td>8409842</td>\n",
       "      <td>3.98</td>\n",
       "      <td>9</td>\n",
       "      <td>Christian Winn</td>\n",
       "      <td>45</td>\n",
       "      <td>fiction</td>\n",
       "    </tr>\n",
       "    <tr>\n",
       "      <th>24014</th>\n",
       "      <td>26047380</td>\n",
       "      <td>2</td>\n",
       "      <td>4.70</td>\n",
       "      <td>Sadly Beautiful is a collection of poems and e...</td>\n",
       "      <td>https://www.goodreads.com/book/show/26047380-s...</td>\n",
       "      <td>https://www.goodreads.com/book/show/26047380-s...</td>\n",
       "      <td>https://images.gr-assets.com/books/1438812276m...</td>\n",
       "      <td>9</td>\n",
       "      <td>Sadly Beautiful</td>\n",
       "      <td>Sadly Beautiful</td>\n",
       "      <td>en</td>\n",
       "      <td>4952802</td>\n",
       "      <td>4.48</td>\n",
       "      <td>29</td>\n",
       "      <td>Jason Fisk</td>\n",
       "      <td>63</td>\n",
       "      <td>poetry</td>\n",
       "    </tr>\n",
       "  </tbody>\n",
       "</table>\n",
       "<p>24015 rows × 17 columns</p>\n",
       "</div>"
      ],
      "text/plain": [
       "        book_id  text_reviews_count  ...  author_ratings_count  genres_book\n",
       "0      19398490                2311  ...                605261      fiction\n",
       "1      12969594                 241  ...                 76277      fiction\n",
       "2       8664353               38878  ...                668476  non-fiction\n",
       "3       6452796                2930  ...                 99839  non-fiction\n",
       "4        178186                  26  ...                   297  non-fiction\n",
       "...         ...                 ...  ...                   ...          ...\n",
       "24010  23228256                  28  ...                  4588      fiction\n",
       "24011  30340824                  45  ...                   815      romance\n",
       "24012  33125385                  29  ...                  1507      romance\n",
       "24013  22798607                   3  ...                    45      fiction\n",
       "24014  26047380                   2  ...                    63       poetry\n",
       "\n",
       "[24015 rows x 17 columns]"
      ]
     },
     "execution_count": 48,
     "metadata": {
      "tags": []
     },
     "output_type": "execute_result"
    }
   ],
   "source": [
    "meta_goodreads"
   ]
  },
  {
   "cell_type": "code",
   "execution_count": 49,
   "metadata": {
    "id": "gkKfJh_l2u6J"
   },
   "outputs": [],
   "source": [
    "meta_goodreads=meta_goodreads[meta_goodreads['genres_book'].notnull()]"
   ]
  },
  {
   "cell_type": "code",
   "execution_count": 50,
   "metadata": {
    "colab": {
     "base_uri": "https://localhost:8080/"
    },
    "id": "r42rHX6e28DB",
    "outputId": "dd2056a3-6dfd-4a98-a99f-d63b833f5f06"
   },
   "outputs": [
    {
     "data": {
      "text/plain": [
       "(24015, 17)"
      ]
     },
     "execution_count": 50,
     "metadata": {
      "tags": []
     },
     "output_type": "execute_result"
    }
   ],
   "source": [
    "meta_goodreads.shape"
   ]
  },
  {
   "cell_type": "markdown",
   "metadata": {
    "id": "kcyfRV6o3opJ"
   },
   "source": [
    "## Genre exploration"
   ]
  },
  {
   "cell_type": "code",
   "execution_count": 51,
   "metadata": {
    "colab": {
     "base_uri": "https://localhost:8080/",
     "height": 391
    },
    "id": "KZOBZzLE3MLr",
    "outputId": "0b6a429c-6182-434c-8ae4-3e2aab71f924"
   },
   "outputs": [
    {
     "data": {
      "text/plain": [
       "<matplotlib.axes._subplots.AxesSubplot at 0x7fa8450ca080>"
      ]
     },
     "execution_count": 51,
     "metadata": {
      "tags": []
     },
     "output_type": "execute_result"
    },
    {
     "data": {
      "image/png": "[encoded data removed]",
      "text/plain": [
       "<Figure size 720x360 with 1 Axes>"
      ]
     },
     "metadata": {
      "needs_background": "light",
      "tags": []
     },
     "output_type": "display_data"
    }
   ],
   "source": [
    "# Genre distribution\n",
    "meta_goodreads['genres_book'].value_counts().plot(x = 'genre', y ='count', kind = 'bar', figsize = (10,5) ,colormap='Paired' )"
   ]
  },
  {
   "cell_type": "markdown",
   "metadata": {
    "id": "5UGvPbnJ3NG5"
   },
   "source": [
    "## Author Exploration"
   ]
  },
  {
   "cell_type": "code",
   "execution_count": 52,
   "metadata": {
    "colab": {
     "base_uri": "https://localhost:8080/"
    },
    "id": "YmvCbFDQ3KI1",
    "outputId": "2c155a1c-fb81-468b-dc06-a6ff7fdaa091"
   },
   "outputs": [
    {
     "data": {
      "text/plain": [
       "Francine Pascal    34\n",
       "Ann M. Martin      29\n",
       "Agatha Christie    25\n",
       "Terry Pratchett    24\n",
       "James Patterson    24\n",
       "                   ..\n",
       "Bre Faucheux        1\n",
       "Del Law             1\n",
       "Lauren Gibaldi      1\n",
       "James Strong        1\n",
       "Natalie Herzer      1\n",
       "Name: author_name, Length: 17644, dtype: int64"
      ]
     },
     "execution_count": 52,
     "metadata": {
      "tags": []
     },
     "output_type": "execute_result"
    }
   ],
   "source": [
    "meta_goodreads.author_name.value_counts()"
   ]
  },
  {
   "cell_type": "code",
   "execution_count": 53,
   "metadata": {
    "id": "iLWbVcAY3IPP"
   },
   "outputs": [],
   "source": [
    "#For coming analysis we need to filter authors by their number of books & total ratings count, as for an author (with just one book and few ratings of 5), won't be the same for a popular author with avrage-rating of maybe 4.5.\n",
    "\n"
   ]
  },
  {
   "cell_type": "code",
   "execution_count": 54,
   "metadata": {
    "id": "sYztRHDb3wLl"
   },
   "outputs": [],
   "source": [
    "def at_least_books(df, n):\n",
    "    more_than_n = meta_goodreads['author_name'].value_counts().values >= n\n",
    "    return df['author_name'].isin(df['author_name'].value_counts()[more_than_n == True].index)"
   ]
  },
  {
   "cell_type": "code",
   "execution_count": 55,
   "metadata": {
    "id": "beQM5oEO30Z0"
   },
   "outputs": [],
   "source": [
    "meta_goodreads['author_average_rating'] = pd.to_numeric(meta_goodreads['author_average_rating'])\n",
    "meta_goodreads['author_text_reviews_count'] = pd.to_numeric(meta_goodreads['author_text_reviews_count'])#object to numeric\n",
    "meta_goodreads['author_ratings_count'] = pd.to_numeric(meta_goodreads['author_ratings_count'])"
   ]
  },
  {
   "cell_type": "code",
   "execution_count": 56,
   "metadata": {
    "id": "tPa1iEEe4Kxz"
   },
   "outputs": [],
   "source": [
    "def at_least_ratings_count(df, n):\n",
    "    return df.author_ratings_count >= n"
   ]
  },
  {
   "cell_type": "code",
   "execution_count": 57,
   "metadata": {
    "colab": {
     "base_uri": "https://localhost:8080/"
    },
    "id": "r5vOR_Dw4UdL",
    "outputId": "b8274057-b190-475d-e266-5b5c65610d04"
   },
   "outputs": [
    {
     "data": {
      "text/plain": [
       "0    False\n",
       "1    False\n",
       "2    False\n",
       "3    False\n",
       "4    False\n",
       "Name: author_name, dtype: bool"
      ]
     },
     "execution_count": 57,
     "metadata": {
      "tags": []
     },
     "output_type": "execute_result"
    }
   ],
   "source": [
    "at_least_books(meta_goodreads,5).head()"
   ]
  },
  {
   "cell_type": "code",
   "execution_count": 58,
   "metadata": {
    "colab": {
     "base_uri": "https://localhost:8080/"
    },
    "id": "60n2CPhm4_Uc",
    "outputId": "4563412c-10af-4911-b1a6-2bde7adf741b"
   },
   "outputs": [
    {
     "data": {
      "text/plain": [
       "0    True\n",
       "1    True\n",
       "2    True\n",
       "3    True\n",
       "4    True\n",
       "Name: author_ratings_count, dtype: bool"
      ]
     },
     "execution_count": 58,
     "metadata": {
      "tags": []
     },
     "output_type": "execute_result"
    }
   ],
   "source": [
    "at_least_ratings_count(meta_goodreads, 200).head()"
   ]
  },
  {
   "cell_type": "code",
   "execution_count": 59,
   "metadata": {
    "colab": {
     "base_uri": "https://localhost:8080/"
    },
    "id": "7mauCn6T5GK9",
    "outputId": "2ef167b0-e977-4b4f-c62d-b69d419713e5"
   },
   "outputs": [
    {
     "data": {
      "text/plain": [
       "count    17644.000000\n",
       "mean         1.361086\n",
       "std          1.165268\n",
       "min          1.000000\n",
       "25%          1.000000\n",
       "50%          1.000000\n",
       "75%          1.000000\n",
       "max         34.000000\n",
       "Name: author_name, dtype: float64"
      ]
     },
     "execution_count": 59,
     "metadata": {
      "tags": []
     },
     "output_type": "execute_result"
    }
   ],
   "source": [
    "meta_goodreads['author_name'].value_counts().describe()"
   ]
  },
  {
   "cell_type": "code",
   "execution_count": 60,
   "metadata": {
    "colab": {
     "base_uri": "https://localhost:8080/",
     "height": 334
    },
    "id": "4mIMZKwI5Ql-",
    "outputId": "96960136-2651-4a05-d11a-e851e4479508"
   },
   "outputs": [
    {
     "data": {
      "image/png": "[encoded data removed]",
      "text/plain": [
       "<Figure size 720x360 with 1 Axes>"
      ]
     },
     "metadata": {
      "needs_background": "light",
      "tags": []
     },
     "output_type": "display_data"
    }
   ],
   "source": [
    "plt.figure(figsize=(10,5))\n",
    "plt.hist(meta_goodreads.author_name.value_counts().values);\n",
    "plt.xlabel('number of books');\n",
    "plt.ylabel('count');"
   ]
  },
  {
   "cell_type": "code",
   "execution_count": 61,
   "metadata": {
    "id": "FnfMn_bI5jtZ"
   },
   "outputs": [],
   "source": [
    "c1 = at_least_books(meta_goodreads, 10)\n",
    "c2 = at_least_ratings_count(meta_goodreads, 200)"
   ]
  },
  {
   "cell_type": "code",
   "execution_count": 62,
   "metadata": {
    "colab": {
     "base_uri": "https://localhost:8080/"
    },
    "id": "cD_AeMW55q26",
    "outputId": "ee70c45f-1617-4f4c-f5a6-97fec383e18f"
   },
   "outputs": [
    {
     "data": {
      "text/plain": [
       "author_name\n",
       "J.K. Rowling          4.44\n",
       "George R.R. Martin    4.37\n",
       "Brandon Sanderson     4.37\n",
       "Rick Riordan          4.32\n",
       "J.D. Robb             4.29\n",
       "Kristen Ashley        4.29\n",
       "Cassandra Clare       4.27\n",
       "Robert Kirkman        4.26\n",
       "Jim Butcher           4.26\n",
       "Sherrilyn Kenyon      4.23\n",
       "Arthur Conan Doyle    4.21\n",
       "Douglas Adams         4.19\n",
       "Edgar Allan Poe       4.18\n",
       "Anonymous             4.15\n",
       "Abbi Glines           4.15\n",
       "Name: author_average_rating, dtype: float64"
      ]
     },
     "execution_count": 62,
     "metadata": {
      "tags": []
     },
     "output_type": "execute_result"
    }
   ],
   "source": [
    "best_rating_authors = meta_goodreads[c1 & c2].groupby('author_name')['author_average_rating'].mean().sort_values(ascending=False)\n",
    "best_rating_authors.head(15)"
   ]
  },
  {
   "cell_type": "code",
   "execution_count": 70,
   "metadata": {
    "colab": {
     "base_uri": "https://localhost:8080/",
     "height": 458
    },
    "id": "iC7MVT7p_Q7T",
    "outputId": "72a11d90-24a5-42d9-d22d-5a2ab3b5178a"
   },
   "outputs": [
    {
     "data": {
      "image/png": "[encoded data removed]",
      "text/plain": [
       "<Figure size 1080x504 with 1 Axes>"
      ]
     },
     "metadata": {
      "needs_background": "light",
      "tags": []
     },
     "output_type": "display_data"
    }
   ],
   "source": [
    "plot_authors_by(best_rating_authors, 'Best Ratings Authors', 'Ratings', 15)"
   ]
  },
  {
   "cell_type": "code",
   "execution_count": 71,
   "metadata": {
    "id": "BIGoq-AV7Dip"
   },
   "outputs": [],
   "source": [
    "def plot_authors_by(df,title, xlabel, n=15, ylabel='author_name', y_size=7):\n",
    "    plt.figure(figsize=(15,y_size))\n",
    "    ax = sns.barplot(x=df.head(n).values, y=df.head(n).index)\n",
    "    plt.title(title, weight='bold')\n",
    "    plt.xlabel(xlabel)\n",
    "    plt.ylabel(ylabel)"
   ]
  },
  {
   "cell_type": "code",
   "execution_count": 72,
   "metadata": {
    "colab": {
     "base_uri": "https://localhost:8080/"
    },
    "id": "bzBgi4M17MIL",
    "outputId": "4cc47a5d-182d-4dd9-c42b-179e3fea1dcd"
   },
   "outputs": [
    {
     "data": {
      "text/plain": [
       "author_name\n",
       "Stephen King          213334380\n",
       "J.K. Rowling          185327210\n",
       "James Patterson       113224032\n",
       "Neil Gaiman            92893164\n",
       "Terry Pratchett        78423504\n",
       "Agatha Christie        63980975\n",
       "Rick Riordan           61915520\n",
       "Nora Roberts           59797997\n",
       "J.R.R. Tolkien         57824343\n",
       "Stephenie Meyer        53795256\n",
       "Cassandra Clare        52802680\n",
       "C.S. Lewis             49603873\n",
       "George R.R. Martin     42772400\n",
       "Suzanne Collins        37439188\n",
       "Mark Twain             32702896\n",
       "Name: author_ratings_count, dtype: int64"
      ]
     },
     "execution_count": 72,
     "metadata": {
      "tags": []
     },
     "output_type": "execute_result"
    }
   ],
   "source": [
    "most_ratings_authors = meta_goodreads.groupby('author_name')['author_ratings_count'].sum().sort_values(ascending=False)\n",
    "most_ratings_authors.head(15)"
   ]
  },
  {
   "cell_type": "code",
   "execution_count": 73,
   "metadata": {
    "colab": {
     "base_uri": "https://localhost:8080/",
     "height": 458
    },
    "id": "F7Vlt7tC7djQ",
    "outputId": "30d19bf7-0933-4d62-9c54-200aeabf5aea"
   },
   "outputs": [
    {
     "data": {
      "image/png": "[encoded data removed]",
      "text/plain": [
       "<Figure size 1080x504 with 1 Axes>"
      ]
     },
     "metadata": {
      "needs_background": "light",
      "tags": []
     },
     "output_type": "display_data"
    }
   ],
   "source": [
    "plot_authors_by(most_ratings_authors, 'Most Ratings Authors', 'Total Ratings', 15)"
   ]
  },
  {
   "cell_type": "markdown",
   "metadata": {
    "id": "86K_7Uu375J-"
   },
   "source": [
    "#Authors with Most Books"
   ]
  },
  {
   "cell_type": "code",
   "execution_count": 74,
   "metadata": {
    "colab": {
     "base_uri": "https://localhost:8080/"
    },
    "id": "zcXaUksB77ag",
    "outputId": "f6f69447-a798-48d9-e9d6-c5e37649c4f3"
   },
   "outputs": [
    {
     "data": {
      "text/plain": [
       "Francine Pascal           34\n",
       "Ann M. Martin             29\n",
       "Agatha Christie           25\n",
       "Terry Pratchett           24\n",
       "James Patterson           24\n",
       "R.L. Stine                21\n",
       "Robert Kirkman            21\n",
       "Neil Gaiman               21\n",
       "Stephen King              20\n",
       "Nora Roberts              19\n",
       "Alexander McCall Smith    18\n",
       "Anonymous                 18\n",
       "Debbie Macomber           18\n",
       "Arthur Conan Doyle        17\n",
       "M.C. Beaton               16\n",
       "Name: author_name, dtype: int64"
      ]
     },
     "execution_count": 74,
     "metadata": {
      "tags": []
     },
     "output_type": "execute_result"
    }
   ],
   "source": [
    "authors_most_with_books = meta_goodreads.author_name.value_counts()\n",
    "authors_most_with_books.head(15)"
   ]
  },
  {
   "cell_type": "code",
   "execution_count": 76,
   "metadata": {
    "colab": {
     "base_uri": "https://localhost:8080/",
     "height": 458
    },
    "id": "fIAMA_Ni8Y-Q",
    "outputId": "74640b6f-e97b-418c-a503-ecee9d303698"
   },
   "outputs": [
    {
     "data": {
      "image/png": "[encoded data removed]",
      "text/plain": [
       "<Figure size 1080x504 with 1 Axes>"
      ]
     },
     "metadata": {
      "needs_background": "light",
      "tags": []
     },
     "output_type": "display_data"
    }
   ],
   "source": [
    "plot_authors_by(authors_most_with_books, 'Authors with most books', 'Number of Books', 15)"
   ]
  },
  {
   "cell_type": "code",
   "execution_count": 77,
   "metadata": {
    "colab": {
     "base_uri": "https://localhost:8080/"
    },
    "id": "C6Fp6Xpo80QH",
    "outputId": "040b77e1-5969-47f9-c7ee-4dd65fa68e65"
   },
   "outputs": [
    {
     "data": {
      "text/plain": [
       "Index(['book_id', 'text_reviews_count', 'average_rating', 'description',\n",
       "       'link', 'url', 'image_url', 'ratings_count', 'title',\n",
       "       'title_without_series', 'language', 'author_id',\n",
       "       'author_average_rating', 'author_text_reviews_count', 'author_name',\n",
       "       'author_ratings_count', 'genres_book'],\n",
       "      dtype='object')"
      ]
     },
     "execution_count": 77,
     "metadata": {
      "tags": []
     },
     "output_type": "execute_result"
    }
   ],
   "source": [
    "meta_goodreads.columns"
   ]
  },
  {
   "cell_type": "code",
   "execution_count": 78,
   "metadata": {
    "id": "sST4X7S68nLF"
   },
   "outputs": [],
   "source": [
    "goodreads_book= meta_goodreads.drop(['author_average_rating', 'author_text_reviews_count','author_ratings_count'],axis=1)"
   ]
  },
  {
   "cell_type": "code",
   "execution_count": 79,
   "metadata": {
    "colab": {
     "base_uri": "https://localhost:8080/",
     "height": 903
    },
    "id": "NM6GYb6P9LJ6",
    "outputId": "d4ffa3df-89ac-4a51-ed84-1892affdc8fc"
   },
   "outputs": [
    {
     "data": {
      "text/html": [
       "<div>\n",
       "<style scoped>\n",
       "    .dataframe tbody tr th:only-of-type {\n",
       "        vertical-align: middle;\n",
       "    }\n",
       "\n",
       "    .dataframe tbody tr th {\n",
       "        vertical-align: top;\n",
       "    }\n",
       "\n",
       "    .dataframe thead th {\n",
       "        text-align: right;\n",
       "    }\n",
       "</style>\n",
       "<table border=\"1\" class=\"dataframe\">\n",
       "  <thead>\n",
       "    <tr style=\"text-align: right;\">\n",
       "      <th></th>\n",
       "      <th>book_id</th>\n",
       "      <th>text_reviews_count</th>\n",
       "      <th>average_rating</th>\n",
       "      <th>description</th>\n",
       "      <th>link</th>\n",
       "      <th>url</th>\n",
       "      <th>image_url</th>\n",
       "      <th>ratings_count</th>\n",
       "      <th>title</th>\n",
       "      <th>title_without_series</th>\n",
       "      <th>language</th>\n",
       "      <th>author_id</th>\n",
       "      <th>author_name</th>\n",
       "      <th>genres_book</th>\n",
       "    </tr>\n",
       "  </thead>\n",
       "  <tbody>\n",
       "    <tr>\n",
       "      <th>0</th>\n",
       "      <td>19398490</td>\n",
       "      <td>2311</td>\n",
       "      <td>4.31</td>\n",
       "      <td>Winner of the Pulitzer Prize\\nFrom the highly ...</td>\n",
       "      <td>https://www.goodreads.com/book/show/19398490-a...</td>\n",
       "      <td>https://www.goodreads.com/book/show/19398490-a...</td>\n",
       "      <td>https://images.gr-assets.com/books/1440903901m...</td>\n",
       "      <td>53342</td>\n",
       "      <td>All the Light We Cannot See</td>\n",
       "      <td>All the Light We Cannot See</td>\n",
       "      <td>en</td>\n",
       "      <td>28186</td>\n",
       "      <td>Anthony Doerr</td>\n",
       "      <td>fiction</td>\n",
       "    </tr>\n",
       "    <tr>\n",
       "      <th>1</th>\n",
       "      <td>12969594</td>\n",
       "      <td>241</td>\n",
       "      <td>4.06</td>\n",
       "      <td>An alternate cover of this ASIN can be found \u0001...</td>\n",
       "      <td>https://www.goodreads.com/book/show/12969594-t...</td>\n",
       "      <td>https://www.goodreads.com/book/show/12969594-t...</td>\n",
       "      <td>https://images.gr-assets.com/books/1328309680m...</td>\n",
       "      <td>6390</td>\n",
       "      <td>The Orphan Master's Son</td>\n",
       "      <td>The Orphan Master's Son</td>\n",
       "      <td>en</td>\n",
       "      <td>36615</td>\n",
       "      <td>Adam Johnson</td>\n",
       "      <td>fiction</td>\n",
       "    </tr>\n",
       "    <tr>\n",
       "      <th>2</th>\n",
       "      <td>8664353</td>\n",
       "      <td>38878</td>\n",
       "      <td>4.39</td>\n",
       "      <td>In her long-awaited new book, Laura Hillenbran...</td>\n",
       "      <td>https://www.goodreads.com/book/show/8664353-un...</td>\n",
       "      <td>https://www.goodreads.com/book/show/8664353-un...</td>\n",
       "      <td>https://images.gr-assets.com/books/1327861115m...</td>\n",
       "      <td>504961</td>\n",
       "      <td>Unbroken: A World War II Story of Survival, Re...</td>\n",
       "      <td>Unbroken: A World War II Story of Survival, Re...</td>\n",
       "      <td>en</td>\n",
       "      <td>30913</td>\n",
       "      <td>Laura Hillenbrand</td>\n",
       "      <td>non-fiction</td>\n",
       "    </tr>\n",
       "    <tr>\n",
       "      <th>3</th>\n",
       "      <td>6452796</td>\n",
       "      <td>2930</td>\n",
       "      <td>3.95</td>\n",
       "      <td>Forget everything you thought you knew about h...</td>\n",
       "      <td>https://www.goodreads.com/book/show/6452796-drive</td>\n",
       "      <td>https://www.goodreads.com/book/show/6452796-drive</td>\n",
       "      <td>https://s.gr-assets.com/assets/nophoto/book/11...</td>\n",
       "      <td>58428</td>\n",
       "      <td>Drive: The Surprising Truth About What Motivat...</td>\n",
       "      <td>Drive: The Surprising Truth About What Motivat...</td>\n",
       "      <td>en</td>\n",
       "      <td>96150</td>\n",
       "      <td>Daniel H. Pink</td>\n",
       "      <td>non-fiction</td>\n",
       "    </tr>\n",
       "    <tr>\n",
       "      <th>4</th>\n",
       "      <td>178186</td>\n",
       "      <td>26</td>\n",
       "      <td>3.87</td>\n",
       "      <td>An autobiographical memoir revealing the tradi...</td>\n",
       "      <td>https://www.goodreads.com/book/show/178186.The...</td>\n",
       "      <td>https://www.goodreads.com/book/show/178186.The...</td>\n",
       "      <td>https://s.gr-assets.com/assets/nophoto/book/11...</td>\n",
       "      <td>245</td>\n",
       "      <td>The Worlds of a Maasai Warrior: An Autobiography</td>\n",
       "      <td>The Worlds of a Maasai Warrior: An Autobiography</td>\n",
       "      <td>en</td>\n",
       "      <td>103752</td>\n",
       "      <td>Tepilit Ole Saitoti</td>\n",
       "      <td>non-fiction</td>\n",
       "    </tr>\n",
       "    <tr>\n",
       "      <th>...</th>\n",
       "      <td>...</td>\n",
       "      <td>...</td>\n",
       "      <td>...</td>\n",
       "      <td>...</td>\n",
       "      <td>...</td>\n",
       "      <td>...</td>\n",
       "      <td>...</td>\n",
       "      <td>...</td>\n",
       "      <td>...</td>\n",
       "      <td>...</td>\n",
       "      <td>...</td>\n",
       "      <td>...</td>\n",
       "      <td>...</td>\n",
       "      <td>...</td>\n",
       "    </tr>\n",
       "    <tr>\n",
       "      <th>24010</th>\n",
       "      <td>23228256</td>\n",
       "      <td>28</td>\n",
       "      <td>4.09</td>\n",
       "      <td>From Brazil's most acclaimed young novelist, t...</td>\n",
       "      <td>https://www.goodreads.com/book/show/23228256-b...</td>\n",
       "      <td>https://www.goodreads.com/book/show/23228256-b...</td>\n",
       "      <td>https://images.gr-assets.com/books/1411183144m...</td>\n",
       "      <td>159</td>\n",
       "      <td>Blood-Drenched Beard</td>\n",
       "      <td>Blood-Drenched Beard</td>\n",
       "      <td>en</td>\n",
       "      <td>1169290</td>\n",
       "      <td>Daniel Galera</td>\n",
       "      <td>fiction</td>\n",
       "    </tr>\n",
       "    <tr>\n",
       "      <th>24011</th>\n",
       "      <td>30340824</td>\n",
       "      <td>45</td>\n",
       "      <td>4.33</td>\n",
       "      <td>Ten seconds can change everything.\\nDaisy Conn...</td>\n",
       "      <td>https://www.goodreads.com/book/show/30340824-c...</td>\n",
       "      <td>https://www.goodreads.com/book/show/30340824-c...</td>\n",
       "      <td>https://images.gr-assets.com/books/1464920539m...</td>\n",
       "      <td>68</td>\n",
       "      <td>Collateral Damage (Hidden Scars, #2)</td>\n",
       "      <td>Collateral Damage (Hidden Scars, #2)</td>\n",
       "      <td>en</td>\n",
       "      <td>3975855</td>\n",
       "      <td>A.M. Myers</td>\n",
       "      <td>romance</td>\n",
       "    </tr>\n",
       "    <tr>\n",
       "      <th>24012</th>\n",
       "      <td>33125385</td>\n",
       "      <td>29</td>\n",
       "      <td>4.40</td>\n",
       "      <td>Librarian Note: Alternate Cover Edition for \u0001....</td>\n",
       "      <td>https://www.goodreads.com/book/show/33125385-u...</td>\n",
       "      <td>https://www.goodreads.com/book/show/33125385-u...</td>\n",
       "      <td>https://images.gr-assets.com/books/1480090010m...</td>\n",
       "      <td>93</td>\n",
       "      <td>Untouched (Untouched #1)</td>\n",
       "      <td>Untouched (Untouched #1)</td>\n",
       "      <td>en</td>\n",
       "      <td>8577407</td>\n",
       "      <td>Lilly Wilde</td>\n",
       "      <td>romance</td>\n",
       "    </tr>\n",
       "    <tr>\n",
       "      <th>24013</th>\n",
       "      <td>22798607</td>\n",
       "      <td>3</td>\n",
       "      <td>3.90</td>\n",
       "      <td>In his debut collection, Christian Winn throws...</td>\n",
       "      <td>https://www.goodreads.com/book/show/22798607-n...</td>\n",
       "      <td>https://www.goodreads.com/book/show/22798607-n...</td>\n",
       "      <td>https://images.gr-assets.com/books/1417750817m...</td>\n",
       "      <td>21</td>\n",
       "      <td>Naked Me</td>\n",
       "      <td>Naked Me</td>\n",
       "      <td>en</td>\n",
       "      <td>8409842</td>\n",
       "      <td>Christian Winn</td>\n",
       "      <td>fiction</td>\n",
       "    </tr>\n",
       "    <tr>\n",
       "      <th>24014</th>\n",
       "      <td>26047380</td>\n",
       "      <td>2</td>\n",
       "      <td>4.70</td>\n",
       "      <td>Sadly Beautiful is a collection of poems and e...</td>\n",
       "      <td>https://www.goodreads.com/book/show/26047380-s...</td>\n",
       "      <td>https://www.goodreads.com/book/show/26047380-s...</td>\n",
       "      <td>https://images.gr-assets.com/books/1438812276m...</td>\n",
       "      <td>9</td>\n",
       "      <td>Sadly Beautiful</td>\n",
       "      <td>Sadly Beautiful</td>\n",
       "      <td>en</td>\n",
       "      <td>4952802</td>\n",
       "      <td>Jason Fisk</td>\n",
       "      <td>poetry</td>\n",
       "    </tr>\n",
       "  </tbody>\n",
       "</table>\n",
       "<p>24015 rows × 14 columns</p>\n",
       "</div>"
      ],
      "text/plain": [
       "        book_id  text_reviews_count  ...          author_name  genres_book\n",
       "0      19398490                2311  ...        Anthony Doerr      fiction\n",
       "1      12969594                 241  ...         Adam Johnson      fiction\n",
       "2       8664353               38878  ...    Laura Hillenbrand  non-fiction\n",
       "3       6452796                2930  ...       Daniel H. Pink  non-fiction\n",
       "4        178186                  26  ...  Tepilit Ole Saitoti  non-fiction\n",
       "...         ...                 ...  ...                  ...          ...\n",
       "24010  23228256                  28  ...        Daniel Galera      fiction\n",
       "24011  30340824                  45  ...           A.M. Myers      romance\n",
       "24012  33125385                  29  ...          Lilly Wilde      romance\n",
       "24013  22798607                   3  ...       Christian Winn      fiction\n",
       "24014  26047380                   2  ...           Jason Fisk       poetry\n",
       "\n",
       "[24015 rows x 14 columns]"
      ]
     },
     "execution_count": 79,
     "metadata": {
      "tags": []
     },
     "output_type": "execute_result"
    }
   ],
   "source": [
    "goodreads_book"
   ]
  },
  {
   "cell_type": "markdown",
   "metadata": {
    "id": "4EhmpfGwe3-0"
   },
   "source": [
    "### Goodreads Exploration and Visualisation"
   ]
  },
  {
   "cell_type": "markdown",
   "metadata": {
    "id": "GQK3xhEMsacK"
   },
   "source": [
    "# **Top Rated Books**"
   ]
  },
  {
   "cell_type": "code",
   "execution_count": 80,
   "metadata": {
    "id": "Z8NfoGyzsWNX"
   },
   "outputs": [],
   "source": [
    "goodreads_book['average_rating'] = pd.to_numeric(goodreads_book['average_rating'])\n",
    "goodreads_book['ratings_count'] = pd.to_numeric(goodreads_book['ratings_count'])\n",
    "goodreads_book['text_reviews_count'] = pd.to_numeric(goodreads_book['text_reviews_count'])#object to numeric"
   ]
  },
  {
   "cell_type": "code",
   "execution_count": 81,
   "metadata": {
    "id": "9KQkTdAos1fP"
   },
   "outputs": [],
   "source": [
    "def plot_books_by(df, col, n_rows=10):\n",
    "    plt.figure(figsize=(16,8))\n",
    "    ax = sns.barplot(x=df[col].head(n_rows), y=df['title'].head(n_rows), data=df)\n",
    "    plt.title('Best ' + str(n_rows) + ' books by ' + col.replace('_',' ').capitalize(), weight='bold')\n",
    "    plt.xlabel('Score of ' + col)\n",
    "    plt.ylabel('Book Title')    "
   ]
  },
  {
   "cell_type": "code",
   "execution_count": 82,
   "metadata": {
    "id": "dQSvWIX9tAbv"
   },
   "outputs": [],
   "source": [
    "important_columns = ['title','average_rating','ratings_count','text_reviews_count']"
   ]
  },
  {
   "cell_type": "markdown",
   "metadata": {
    "id": "1hNo6hKbxS3U"
   },
   "source": [
    "based on average rating"
   ]
  },
  {
   "cell_type": "code",
   "execution_count": 85,
   "metadata": {
    "colab": {
     "base_uri": "https://localhost:8080/",
     "height": 355
    },
    "id": "Y8MqOCMCtFPv",
    "outputId": "f36a0ed8-662a-48c7-c463-fa30109e9805"
   },
   "outputs": [
    {
     "data": {
      "text/html": [
       "<div>\n",
       "<style scoped>\n",
       "    .dataframe tbody tr th:only-of-type {\n",
       "        vertical-align: middle;\n",
       "    }\n",
       "\n",
       "    .dataframe tbody tr th {\n",
       "        vertical-align: top;\n",
       "    }\n",
       "\n",
       "    .dataframe thead th {\n",
       "        text-align: right;\n",
       "    }\n",
       "</style>\n",
       "<table border=\"1\" class=\"dataframe\">\n",
       "  <thead>\n",
       "    <tr style=\"text-align: right;\">\n",
       "      <th></th>\n",
       "      <th>title</th>\n",
       "      <th>average_rating</th>\n",
       "      <th>ratings_count</th>\n",
       "      <th>text_reviews_count</th>\n",
       "    </tr>\n",
       "  </thead>\n",
       "  <tbody>\n",
       "    <tr>\n",
       "      <th>977</th>\n",
       "      <td>March: Book Three (March, #3)</td>\n",
       "      <td>4.71</td>\n",
       "      <td>7100</td>\n",
       "      <td>1385</td>\n",
       "    </tr>\n",
       "    <tr>\n",
       "      <th>7414</th>\n",
       "      <td>The Absolute Sandman, Volume Five</td>\n",
       "      <td>4.68</td>\n",
       "      <td>2275</td>\n",
       "      <td>35</td>\n",
       "    </tr>\n",
       "    <tr>\n",
       "      <th>23218</th>\n",
       "      <td>The Dresden Files Collection 7-12</td>\n",
       "      <td>4.66</td>\n",
       "      <td>1464</td>\n",
       "      <td>20</td>\n",
       "    </tr>\n",
       "    <tr>\n",
       "      <th>1742</th>\n",
       "      <td>The Power of Everyday Missionaries</td>\n",
       "      <td>4.63</td>\n",
       "      <td>1811</td>\n",
       "      <td>450</td>\n",
       "    </tr>\n",
       "    <tr>\n",
       "      <th>6744</th>\n",
       "      <td>A Song of Ice and Fire, 5-Book Boxed Set: A Ga...</td>\n",
       "      <td>4.63</td>\n",
       "      <td>10680</td>\n",
       "      <td>183</td>\n",
       "    </tr>\n",
       "    <tr>\n",
       "      <th>3236</th>\n",
       "      <td>Harry Potter and the Deathly Hallows (Harry Po...</td>\n",
       "      <td>4.62</td>\n",
       "      <td>8470</td>\n",
       "      <td>657</td>\n",
       "    </tr>\n",
       "    <tr>\n",
       "      <th>13673</th>\n",
       "      <td>Vampire Academy Collection (Vampire Academy, #...</td>\n",
       "      <td>4.61</td>\n",
       "      <td>30600</td>\n",
       "      <td>196</td>\n",
       "    </tr>\n",
       "    <tr>\n",
       "      <th>86</th>\n",
       "      <td>Clockwork Princess (The Infernal Devices, #3)</td>\n",
       "      <td>4.59</td>\n",
       "      <td>69293</td>\n",
       "      <td>10861</td>\n",
       "    </tr>\n",
       "    <tr>\n",
       "      <th>8018</th>\n",
       "      <td>The Disorderly Knights (The Lymond Chronicles,...</td>\n",
       "      <td>4.58</td>\n",
       "      <td>2811</td>\n",
       "      <td>155</td>\n",
       "    </tr>\n",
       "    <tr>\n",
       "      <th>4917</th>\n",
       "      <td>An Act of Courage (Acts of Honor, #4)</td>\n",
       "      <td>4.58</td>\n",
       "      <td>1038</td>\n",
       "      <td>195</td>\n",
       "    </tr>\n",
       "  </tbody>\n",
       "</table>\n",
       "</div>"
      ],
      "text/plain": [
       "                                                   title  ...  text_reviews_count\n",
       "977                        March: Book Three (March, #3)  ...                1385\n",
       "7414                   The Absolute Sandman, Volume Five  ...                  35\n",
       "23218                  The Dresden Files Collection 7-12  ...                  20\n",
       "1742                  The Power of Everyday Missionaries  ...                 450\n",
       "6744   A Song of Ice and Fire, 5-Book Boxed Set: A Ga...  ...                 183\n",
       "3236   Harry Potter and the Deathly Hallows (Harry Po...  ...                 657\n",
       "13673  Vampire Academy Collection (Vampire Academy, #...  ...                 196\n",
       "86         Clockwork Princess (The Infernal Devices, #3)  ...               10861\n",
       "8018   The Disorderly Knights (The Lymond Chronicles,...  ...                 155\n",
       "4917               An Act of Courage (Acts of Honor, #4)  ...                 195\n",
       "\n",
       "[10 rows x 4 columns]"
      ]
     },
     "execution_count": 85,
     "metadata": {
      "tags": []
     },
     "output_type": "execute_result"
    }
   ],
   "source": [
    "book_sorted_ratings = goodreads_book[goodreads_book['ratings_count']>=1000].sort_values('average_rating', ascending=False)\n",
    "book_sorted_ratings[important_columns].head(10)"
   ]
  },
  {
   "cell_type": "code",
   "execution_count": 86,
   "metadata": {
    "colab": {
     "base_uri": "https://localhost:8080/",
     "height": 347
    },
    "id": "a2ECR18FtQ3k",
    "outputId": "e014d0c1-f259-41da-c66d-dba3ac841e7a"
   },
   "outputs": [
    {
     "data": {
      "image/png": "[encoded data removed]",
      "text/plain": [
       "<Figure size 1152x576 with 1 Axes>"
      ]
     },
     "metadata": {
      "needs_background": "light",
      "tags": []
     },
     "output_type": "display_data"
    }
   ],
   "source": [
    "plot_books_by(book_sorted_ratings,'average_rating', 10)"
   ]
  },
  {
   "cell_type": "markdown",
   "metadata": {
    "id": "DCJcpJHCxh86"
   },
   "source": [
    "based on rating count"
   ]
  },
  {
   "cell_type": "code",
   "execution_count": 88,
   "metadata": {
    "colab": {
     "base_uri": "https://localhost:8080/",
     "height": 509
    },
    "id": "lxIgIpGSttAv",
    "outputId": "87f3de51-5e73-492b-88d4-257aad7847f6"
   },
   "outputs": [
    {
     "data": {
      "text/html": [
       "<div>\n",
       "<style scoped>\n",
       "    .dataframe tbody tr th:only-of-type {\n",
       "        vertical-align: middle;\n",
       "    }\n",
       "\n",
       "    .dataframe tbody tr th {\n",
       "        vertical-align: top;\n",
       "    }\n",
       "\n",
       "    .dataframe thead th {\n",
       "        text-align: right;\n",
       "    }\n",
       "</style>\n",
       "<table border=\"1\" class=\"dataframe\">\n",
       "  <thead>\n",
       "    <tr style=\"text-align: right;\">\n",
       "      <th></th>\n",
       "      <th>title</th>\n",
       "      <th>average_rating</th>\n",
       "      <th>ratings_count</th>\n",
       "      <th>text_reviews_count</th>\n",
       "    </tr>\n",
       "  </thead>\n",
       "  <tbody>\n",
       "    <tr>\n",
       "      <th>146</th>\n",
       "      <td>Bridget Jones's Diary (Bridget Jones, #1)</td>\n",
       "      <td>3.75</td>\n",
       "      <td>748926</td>\n",
       "      <td>6654</td>\n",
       "    </tr>\n",
       "    <tr>\n",
       "      <th>48</th>\n",
       "      <td>The Girl Who Played with Fire (Millennium, #2)</td>\n",
       "      <td>4.22</td>\n",
       "      <td>575163</td>\n",
       "      <td>24868</td>\n",
       "    </tr>\n",
       "    <tr>\n",
       "      <th>2</th>\n",
       "      <td>Unbroken: A World War II Story of Survival, Re...</td>\n",
       "      <td>4.39</td>\n",
       "      <td>504961</td>\n",
       "      <td>38878</td>\n",
       "    </tr>\n",
       "    <tr>\n",
       "      <th>93</th>\n",
       "      <td>The Five People You Meet in Heaven</td>\n",
       "      <td>3.90</td>\n",
       "      <td>453494</td>\n",
       "      <td>14324</td>\n",
       "    </tr>\n",
       "    <tr>\n",
       "      <th>381</th>\n",
       "      <td>The Name of the Wind (The Kingkiller Chronicle...</td>\n",
       "      <td>4.55</td>\n",
       "      <td>416634</td>\n",
       "      <td>23413</td>\n",
       "    </tr>\n",
       "    <tr>\n",
       "      <th>174</th>\n",
       "      <td>Shiver (The Wolves of Mercy Falls, #1)</td>\n",
       "      <td>3.78</td>\n",
       "      <td>360934</td>\n",
       "      <td>18330</td>\n",
       "    </tr>\n",
       "    <tr>\n",
       "      <th>209</th>\n",
       "      <td>Good Omens: The Nice and Accurate Prophecies o...</td>\n",
       "      <td>4.25</td>\n",
       "      <td>307430</td>\n",
       "      <td>11391</td>\n",
       "    </tr>\n",
       "    <tr>\n",
       "      <th>84</th>\n",
       "      <td>Anna and the French Kiss (Anna and the French ...</td>\n",
       "      <td>4.07</td>\n",
       "      <td>267364</td>\n",
       "      <td>20077</td>\n",
       "    </tr>\n",
       "    <tr>\n",
       "      <th>5</th>\n",
       "      <td>The Amber Spyglass (His Dark Materials, #3)</td>\n",
       "      <td>4.07</td>\n",
       "      <td>196022</td>\n",
       "      <td>4926</td>\n",
       "    </tr>\n",
       "    <tr>\n",
       "      <th>66</th>\n",
       "      <td>The Paris Wife</td>\n",
       "      <td>3.79</td>\n",
       "      <td>195263</td>\n",
       "      <td>17667</td>\n",
       "    </tr>\n",
       "    <tr>\n",
       "      <th>330</th>\n",
       "      <td>The Andromeda Strain</td>\n",
       "      <td>3.87</td>\n",
       "      <td>176161</td>\n",
       "      <td>2203</td>\n",
       "    </tr>\n",
       "    <tr>\n",
       "      <th>137</th>\n",
       "      <td>Dead as a Doornail (Sookie Stackhouse, #5)</td>\n",
       "      <td>4.01</td>\n",
       "      <td>170673</td>\n",
       "      <td>3253</td>\n",
       "    </tr>\n",
       "    <tr>\n",
       "      <th>91</th>\n",
       "      <td>Pretty Little Liars (Pretty Little Liars, #1)</td>\n",
       "      <td>3.90</td>\n",
       "      <td>158616</td>\n",
       "      <td>7094</td>\n",
       "    </tr>\n",
       "    <tr>\n",
       "      <th>649</th>\n",
       "      <td>A Wizard of Earthsea (Earthsea Cycle, #1)</td>\n",
       "      <td>3.99</td>\n",
       "      <td>157732</td>\n",
       "      <td>4142</td>\n",
       "    </tr>\n",
       "    <tr>\n",
       "      <th>138</th>\n",
       "      <td>This Lullaby</td>\n",
       "      <td>4.03</td>\n",
       "      <td>153555</td>\n",
       "      <td>4189</td>\n",
       "    </tr>\n",
       "  </tbody>\n",
       "</table>\n",
       "</div>"
      ],
      "text/plain": [
       "                                                 title  ...  text_reviews_count\n",
       "146          Bridget Jones's Diary (Bridget Jones, #1)  ...                6654\n",
       "48      The Girl Who Played with Fire (Millennium, #2)  ...               24868\n",
       "2    Unbroken: A World War II Story of Survival, Re...  ...               38878\n",
       "93                  The Five People You Meet in Heaven  ...               14324\n",
       "381  The Name of the Wind (The Kingkiller Chronicle...  ...               23413\n",
       "174             Shiver (The Wolves of Mercy Falls, #1)  ...               18330\n",
       "209  Good Omens: The Nice and Accurate Prophecies o...  ...               11391\n",
       "84   Anna and the French Kiss (Anna and the French ...  ...               20077\n",
       "5          The Amber Spyglass (His Dark Materials, #3)  ...                4926\n",
       "66                                      The Paris Wife  ...               17667\n",
       "330                               The Andromeda Strain  ...                2203\n",
       "137         Dead as a Doornail (Sookie Stackhouse, #5)  ...                3253\n",
       "91       Pretty Little Liars (Pretty Little Liars, #1)  ...                7094\n",
       "649          A Wizard of Earthsea (Earthsea Cycle, #1)  ...                4142\n",
       "138                                       This Lullaby  ...                4189\n",
       "\n",
       "[15 rows x 4 columns]"
      ]
     },
     "execution_count": 88,
     "metadata": {
      "tags": []
     },
     "output_type": "execute_result"
    }
   ],
   "source": [
    "book_sorted_ratings_count = goodreads_book.sort_values('ratings_count', ascending=False)\n",
    "book_sorted_ratings_count[important_columns].head(15)"
   ]
  },
  {
   "cell_type": "code",
   "execution_count": 89,
   "metadata": {
    "colab": {
     "base_uri": "https://localhost:8080/",
     "height": 465
    },
    "id": "7nx9EwwHuNvF",
    "outputId": "db70f403-2b89-4bcc-d671-457f8ae01273"
   },
   "outputs": [
    {
     "data": {
      "image/png": "[encoded data removed]",
      "text/plain": [
       "<Figure size 1152x576 with 1 Axes>"
      ]
     },
     "metadata": {
      "needs_background": "light",
      "tags": []
     },
     "output_type": "display_data"
    }
   ],
   "source": [
    "plot_books_by(book_sorted_ratings_count, 'ratings_count', 15)"
   ]
  },
  {
   "cell_type": "markdown",
   "metadata": {
    "id": "es1HAQ4Txlk7"
   },
   "source": [
    "based on text review count"
   ]
  },
  {
   "cell_type": "code",
   "execution_count": 90,
   "metadata": {
    "colab": {
     "base_uri": "https://localhost:8080/",
     "height": 509
    },
    "id": "mSsDGtnmueGn",
    "outputId": "0a976c42-207f-4b14-800e-b535efdcef39"
   },
   "outputs": [
    {
     "data": {
      "text/html": [
       "<div>\n",
       "<style scoped>\n",
       "    .dataframe tbody tr th:only-of-type {\n",
       "        vertical-align: middle;\n",
       "    }\n",
       "\n",
       "    .dataframe tbody tr th {\n",
       "        vertical-align: top;\n",
       "    }\n",
       "\n",
       "    .dataframe thead th {\n",
       "        text-align: right;\n",
       "    }\n",
       "</style>\n",
       "<table border=\"1\" class=\"dataframe\">\n",
       "  <thead>\n",
       "    <tr style=\"text-align: right;\">\n",
       "      <th></th>\n",
       "      <th>title</th>\n",
       "      <th>average_rating</th>\n",
       "      <th>ratings_count</th>\n",
       "      <th>text_reviews_count</th>\n",
       "    </tr>\n",
       "  </thead>\n",
       "  <tbody>\n",
       "    <tr>\n",
       "      <th>2</th>\n",
       "      <td>Unbroken: A World War II Story of Survival, Re...</td>\n",
       "      <td>4.39</td>\n",
       "      <td>504961</td>\n",
       "      <td>38878</td>\n",
       "    </tr>\n",
       "    <tr>\n",
       "      <th>48</th>\n",
       "      <td>The Girl Who Played with Fire (Millennium, #2)</td>\n",
       "      <td>4.22</td>\n",
       "      <td>575163</td>\n",
       "      <td>24868</td>\n",
       "    </tr>\n",
       "    <tr>\n",
       "      <th>381</th>\n",
       "      <td>The Name of the Wind (The Kingkiller Chronicle...</td>\n",
       "      <td>4.55</td>\n",
       "      <td>416634</td>\n",
       "      <td>23413</td>\n",
       "    </tr>\n",
       "    <tr>\n",
       "      <th>84</th>\n",
       "      <td>Anna and the French Kiss (Anna and the French ...</td>\n",
       "      <td>4.07</td>\n",
       "      <td>267364</td>\n",
       "      <td>20077</td>\n",
       "    </tr>\n",
       "    <tr>\n",
       "      <th>174</th>\n",
       "      <td>Shiver (The Wolves of Mercy Falls, #1)</td>\n",
       "      <td>3.78</td>\n",
       "      <td>360934</td>\n",
       "      <td>18330</td>\n",
       "    </tr>\n",
       "    <tr>\n",
       "      <th>66</th>\n",
       "      <td>The Paris Wife</td>\n",
       "      <td>3.79</td>\n",
       "      <td>195263</td>\n",
       "      <td>17667</td>\n",
       "    </tr>\n",
       "    <tr>\n",
       "      <th>93</th>\n",
       "      <td>The Five People You Meet in Heaven</td>\n",
       "      <td>3.90</td>\n",
       "      <td>453494</td>\n",
       "      <td>14324</td>\n",
       "    </tr>\n",
       "    <tr>\n",
       "      <th>209</th>\n",
       "      <td>Good Omens: The Nice and Accurate Prophecies o...</td>\n",
       "      <td>4.25</td>\n",
       "      <td>307430</td>\n",
       "      <td>11391</td>\n",
       "    </tr>\n",
       "    <tr>\n",
       "      <th>86</th>\n",
       "      <td>Clockwork Princess (The Infernal Devices, #3)</td>\n",
       "      <td>4.59</td>\n",
       "      <td>69293</td>\n",
       "      <td>10861</td>\n",
       "    </tr>\n",
       "    <tr>\n",
       "      <th>90</th>\n",
       "      <td>I Am the Messenger</td>\n",
       "      <td>4.09</td>\n",
       "      <td>94968</td>\n",
       "      <td>9971</td>\n",
       "    </tr>\n",
       "    <tr>\n",
       "      <th>292</th>\n",
       "      <td>The Couple Next Door</td>\n",
       "      <td>3.74</td>\n",
       "      <td>79847</td>\n",
       "      <td>8341</td>\n",
       "    </tr>\n",
       "    <tr>\n",
       "      <th>273</th>\n",
       "      <td>Life As We Knew It (Last Survivors, #1)</td>\n",
       "      <td>3.89</td>\n",
       "      <td>95658</td>\n",
       "      <td>7834</td>\n",
       "    </tr>\n",
       "    <tr>\n",
       "      <th>72</th>\n",
       "      <td>Born a Crime: Stories From a South African Chi...</td>\n",
       "      <td>4.45</td>\n",
       "      <td>57318</td>\n",
       "      <td>7703</td>\n",
       "    </tr>\n",
       "    <tr>\n",
       "      <th>75</th>\n",
       "      <td>A Tale for the Time Being</td>\n",
       "      <td>3.98</td>\n",
       "      <td>53092</td>\n",
       "      <td>7349</td>\n",
       "    </tr>\n",
       "    <tr>\n",
       "      <th>91</th>\n",
       "      <td>Pretty Little Liars (Pretty Little Liars, #1)</td>\n",
       "      <td>3.90</td>\n",
       "      <td>158616</td>\n",
       "      <td>7094</td>\n",
       "    </tr>\n",
       "  </tbody>\n",
       "</table>\n",
       "</div>"
      ],
      "text/plain": [
       "                                                 title  ...  text_reviews_count\n",
       "2    Unbroken: A World War II Story of Survival, Re...  ...               38878\n",
       "48      The Girl Who Played with Fire (Millennium, #2)  ...               24868\n",
       "381  The Name of the Wind (The Kingkiller Chronicle...  ...               23413\n",
       "84   Anna and the French Kiss (Anna and the French ...  ...               20077\n",
       "174             Shiver (The Wolves of Mercy Falls, #1)  ...               18330\n",
       "66                                      The Paris Wife  ...               17667\n",
       "93                  The Five People You Meet in Heaven  ...               14324\n",
       "209  Good Omens: The Nice and Accurate Prophecies o...  ...               11391\n",
       "86       Clockwork Princess (The Infernal Devices, #3)  ...               10861\n",
       "90                                  I Am the Messenger  ...                9971\n",
       "292                               The Couple Next Door  ...                8341\n",
       "273            Life As We Knew It (Last Survivors, #1)  ...                7834\n",
       "72   Born a Crime: Stories From a South African Chi...  ...                7703\n",
       "75                           A Tale for the Time Being  ...                7349\n",
       "91       Pretty Little Liars (Pretty Little Liars, #1)  ...                7094\n",
       "\n",
       "[15 rows x 4 columns]"
      ]
     },
     "execution_count": 90,
     "metadata": {
      "tags": []
     },
     "output_type": "execute_result"
    }
   ],
   "source": [
    "book_sorted_reviews_count = goodreads_book[goodreads_book['ratings_count']>=1000].sort_values('text_reviews_count', ascending=False)\n",
    "book_sorted_reviews_count[important_columns].head(15)"
   ]
  },
  {
   "cell_type": "code",
   "execution_count": 92,
   "metadata": {
    "colab": {
     "base_uri": "https://localhost:8080/",
     "height": 465
    },
    "id": "F4zbwNiTvA0S",
    "outputId": "2ad0f06d-d193-416a-dca8-7a903f88e303"
   },
   "outputs": [
    {
     "data": {
      "image/png": "[encoded data removed]",
      "text/plain": [
       "<Figure size 1152x576 with 1 Axes>"
      ]
     },
     "metadata": {
      "needs_background": "light",
      "tags": []
     },
     "output_type": "display_data"
    }
   ],
   "source": [
    "plot_books_by(book_sorted_reviews_count, 'text_reviews_count', 15)"
   ]
  },
  {
   "cell_type": "markdown",
   "metadata": {
    "id": "SH1BGOgdwEKd"
   },
   "source": [
    "## Top Scored Books"
   ]
  },
  {
   "cell_type": "code",
   "execution_count": 93,
   "metadata": {
    "id": "nBBpIZDxvXhp"
   },
   "outputs": [],
   "source": [
    "from sklearn.preprocessing import MinMaxScaler"
   ]
  },
  {
   "cell_type": "code",
   "execution_count": 94,
   "metadata": {
    "id": "hUuOq2lNwMfG"
   },
   "outputs": [],
   "source": [
    "cols = ['ratings_count','average_rating']\n",
    "scaler = MinMaxScaler()\n",
    "df_normalized = goodreads_book[important_columns].copy()\n",
    "df_normalized[cols] = scaler.fit_transform(df_normalized[cols])"
   ]
  },
  {
   "cell_type": "code",
   "execution_count": 95,
   "metadata": {
    "colab": {
     "base_uri": "https://localhost:8080/",
     "height": 355
    },
    "id": "z1vwX3m6wUIb",
    "outputId": "83b090ff-35ce-4f84-bc20-3866589da98c"
   },
   "outputs": [
    {
     "data": {
      "text/html": [
       "<div>\n",
       "<style scoped>\n",
       "    .dataframe tbody tr th:only-of-type {\n",
       "        vertical-align: middle;\n",
       "    }\n",
       "\n",
       "    .dataframe tbody tr th {\n",
       "        vertical-align: top;\n",
       "    }\n",
       "\n",
       "    .dataframe thead th {\n",
       "        text-align: right;\n",
       "    }\n",
       "</style>\n",
       "<table border=\"1\" class=\"dataframe\">\n",
       "  <thead>\n",
       "    <tr style=\"text-align: right;\">\n",
       "      <th></th>\n",
       "      <th>title</th>\n",
       "      <th>average_rating</th>\n",
       "      <th>ratings_count</th>\n",
       "      <th>text_reviews_count</th>\n",
       "    </tr>\n",
       "  </thead>\n",
       "  <tbody>\n",
       "    <tr>\n",
       "      <th>0</th>\n",
       "      <td>All the Light We Cannot See</td>\n",
       "      <td>0.862</td>\n",
       "      <td>0.071225</td>\n",
       "      <td>2311</td>\n",
       "    </tr>\n",
       "    <tr>\n",
       "      <th>1</th>\n",
       "      <td>The Orphan Master's Son</td>\n",
       "      <td>0.812</td>\n",
       "      <td>0.008532</td>\n",
       "      <td>241</td>\n",
       "    </tr>\n",
       "    <tr>\n",
       "      <th>2</th>\n",
       "      <td>Unbroken: A World War II Story of Survival, Re...</td>\n",
       "      <td>0.878</td>\n",
       "      <td>0.674247</td>\n",
       "      <td>38878</td>\n",
       "    </tr>\n",
       "    <tr>\n",
       "      <th>3</th>\n",
       "      <td>Drive: The Surprising Truth About What Motivat...</td>\n",
       "      <td>0.790</td>\n",
       "      <td>0.078016</td>\n",
       "      <td>2930</td>\n",
       "    </tr>\n",
       "    <tr>\n",
       "      <th>4</th>\n",
       "      <td>The Worlds of a Maasai Warrior: An Autobiography</td>\n",
       "      <td>0.774</td>\n",
       "      <td>0.000327</td>\n",
       "      <td>26</td>\n",
       "    </tr>\n",
       "    <tr>\n",
       "      <th>5</th>\n",
       "      <td>The Amber Spyglass (His Dark Materials, #3)</td>\n",
       "      <td>0.814</td>\n",
       "      <td>0.261737</td>\n",
       "      <td>4926</td>\n",
       "    </tr>\n",
       "    <tr>\n",
       "      <th>6</th>\n",
       "      <td>Personal Finance for Dummies</td>\n",
       "      <td>0.746</td>\n",
       "      <td>0.000037</td>\n",
       "      <td>2</td>\n",
       "    </tr>\n",
       "    <tr>\n",
       "      <th>7</th>\n",
       "      <td>Wish You Were Here</td>\n",
       "      <td>0.824</td>\n",
       "      <td>0.003123</td>\n",
       "      <td>544</td>\n",
       "    </tr>\n",
       "    <tr>\n",
       "      <th>8</th>\n",
       "      <td>Illegal Contact (The Barons, #1)</td>\n",
       "      <td>0.868</td>\n",
       "      <td>0.003385</td>\n",
       "      <td>616</td>\n",
       "    </tr>\n",
       "    <tr>\n",
       "      <th>9</th>\n",
       "      <td>The Marriage Pact (Viral Series)</td>\n",
       "      <td>0.784</td>\n",
       "      <td>0.000055</td>\n",
       "      <td>11</td>\n",
       "    </tr>\n",
       "  </tbody>\n",
       "</table>\n",
       "</div>"
      ],
      "text/plain": [
       "                                               title  ...  text_reviews_count\n",
       "0                        All the Light We Cannot See  ...                2311\n",
       "1                            The Orphan Master's Son  ...                 241\n",
       "2  Unbroken: A World War II Story of Survival, Re...  ...               38878\n",
       "3  Drive: The Surprising Truth About What Motivat...  ...                2930\n",
       "4   The Worlds of a Maasai Warrior: An Autobiography  ...                  26\n",
       "5        The Amber Spyglass (His Dark Materials, #3)  ...                4926\n",
       "6                       Personal Finance for Dummies  ...                   2\n",
       "7                                 Wish You Were Here  ...                 544\n",
       "8                   Illegal Contact (The Barons, #1)  ...                 616\n",
       "9                   The Marriage Pact (Viral Series)  ...                  11\n",
       "\n",
       "[10 rows x 4 columns]"
      ]
     },
     "execution_count": 95,
     "metadata": {
      "tags": []
     },
     "output_type": "execute_result"
    }
   ],
   "source": [
    "df_normalized.head(10)"
   ]
  },
  {
   "cell_type": "code",
   "execution_count": 96,
   "metadata": {
    "id": "1zhX4Q5hwezj"
   },
   "outputs": [],
   "source": [
    "df_normalized['book_score'] = 0.5 * df_normalized['ratings_count'] + 0.5 * df_normalized['average_rating']"
   ]
  },
  {
   "cell_type": "code",
   "execution_count": 97,
   "metadata": {
    "colab": {
     "base_uri": "https://localhost:8080/",
     "height": 355
    },
    "id": "MxIah4BSwtXW",
    "outputId": "512b6038-e7c3-4a58-80f8-3df68a5891af"
   },
   "outputs": [
    {
     "data": {
      "text/html": [
       "<div>\n",
       "<style scoped>\n",
       "    .dataframe tbody tr th:only-of-type {\n",
       "        vertical-align: middle;\n",
       "    }\n",
       "\n",
       "    .dataframe tbody tr th {\n",
       "        vertical-align: top;\n",
       "    }\n",
       "\n",
       "    .dataframe thead th {\n",
       "        text-align: right;\n",
       "    }\n",
       "</style>\n",
       "<table border=\"1\" class=\"dataframe\">\n",
       "  <thead>\n",
       "    <tr style=\"text-align: right;\">\n",
       "      <th></th>\n",
       "      <th>title</th>\n",
       "      <th>average_rating</th>\n",
       "      <th>ratings_count</th>\n",
       "      <th>text_reviews_count</th>\n",
       "      <th>book_score</th>\n",
       "    </tr>\n",
       "  </thead>\n",
       "  <tbody>\n",
       "    <tr>\n",
       "      <th>146</th>\n",
       "      <td>Bridget Jones's Diary (Bridget Jones, #1)</td>\n",
       "      <td>0.750</td>\n",
       "      <td>1.000000</td>\n",
       "      <td>6654</td>\n",
       "      <td>0.875000</td>\n",
       "    </tr>\n",
       "    <tr>\n",
       "      <th>48</th>\n",
       "      <td>The Girl Who Played with Fire (Millennium, #2)</td>\n",
       "      <td>0.844</td>\n",
       "      <td>0.767984</td>\n",
       "      <td>24868</td>\n",
       "      <td>0.805992</td>\n",
       "    </tr>\n",
       "    <tr>\n",
       "      <th>2</th>\n",
       "      <td>Unbroken: A World War II Story of Survival, Re...</td>\n",
       "      <td>0.878</td>\n",
       "      <td>0.674247</td>\n",
       "      <td>38878</td>\n",
       "      <td>0.776123</td>\n",
       "    </tr>\n",
       "    <tr>\n",
       "      <th>381</th>\n",
       "      <td>The Name of the Wind (The Kingkiller Chronicle...</td>\n",
       "      <td>0.910</td>\n",
       "      <td>0.556309</td>\n",
       "      <td>23413</td>\n",
       "      <td>0.733154</td>\n",
       "    </tr>\n",
       "    <tr>\n",
       "      <th>93</th>\n",
       "      <td>The Five People You Meet in Heaven</td>\n",
       "      <td>0.780</td>\n",
       "      <td>0.605526</td>\n",
       "      <td>14324</td>\n",
       "      <td>0.692763</td>\n",
       "    </tr>\n",
       "    <tr>\n",
       "      <th>209</th>\n",
       "      <td>Good Omens: The Nice and Accurate Prophecies o...</td>\n",
       "      <td>0.850</td>\n",
       "      <td>0.410494</td>\n",
       "      <td>11391</td>\n",
       "      <td>0.630247</td>\n",
       "    </tr>\n",
       "    <tr>\n",
       "      <th>174</th>\n",
       "      <td>Shiver (The Wolves of Mercy Falls, #1)</td>\n",
       "      <td>0.756</td>\n",
       "      <td>0.481935</td>\n",
       "      <td>18330</td>\n",
       "      <td>0.618968</td>\n",
       "    </tr>\n",
       "    <tr>\n",
       "      <th>84</th>\n",
       "      <td>Anna and the French Kiss (Anna and the French ...</td>\n",
       "      <td>0.814</td>\n",
       "      <td>0.356997</td>\n",
       "      <td>20077</td>\n",
       "      <td>0.585498</td>\n",
       "    </tr>\n",
       "    <tr>\n",
       "      <th>5</th>\n",
       "      <td>The Amber Spyglass (His Dark Materials, #3)</td>\n",
       "      <td>0.814</td>\n",
       "      <td>0.261737</td>\n",
       "      <td>4926</td>\n",
       "      <td>0.537869</td>\n",
       "    </tr>\n",
       "    <tr>\n",
       "      <th>137</th>\n",
       "      <td>Dead as a Doornail (Sookie Stackhouse, #5)</td>\n",
       "      <td>0.802</td>\n",
       "      <td>0.227890</td>\n",
       "      <td>3253</td>\n",
       "      <td>0.514945</td>\n",
       "    </tr>\n",
       "  </tbody>\n",
       "</table>\n",
       "</div>"
      ],
      "text/plain": [
       "                                                 title  ...  book_score\n",
       "146          Bridget Jones's Diary (Bridget Jones, #1)  ...    0.875000\n",
       "48      The Girl Who Played with Fire (Millennium, #2)  ...    0.805992\n",
       "2    Unbroken: A World War II Story of Survival, Re...  ...    0.776123\n",
       "381  The Name of the Wind (The Kingkiller Chronicle...  ...    0.733154\n",
       "93                  The Five People You Meet in Heaven  ...    0.692763\n",
       "209  Good Omens: The Nice and Accurate Prophecies o...  ...    0.630247\n",
       "174             Shiver (The Wolves of Mercy Falls, #1)  ...    0.618968\n",
       "84   Anna and the French Kiss (Anna and the French ...  ...    0.585498\n",
       "5          The Amber Spyglass (His Dark Materials, #3)  ...    0.537869\n",
       "137         Dead as a Doornail (Sookie Stackhouse, #5)  ...    0.514945\n",
       "\n",
       "[10 rows x 5 columns]"
      ]
     },
     "execution_count": 97,
     "metadata": {
      "tags": []
     },
     "output_type": "execute_result"
    }
   ],
   "source": [
    "df_normalized_sorted_score = df_normalized.sort_values('book_score', ascending=False)\n",
    "df_normalized_sorted_score.head(10)"
   ]
  },
  {
   "cell_type": "code",
   "execution_count": 98,
   "metadata": {
    "colab": {
     "base_uri": "https://localhost:8080/",
     "height": 465
    },
    "id": "NZrUghT9ww1X",
    "outputId": "32999285-f20c-40fe-ea3f-738c4ab91b8c"
   },
   "outputs": [
    {
     "data": {
      "image/png": "[encoded data removed]",
      "text/plain": [
       "<Figure size 1152x576 with 1 Axes>"
      ]
     },
     "metadata": {
      "needs_background": "light",
      "tags": []
     },
     "output_type": "display_data"
    }
   ],
   "source": [
    "plot_books_by(df_normalized_sorted_score, 'book_score', 15)"
   ]
  },
  {
   "cell_type": "code",
   "execution_count": 99,
   "metadata": {
    "colab": {
     "base_uri": "https://localhost:8080/"
    },
    "id": "0fgOjYST5PMm",
    "outputId": "2d5db220-fa61-4415-e31f-d98a6c225ce9"
   },
   "outputs": [
    {
     "data": {
      "text/plain": [
       "(24015, 14)"
      ]
     },
     "execution_count": 99,
     "metadata": {
      "tags": []
     },
     "output_type": "execute_result"
    }
   ],
   "source": [
    "goodreads_book.shape"
   ]
  },
  {
   "cell_type": "code",
   "execution_count": 100,
   "metadata": {
    "colab": {
     "base_uri": "https://localhost:8080/"
    },
    "id": "NovcL_9j5P_x",
    "outputId": "ccca4205-3355-4717-a1d9-f5795657edb1"
   },
   "outputs": [
    {
     "data": {
      "text/plain": [
       "Index(['book_id', 'text_reviews_count', 'average_rating', 'description',\n",
       "       'link', 'url', 'image_url', 'ratings_count', 'title',\n",
       "       'title_without_series', 'language', 'author_id', 'author_name',\n",
       "       'genres_book'],\n",
       "      dtype='object')"
      ]
     },
     "execution_count": 100,
     "metadata": {
      "tags": []
     },
     "output_type": "execute_result"
    }
   ],
   "source": [
    "goodreads_book.columns"
   ]
  },
  {
   "cell_type": "code",
   "execution_count": 139,
   "metadata": {
    "id": "Bov08fBV5XY5"
   },
   "outputs": [],
   "source": [
    "#pip install xlsxwriter"
   ]
  },
  {
   "cell_type": "code",
   "execution_count": null,
   "metadata": {
    "id": "ySIVhHsY6NY3"
   },
   "outputs": [],
   "source": [
    "#import xlsxwriter"
   ]
  },
  {
   "cell_type": "code",
   "execution_count": null,
   "metadata": {
    "id": "RTjeUBQW6RGf"
   },
   "outputs": [],
   "source": [
    "#writer = pd.ExcelWriter(r'nlp_dataset.xlsx', engine='xlsxwriter',options={'strings_to_urls': False})\n",
    "#goodreads_book.to_excel(writer)\n",
    "#writer.close()"
   ]
  },
  {
   "cell_type": "markdown",
   "metadata": {
    "id": "dnRfDsfi5pKv"
   },
   "source": [
    "## Review Dataset Exploration"
   ]
  },
  {
   "cell_type": "code",
   "execution_count": 102,
   "metadata": {
    "id": "tVEvQIAP6eT-"
   },
   "outputs": [],
   "source": [
    "review_book = pd.read_excel('review_dataset.xlsx')"
   ]
  },
  {
   "cell_type": "code",
   "execution_count": 103,
   "metadata": {
    "colab": {
     "base_uri": "https://localhost:8080/",
     "height": 202
    },
    "id": "Zm9fxiFT53gw",
    "outputId": "1bbe858a-9fcc-43f9-d02c-cfe5514be566"
   },
   "outputs": [
    {
     "data": {
      "text/html": [
       "<div>\n",
       "<style scoped>\n",
       "    .dataframe tbody tr th:only-of-type {\n",
       "        vertical-align: middle;\n",
       "    }\n",
       "\n",
       "    .dataframe tbody tr th {\n",
       "        vertical-align: top;\n",
       "    }\n",
       "\n",
       "    .dataframe thead th {\n",
       "        text-align: right;\n",
       "    }\n",
       "</style>\n",
       "<table border=\"1\" class=\"dataframe\">\n",
       "  <thead>\n",
       "    <tr style=\"text-align: right;\">\n",
       "      <th></th>\n",
       "      <th>Unnamed: 0</th>\n",
       "      <th>user_id</th>\n",
       "      <th>book_id</th>\n",
       "      <th>review_id</th>\n",
       "      <th>rating</th>\n",
       "      <th>review_text</th>\n",
       "    </tr>\n",
       "  </thead>\n",
       "  <tbody>\n",
       "    <tr>\n",
       "      <th>0</th>\n",
       "      <td>0</td>\n",
       "      <td>8842281e1d1347389f2ab93d60773d4d</td>\n",
       "      <td>19398490</td>\n",
       "      <td>ea4a220b10e6b5c796dae0e3b970aff1</td>\n",
       "      <td>4</td>\n",
       "      <td>A beautiful story. It is rare to encounter a b...</td>\n",
       "    </tr>\n",
       "    <tr>\n",
       "      <th>1</th>\n",
       "      <td>1</td>\n",
       "      <td>8842281e1d1347389f2ab93d60773d4d</td>\n",
       "      <td>12969594</td>\n",
       "      <td>3e31f26463b536d280c5100e473feb83</td>\n",
       "      <td>3</td>\n",
       "      <td>This book takes us into the crazy world of Nor...</td>\n",
       "    </tr>\n",
       "    <tr>\n",
       "      <th>2</th>\n",
       "      <td>2</td>\n",
       "      <td>8842281e1d1347389f2ab93d60773d4d</td>\n",
       "      <td>8664353</td>\n",
       "      <td>da2d4cfce836a2c57ad55c38437aa692</td>\n",
       "      <td>5</td>\n",
       "      <td>Wow. Amazing story, and well told - kept me up...</td>\n",
       "    </tr>\n",
       "    <tr>\n",
       "      <th>3</th>\n",
       "      <td>3</td>\n",
       "      <td>8842281e1d1347389f2ab93d60773d4d</td>\n",
       "      <td>6452796</td>\n",
       "      <td>33f25b63a8a5be9b832f706c4c0a1cfc</td>\n",
       "      <td>3</td>\n",
       "      <td>Kareem recommends</td>\n",
       "    </tr>\n",
       "    <tr>\n",
       "      <th>4</th>\n",
       "      <td>4</td>\n",
       "      <td>8842281e1d1347389f2ab93d60773d4d</td>\n",
       "      <td>178186</td>\n",
       "      <td>66c9b63369a1ffd1489c61555531996a</td>\n",
       "      <td>5</td>\n",
       "      <td>My safari guide gave this to me, saying the au...</td>\n",
       "    </tr>\n",
       "  </tbody>\n",
       "</table>\n",
       "</div>"
      ],
      "text/plain": [
       "   Unnamed: 0  ...                                        review_text\n",
       "0           0  ...  A beautiful story. It is rare to encounter a b...\n",
       "1           1  ...  This book takes us into the crazy world of Nor...\n",
       "2           2  ...  Wow. Amazing story, and well told - kept me up...\n",
       "3           3  ...                                  Kareem recommends\n",
       "4           4  ...  My safari guide gave this to me, saying the au...\n",
       "\n",
       "[5 rows x 6 columns]"
      ]
     },
     "execution_count": 103,
     "metadata": {
      "tags": []
     },
     "output_type": "execute_result"
    }
   ],
   "source": [
    "review_book.head()"
   ]
  },
  {
   "cell_type": "code",
   "execution_count": 104,
   "metadata": {
    "colab": {
     "base_uri": "https://localhost:8080/"
    },
    "id": "3YA9jW-A6DrM",
    "outputId": "5b15f38d-f973-4507-b832-af4e26e6de12"
   },
   "outputs": [
    {
     "name": "stdout",
     "output_type": "stream",
     "text": [
      "Collecting scikit-surprise\n",
      "\u001b[?25l  Downloading https://files.pythonhosted.org/packages/97/37/5d334adaf5ddd65da99fc65f6507e0e4599d092ba048f4302fe8775619e8/scikit-surprise-1.1.1.tar.gz (11.8MB)\n",
      "\u001b[K     |████████████████████████████████| 11.8MB 6.0MB/s \n",
      "\u001b[?25hRequirement already satisfied: joblib>=0.11 in /usr/local/lib/python3.6/dist-packages (from scikit-surprise) (0.17.0)\n",
      "Requirement already satisfied: numpy>=1.11.2 in /usr/local/lib/python3.6/dist-packages (from scikit-surprise) (1.18.5)\n",
      "Requirement already satisfied: scipy>=1.0.0 in /usr/local/lib/python3.6/dist-packages (from scikit-surprise) (1.4.1)\n",
      "Requirement already satisfied: six>=1.10.0 in /usr/local/lib/python3.6/dist-packages (from scikit-surprise) (1.15.0)\n",
      "Building wheels for collected packages: scikit-surprise\n",
      "  Building wheel for scikit-surprise (setup.py) ... \u001b[?25l\u001b[?25hdone\n",
      "  Created wheel for scikit-surprise: filename=scikit_surprise-1.1.1-cp36-cp36m-linux_x86_64.whl size=1670898 sha256=11e7c4eceb3768afe5b4cf8e03170121a232173e5d90489198d1d9b3b14d8889\n",
      "  Stored in directory: /root/.cache/pip/wheels/78/9c/3d/41b419c9d2aff5b6e2b4c0fc8d25c538202834058f9ed110d0\n",
      "Successfully built scikit-surprise\n",
      "Installing collected packages: scikit-surprise\n",
      "Successfully installed scikit-surprise-1.1.1\n"
     ]
    }
   ],
   "source": [
    "pip install scikit-surprise"
   ]
  },
  {
   "cell_type": "code",
   "execution_count": 109,
   "metadata": {
    "id": "Sy7KQND96QSo"
   },
   "outputs": [],
   "source": [
    "from surprise import Dataset, Reader"
   ]
  },
  {
   "cell_type": "code",
   "execution_count": 110,
   "metadata": {
    "id": "X2DbLBSj6ZNp"
   },
   "outputs": [],
   "source": [
    "reader = Reader(rating_scale=(0, 5))\n",
    "data = Dataset.load_from_df(review_book[['user_id', 'book_id', 'rating']], reader)"
   ]
  },
  {
   "cell_type": "code",
   "execution_count": 111,
   "metadata": {
    "colab": {
     "base_uri": "https://localhost:8080/"
    },
    "id": "O8QpLK706et2",
    "outputId": "afb2932c-9437-4359-8a82-6cb9b1727b48"
   },
   "outputs": [
    {
     "name": "stdout",
     "output_type": "stream",
     "text": [
      "Number of ratings: 90424\n",
      "Number of books: 24015\n",
      "Number of users: 13962\n"
     ]
    }
   ],
   "source": [
    "print('Number of ratings: %d\\nNumber of books: %d\\nNumber of users: %d' % (len(review_book), len(review_book['book_id'].unique()), len(review_book['user_id'].unique())))"
   ]
  },
  {
   "cell_type": "code",
   "execution_count": 112,
   "metadata": {
    "colab": {
     "base_uri": "https://localhost:8080/",
     "height": 404
    },
    "id": "5TpkKYaA6iUe",
    "outputId": "fda81619-5ed3-4573-f885-47d476b51846"
   },
   "outputs": [
    {
     "data": {
      "image/png": "[encoded data removed]",
      "text/plain": [
       "<Figure size 720x432 with 1 Axes>"
      ]
     },
     "metadata": {
      "needs_background": "light",
      "tags": []
     },
     "output_type": "display_data"
    }
   ],
   "source": [
    "palette = sns.color_palette(\"RdBu\", 10)\n",
    "\n",
    "fig, ax = plt.subplots(figsize=(10, 6))\n",
    "sns.countplot(x='rating', data=review_book, palette=palette)\n",
    "ax.set_title('Distribution of book ratings')\n",
    "\n",
    "plt.show()"
   ]
  },
  {
   "cell_type": "markdown",
   "metadata": {
    "id": "ncUHZlL16319"
   },
   "source": [
    "**Number of ratings per user**"
   ]
  },
  {
   "cell_type": "code",
   "execution_count": 116,
   "metadata": {
    "colab": {
     "base_uri": "https://localhost:8080/"
    },
    "id": "Ddk2KwF-6xlz",
    "outputId": "6a2f908d-ca18-49e3-ff0c-10e32cf59e55"
   },
   "outputs": [
    {
     "data": {
      "text/plain": [
       "373"
      ]
     },
     "execution_count": 116,
     "metadata": {
      "tags": []
     },
     "output_type": "execute_result"
    }
   ],
   "source": [
    "ratings_per_user = review_book.groupby('user_id')['user_id'].count()\n",
    "max(ratings_per_user)"
   ]
  },
  {
   "cell_type": "code",
   "execution_count": 126,
   "metadata": {
    "colab": {
     "base_uri": "https://localhost:8080/",
     "height": 442
    },
    "id": "lGbm45zP7A_0",
    "outputId": "9a546191-b9a1-49e2-91dc-93a85d1aedd9"
   },
   "outputs": [
    {
     "data": {
      "image/png": "[encoded data removed]",
      "text/plain": [
       "<Figure size 720x504 with 1 Axes>"
      ]
     },
     "metadata": {
      "needs_background": "light",
      "tags": []
     },
     "output_type": "display_data"
    }
   ],
   "source": [
    "plt.figure(figsize=(10,7))\n",
    "plt.hist(ratings_per_user ,bins='auto',range=[0,50]);\n",
    "plt.grid(axis='y', alpha=1)\n",
    "plt.xlabel('number of ratings per user')\n",
    "plt.ylabel('count');"
   ]
  },
  {
   "cell_type": "code",
   "execution_count": 127,
   "metadata": {
    "colab": {
     "base_uri": "https://localhost:8080/"
    },
    "id": "QM59m4mK7E7m",
    "outputId": "5adaa1ee-0177-4122-cc79-702cf0103acb"
   },
   "outputs": [
    {
     "data": {
      "text/plain": [
       "user_id\n",
       "000258cdb856ee85203323147d1223dd    3.500000\n",
       "00063fbdeb226ca2ea6c0cb9c14ff618    3.400000\n",
       "001bcd168bef7b3789288dc60338697d    3.500000\n",
       "001eb567b3331c3ef3291a801d31be4a    5.000000\n",
       "00204424763e8233c5f53f0729f2304f    3.400000\n",
       "                                      ...   \n",
       "ffecee234f84555b8598155449e0cdf4    2.666667\n",
       "fff49a932c5752a63ab27efa4a651e16    4.000000\n",
       "fffc9cfe8fd818f574c8c219b93274c0    4.562500\n",
       "ffff601c0ffa34bd5ffbbf2caee30644    4.000000\n",
       "ffff7cafdaf5196383cb2efca08fb6fe    4.166667\n",
       "Name: rating, Length: 13962, dtype: float64"
      ]
     },
     "execution_count": 127,
     "metadata": {
      "tags": []
     },
     "output_type": "execute_result"
    }
   ],
   "source": [
    "mean_rating_per_user = review_book.groupby('user_id')['rating'].mean()\n",
    "mean_rating_per_user"
   ]
  },
  {
   "cell_type": "code",
   "execution_count": 131,
   "metadata": {
    "colab": {
     "base_uri": "https://localhost:8080/",
     "height": 497
    },
    "id": "fTGQy4GV7Rrm",
    "outputId": "1cdc6aef-b0da-4d48-b4a1-28435dc461f2"
   },
   "outputs": [
    {
     "data": {
      "image/png": "[encoded data removed]",
      "text/plain": [
       "<Figure size 864x576 with 1 Axes>"
      ]
     },
     "metadata": {
      "needs_background": "light",
      "tags": []
     },
     "output_type": "display_data"
    }
   ],
   "source": [
    "plt.figure(figsize=(12,8))\n",
    "plt.hist(mean_rating_per_user, bins='auto');\n",
    "plt.grid(axis='y', alpha=0.75)\n",
    "plt.xlabel('mean user rating')\n",
    "plt.ylabel('count');"
   ]
  },
  {
   "cell_type": "markdown",
   "metadata": {
    "id": "wzYcHrOW7bId"
   },
   "source": [
    "**Number of ratings per book**"
   ]
  },
  {
   "cell_type": "code",
   "execution_count": 132,
   "metadata": {
    "colab": {
     "base_uri": "https://localhost:8080/"
    },
    "id": "0oL0tg8C7Vn7",
    "outputId": "31848700-920e-4d2e-b2c3-8c65b0217a4f"
   },
   "outputs": [
    {
     "data": {
      "text/plain": [
       "book_id\n",
       "228          2\n",
       "420          9\n",
       "422          9\n",
       "423          6\n",
       "428         41\n",
       "            ..\n",
       "36393393     2\n",
       "36434372     2\n",
       "36438554     1\n",
       "36460950     1\n",
       "36469332     1\n",
       "Name: book_id, Length: 24015, dtype: int64"
      ]
     },
     "execution_count": 132,
     "metadata": {
      "tags": []
     },
     "output_type": "execute_result"
    }
   ],
   "source": [
    "ratings_per_book = review_book.groupby('book_id')['book_id'].count()\n",
    "ratings_per_book"
   ]
  },
  {
   "cell_type": "code",
   "execution_count": 136,
   "metadata": {
    "colab": {
     "base_uri": "https://localhost:8080/",
     "height": 281
    },
    "id": "SNcbiXsF7gLP",
    "outputId": "b08492ac-1da9-49ed-b2d2-f2d015ebcdd2"
   },
   "outputs": [
    {
     "data": {
      "image/png": "[encoded data removed]",
      "text/plain": [
       "<Figure size 720x288 with 1 Axes>"
      ]
     },
     "metadata": {
      "needs_background": "light",
      "tags": []
     },
     "output_type": "display_data"
    }
   ],
   "source": [
    "plt.figure(figsize=(10,4))\n",
    "plt.hist(ratings_per_book ,bins='auto',range=[0,50]);\n",
    "plt.grid(axis='y', alpha=1)\n",
    "plt.xlabel('number of ratings per user')\n",
    "plt.ylabel('count');"
   ]
  },
  {
   "cell_type": "code",
   "execution_count": 137,
   "metadata": {
    "colab": {
     "base_uri": "https://localhost:8080/"
    },
    "id": "5E67ZkXk7vsQ",
    "outputId": "f9b59a0b-7dd9-4fd7-91e5-f18bf7ca64b8"
   },
   "outputs": [
    {
     "data": {
      "text/plain": [
       "book_id\n",
       "228         4.500000\n",
       "420         3.666667\n",
       "422         3.888889\n",
       "423         3.500000\n",
       "428         3.609756\n",
       "              ...   \n",
       "36393393    4.500000\n",
       "36434372    2.000000\n",
       "36438554    4.000000\n",
       "36460950    4.000000\n",
       "36469332    3.000000\n",
       "Name: rating, Length: 24015, dtype: float64"
      ]
     },
     "execution_count": 137,
     "metadata": {
      "tags": []
     },
     "output_type": "execute_result"
    }
   ],
   "source": [
    "mean_rating_per_book = review_book.groupby('book_id')['rating'].mean()\n",
    "mean_rating_per_book"
   ]
  },
  {
   "cell_type": "code",
   "execution_count": 138,
   "metadata": {
    "colab": {
     "base_uri": "https://localhost:8080/",
     "height": 497
    },
    "id": "01Mbt9NC77ib",
    "outputId": "4cc15ae0-8ecc-4a4e-e644-7337da04442e"
   },
   "outputs": [
    {
     "data": {
      "image/png": "[encoded data removed]",
      "text/plain": [
       "<Figure size 864x576 with 1 Axes>"
      ]
     },
     "metadata": {
      "needs_background": "light",
      "tags": []
     },
     "output_type": "display_data"
    }
   ],
   "source": [
    "plt.figure(figsize=(12,8))\n",
    "plt.hist(mean_rating_per_book, bins='auto');\n",
    "plt.grid(axis='y', alpha=0.75)\n",
    "plt.xlabel('mean book rating')\n",
    "plt.ylabel('count');"
   ]
  },
  {
   "cell_type": "code",
   "execution_count": null,
   "metadata": {
    "id": "yo-f6zaL795s"
   },
   "outputs": [],
   "source": []
  }
 ],
 "metadata": {
  "colab": {
   "collapsed_sections": [],
   "name": "3#Exploration_and_combining.ipynb",
   "provenance": []
  },
  "kernelspec": {
   "display_name": "Python 3",
   "language": "python",
   "name": "python3"
  },
  "language_info": {
   "codemirror_mode": {
    "name": "ipython",
    "version": 3
   },
   "file_extension": ".py",
   "mimetype": "text/x-python",
   "name": "python",
   "nbconvert_exporter": "python",
   "pygments_lexer": "ipython3",
   "version": "3.8.3"
  }
 },
 "nbformat": 4,
 "nbformat_minor": 1
}
