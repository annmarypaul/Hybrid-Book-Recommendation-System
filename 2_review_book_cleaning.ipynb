{
 "cells": [
  {
   "cell_type": "code",
   "execution_count": null,
   "metadata": {
    "colab": {
     "base_uri": "https://localhost:8080/"
    },
    "id": "WCQeieDJwXEG",
    "outputId": "6e60576d-85c7-495a-dc81-426c1c6d65c2"
   },
   "outputs": [
    {
     "name": "stdout",
     "output_type": "stream",
     "text": [
      "Drive already mounted at /content/gdrive; to attempt to forcibly remount, call drive.mount(\"/content/gdrive\", force_remount=True).\n"
     ]
    }
   ],
   "source": [
    "from google.colab import drive\n",
    "drive.mount('/content/gdrive')"
   ]
  },
  {
   "cell_type": "code",
   "execution_count": null,
   "metadata": {
    "colab": {
     "base_uri": "https://localhost:8080/"
    },
    "id": "2kB15yLqwj4e",
    "outputId": "45c9cdbd-8023-4c32-88ef-a4241d2342fd"
   },
   "outputs": [
    {
     "name": "stdout",
     "output_type": "stream",
     "text": [
      "/content/gdrive/My Drive\n"
     ]
    }
   ],
   "source": [
    "%cd /content/gdrive/My Drive"
   ]
  },
  {
   "cell_type": "code",
   "execution_count": null,
   "metadata": {
    "colab": {
     "base_uri": "https://localhost:8080/"
    },
    "id": "gcVdyfFxwnbu",
    "outputId": "ecac815a-1aa2-403b-c4c1-6709d553a448"
   },
   "outputs": [
    {
     "name": "stdout",
     "output_type": "stream",
     "text": [
      "Requirement already satisfied: simplejson in /usr/local/lib/python3.6/dist-packages (3.17.2)\n"
     ]
    }
   ],
   "source": [
    "!pip install simplejson"
   ]
  },
  {
   "cell_type": "code",
   "execution_count": null,
   "metadata": {
    "id": "cYBQHRenwqxX"
   },
   "outputs": [],
   "source": [
    "# Dataframe\n",
    "import pandas as pd\n",
    "\n",
    "# Array\n",
    "import numpy as np\n",
    "\n",
    "# Decompress the file\n",
    "import gzip\n",
    "\n",
    "# Visualizations\n",
    "import matplotlib.pyplot as plt\n",
    "from matplotlib.colors import ListedColormap\n",
    "import seaborn as sns\n",
    "import matplotlib.colors as colors\n",
    "%matplotlib inline\n",
    "\n",
    "# Datetime\n",
    "from datetime import datetime\n",
    "\n",
    "## Warnings\n",
    "import warnings\n",
    "from scipy import stats\n",
    "warnings.filterwarnings('ignore')"
   ]
  },
  {
   "cell_type": "markdown",
   "metadata": {
    "id": "qdVmZPBEH25Y"
   },
   "source": [
    "**Importing review json file**"
   ]
  },
  {
   "cell_type": "code",
   "execution_count": null,
   "metadata": {
    "id": "_IebItQbw347"
   },
   "outputs": [],
   "source": [
    "import pandas as pd\n",
    "import gzip\n",
    "import json\n",
    "def parse(path):\n",
    "  g = open(path, 'rb')\n",
    "  for l in g:\n",
    "    yield json.loads(l)\n",
    "\n",
    "def getDF(path):\n",
    "  i = 0\n",
    "  df = {}\n",
    "  for idx,d in enumerate(parse(path)):\n",
    "    if(idx>=0):\n",
    "      df[i] = d\n",
    "      i += 1\n",
    "      if(i>=3200000):    \n",
    "        break\n",
    "  return pd.DataFrame.from_dict(df, orient='index')\n",
    "\n",
    "df = getDF('goodreads_reviews_dedup.json')"
   ]
  },
  {
   "cell_type": "code",
   "execution_count": null,
   "metadata": {
    "colab": {
     "base_uri": "https://localhost:8080/",
     "height": 1000
    },
    "id": "ncsDE15mxLRU",
    "outputId": "32a6c1a1-cb13-400d-afa4-0fc42b495731"
   },
   "outputs": [
    {
     "data": {
      "text/html": [
       "<div>\n",
       "<style scoped>\n",
       "    .dataframe tbody tr th:only-of-type {\n",
       "        vertical-align: middle;\n",
       "    }\n",
       "\n",
       "    .dataframe tbody tr th {\n",
       "        vertical-align: top;\n",
       "    }\n",
       "\n",
       "    .dataframe thead th {\n",
       "        text-align: right;\n",
       "    }\n",
       "</style>\n",
       "<table border=\"1\" class=\"dataframe\">\n",
       "  <thead>\n",
       "    <tr style=\"text-align: right;\">\n",
       "      <th></th>\n",
       "      <th>user_id</th>\n",
       "      <th>book_id</th>\n",
       "      <th>review_id</th>\n",
       "      <th>rating</th>\n",
       "      <th>review_text</th>\n",
       "      <th>date_added</th>\n",
       "      <th>date_updated</th>\n",
       "      <th>read_at</th>\n",
       "      <th>started_at</th>\n",
       "      <th>n_votes</th>\n",
       "      <th>n_comments</th>\n",
       "    </tr>\n",
       "  </thead>\n",
       "  <tbody>\n",
       "    <tr>\n",
       "      <th>0</th>\n",
       "      <td>8842281e1d1347389f2ab93d60773d4d</td>\n",
       "      <td>24375664</td>\n",
       "      <td>5cd416f3efc3f944fce4ce2db2290d5e</td>\n",
       "      <td>5</td>\n",
       "      <td>Mind blowingly cool. Best science fiction I've...</td>\n",
       "      <td>Fri Aug 25 13:55:02 -0700 2017</td>\n",
       "      <td>Mon Oct 09 08:55:59 -0700 2017</td>\n",
       "      <td>Sat Oct 07 00:00:00 -0700 2017</td>\n",
       "      <td>Sat Aug 26 00:00:00 -0700 2017</td>\n",
       "      <td>16</td>\n",
       "      <td>0</td>\n",
       "    </tr>\n",
       "    <tr>\n",
       "      <th>1</th>\n",
       "      <td>8842281e1d1347389f2ab93d60773d4d</td>\n",
       "      <td>18245960</td>\n",
       "      <td>dfdbb7b0eb5a7e4c26d59a937e2e5feb</td>\n",
       "      <td>5</td>\n",
       "      <td>This is a special book. It started slow for ab...</td>\n",
       "      <td>Sun Jul 30 07:44:10 -0700 2017</td>\n",
       "      <td>Wed Aug 30 00:00:26 -0700 2017</td>\n",
       "      <td>Sat Aug 26 12:05:52 -0700 2017</td>\n",
       "      <td>Tue Aug 15 13:23:18 -0700 2017</td>\n",
       "      <td>28</td>\n",
       "      <td>1</td>\n",
       "    </tr>\n",
       "    <tr>\n",
       "      <th>2</th>\n",
       "      <td>8842281e1d1347389f2ab93d60773d4d</td>\n",
       "      <td>6392944</td>\n",
       "      <td>5e212a62bced17b4dbe41150e5bb9037</td>\n",
       "      <td>3</td>\n",
       "      <td>I haven't read a fun mystery book in a while a...</td>\n",
       "      <td>Mon Jul 24 02:48:17 -0700 2017</td>\n",
       "      <td>Sun Jul 30 09:28:03 -0700 2017</td>\n",
       "      <td>Tue Jul 25 00:00:00 -0700 2017</td>\n",
       "      <td>Mon Jul 24 00:00:00 -0700 2017</td>\n",
       "      <td>6</td>\n",
       "      <td>0</td>\n",
       "    </tr>\n",
       "    <tr>\n",
       "      <th>3</th>\n",
       "      <td>8842281e1d1347389f2ab93d60773d4d</td>\n",
       "      <td>22078596</td>\n",
       "      <td>fdd13cad0695656be99828cd75d6eb73</td>\n",
       "      <td>4</td>\n",
       "      <td>Fun, fast paced, and disturbing tale of murder...</td>\n",
       "      <td>Mon Jul 24 02:33:09 -0700 2017</td>\n",
       "      <td>Sun Jul 30 10:23:54 -0700 2017</td>\n",
       "      <td>Sun Jul 30 15:42:05 -0700 2017</td>\n",
       "      <td>Tue Jul 25 00:00:00 -0700 2017</td>\n",
       "      <td>22</td>\n",
       "      <td>4</td>\n",
       "    </tr>\n",
       "    <tr>\n",
       "      <th>4</th>\n",
       "      <td>8842281e1d1347389f2ab93d60773d4d</td>\n",
       "      <td>6644782</td>\n",
       "      <td>bd0df91c9d918c0e433b9ab3a9a5c451</td>\n",
       "      <td>4</td>\n",
       "      <td>A fun book that gives you a sense of living in...</td>\n",
       "      <td>Mon Jul 24 02:28:14 -0700 2017</td>\n",
       "      <td>Thu Aug 24 00:07:20 -0700 2017</td>\n",
       "      <td>Sat Aug 05 00:00:00 -0700 2017</td>\n",
       "      <td>Sun Jul 30 00:00:00 -0700 2017</td>\n",
       "      <td>8</td>\n",
       "      <td>0</td>\n",
       "    </tr>\n",
       "    <tr>\n",
       "      <th>...</th>\n",
       "      <td>...</td>\n",
       "      <td>...</td>\n",
       "      <td>...</td>\n",
       "      <td>...</td>\n",
       "      <td>...</td>\n",
       "      <td>...</td>\n",
       "      <td>...</td>\n",
       "      <td>...</td>\n",
       "      <td>...</td>\n",
       "      <td>...</td>\n",
       "      <td>...</td>\n",
       "    </tr>\n",
       "    <tr>\n",
       "      <th>3199995</th>\n",
       "      <td>7f7a51d8f8187e96e8122c1ab042875b</td>\n",
       "      <td>12955673</td>\n",
       "      <td>a17563206695008b72f15784e113ba36</td>\n",
       "      <td>5</td>\n",
       "      <td>Stories so tightly constructed they're like re...</td>\n",
       "      <td>Sat Mar 30 16:51:37 -0700 2013</td>\n",
       "      <td>Mon Dec 02 20:37:10 -0800 2013</td>\n",
       "      <td>Mon Dec 02 00:00:00 -0800 2013</td>\n",
       "      <td>Wed Apr 24 00:00:00 -0700 2013</td>\n",
       "      <td>1</td>\n",
       "      <td>0</td>\n",
       "    </tr>\n",
       "    <tr>\n",
       "      <th>3199996</th>\n",
       "      <td>7f7a51d8f8187e96e8122c1ab042875b</td>\n",
       "      <td>13593645</td>\n",
       "      <td>c5688323c1f2bd5af64db1661245c566</td>\n",
       "      <td>4</td>\n",
       "      <td>A striking, Jewey, Kavalier and Clay-like swin...</td>\n",
       "      <td>Wed Mar 06 13:35:53 -0800 2013</td>\n",
       "      <td>Sun Jul 14 16:38:03 -0700 2013</td>\n",
       "      <td>Sun Jul 14 16:38:03 -0700 2013</td>\n",
       "      <td>Wed May 22 00:00:00 -0700 2013</td>\n",
       "      <td>1</td>\n",
       "      <td>0</td>\n",
       "    </tr>\n",
       "    <tr>\n",
       "      <th>3199997</th>\n",
       "      <td>7f7a51d8f8187e96e8122c1ab042875b</td>\n",
       "      <td>13181961</td>\n",
       "      <td>c04a072182ab5bb589da22d5835054df</td>\n",
       "      <td>5</td>\n",
       "      <td>You are very much caught-up in your own head, ...</td>\n",
       "      <td>Wed Mar 06 07:24:43 -0800 2013</td>\n",
       "      <td>Thu Mar 14 20:09:45 -0700 2013</td>\n",
       "      <td>Thu Mar 14 00:00:00 -0700 2013</td>\n",
       "      <td>Wed Mar 06 00:00:00 -0800 2013</td>\n",
       "      <td>4</td>\n",
       "      <td>0</td>\n",
       "    </tr>\n",
       "    <tr>\n",
       "      <th>3199998</th>\n",
       "      <td>7f7a51d8f8187e96e8122c1ab042875b</td>\n",
       "      <td>16077981</td>\n",
       "      <td>516bd45c1e561258f979e77a074f7698</td>\n",
       "      <td>4</td>\n",
       "      <td>Read it. And blurbed it. Yo. \\n \"A group of sm...</td>\n",
       "      <td>Wed Feb 27 20:14:54 -0800 2013</td>\n",
       "      <td>Wed Feb 27 20:15:52 -0800 2013</td>\n",
       "      <td></td>\n",
       "      <td></td>\n",
       "      <td>1</td>\n",
       "      <td>0</td>\n",
       "    </tr>\n",
       "    <tr>\n",
       "      <th>3199999</th>\n",
       "      <td>7f7a51d8f8187e96e8122c1ab042875b</td>\n",
       "      <td>12831715</td>\n",
       "      <td>d5fef8ef251f8438d7567bdc13529e0b</td>\n",
       "      <td>4</td>\n",
       "      <td>Oozy, gray trickles of despair. Not quite func...</td>\n",
       "      <td>Wed Feb 27 09:59:25 -0800 2013</td>\n",
       "      <td>Sat Feb 11 14:59:25 -0800 2017</td>\n",
       "      <td></td>\n",
       "      <td>Thu Mar 21 00:00:00 -0700 2013</td>\n",
       "      <td>0</td>\n",
       "      <td>0</td>\n",
       "    </tr>\n",
       "  </tbody>\n",
       "</table>\n",
       "<p>3200000 rows × 11 columns</p>\n",
       "</div>"
      ],
      "text/plain": [
       "                                  user_id   book_id  ... n_votes  n_comments\n",
       "0        8842281e1d1347389f2ab93d60773d4d  24375664  ...      16           0\n",
       "1        8842281e1d1347389f2ab93d60773d4d  18245960  ...      28           1\n",
       "2        8842281e1d1347389f2ab93d60773d4d   6392944  ...       6           0\n",
       "3        8842281e1d1347389f2ab93d60773d4d  22078596  ...      22           4\n",
       "4        8842281e1d1347389f2ab93d60773d4d   6644782  ...       8           0\n",
       "...                                   ...       ...  ...     ...         ...\n",
       "3199995  7f7a51d8f8187e96e8122c1ab042875b  12955673  ...       1           0\n",
       "3199996  7f7a51d8f8187e96e8122c1ab042875b  13593645  ...       1           0\n",
       "3199997  7f7a51d8f8187e96e8122c1ab042875b  13181961  ...       4           0\n",
       "3199998  7f7a51d8f8187e96e8122c1ab042875b  16077981  ...       1           0\n",
       "3199999  7f7a51d8f8187e96e8122c1ab042875b  12831715  ...       0           0\n",
       "\n",
       "[3200000 rows x 11 columns]"
      ]
     },
     "execution_count": 6,
     "metadata": {
      "tags": []
     },
     "output_type": "execute_result"
    }
   ],
   "source": [
    "df"
   ]
  },
  {
   "cell_type": "code",
   "execution_count": null,
   "metadata": {
    "id": "ThmJEUFw1qXK"
   },
   "outputs": [],
   "source": [
    "new_ratings = df"
   ]
  },
  {
   "cell_type": "code",
   "execution_count": null,
   "metadata": {
    "colab": {
     "base_uri": "https://localhost:8080/"
    },
    "id": "EEN57xh94gK0",
    "outputId": "ed602d9a-a564-4e8a-b445-293ca3df9181"
   },
   "outputs": [
    {
     "data": {
      "text/plain": [
       "(3200000, 11)"
      ]
     },
     "execution_count": 9,
     "metadata": {
      "tags": []
     },
     "output_type": "execute_result"
    }
   ],
   "source": [
    "new_ratings.shape"
   ]
  },
  {
   "cell_type": "code",
   "execution_count": null,
   "metadata": {
    "colab": {
     "base_uri": "https://localhost:8080/"
    },
    "id": "-vctDR6E1tVX",
    "outputId": "6c2d3692-74b6-4845-ccc7-a65f7f573dac"
   },
   "outputs": [
    {
     "data": {
      "text/plain": [
       "Index(['user_id', 'book_id', 'review_id', 'rating', 'review_text',\n",
       "       'date_added', 'date_updated', 'read_at', 'started_at', 'n_votes',\n",
       "       'n_comments'],\n",
       "      dtype='object')"
      ]
     },
     "execution_count": 10,
     "metadata": {
      "tags": []
     },
     "output_type": "execute_result"
    }
   ],
   "source": [
    "new_ratings.columns"
   ]
  },
  {
   "cell_type": "code",
   "execution_count": null,
   "metadata": {
    "id": "6wZHf8iS2GsS"
   },
   "outputs": [],
   "source": [
    "new_ratings=new_ratings.drop(['date_added', 'date_updated', 'read_at', 'started_at', 'n_votes','n_comments'],axis=1)"
   ]
  },
  {
   "cell_type": "code",
   "execution_count": null,
   "metadata": {
    "colab": {
     "base_uri": "https://localhost:8080/",
     "height": 202
    },
    "id": "CHa6z2fr2a9I",
    "outputId": "0083f319-4f02-4808-b1f9-034b16741c09"
   },
   "outputs": [
    {
     "data": {
      "text/html": [
       "<div>\n",
       "<style scoped>\n",
       "    .dataframe tbody tr th:only-of-type {\n",
       "        vertical-align: middle;\n",
       "    }\n",
       "\n",
       "    .dataframe tbody tr th {\n",
       "        vertical-align: top;\n",
       "    }\n",
       "\n",
       "    .dataframe thead th {\n",
       "        text-align: right;\n",
       "    }\n",
       "</style>\n",
       "<table border=\"1\" class=\"dataframe\">\n",
       "  <thead>\n",
       "    <tr style=\"text-align: right;\">\n",
       "      <th></th>\n",
       "      <th>user_id</th>\n",
       "      <th>book_id</th>\n",
       "      <th>review_id</th>\n",
       "      <th>rating</th>\n",
       "      <th>review_text</th>\n",
       "    </tr>\n",
       "  </thead>\n",
       "  <tbody>\n",
       "    <tr>\n",
       "      <th>0</th>\n",
       "      <td>8842281e1d1347389f2ab93d60773d4d</td>\n",
       "      <td>24375664</td>\n",
       "      <td>5cd416f3efc3f944fce4ce2db2290d5e</td>\n",
       "      <td>5</td>\n",
       "      <td>Mind blowingly cool. Best science fiction I've...</td>\n",
       "    </tr>\n",
       "    <tr>\n",
       "      <th>1</th>\n",
       "      <td>8842281e1d1347389f2ab93d60773d4d</td>\n",
       "      <td>18245960</td>\n",
       "      <td>dfdbb7b0eb5a7e4c26d59a937e2e5feb</td>\n",
       "      <td>5</td>\n",
       "      <td>This is a special book. It started slow for ab...</td>\n",
       "    </tr>\n",
       "    <tr>\n",
       "      <th>2</th>\n",
       "      <td>8842281e1d1347389f2ab93d60773d4d</td>\n",
       "      <td>6392944</td>\n",
       "      <td>5e212a62bced17b4dbe41150e5bb9037</td>\n",
       "      <td>3</td>\n",
       "      <td>I haven't read a fun mystery book in a while a...</td>\n",
       "    </tr>\n",
       "    <tr>\n",
       "      <th>3</th>\n",
       "      <td>8842281e1d1347389f2ab93d60773d4d</td>\n",
       "      <td>22078596</td>\n",
       "      <td>fdd13cad0695656be99828cd75d6eb73</td>\n",
       "      <td>4</td>\n",
       "      <td>Fun, fast paced, and disturbing tale of murder...</td>\n",
       "    </tr>\n",
       "    <tr>\n",
       "      <th>4</th>\n",
       "      <td>8842281e1d1347389f2ab93d60773d4d</td>\n",
       "      <td>6644782</td>\n",
       "      <td>bd0df91c9d918c0e433b9ab3a9a5c451</td>\n",
       "      <td>4</td>\n",
       "      <td>A fun book that gives you a sense of living in...</td>\n",
       "    </tr>\n",
       "  </tbody>\n",
       "</table>\n",
       "</div>"
      ],
      "text/plain": [
       "                            user_id  ...                                        review_text\n",
       "0  8842281e1d1347389f2ab93d60773d4d  ...  Mind blowingly cool. Best science fiction I've...\n",
       "1  8842281e1d1347389f2ab93d60773d4d  ...  This is a special book. It started slow for ab...\n",
       "2  8842281e1d1347389f2ab93d60773d4d  ...  I haven't read a fun mystery book in a while a...\n",
       "3  8842281e1d1347389f2ab93d60773d4d  ...  Fun, fast paced, and disturbing tale of murder...\n",
       "4  8842281e1d1347389f2ab93d60773d4d  ...  A fun book that gives you a sense of living in...\n",
       "\n",
       "[5 rows x 5 columns]"
      ]
     },
     "execution_count": 12,
     "metadata": {
      "tags": []
     },
     "output_type": "execute_result"
    }
   ],
   "source": [
    "new_ratings.head()"
   ]
  },
  {
   "cell_type": "markdown",
   "metadata": {
    "id": "9SaqIhGT3rtI"
   },
   "source": [
    "**Importing goodreadsmetabook**"
   ]
  },
  {
   "cell_type": "code",
   "execution_count": null,
   "metadata": {
    "id": "aJiC9pcg3JEc"
   },
   "outputs": [],
   "source": [
    "goodreads_book1 = pd.read_excel('cleaned_goodreadsbook#1.xlsx')"
   ]
  },
  {
   "cell_type": "code",
   "execution_count": null,
   "metadata": {
    "colab": {
     "base_uri": "https://localhost:8080/"
    },
    "id": "I3DEk8hT3WgS",
    "outputId": "d0c0cedc-9632-4ab8-97ca-99a87fd71191"
   },
   "outputs": [
    {
     "data": {
      "text/plain": [
       "(189625, 14)"
      ]
     },
     "execution_count": 14,
     "metadata": {
      "tags": []
     },
     "output_type": "execute_result"
    }
   ],
   "source": [
    "goodreads_book1.shape"
   ]
  },
  {
   "cell_type": "code",
   "execution_count": null,
   "metadata": {
    "id": "39HXXHbQyy7c"
   },
   "outputs": [],
   "source": [
    "goodreads_book1= goodreads_book1.head(60000)"
   ]
  },
  {
   "cell_type": "code",
   "execution_count": null,
   "metadata": {
    "id": "Mj40G5wc4qjO"
   },
   "outputs": [],
   "source": [
    "goodreads_book=goodreads_book1.drop('Unnamed: 0',axis=1)"
   ]
  },
  {
   "cell_type": "code",
   "execution_count": null,
   "metadata": {
    "colab": {
     "base_uri": "https://localhost:8080/"
    },
    "id": "GzW2DnqJ5kdS",
    "outputId": "0ea74897-6d04-423b-dc66-cefad72fcef9"
   },
   "outputs": [
    {
     "data": {
      "text/plain": [
       "(60000, 13)"
      ]
     },
     "execution_count": 18,
     "metadata": {
      "tags": []
     },
     "output_type": "execute_result"
    }
   ],
   "source": [
    "goodreads_book.shape"
   ]
  },
  {
   "cell_type": "code",
   "execution_count": null,
   "metadata": {
    "id": "vlmN30kg5nm4"
   },
   "outputs": [],
   "source": [
    "goodreads_book=goodreads_book.reset_index(drop=True)"
   ]
  },
  {
   "cell_type": "code",
   "execution_count": null,
   "metadata": {
    "id": "4Zm3T8y17jq9"
   },
   "outputs": [],
   "source": [
    "goodreads_book=goodreads_book.astype(str) "
   ]
  },
  {
   "cell_type": "code",
   "execution_count": null,
   "metadata": {
    "id": "qyzOUgD76Lq0"
   },
   "outputs": [],
   "source": [
    "final=pd.merge(new_ratings,goodreads_book,on='book_id',how='left')"
   ]
  },
  {
   "cell_type": "code",
   "execution_count": null,
   "metadata": {
    "colab": {
     "base_uri": "https://localhost:8080/",
     "height": 517
    },
    "id": "PgElaoFE6wdm",
    "outputId": "8ad68f28-f860-4c3c-986a-a829df13813b"
   },
   "outputs": [
    {
     "data": {
      "text/html": [
       "<div>\n",
       "<style scoped>\n",
       "    .dataframe tbody tr th:only-of-type {\n",
       "        vertical-align: middle;\n",
       "    }\n",
       "\n",
       "    .dataframe tbody tr th {\n",
       "        vertical-align: top;\n",
       "    }\n",
       "\n",
       "    .dataframe thead th {\n",
       "        text-align: right;\n",
       "    }\n",
       "</style>\n",
       "<table border=\"1\" class=\"dataframe\">\n",
       "  <thead>\n",
       "    <tr style=\"text-align: right;\">\n",
       "      <th></th>\n",
       "      <th>user_id</th>\n",
       "      <th>book_id</th>\n",
       "      <th>review_id</th>\n",
       "      <th>rating</th>\n",
       "      <th>review_text</th>\n",
       "      <th>text_reviews_count</th>\n",
       "      <th>average_rating</th>\n",
       "      <th>description</th>\n",
       "      <th>link</th>\n",
       "      <th>authors</th>\n",
       "      <th>publication_year</th>\n",
       "      <th>url</th>\n",
       "      <th>image_url</th>\n",
       "      <th>ratings_count</th>\n",
       "      <th>title</th>\n",
       "      <th>title_without_series</th>\n",
       "      <th>language</th>\n",
       "    </tr>\n",
       "  </thead>\n",
       "  <tbody>\n",
       "    <tr>\n",
       "      <th>0</th>\n",
       "      <td>8842281e1d1347389f2ab93d60773d4d</td>\n",
       "      <td>24375664</td>\n",
       "      <td>5cd416f3efc3f944fce4ce2db2290d5e</td>\n",
       "      <td>5</td>\n",
       "      <td>Mind blowingly cool. Best science fiction I've...</td>\n",
       "      <td>NaN</td>\n",
       "      <td>NaN</td>\n",
       "      <td>NaN</td>\n",
       "      <td>NaN</td>\n",
       "      <td>NaN</td>\n",
       "      <td>NaN</td>\n",
       "      <td>NaN</td>\n",
       "      <td>NaN</td>\n",
       "      <td>NaN</td>\n",
       "      <td>NaN</td>\n",
       "      <td>NaN</td>\n",
       "      <td>NaN</td>\n",
       "    </tr>\n",
       "    <tr>\n",
       "      <th>1</th>\n",
       "      <td>8842281e1d1347389f2ab93d60773d4d</td>\n",
       "      <td>18245960</td>\n",
       "      <td>dfdbb7b0eb5a7e4c26d59a937e2e5feb</td>\n",
       "      <td>5</td>\n",
       "      <td>This is a special book. It started slow for ab...</td>\n",
       "      <td>NaN</td>\n",
       "      <td>NaN</td>\n",
       "      <td>NaN</td>\n",
       "      <td>NaN</td>\n",
       "      <td>NaN</td>\n",
       "      <td>NaN</td>\n",
       "      <td>NaN</td>\n",
       "      <td>NaN</td>\n",
       "      <td>NaN</td>\n",
       "      <td>NaN</td>\n",
       "      <td>NaN</td>\n",
       "      <td>NaN</td>\n",
       "    </tr>\n",
       "    <tr>\n",
       "      <th>2</th>\n",
       "      <td>8842281e1d1347389f2ab93d60773d4d</td>\n",
       "      <td>6392944</td>\n",
       "      <td>5e212a62bced17b4dbe41150e5bb9037</td>\n",
       "      <td>3</td>\n",
       "      <td>I haven't read a fun mystery book in a while a...</td>\n",
       "      <td>NaN</td>\n",
       "      <td>NaN</td>\n",
       "      <td>NaN</td>\n",
       "      <td>NaN</td>\n",
       "      <td>NaN</td>\n",
       "      <td>NaN</td>\n",
       "      <td>NaN</td>\n",
       "      <td>NaN</td>\n",
       "      <td>NaN</td>\n",
       "      <td>NaN</td>\n",
       "      <td>NaN</td>\n",
       "      <td>NaN</td>\n",
       "    </tr>\n",
       "    <tr>\n",
       "      <th>3</th>\n",
       "      <td>8842281e1d1347389f2ab93d60773d4d</td>\n",
       "      <td>22078596</td>\n",
       "      <td>fdd13cad0695656be99828cd75d6eb73</td>\n",
       "      <td>4</td>\n",
       "      <td>Fun, fast paced, and disturbing tale of murder...</td>\n",
       "      <td>NaN</td>\n",
       "      <td>NaN</td>\n",
       "      <td>NaN</td>\n",
       "      <td>NaN</td>\n",
       "      <td>NaN</td>\n",
       "      <td>NaN</td>\n",
       "      <td>NaN</td>\n",
       "      <td>NaN</td>\n",
       "      <td>NaN</td>\n",
       "      <td>NaN</td>\n",
       "      <td>NaN</td>\n",
       "      <td>NaN</td>\n",
       "    </tr>\n",
       "    <tr>\n",
       "      <th>4</th>\n",
       "      <td>8842281e1d1347389f2ab93d60773d4d</td>\n",
       "      <td>6644782</td>\n",
       "      <td>bd0df91c9d918c0e433b9ab3a9a5c451</td>\n",
       "      <td>4</td>\n",
       "      <td>A fun book that gives you a sense of living in...</td>\n",
       "      <td>NaN</td>\n",
       "      <td>NaN</td>\n",
       "      <td>NaN</td>\n",
       "      <td>NaN</td>\n",
       "      <td>NaN</td>\n",
       "      <td>NaN</td>\n",
       "      <td>NaN</td>\n",
       "      <td>NaN</td>\n",
       "      <td>NaN</td>\n",
       "      <td>NaN</td>\n",
       "      <td>NaN</td>\n",
       "      <td>NaN</td>\n",
       "    </tr>\n",
       "  </tbody>\n",
       "</table>\n",
       "</div>"
      ],
      "text/plain": [
       "                            user_id   book_id  ... title_without_series  language\n",
       "0  8842281e1d1347389f2ab93d60773d4d  24375664  ...                  NaN       NaN\n",
       "1  8842281e1d1347389f2ab93d60773d4d  18245960  ...                  NaN       NaN\n",
       "2  8842281e1d1347389f2ab93d60773d4d   6392944  ...                  NaN       NaN\n",
       "3  8842281e1d1347389f2ab93d60773d4d  22078596  ...                  NaN       NaN\n",
       "4  8842281e1d1347389f2ab93d60773d4d   6644782  ...                  NaN       NaN\n",
       "\n",
       "[5 rows x 17 columns]"
      ]
     },
     "execution_count": 22,
     "metadata": {
      "tags": []
     },
     "output_type": "execute_result"
    }
   ],
   "source": [
    "final.head()"
   ]
  },
  {
   "cell_type": "code",
   "execution_count": null,
   "metadata": {
    "id": "bfXXU7SA7xvU"
   },
   "outputs": [],
   "source": [
    "final = final.dropna(axis=0, subset=['title'])"
   ]
  },
  {
   "cell_type": "code",
   "execution_count": null,
   "metadata": {
    "colab": {
     "base_uri": "https://localhost:8080/"
    },
    "id": "EAn8XYIU8Y0D",
    "outputId": "78ec99d0-58c7-460e-a843-dbf3bbe6aa43"
   },
   "outputs": [
    {
     "data": {
      "text/plain": [
       "(101252, 17)"
      ]
     },
     "execution_count": 24,
     "metadata": {
      "tags": []
     },
     "output_type": "execute_result"
    }
   ],
   "source": [
    "final.shape"
   ]
  },
  {
   "cell_type": "code",
   "execution_count": null,
   "metadata": {
    "colab": {
     "base_uri": "https://localhost:8080/",
     "height": 386
    },
    "id": "FSFQayUMGXd7",
    "outputId": "6cb48073-374a-47be-a0a3-329881b4ef18"
   },
   "outputs": [
    {
     "data": {
      "text/html": [
       "<div>\n",
       "<style scoped>\n",
       "    .dataframe tbody tr th:only-of-type {\n",
       "        vertical-align: middle;\n",
       "    }\n",
       "\n",
       "    .dataframe tbody tr th {\n",
       "        vertical-align: top;\n",
       "    }\n",
       "\n",
       "    .dataframe thead th {\n",
       "        text-align: right;\n",
       "    }\n",
       "</style>\n",
       "<table border=\"1\" class=\"dataframe\">\n",
       "  <thead>\n",
       "    <tr style=\"text-align: right;\">\n",
       "      <th></th>\n",
       "      <th>user_id</th>\n",
       "      <th>book_id</th>\n",
       "      <th>review_id</th>\n",
       "      <th>rating</th>\n",
       "      <th>review_text</th>\n",
       "      <th>text_reviews_count</th>\n",
       "      <th>average_rating</th>\n",
       "      <th>description</th>\n",
       "      <th>link</th>\n",
       "      <th>authors</th>\n",
       "      <th>publication_year</th>\n",
       "      <th>url</th>\n",
       "      <th>image_url</th>\n",
       "      <th>ratings_count</th>\n",
       "      <th>title</th>\n",
       "      <th>title_without_series</th>\n",
       "      <th>language</th>\n",
       "    </tr>\n",
       "  </thead>\n",
       "  <tbody>\n",
       "    <tr>\n",
       "      <th>21</th>\n",
       "      <td>8842281e1d1347389f2ab93d60773d4d</td>\n",
       "      <td>19398490</td>\n",
       "      <td>ea4a220b10e6b5c796dae0e3b970aff1</td>\n",
       "      <td>4</td>\n",
       "      <td>A beautiful story. It is rare to encounter a b...</td>\n",
       "      <td>2311</td>\n",
       "      <td>4.31</td>\n",
       "      <td>Winner of the Pulitzer Prize\\nFrom the highly ...</td>\n",
       "      <td>https://www.goodreads.com/book/show/19398490-a...</td>\n",
       "      <td>[{'author_id': '28186', 'role': ''}]</td>\n",
       "      <td>2014.0</td>\n",
       "      <td>https://www.goodreads.com/book/show/19398490-a...</td>\n",
       "      <td>https://images.gr-assets.com/books/1440903901m...</td>\n",
       "      <td>53342</td>\n",
       "      <td>All the Light We Cannot See</td>\n",
       "      <td>All the Light We Cannot See</td>\n",
       "      <td>en</td>\n",
       "    </tr>\n",
       "    <tr>\n",
       "      <th>68</th>\n",
       "      <td>8842281e1d1347389f2ab93d60773d4d</td>\n",
       "      <td>12969594</td>\n",
       "      <td>3e31f26463b536d280c5100e473feb83</td>\n",
       "      <td>3</td>\n",
       "      <td>This book takes us into the crazy world of Nor...</td>\n",
       "      <td>241</td>\n",
       "      <td>4.06</td>\n",
       "      <td>An alternate cover of this ASIN can be found \u0001...</td>\n",
       "      <td>https://www.goodreads.com/book/show/12969594-t...</td>\n",
       "      <td>[{'author_id': '36615', 'role': ''}]</td>\n",
       "      <td>2012.0</td>\n",
       "      <td>https://www.goodreads.com/book/show/12969594-t...</td>\n",
       "      <td>https://images.gr-assets.com/books/1328309680m...</td>\n",
       "      <td>6390</td>\n",
       "      <td>The Orphan Master's Son</td>\n",
       "      <td>The Orphan Master's Son</td>\n",
       "      <td>en</td>\n",
       "    </tr>\n",
       "    <tr>\n",
       "      <th>71</th>\n",
       "      <td>8842281e1d1347389f2ab93d60773d4d</td>\n",
       "      <td>8664353</td>\n",
       "      <td>da2d4cfce836a2c57ad55c38437aa692</td>\n",
       "      <td>5</td>\n",
       "      <td>Wow. Amazing story, and well told - kept me up...</td>\n",
       "      <td>38878</td>\n",
       "      <td>4.39</td>\n",
       "      <td>In her long-awaited new book, Laura Hillenbran...</td>\n",
       "      <td>https://www.goodreads.com/book/show/8664353-un...</td>\n",
       "      <td>[{'author_id': '30913', 'role': ''}]</td>\n",
       "      <td>2010.0</td>\n",
       "      <td>https://www.goodreads.com/book/show/8664353-un...</td>\n",
       "      <td>https://images.gr-assets.com/books/1327861115m...</td>\n",
       "      <td>504961</td>\n",
       "      <td>Unbroken: A World War II Story of Survival, Re...</td>\n",
       "      <td>Unbroken: A World War II Story of Survival, Re...</td>\n",
       "      <td>en</td>\n",
       "    </tr>\n",
       "  </tbody>\n",
       "</table>\n",
       "</div>"
      ],
      "text/plain": [
       "                             user_id  ... language\n",
       "21  8842281e1d1347389f2ab93d60773d4d  ...       en\n",
       "68  8842281e1d1347389f2ab93d60773d4d  ...       en\n",
       "71  8842281e1d1347389f2ab93d60773d4d  ...       en\n",
       "\n",
       "[3 rows x 17 columns]"
      ]
     },
     "execution_count": 26,
     "metadata": {
      "tags": []
     },
     "output_type": "execute_result"
    }
   ],
   "source": [
    "final.head(3)"
   ]
  },
  {
   "cell_type": "code",
   "execution_count": null,
   "metadata": {
    "colab": {
     "base_uri": "https://localhost:8080/"
    },
    "id": "M0z6ncY2BwNN",
    "outputId": "3db6bed2-4b4e-42af-d8f6-13137c6826c5"
   },
   "outputs": [
    {
     "data": {
      "text/plain": [
       "25231"
      ]
     },
     "execution_count": 27,
     "metadata": {
      "tags": []
     },
     "output_type": "execute_result"
    }
   ],
   "source": [
    "final['book_id'].nunique()"
   ]
  },
  {
   "cell_type": "code",
   "execution_count": null,
   "metadata": {
    "id": "RF_h4AfIExMM"
   },
   "outputs": [],
   "source": [
    "goodreads_review=final.reset_index(drop=True)"
   ]
  },
  {
   "cell_type": "code",
   "execution_count": null,
   "metadata": {
    "colab": {
     "base_uri": "https://localhost:8080/",
     "height": 1000
    },
    "id": "CjtXxaAyFuo5",
    "outputId": "50a42d0f-0ae9-4a98-fd99-4c6e64b0e97d"
   },
   "outputs": [
    {
     "data": {
      "text/html": [
       "<div>\n",
       "<style scoped>\n",
       "    .dataframe tbody tr th:only-of-type {\n",
       "        vertical-align: middle;\n",
       "    }\n",
       "\n",
       "    .dataframe tbody tr th {\n",
       "        vertical-align: top;\n",
       "    }\n",
       "\n",
       "    .dataframe thead th {\n",
       "        text-align: right;\n",
       "    }\n",
       "</style>\n",
       "<table border=\"1\" class=\"dataframe\">\n",
       "  <thead>\n",
       "    <tr style=\"text-align: right;\">\n",
       "      <th></th>\n",
       "      <th>user_id</th>\n",
       "      <th>book_id</th>\n",
       "      <th>review_id</th>\n",
       "      <th>rating</th>\n",
       "      <th>review_text</th>\n",
       "      <th>text_reviews_count</th>\n",
       "      <th>average_rating</th>\n",
       "      <th>description</th>\n",
       "      <th>link</th>\n",
       "      <th>authors</th>\n",
       "      <th>publication_year</th>\n",
       "      <th>url</th>\n",
       "      <th>image_url</th>\n",
       "      <th>ratings_count</th>\n",
       "      <th>title</th>\n",
       "      <th>title_without_series</th>\n",
       "      <th>language</th>\n",
       "    </tr>\n",
       "  </thead>\n",
       "  <tbody>\n",
       "    <tr>\n",
       "      <th>0</th>\n",
       "      <td>8842281e1d1347389f2ab93d60773d4d</td>\n",
       "      <td>19398490</td>\n",
       "      <td>ea4a220b10e6b5c796dae0e3b970aff1</td>\n",
       "      <td>4</td>\n",
       "      <td>A beautiful story. It is rare to encounter a b...</td>\n",
       "      <td>2311</td>\n",
       "      <td>4.31</td>\n",
       "      <td>Winner of the Pulitzer Prize\\nFrom the highly ...</td>\n",
       "      <td>https://www.goodreads.com/book/show/19398490-a...</td>\n",
       "      <td>[{'author_id': '28186', 'role': ''}]</td>\n",
       "      <td>2014.0</td>\n",
       "      <td>https://www.goodreads.com/book/show/19398490-a...</td>\n",
       "      <td>https://images.gr-assets.com/books/1440903901m...</td>\n",
       "      <td>53342</td>\n",
       "      <td>All the Light We Cannot See</td>\n",
       "      <td>All the Light We Cannot See</td>\n",
       "      <td>en</td>\n",
       "    </tr>\n",
       "    <tr>\n",
       "      <th>1</th>\n",
       "      <td>8842281e1d1347389f2ab93d60773d4d</td>\n",
       "      <td>12969594</td>\n",
       "      <td>3e31f26463b536d280c5100e473feb83</td>\n",
       "      <td>3</td>\n",
       "      <td>This book takes us into the crazy world of Nor...</td>\n",
       "      <td>241</td>\n",
       "      <td>4.06</td>\n",
       "      <td>An alternate cover of this ASIN can be found \u0001...</td>\n",
       "      <td>https://www.goodreads.com/book/show/12969594-t...</td>\n",
       "      <td>[{'author_id': '36615', 'role': ''}]</td>\n",
       "      <td>2012.0</td>\n",
       "      <td>https://www.goodreads.com/book/show/12969594-t...</td>\n",
       "      <td>https://images.gr-assets.com/books/1328309680m...</td>\n",
       "      <td>6390</td>\n",
       "      <td>The Orphan Master's Son</td>\n",
       "      <td>The Orphan Master's Son</td>\n",
       "      <td>en</td>\n",
       "    </tr>\n",
       "    <tr>\n",
       "      <th>2</th>\n",
       "      <td>8842281e1d1347389f2ab93d60773d4d</td>\n",
       "      <td>8664353</td>\n",
       "      <td>da2d4cfce836a2c57ad55c38437aa692</td>\n",
       "      <td>5</td>\n",
       "      <td>Wow. Amazing story, and well told - kept me up...</td>\n",
       "      <td>38878</td>\n",
       "      <td>4.39</td>\n",
       "      <td>In her long-awaited new book, Laura Hillenbran...</td>\n",
       "      <td>https://www.goodreads.com/book/show/8664353-un...</td>\n",
       "      <td>[{'author_id': '30913', 'role': ''}]</td>\n",
       "      <td>2010.0</td>\n",
       "      <td>https://www.goodreads.com/book/show/8664353-un...</td>\n",
       "      <td>https://images.gr-assets.com/books/1327861115m...</td>\n",
       "      <td>504961</td>\n",
       "      <td>Unbroken: A World War II Story of Survival, Re...</td>\n",
       "      <td>Unbroken: A World War II Story of Survival, Re...</td>\n",
       "      <td>en</td>\n",
       "    </tr>\n",
       "    <tr>\n",
       "      <th>3</th>\n",
       "      <td>8842281e1d1347389f2ab93d60773d4d</td>\n",
       "      <td>6452796</td>\n",
       "      <td>33f25b63a8a5be9b832f706c4c0a1cfc</td>\n",
       "      <td>3</td>\n",
       "      <td>Kareem recommends</td>\n",
       "      <td>2930</td>\n",
       "      <td>3.95</td>\n",
       "      <td>Forget everything you thought you knew about h...</td>\n",
       "      <td>https://www.goodreads.com/book/show/6452796-drive</td>\n",
       "      <td>[{'author_id': '96150', 'role': ''}]</td>\n",
       "      <td>2009.0</td>\n",
       "      <td>https://www.goodreads.com/book/show/6452796-drive</td>\n",
       "      <td>https://s.gr-assets.com/assets/nophoto/book/11...</td>\n",
       "      <td>58428</td>\n",
       "      <td>Drive: The Surprising Truth About What Motivat...</td>\n",
       "      <td>Drive: The Surprising Truth About What Motivat...</td>\n",
       "      <td>en</td>\n",
       "    </tr>\n",
       "    <tr>\n",
       "      <th>4</th>\n",
       "      <td>8842281e1d1347389f2ab93d60773d4d</td>\n",
       "      <td>178186</td>\n",
       "      <td>66c9b63369a1ffd1489c61555531996a</td>\n",
       "      <td>5</td>\n",
       "      <td>My safari guide gave this to me, saying the au...</td>\n",
       "      <td>26</td>\n",
       "      <td>3.87</td>\n",
       "      <td>An autobiographical memoir revealing the tradi...</td>\n",
       "      <td>https://www.goodreads.com/book/show/178186.The...</td>\n",
       "      <td>[{'author_id': '103752', 'role': ''}]</td>\n",
       "      <td>1988.0</td>\n",
       "      <td>https://www.goodreads.com/book/show/178186.The...</td>\n",
       "      <td>https://s.gr-assets.com/assets/nophoto/book/11...</td>\n",
       "      <td>245</td>\n",
       "      <td>The Worlds of a Maasai Warrior: An Autobiography</td>\n",
       "      <td>The Worlds of a Maasai Warrior: An Autobiography</td>\n",
       "      <td>en</td>\n",
       "    </tr>\n",
       "    <tr>\n",
       "      <th>...</th>\n",
       "      <td>...</td>\n",
       "      <td>...</td>\n",
       "      <td>...</td>\n",
       "      <td>...</td>\n",
       "      <td>...</td>\n",
       "      <td>...</td>\n",
       "      <td>...</td>\n",
       "      <td>...</td>\n",
       "      <td>...</td>\n",
       "      <td>...</td>\n",
       "      <td>...</td>\n",
       "      <td>...</td>\n",
       "      <td>...</td>\n",
       "      <td>...</td>\n",
       "      <td>...</td>\n",
       "      <td>...</td>\n",
       "      <td>...</td>\n",
       "    </tr>\n",
       "    <tr>\n",
       "      <th>101247</th>\n",
       "      <td>7f7a51d8f8187e96e8122c1ab042875b</td>\n",
       "      <td>27135263</td>\n",
       "      <td>4a832a70990e81b885c52d02f9b3291d</td>\n",
       "      <td>5</td>\n",
       "      <td>Because fiction is memoir is fiction is nonfic...</td>\n",
       "      <td>50</td>\n",
       "      <td>4.31</td>\n",
       "      <td>\"[The Incantations of Daniel Johnston] capture...</td>\n",
       "      <td>https://www.goodreads.com/book/show/27135263-t...</td>\n",
       "      <td>[{'author_id': '2889877', 'role': ''}, {'autho...</td>\n",
       "      <td>2016.0</td>\n",
       "      <td>https://www.goodreads.com/book/show/27135263-t...</td>\n",
       "      <td>https://images.gr-assets.com/books/1444693594m...</td>\n",
       "      <td>228</td>\n",
       "      <td>The Incantations of Daniel Johnston</td>\n",
       "      <td>The Incantations of Daniel Johnston</td>\n",
       "      <td>en</td>\n",
       "    </tr>\n",
       "    <tr>\n",
       "      <th>101248</th>\n",
       "      <td>7f7a51d8f8187e96e8122c1ab042875b</td>\n",
       "      <td>22798607</td>\n",
       "      <td>fdaa572b54ad8a32be63e632f55dc0e7</td>\n",
       "      <td>5</td>\n",
       "      <td>Stories filled with lives lived, drenched in l...</td>\n",
       "      <td>3</td>\n",
       "      <td>3.9</td>\n",
       "      <td>In his debut collection, Christian Winn throws...</td>\n",
       "      <td>https://www.goodreads.com/book/show/22798607-n...</td>\n",
       "      <td>[{'author_id': '8409842', 'role': ''}]</td>\n",
       "      <td>2014.0</td>\n",
       "      <td>https://www.goodreads.com/book/show/22798607-n...</td>\n",
       "      <td>https://images.gr-assets.com/books/1417750817m...</td>\n",
       "      <td>21</td>\n",
       "      <td>Naked Me</td>\n",
       "      <td>Naked Me</td>\n",
       "      <td>en</td>\n",
       "    </tr>\n",
       "    <tr>\n",
       "      <th>101249</th>\n",
       "      <td>7f7a51d8f8187e96e8122c1ab042875b</td>\n",
       "      <td>25343294</td>\n",
       "      <td>f6c642fdd4824e1065160387b5e31146</td>\n",
       "      <td>5</td>\n",
       "      <td>Something kind of magical. \\n More - http://be...</td>\n",
       "      <td>25</td>\n",
       "      <td>4.53</td>\n",
       "      <td>Once, on a street in New York City, author Lor...</td>\n",
       "      <td>https://www.goodreads.com/book/show/25343294-b...</td>\n",
       "      <td>[{'author_id': '620591', 'role': ''}]</td>\n",
       "      <td>2015.0</td>\n",
       "      <td>https://www.goodreads.com/book/show/25343294-b...</td>\n",
       "      <td>https://images.gr-assets.com/books/1428794518m...</td>\n",
       "      <td>75</td>\n",
       "      <td>Belief Is Its Own Kind of Truth, Maybe</td>\n",
       "      <td>Belief Is Its Own Kind of Truth, Maybe</td>\n",
       "      <td>en</td>\n",
       "    </tr>\n",
       "    <tr>\n",
       "      <th>101250</th>\n",
       "      <td>7f7a51d8f8187e96e8122c1ab042875b</td>\n",
       "      <td>26047380</td>\n",
       "      <td>3ee7ec45cc7f4344fc868d8a74395b19</td>\n",
       "      <td>5</td>\n",
       "      <td>The act of grief captured as it is happening, ...</td>\n",
       "      <td>2</td>\n",
       "      <td>4.7</td>\n",
       "      <td>Sadly Beautiful is a collection of poems and e...</td>\n",
       "      <td>https://www.goodreads.com/book/show/26047380-s...</td>\n",
       "      <td>[{'author_id': '4952802', 'role': ''}, {'autho...</td>\n",
       "      <td>2015.0</td>\n",
       "      <td>https://www.goodreads.com/book/show/26047380-s...</td>\n",
       "      <td>https://images.gr-assets.com/books/1438812276m...</td>\n",
       "      <td>9</td>\n",
       "      <td>Sadly Beautiful</td>\n",
       "      <td>Sadly Beautiful</td>\n",
       "      <td>en</td>\n",
       "    </tr>\n",
       "    <tr>\n",
       "      <th>101251</th>\n",
       "      <td>7f7a51d8f8187e96e8122c1ab042875b</td>\n",
       "      <td>7726420</td>\n",
       "      <td>1d9357090cd356ba52fede1ac25f6be6</td>\n",
       "      <td>5</td>\n",
       "      <td>Time travel, and family, in all its fucked-upe...</td>\n",
       "      <td>1595</td>\n",
       "      <td>3.38</td>\n",
       "      <td>National Book Foundation 5 Under 35 Award winn...</td>\n",
       "      <td>https://www.goodreads.com/book/show/7726420-ho...</td>\n",
       "      <td>[{'author_id': '221608', 'role': ''}]</td>\n",
       "      <td>2010.0</td>\n",
       "      <td>https://www.goodreads.com/book/show/7726420-ho...</td>\n",
       "      <td>https://images.gr-assets.com/books/1320449300m...</td>\n",
       "      <td>8544</td>\n",
       "      <td>How to Live Safely in a Science Fictional Univ...</td>\n",
       "      <td>How to Live Safely in a Science Fictional Univ...</td>\n",
       "      <td>en</td>\n",
       "    </tr>\n",
       "  </tbody>\n",
       "</table>\n",
       "<p>101252 rows × 17 columns</p>\n",
       "</div>"
      ],
      "text/plain": [
       "                                 user_id  ... language\n",
       "0       8842281e1d1347389f2ab93d60773d4d  ...       en\n",
       "1       8842281e1d1347389f2ab93d60773d4d  ...       en\n",
       "2       8842281e1d1347389f2ab93d60773d4d  ...       en\n",
       "3       8842281e1d1347389f2ab93d60773d4d  ...       en\n",
       "4       8842281e1d1347389f2ab93d60773d4d  ...       en\n",
       "...                                  ...  ...      ...\n",
       "101247  7f7a51d8f8187e96e8122c1ab042875b  ...       en\n",
       "101248  7f7a51d8f8187e96e8122c1ab042875b  ...       en\n",
       "101249  7f7a51d8f8187e96e8122c1ab042875b  ...       en\n",
       "101250  7f7a51d8f8187e96e8122c1ab042875b  ...       en\n",
       "101251  7f7a51d8f8187e96e8122c1ab042875b  ...       en\n",
       "\n",
       "[101252 rows x 17 columns]"
      ]
     },
     "execution_count": 29,
     "metadata": {
      "tags": []
     },
     "output_type": "execute_result"
    }
   ],
   "source": [
    "goodreads_review"
   ]
  },
  {
   "cell_type": "code",
   "execution_count": null,
   "metadata": {
    "colab": {
     "base_uri": "https://localhost:8080/"
    },
    "id": "bYJG2jCPG85y",
    "outputId": "52dbe45f-37a8-4028-b154-96f2800fd4f0"
   },
   "outputs": [
    {
     "data": {
      "text/plain": [
       "Index(['user_id', 'book_id', 'review_id', 'rating', 'review_text',\n",
       "       'text_reviews_count', 'average_rating', 'description', 'link',\n",
       "       'authors', 'publication_year', 'url', 'image_url', 'ratings_count',\n",
       "       'title', 'title_without_series', 'language'],\n",
       "      dtype='object')"
      ]
     },
     "execution_count": 30,
     "metadata": {
      "tags": []
     },
     "output_type": "execute_result"
    }
   ],
   "source": [
    "goodreads_review.columns"
   ]
  },
  {
   "cell_type": "markdown",
   "metadata": {
    "id": "2PouZe9BzRc8"
   },
   "source": [
    "**Removing users who have rated less than 2 books**"
   ]
  },
  {
   "cell_type": "code",
   "execution_count": null,
   "metadata": {
    "id": "4BgcN1u3DA6F"
   },
   "outputs": [],
   "source": [
    "unwanted_users = goodreads_review.groupby('user_id')['user_id'].count()\n",
    "unwanted_users = unwanted_users[unwanted_users < 2]"
   ]
  },
  {
   "cell_type": "code",
   "execution_count": null,
   "metadata": {
    "colab": {
     "base_uri": "https://localhost:8080/"
    },
    "id": "UJ503WUyDQxT",
    "outputId": "011b6f2d-5cfc-4471-a6cb-495a99e65aa2"
   },
   "outputs": [
    {
     "data": {
      "text/plain": [
       "user_id\n",
       "000192962b87d560f00b06fdcbd71681    1\n",
       "00125c81ba9ef0504bd02697fdbc3827    1\n",
       "00159b12f56f8f8343e8627ce02b7a5a    1\n",
       "0016257adfaa5563e612bcae4cb1e2f6    1\n",
       "0019be35f5c9e0ea5cb8263aba085de4    1\n",
       "                                   ..\n",
       "ffef74f9410f805a46ae663b9be66311    1\n",
       "fff57b6af5c04a43ad7096b3dea8ae1a    1\n",
       "fff72ac3cd5f2c281d2bbafbc9dc1f5b    1\n",
       "fff785db3b7a0755573779d6279009de    1\n",
       "fffce15634dc3f4dc5b14fc7dcf354d1    1\n",
       "Name: user_id, Length: 10828, dtype: int64"
      ]
     },
     "execution_count": 32,
     "metadata": {
      "tags": []
     },
     "output_type": "execute_result"
    }
   ],
   "source": [
    "unwanted_users"
   ]
  },
  {
   "cell_type": "code",
   "execution_count": null,
   "metadata": {
    "colab": {
     "base_uri": "https://localhost:8080/",
     "height": 638
    },
    "id": "VjMiR4lcHNb5",
    "outputId": "425b49a6-4610-4f67-de6a-8d15437f7807"
   },
   "outputs": [
    {
     "data": {
      "text/html": [
       "<div>\n",
       "<style scoped>\n",
       "    .dataframe tbody tr th:only-of-type {\n",
       "        vertical-align: middle;\n",
       "    }\n",
       "\n",
       "    .dataframe tbody tr th {\n",
       "        vertical-align: top;\n",
       "    }\n",
       "\n",
       "    .dataframe thead th {\n",
       "        text-align: right;\n",
       "    }\n",
       "</style>\n",
       "<table border=\"1\" class=\"dataframe\">\n",
       "  <thead>\n",
       "    <tr style=\"text-align: right;\">\n",
       "      <th></th>\n",
       "      <th>user_id</th>\n",
       "      <th>book_id</th>\n",
       "      <th>review_id</th>\n",
       "      <th>rating</th>\n",
       "      <th>review_text</th>\n",
       "      <th>text_reviews_count</th>\n",
       "      <th>average_rating</th>\n",
       "      <th>description</th>\n",
       "      <th>link</th>\n",
       "      <th>authors</th>\n",
       "      <th>publication_year</th>\n",
       "      <th>url</th>\n",
       "      <th>image_url</th>\n",
       "      <th>ratings_count</th>\n",
       "      <th>title</th>\n",
       "      <th>title_without_series</th>\n",
       "      <th>language</th>\n",
       "    </tr>\n",
       "  </thead>\n",
       "  <tbody>\n",
       "    <tr>\n",
       "      <th>7</th>\n",
       "      <td>72fb0d0087d28c832f15776b0d936598</td>\n",
       "      <td>18306845</td>\n",
       "      <td>d4d57fb58be64655b0374ed864a7be40</td>\n",
       "      <td>2</td>\n",
       "      <td>Keeping in mind I'm someone who has watched mo...</td>\n",
       "      <td>9</td>\n",
       "      <td>3.85</td>\n",
       "      <td>An adorable baby grows up to be a curiously to...</td>\n",
       "      <td>https://www.goodreads.com/book/show/18306845-a...</td>\n",
       "      <td>[{'author_id': '7214094', 'role': ''}, {'autho...</td>\n",
       "      <td>2013.0</td>\n",
       "      <td>https://www.goodreads.com/book/show/18306845-a...</td>\n",
       "      <td>https://images.gr-assets.com/books/1376198683m...</td>\n",
       "      <td>79</td>\n",
       "      <td>Anecdotes in Ashes</td>\n",
       "      <td>Anecdotes in Ashes</td>\n",
       "      <td>en</td>\n",
       "    </tr>\n",
       "    <tr>\n",
       "      <th>50</th>\n",
       "      <td>903d4b859e86a1dd6d7640849cc7067c</td>\n",
       "      <td>25207141</td>\n",
       "      <td>24be4b77038423590fa3dabdbb0a26b6</td>\n",
       "      <td>5</td>\n",
       "      <td>I rarely review books, but this is a must read...</td>\n",
       "      <td>297</td>\n",
       "      <td>3.53</td>\n",
       "      <td>Scientist Peter Bernhardt has dedicated his li...</td>\n",
       "      <td>https://www.goodreads.com/book/show/25207141-r...</td>\n",
       "      <td>[{'author_id': '9845390', 'role': ''}]</td>\n",
       "      <td>nan</td>\n",
       "      <td>https://www.goodreads.com/book/show/25207141-r...</td>\n",
       "      <td>https://s.gr-assets.com/assets/nophoto/book/11...</td>\n",
       "      <td>3305</td>\n",
       "      <td>(R)evolution (Phoenix Horizon #1)</td>\n",
       "      <td>(R)evolution (Phoenix Horizon #1)</td>\n",
       "      <td>en</td>\n",
       "    </tr>\n",
       "    <tr>\n",
       "      <th>51</th>\n",
       "      <td>d92c94bda1ca3ec254f3aa95757c7831</td>\n",
       "      <td>25664796</td>\n",
       "      <td>87b52d4c8c127027fa60aa66a4169454</td>\n",
       "      <td>5</td>\n",
       "      <td>All's well that ends well in the 'burg \\n If y...</td>\n",
       "      <td>1275</td>\n",
       "      <td>4.4</td>\n",
       "      <td>Since she was young, Cher Rivers knew she was ...</td>\n",
       "      <td>https://www.goodreads.com/book/show/25664796-h...</td>\n",
       "      <td>[{'author_id': '2958084', 'role': ''}]</td>\n",
       "      <td>nan</td>\n",
       "      <td>https://www.goodreads.com/book/show/25664796-h...</td>\n",
       "      <td>https://s.gr-assets.com/assets/nophoto/book/11...</td>\n",
       "      <td>11513</td>\n",
       "      <td>Hold On (The 'Burg, #6)</td>\n",
       "      <td>Hold On (The 'Burg, #6)</td>\n",
       "      <td>en</td>\n",
       "    </tr>\n",
       "    <tr>\n",
       "      <th>58</th>\n",
       "      <td>441b31d224ebb544ca26e1a2f323ad09</td>\n",
       "      <td>9879625</td>\n",
       "      <td>c957542a925a03b5c2d632db2f5ebb8a</td>\n",
       "      <td>5</td>\n",
       "      <td>A bleak, but hopeful read with a wonderful HEA...</td>\n",
       "      <td>290</td>\n",
       "      <td>4.04</td>\n",
       "      <td>Lucas had it all--popularity, a devoted girlfr...</td>\n",
       "      <td>https://www.goodreads.com/book/show/9879625-co...</td>\n",
       "      <td>[{'author_id': '4372391', 'role': ''}]</td>\n",
       "      <td>2010.0</td>\n",
       "      <td>https://www.goodreads.com/book/show/9879625-co...</td>\n",
       "      <td>https://images.gr-assets.com/books/1294453258m...</td>\n",
       "      <td>2714</td>\n",
       "      <td>Collision Course</td>\n",
       "      <td>Collision Course</td>\n",
       "      <td>en</td>\n",
       "    </tr>\n",
       "    <tr>\n",
       "      <th>59</th>\n",
       "      <td>4fe16e3bcbbce3f8801ac6924217fd3b</td>\n",
       "      <td>29780253</td>\n",
       "      <td>5e67c3f18e67b13648b06797dcd03f1f</td>\n",
       "      <td>5</td>\n",
       "      <td>I am on my second reading of Trevor Noah's Bor...</td>\n",
       "      <td>7703</td>\n",
       "      <td>4.45</td>\n",
       "      <td>The compelling, inspiring, and comically subli...</td>\n",
       "      <td>https://www.goodreads.com/book/show/29780253-b...</td>\n",
       "      <td>[{'author_id': '15149526', 'role': ''}]</td>\n",
       "      <td>2016.0</td>\n",
       "      <td>https://www.goodreads.com/book/show/29780253-b...</td>\n",
       "      <td>https://images.gr-assets.com/books/1473867911m...</td>\n",
       "      <td>57318</td>\n",
       "      <td>Born a Crime: Stories From a South African Chi...</td>\n",
       "      <td>Born a Crime: Stories From a South African Chi...</td>\n",
       "      <td>en</td>\n",
       "    </tr>\n",
       "  </tbody>\n",
       "</table>\n",
       "</div>"
      ],
      "text/plain": [
       "                             user_id  ... language\n",
       "7   72fb0d0087d28c832f15776b0d936598  ...       en\n",
       "50  903d4b859e86a1dd6d7640849cc7067c  ...       en\n",
       "51  d92c94bda1ca3ec254f3aa95757c7831  ...       en\n",
       "58  441b31d224ebb544ca26e1a2f323ad09  ...       en\n",
       "59  4fe16e3bcbbce3f8801ac6924217fd3b  ...       en\n",
       "\n",
       "[5 rows x 17 columns]"
      ]
     },
     "execution_count": 33,
     "metadata": {
      "tags": []
     },
     "output_type": "execute_result"
    }
   ],
   "source": [
    "unwanted_ratings=goodreads_review[goodreads_review.user_id.isin(unwanted_users.index)]\n",
    "unwanted_ratings.head()"
   ]
  },
  {
   "cell_type": "code",
   "execution_count": null,
   "metadata": {
    "colab": {
     "base_uri": "https://localhost:8080/"
    },
    "id": "p4BPW9VKzaQk",
    "outputId": "38b79837-efff-4cab-d1f0-d0fc5e5e2db4"
   },
   "outputs": [
    {
     "data": {
      "text/plain": [
       "(10828, 17)"
      ]
     },
     "execution_count": 34,
     "metadata": {
      "tags": []
     },
     "output_type": "execute_result"
    }
   ],
   "source": [
    "unwanted_ratings.shape"
   ]
  },
  {
   "cell_type": "code",
   "execution_count": null,
   "metadata": {
    "colab": {
     "base_uri": "https://localhost:8080/",
     "height": 1000
    },
    "id": "bODz6Az9Ht2L",
    "outputId": "48722584-cf4c-437e-c538-1f4db5433bbe"
   },
   "outputs": [
    {
     "data": {
      "text/html": [
       "<div>\n",
       "<style scoped>\n",
       "    .dataframe tbody tr th:only-of-type {\n",
       "        vertical-align: middle;\n",
       "    }\n",
       "\n",
       "    .dataframe tbody tr th {\n",
       "        vertical-align: top;\n",
       "    }\n",
       "\n",
       "    .dataframe thead th {\n",
       "        text-align: right;\n",
       "    }\n",
       "</style>\n",
       "<table border=\"1\" class=\"dataframe\">\n",
       "  <thead>\n",
       "    <tr style=\"text-align: right;\">\n",
       "      <th></th>\n",
       "      <th>user_id</th>\n",
       "      <th>book_id</th>\n",
       "      <th>review_id</th>\n",
       "      <th>rating</th>\n",
       "      <th>review_text</th>\n",
       "      <th>text_reviews_count</th>\n",
       "      <th>average_rating</th>\n",
       "      <th>description</th>\n",
       "      <th>link</th>\n",
       "      <th>authors</th>\n",
       "      <th>publication_year</th>\n",
       "      <th>url</th>\n",
       "      <th>image_url</th>\n",
       "      <th>ratings_count</th>\n",
       "      <th>title</th>\n",
       "      <th>title_without_series</th>\n",
       "      <th>language</th>\n",
       "    </tr>\n",
       "  </thead>\n",
       "  <tbody>\n",
       "    <tr>\n",
       "      <th>0</th>\n",
       "      <td>8842281e1d1347389f2ab93d60773d4d</td>\n",
       "      <td>19398490</td>\n",
       "      <td>ea4a220b10e6b5c796dae0e3b970aff1</td>\n",
       "      <td>4</td>\n",
       "      <td>A beautiful story. It is rare to encounter a b...</td>\n",
       "      <td>2311</td>\n",
       "      <td>4.31</td>\n",
       "      <td>Winner of the Pulitzer Prize\\nFrom the highly ...</td>\n",
       "      <td>https://www.goodreads.com/book/show/19398490-a...</td>\n",
       "      <td>[{'author_id': '28186', 'role': ''}]</td>\n",
       "      <td>2014.0</td>\n",
       "      <td>https://www.goodreads.com/book/show/19398490-a...</td>\n",
       "      <td>https://images.gr-assets.com/books/1440903901m...</td>\n",
       "      <td>53342</td>\n",
       "      <td>All the Light We Cannot See</td>\n",
       "      <td>All the Light We Cannot See</td>\n",
       "      <td>en</td>\n",
       "    </tr>\n",
       "    <tr>\n",
       "      <th>1</th>\n",
       "      <td>8842281e1d1347389f2ab93d60773d4d</td>\n",
       "      <td>12969594</td>\n",
       "      <td>3e31f26463b536d280c5100e473feb83</td>\n",
       "      <td>3</td>\n",
       "      <td>This book takes us into the crazy world of Nor...</td>\n",
       "      <td>241</td>\n",
       "      <td>4.06</td>\n",
       "      <td>An alternate cover of this ASIN can be found \u0001...</td>\n",
       "      <td>https://www.goodreads.com/book/show/12969594-t...</td>\n",
       "      <td>[{'author_id': '36615', 'role': ''}]</td>\n",
       "      <td>2012.0</td>\n",
       "      <td>https://www.goodreads.com/book/show/12969594-t...</td>\n",
       "      <td>https://images.gr-assets.com/books/1328309680m...</td>\n",
       "      <td>6390</td>\n",
       "      <td>The Orphan Master's Son</td>\n",
       "      <td>The Orphan Master's Son</td>\n",
       "      <td>en</td>\n",
       "    </tr>\n",
       "    <tr>\n",
       "      <th>2</th>\n",
       "      <td>8842281e1d1347389f2ab93d60773d4d</td>\n",
       "      <td>8664353</td>\n",
       "      <td>da2d4cfce836a2c57ad55c38437aa692</td>\n",
       "      <td>5</td>\n",
       "      <td>Wow. Amazing story, and well told - kept me up...</td>\n",
       "      <td>38878</td>\n",
       "      <td>4.39</td>\n",
       "      <td>In her long-awaited new book, Laura Hillenbran...</td>\n",
       "      <td>https://www.goodreads.com/book/show/8664353-un...</td>\n",
       "      <td>[{'author_id': '30913', 'role': ''}]</td>\n",
       "      <td>2010.0</td>\n",
       "      <td>https://www.goodreads.com/book/show/8664353-un...</td>\n",
       "      <td>https://images.gr-assets.com/books/1327861115m...</td>\n",
       "      <td>504961</td>\n",
       "      <td>Unbroken: A World War II Story of Survival, Re...</td>\n",
       "      <td>Unbroken: A World War II Story of Survival, Re...</td>\n",
       "      <td>en</td>\n",
       "    </tr>\n",
       "    <tr>\n",
       "      <th>3</th>\n",
       "      <td>8842281e1d1347389f2ab93d60773d4d</td>\n",
       "      <td>6452796</td>\n",
       "      <td>33f25b63a8a5be9b832f706c4c0a1cfc</td>\n",
       "      <td>3</td>\n",
       "      <td>Kareem recommends</td>\n",
       "      <td>2930</td>\n",
       "      <td>3.95</td>\n",
       "      <td>Forget everything you thought you knew about h...</td>\n",
       "      <td>https://www.goodreads.com/book/show/6452796-drive</td>\n",
       "      <td>[{'author_id': '96150', 'role': ''}]</td>\n",
       "      <td>2009.0</td>\n",
       "      <td>https://www.goodreads.com/book/show/6452796-drive</td>\n",
       "      <td>https://s.gr-assets.com/assets/nophoto/book/11...</td>\n",
       "      <td>58428</td>\n",
       "      <td>Drive: The Surprising Truth About What Motivat...</td>\n",
       "      <td>Drive: The Surprising Truth About What Motivat...</td>\n",
       "      <td>en</td>\n",
       "    </tr>\n",
       "    <tr>\n",
       "      <th>4</th>\n",
       "      <td>8842281e1d1347389f2ab93d60773d4d</td>\n",
       "      <td>178186</td>\n",
       "      <td>66c9b63369a1ffd1489c61555531996a</td>\n",
       "      <td>5</td>\n",
       "      <td>My safari guide gave this to me, saying the au...</td>\n",
       "      <td>26</td>\n",
       "      <td>3.87</td>\n",
       "      <td>An autobiographical memoir revealing the tradi...</td>\n",
       "      <td>https://www.goodreads.com/book/show/178186.The...</td>\n",
       "      <td>[{'author_id': '103752', 'role': ''}]</td>\n",
       "      <td>1988.0</td>\n",
       "      <td>https://www.goodreads.com/book/show/178186.The...</td>\n",
       "      <td>https://s.gr-assets.com/assets/nophoto/book/11...</td>\n",
       "      <td>245</td>\n",
       "      <td>The Worlds of a Maasai Warrior: An Autobiography</td>\n",
       "      <td>The Worlds of a Maasai Warrior: An Autobiography</td>\n",
       "      <td>en</td>\n",
       "    </tr>\n",
       "    <tr>\n",
       "      <th>...</th>\n",
       "      <td>...</td>\n",
       "      <td>...</td>\n",
       "      <td>...</td>\n",
       "      <td>...</td>\n",
       "      <td>...</td>\n",
       "      <td>...</td>\n",
       "      <td>...</td>\n",
       "      <td>...</td>\n",
       "      <td>...</td>\n",
       "      <td>...</td>\n",
       "      <td>...</td>\n",
       "      <td>...</td>\n",
       "      <td>...</td>\n",
       "      <td>...</td>\n",
       "      <td>...</td>\n",
       "      <td>...</td>\n",
       "      <td>...</td>\n",
       "    </tr>\n",
       "    <tr>\n",
       "      <th>101247</th>\n",
       "      <td>7f7a51d8f8187e96e8122c1ab042875b</td>\n",
       "      <td>27135263</td>\n",
       "      <td>4a832a70990e81b885c52d02f9b3291d</td>\n",
       "      <td>5</td>\n",
       "      <td>Because fiction is memoir is fiction is nonfic...</td>\n",
       "      <td>50</td>\n",
       "      <td>4.31</td>\n",
       "      <td>\"[The Incantations of Daniel Johnston] capture...</td>\n",
       "      <td>https://www.goodreads.com/book/show/27135263-t...</td>\n",
       "      <td>[{'author_id': '2889877', 'role': ''}, {'autho...</td>\n",
       "      <td>2016.0</td>\n",
       "      <td>https://www.goodreads.com/book/show/27135263-t...</td>\n",
       "      <td>https://images.gr-assets.com/books/1444693594m...</td>\n",
       "      <td>228</td>\n",
       "      <td>The Incantations of Daniel Johnston</td>\n",
       "      <td>The Incantations of Daniel Johnston</td>\n",
       "      <td>en</td>\n",
       "    </tr>\n",
       "    <tr>\n",
       "      <th>101248</th>\n",
       "      <td>7f7a51d8f8187e96e8122c1ab042875b</td>\n",
       "      <td>22798607</td>\n",
       "      <td>fdaa572b54ad8a32be63e632f55dc0e7</td>\n",
       "      <td>5</td>\n",
       "      <td>Stories filled with lives lived, drenched in l...</td>\n",
       "      <td>3</td>\n",
       "      <td>3.9</td>\n",
       "      <td>In his debut collection, Christian Winn throws...</td>\n",
       "      <td>https://www.goodreads.com/book/show/22798607-n...</td>\n",
       "      <td>[{'author_id': '8409842', 'role': ''}]</td>\n",
       "      <td>2014.0</td>\n",
       "      <td>https://www.goodreads.com/book/show/22798607-n...</td>\n",
       "      <td>https://images.gr-assets.com/books/1417750817m...</td>\n",
       "      <td>21</td>\n",
       "      <td>Naked Me</td>\n",
       "      <td>Naked Me</td>\n",
       "      <td>en</td>\n",
       "    </tr>\n",
       "    <tr>\n",
       "      <th>101249</th>\n",
       "      <td>7f7a51d8f8187e96e8122c1ab042875b</td>\n",
       "      <td>25343294</td>\n",
       "      <td>f6c642fdd4824e1065160387b5e31146</td>\n",
       "      <td>5</td>\n",
       "      <td>Something kind of magical. \\n More - http://be...</td>\n",
       "      <td>25</td>\n",
       "      <td>4.53</td>\n",
       "      <td>Once, on a street in New York City, author Lor...</td>\n",
       "      <td>https://www.goodreads.com/book/show/25343294-b...</td>\n",
       "      <td>[{'author_id': '620591', 'role': ''}]</td>\n",
       "      <td>2015.0</td>\n",
       "      <td>https://www.goodreads.com/book/show/25343294-b...</td>\n",
       "      <td>https://images.gr-assets.com/books/1428794518m...</td>\n",
       "      <td>75</td>\n",
       "      <td>Belief Is Its Own Kind of Truth, Maybe</td>\n",
       "      <td>Belief Is Its Own Kind of Truth, Maybe</td>\n",
       "      <td>en</td>\n",
       "    </tr>\n",
       "    <tr>\n",
       "      <th>101250</th>\n",
       "      <td>7f7a51d8f8187e96e8122c1ab042875b</td>\n",
       "      <td>26047380</td>\n",
       "      <td>3ee7ec45cc7f4344fc868d8a74395b19</td>\n",
       "      <td>5</td>\n",
       "      <td>The act of grief captured as it is happening, ...</td>\n",
       "      <td>2</td>\n",
       "      <td>4.7</td>\n",
       "      <td>Sadly Beautiful is a collection of poems and e...</td>\n",
       "      <td>https://www.goodreads.com/book/show/26047380-s...</td>\n",
       "      <td>[{'author_id': '4952802', 'role': ''}, {'autho...</td>\n",
       "      <td>2015.0</td>\n",
       "      <td>https://www.goodreads.com/book/show/26047380-s...</td>\n",
       "      <td>https://images.gr-assets.com/books/1438812276m...</td>\n",
       "      <td>9</td>\n",
       "      <td>Sadly Beautiful</td>\n",
       "      <td>Sadly Beautiful</td>\n",
       "      <td>en</td>\n",
       "    </tr>\n",
       "    <tr>\n",
       "      <th>101251</th>\n",
       "      <td>7f7a51d8f8187e96e8122c1ab042875b</td>\n",
       "      <td>7726420</td>\n",
       "      <td>1d9357090cd356ba52fede1ac25f6be6</td>\n",
       "      <td>5</td>\n",
       "      <td>Time travel, and family, in all its fucked-upe...</td>\n",
       "      <td>1595</td>\n",
       "      <td>3.38</td>\n",
       "      <td>National Book Foundation 5 Under 35 Award winn...</td>\n",
       "      <td>https://www.goodreads.com/book/show/7726420-ho...</td>\n",
       "      <td>[{'author_id': '221608', 'role': ''}]</td>\n",
       "      <td>2010.0</td>\n",
       "      <td>https://www.goodreads.com/book/show/7726420-ho...</td>\n",
       "      <td>https://images.gr-assets.com/books/1320449300m...</td>\n",
       "      <td>8544</td>\n",
       "      <td>How to Live Safely in a Science Fictional Univ...</td>\n",
       "      <td>How to Live Safely in a Science Fictional Univ...</td>\n",
       "      <td>en</td>\n",
       "    </tr>\n",
       "  </tbody>\n",
       "</table>\n",
       "<p>90424 rows × 17 columns</p>\n",
       "</div>"
      ],
      "text/plain": [
       "                                 user_id  ... language\n",
       "0       8842281e1d1347389f2ab93d60773d4d  ...       en\n",
       "1       8842281e1d1347389f2ab93d60773d4d  ...       en\n",
       "2       8842281e1d1347389f2ab93d60773d4d  ...       en\n",
       "3       8842281e1d1347389f2ab93d60773d4d  ...       en\n",
       "4       8842281e1d1347389f2ab93d60773d4d  ...       en\n",
       "...                                  ...  ...      ...\n",
       "101247  7f7a51d8f8187e96e8122c1ab042875b  ...       en\n",
       "101248  7f7a51d8f8187e96e8122c1ab042875b  ...       en\n",
       "101249  7f7a51d8f8187e96e8122c1ab042875b  ...       en\n",
       "101250  7f7a51d8f8187e96e8122c1ab042875b  ...       en\n",
       "101251  7f7a51d8f8187e96e8122c1ab042875b  ...       en\n",
       "\n",
       "[90424 rows x 17 columns]"
      ]
     },
     "execution_count": 35,
     "metadata": {
      "tags": []
     },
     "output_type": "execute_result"
    }
   ],
   "source": [
    "new_ratings = goodreads_review.drop(unwanted_ratings.index)\n",
    "new_ratings"
   ]
  },
  {
   "cell_type": "code",
   "execution_count": null,
   "metadata": {
    "colab": {
     "base_uri": "https://localhost:8080/"
    },
    "id": "v1lVO--AH8rc",
    "outputId": "55e276f3-690f-4b22-aa68-aa174cbd1b6b"
   },
   "outputs": [
    {
     "data": {
      "text/plain": [
       "24015"
      ]
     },
     "execution_count": 36,
     "metadata": {
      "tags": []
     },
     "output_type": "execute_result"
    }
   ],
   "source": [
    "new_ratings['book_id'].nunique()"
   ]
  },
  {
   "cell_type": "code",
   "execution_count": null,
   "metadata": {
    "id": "jdmnxeB0136I"
   },
   "outputs": [],
   "source": [
    "meta_dataset= new_ratings.drop_duplicates(subset = [\"book_id\"])"
   ]
  },
  {
   "cell_type": "code",
   "execution_count": null,
   "metadata": {
    "colab": {
     "base_uri": "https://localhost:8080/",
     "height": 1000
    },
    "id": "qNoIb3il2Mjs",
    "outputId": "cc30172c-6a08-4580-839b-73c164963cfb"
   },
   "outputs": [
    {
     "data": {
      "text/html": [
       "<div>\n",
       "<style scoped>\n",
       "    .dataframe tbody tr th:only-of-type {\n",
       "        vertical-align: middle;\n",
       "    }\n",
       "\n",
       "    .dataframe tbody tr th {\n",
       "        vertical-align: top;\n",
       "    }\n",
       "\n",
       "    .dataframe thead th {\n",
       "        text-align: right;\n",
       "    }\n",
       "</style>\n",
       "<table border=\"1\" class=\"dataframe\">\n",
       "  <thead>\n",
       "    <tr style=\"text-align: right;\">\n",
       "      <th></th>\n",
       "      <th>user_id</th>\n",
       "      <th>book_id</th>\n",
       "      <th>review_id</th>\n",
       "      <th>rating</th>\n",
       "      <th>review_text</th>\n",
       "      <th>text_reviews_count</th>\n",
       "      <th>average_rating</th>\n",
       "      <th>description</th>\n",
       "      <th>link</th>\n",
       "      <th>authors</th>\n",
       "      <th>publication_year</th>\n",
       "      <th>url</th>\n",
       "      <th>image_url</th>\n",
       "      <th>ratings_count</th>\n",
       "      <th>title</th>\n",
       "      <th>title_without_series</th>\n",
       "      <th>language</th>\n",
       "    </tr>\n",
       "  </thead>\n",
       "  <tbody>\n",
       "    <tr>\n",
       "      <th>0</th>\n",
       "      <td>8842281e1d1347389f2ab93d60773d4d</td>\n",
       "      <td>19398490</td>\n",
       "      <td>ea4a220b10e6b5c796dae0e3b970aff1</td>\n",
       "      <td>4</td>\n",
       "      <td>A beautiful story. It is rare to encounter a b...</td>\n",
       "      <td>2311</td>\n",
       "      <td>4.31</td>\n",
       "      <td>Winner of the Pulitzer Prize\\nFrom the highly ...</td>\n",
       "      <td>https://www.goodreads.com/book/show/19398490-a...</td>\n",
       "      <td>[{'author_id': '28186', 'role': ''}]</td>\n",
       "      <td>2014.0</td>\n",
       "      <td>https://www.goodreads.com/book/show/19398490-a...</td>\n",
       "      <td>https://images.gr-assets.com/books/1440903901m...</td>\n",
       "      <td>53342</td>\n",
       "      <td>All the Light We Cannot See</td>\n",
       "      <td>All the Light We Cannot See</td>\n",
       "      <td>en</td>\n",
       "    </tr>\n",
       "    <tr>\n",
       "      <th>1</th>\n",
       "      <td>8842281e1d1347389f2ab93d60773d4d</td>\n",
       "      <td>12969594</td>\n",
       "      <td>3e31f26463b536d280c5100e473feb83</td>\n",
       "      <td>3</td>\n",
       "      <td>This book takes us into the crazy world of Nor...</td>\n",
       "      <td>241</td>\n",
       "      <td>4.06</td>\n",
       "      <td>An alternate cover of this ASIN can be found \u0001...</td>\n",
       "      <td>https://www.goodreads.com/book/show/12969594-t...</td>\n",
       "      <td>[{'author_id': '36615', 'role': ''}]</td>\n",
       "      <td>2012.0</td>\n",
       "      <td>https://www.goodreads.com/book/show/12969594-t...</td>\n",
       "      <td>https://images.gr-assets.com/books/1328309680m...</td>\n",
       "      <td>6390</td>\n",
       "      <td>The Orphan Master's Son</td>\n",
       "      <td>The Orphan Master's Son</td>\n",
       "      <td>en</td>\n",
       "    </tr>\n",
       "    <tr>\n",
       "      <th>2</th>\n",
       "      <td>8842281e1d1347389f2ab93d60773d4d</td>\n",
       "      <td>8664353</td>\n",
       "      <td>da2d4cfce836a2c57ad55c38437aa692</td>\n",
       "      <td>5</td>\n",
       "      <td>Wow. Amazing story, and well told - kept me up...</td>\n",
       "      <td>38878</td>\n",
       "      <td>4.39</td>\n",
       "      <td>In her long-awaited new book, Laura Hillenbran...</td>\n",
       "      <td>https://www.goodreads.com/book/show/8664353-un...</td>\n",
       "      <td>[{'author_id': '30913', 'role': ''}]</td>\n",
       "      <td>2010.0</td>\n",
       "      <td>https://www.goodreads.com/book/show/8664353-un...</td>\n",
       "      <td>https://images.gr-assets.com/books/1327861115m...</td>\n",
       "      <td>504961</td>\n",
       "      <td>Unbroken: A World War II Story of Survival, Re...</td>\n",
       "      <td>Unbroken: A World War II Story of Survival, Re...</td>\n",
       "      <td>en</td>\n",
       "    </tr>\n",
       "    <tr>\n",
       "      <th>3</th>\n",
       "      <td>8842281e1d1347389f2ab93d60773d4d</td>\n",
       "      <td>6452796</td>\n",
       "      <td>33f25b63a8a5be9b832f706c4c0a1cfc</td>\n",
       "      <td>3</td>\n",
       "      <td>Kareem recommends</td>\n",
       "      <td>2930</td>\n",
       "      <td>3.95</td>\n",
       "      <td>Forget everything you thought you knew about h...</td>\n",
       "      <td>https://www.goodreads.com/book/show/6452796-drive</td>\n",
       "      <td>[{'author_id': '96150', 'role': ''}]</td>\n",
       "      <td>2009.0</td>\n",
       "      <td>https://www.goodreads.com/book/show/6452796-drive</td>\n",
       "      <td>https://s.gr-assets.com/assets/nophoto/book/11...</td>\n",
       "      <td>58428</td>\n",
       "      <td>Drive: The Surprising Truth About What Motivat...</td>\n",
       "      <td>Drive: The Surprising Truth About What Motivat...</td>\n",
       "      <td>en</td>\n",
       "    </tr>\n",
       "    <tr>\n",
       "      <th>4</th>\n",
       "      <td>8842281e1d1347389f2ab93d60773d4d</td>\n",
       "      <td>178186</td>\n",
       "      <td>66c9b63369a1ffd1489c61555531996a</td>\n",
       "      <td>5</td>\n",
       "      <td>My safari guide gave this to me, saying the au...</td>\n",
       "      <td>26</td>\n",
       "      <td>3.87</td>\n",
       "      <td>An autobiographical memoir revealing the tradi...</td>\n",
       "      <td>https://www.goodreads.com/book/show/178186.The...</td>\n",
       "      <td>[{'author_id': '103752', 'role': ''}]</td>\n",
       "      <td>1988.0</td>\n",
       "      <td>https://www.goodreads.com/book/show/178186.The...</td>\n",
       "      <td>https://s.gr-assets.com/assets/nophoto/book/11...</td>\n",
       "      <td>245</td>\n",
       "      <td>The Worlds of a Maasai Warrior: An Autobiography</td>\n",
       "      <td>The Worlds of a Maasai Warrior: An Autobiography</td>\n",
       "      <td>en</td>\n",
       "    </tr>\n",
       "    <tr>\n",
       "      <th>...</th>\n",
       "      <td>...</td>\n",
       "      <td>...</td>\n",
       "      <td>...</td>\n",
       "      <td>...</td>\n",
       "      <td>...</td>\n",
       "      <td>...</td>\n",
       "      <td>...</td>\n",
       "      <td>...</td>\n",
       "      <td>...</td>\n",
       "      <td>...</td>\n",
       "      <td>...</td>\n",
       "      <td>...</td>\n",
       "      <td>...</td>\n",
       "      <td>...</td>\n",
       "      <td>...</td>\n",
       "      <td>...</td>\n",
       "      <td>...</td>\n",
       "    </tr>\n",
       "    <tr>\n",
       "      <th>101220</th>\n",
       "      <td>d4f924d9abaabe43b8d773ac54123b6b</td>\n",
       "      <td>23228256</td>\n",
       "      <td>43675f54d7d2028132747101701bce5c</td>\n",
       "      <td>3</td>\n",
       "      <td>This would make a terrible action movie. \\n Tr...</td>\n",
       "      <td>28</td>\n",
       "      <td>4.09</td>\n",
       "      <td>From Brazil's most acclaimed young novelist, t...</td>\n",
       "      <td>https://www.goodreads.com/book/show/23228256-b...</td>\n",
       "      <td>[{'author_id': '1169290', 'role': ''}, {'autho...</td>\n",
       "      <td>2015.0</td>\n",
       "      <td>https://www.goodreads.com/book/show/23228256-b...</td>\n",
       "      <td>https://images.gr-assets.com/books/1411183144m...</td>\n",
       "      <td>159</td>\n",
       "      <td>Blood-Drenched Beard</td>\n",
       "      <td>Blood-Drenched Beard</td>\n",
       "      <td>en</td>\n",
       "    </tr>\n",
       "    <tr>\n",
       "      <th>101227</th>\n",
       "      <td>fd09c994b9cac1767354b77c8daa48af</td>\n",
       "      <td>30340824</td>\n",
       "      <td>7b8355a1c1600cf83d4c55024fce76dd</td>\n",
       "      <td>3</td>\n",
       "      <td>This second book in the series revisits many t...</td>\n",
       "      <td>45</td>\n",
       "      <td>4.33</td>\n",
       "      <td>Ten seconds can change everything.\\nDaisy Conn...</td>\n",
       "      <td>https://www.goodreads.com/book/show/30340824-c...</td>\n",
       "      <td>[{'author_id': '3975855', 'role': ''}]</td>\n",
       "      <td>2016.0</td>\n",
       "      <td>https://www.goodreads.com/book/show/30340824-c...</td>\n",
       "      <td>https://images.gr-assets.com/books/1464920539m...</td>\n",
       "      <td>68</td>\n",
       "      <td>Collateral Damage (Hidden Scars, #2)</td>\n",
       "      <td>Collateral Damage (Hidden Scars, #2)</td>\n",
       "      <td>en</td>\n",
       "    </tr>\n",
       "    <tr>\n",
       "      <th>101228</th>\n",
       "      <td>fd09c994b9cac1767354b77c8daa48af</td>\n",
       "      <td>33125385</td>\n",
       "      <td>0188cf65223baa4d6444911a627e0fe9</td>\n",
       "      <td>4</td>\n",
       "      <td>A great start to a new series! \\n Aria, career...</td>\n",
       "      <td>29</td>\n",
       "      <td>4.4</td>\n",
       "      <td>Librarian Note: Alternate Cover Edition for \u0001....</td>\n",
       "      <td>https://www.goodreads.com/book/show/33125385-u...</td>\n",
       "      <td>[{'author_id': '8577407', 'role': ''}]</td>\n",
       "      <td>2014.0</td>\n",
       "      <td>https://www.goodreads.com/book/show/33125385-u...</td>\n",
       "      <td>https://images.gr-assets.com/books/1480090010m...</td>\n",
       "      <td>93</td>\n",
       "      <td>Untouched (Untouched #1)</td>\n",
       "      <td>Untouched (Untouched #1)</td>\n",
       "      <td>en</td>\n",
       "    </tr>\n",
       "    <tr>\n",
       "      <th>101248</th>\n",
       "      <td>7f7a51d8f8187e96e8122c1ab042875b</td>\n",
       "      <td>22798607</td>\n",
       "      <td>fdaa572b54ad8a32be63e632f55dc0e7</td>\n",
       "      <td>5</td>\n",
       "      <td>Stories filled with lives lived, drenched in l...</td>\n",
       "      <td>3</td>\n",
       "      <td>3.9</td>\n",
       "      <td>In his debut collection, Christian Winn throws...</td>\n",
       "      <td>https://www.goodreads.com/book/show/22798607-n...</td>\n",
       "      <td>[{'author_id': '8409842', 'role': ''}]</td>\n",
       "      <td>2014.0</td>\n",
       "      <td>https://www.goodreads.com/book/show/22798607-n...</td>\n",
       "      <td>https://images.gr-assets.com/books/1417750817m...</td>\n",
       "      <td>21</td>\n",
       "      <td>Naked Me</td>\n",
       "      <td>Naked Me</td>\n",
       "      <td>en</td>\n",
       "    </tr>\n",
       "    <tr>\n",
       "      <th>101250</th>\n",
       "      <td>7f7a51d8f8187e96e8122c1ab042875b</td>\n",
       "      <td>26047380</td>\n",
       "      <td>3ee7ec45cc7f4344fc868d8a74395b19</td>\n",
       "      <td>5</td>\n",
       "      <td>The act of grief captured as it is happening, ...</td>\n",
       "      <td>2</td>\n",
       "      <td>4.7</td>\n",
       "      <td>Sadly Beautiful is a collection of poems and e...</td>\n",
       "      <td>https://www.goodreads.com/book/show/26047380-s...</td>\n",
       "      <td>[{'author_id': '4952802', 'role': ''}, {'autho...</td>\n",
       "      <td>2015.0</td>\n",
       "      <td>https://www.goodreads.com/book/show/26047380-s...</td>\n",
       "      <td>https://images.gr-assets.com/books/1438812276m...</td>\n",
       "      <td>9</td>\n",
       "      <td>Sadly Beautiful</td>\n",
       "      <td>Sadly Beautiful</td>\n",
       "      <td>en</td>\n",
       "    </tr>\n",
       "  </tbody>\n",
       "</table>\n",
       "<p>24015 rows × 17 columns</p>\n",
       "</div>"
      ],
      "text/plain": [
       "                                 user_id  ... language\n",
       "0       8842281e1d1347389f2ab93d60773d4d  ...       en\n",
       "1       8842281e1d1347389f2ab93d60773d4d  ...       en\n",
       "2       8842281e1d1347389f2ab93d60773d4d  ...       en\n",
       "3       8842281e1d1347389f2ab93d60773d4d  ...       en\n",
       "4       8842281e1d1347389f2ab93d60773d4d  ...       en\n",
       "...                                  ...  ...      ...\n",
       "101220  d4f924d9abaabe43b8d773ac54123b6b  ...       en\n",
       "101227  fd09c994b9cac1767354b77c8daa48af  ...       en\n",
       "101228  fd09c994b9cac1767354b77c8daa48af  ...       en\n",
       "101248  7f7a51d8f8187e96e8122c1ab042875b  ...       en\n",
       "101250  7f7a51d8f8187e96e8122c1ab042875b  ...       en\n",
       "\n",
       "[24015 rows x 17 columns]"
      ]
     },
     "execution_count": 45,
     "metadata": {
      "tags": []
     },
     "output_type": "execute_result"
    }
   ],
   "source": [
    "meta_dataset"
   ]
  },
  {
   "cell_type": "code",
   "execution_count": null,
   "metadata": {
    "id": "Fq9ybmCo2S_A"
   },
   "outputs": [],
   "source": [
    "meta_dataset=meta_dataset.drop(['user_id', 'review_id', 'rating', 'review_text'],axis=1)"
   ]
  },
  {
   "cell_type": "code",
   "execution_count": null,
   "metadata": {
    "colab": {
     "base_uri": "https://localhost:8080/"
    },
    "id": "f9BZSgUm2c30",
    "outputId": "862c4759-aca2-4f55-8712-b272b65bf5f8"
   },
   "outputs": [
    {
     "data": {
      "text/plain": [
       "Index(['book_id', 'text_reviews_count', 'average_rating', 'description',\n",
       "       'link', 'authors', 'publication_year', 'url', 'image_url',\n",
       "       'ratings_count', 'title', 'title_without_series', 'language'],\n",
       "      dtype='object')"
      ]
     },
     "execution_count": 47,
     "metadata": {
      "tags": []
     },
     "output_type": "execute_result"
    }
   ],
   "source": [
    "meta_dataset.columns"
   ]
  },
  {
   "cell_type": "code",
   "execution_count": null,
   "metadata": {
    "id": "lYt-Tp_Buy55"
   },
   "outputs": [],
   "source": [
    "review_table= new_ratings[['user_id', 'book_id', 'review_id', 'rating', 'review_text']]"
   ]
  },
  {
   "cell_type": "code",
   "execution_count": null,
   "metadata": {
    "colab": {
     "base_uri": "https://localhost:8080/",
     "height": 415
    },
    "id": "yVaUdNLOv8-v",
    "outputId": "254dbd6c-0bcd-4540-ada0-6cc21221da1a"
   },
   "outputs": [
    {
     "data": {
      "text/html": [
       "<div>\n",
       "<style scoped>\n",
       "    .dataframe tbody tr th:only-of-type {\n",
       "        vertical-align: middle;\n",
       "    }\n",
       "\n",
       "    .dataframe tbody tr th {\n",
       "        vertical-align: top;\n",
       "    }\n",
       "\n",
       "    .dataframe thead th {\n",
       "        text-align: right;\n",
       "    }\n",
       "</style>\n",
       "<table border=\"1\" class=\"dataframe\">\n",
       "  <thead>\n",
       "    <tr style=\"text-align: right;\">\n",
       "      <th></th>\n",
       "      <th>user_id</th>\n",
       "      <th>book_id</th>\n",
       "      <th>review_id</th>\n",
       "      <th>rating</th>\n",
       "      <th>review_text</th>\n",
       "    </tr>\n",
       "  </thead>\n",
       "  <tbody>\n",
       "    <tr>\n",
       "      <th>0</th>\n",
       "      <td>8842281e1d1347389f2ab93d60773d4d</td>\n",
       "      <td>19398490</td>\n",
       "      <td>ea4a220b10e6b5c796dae0e3b970aff1</td>\n",
       "      <td>4</td>\n",
       "      <td>A beautiful story. It is rare to encounter a b...</td>\n",
       "    </tr>\n",
       "    <tr>\n",
       "      <th>1</th>\n",
       "      <td>8842281e1d1347389f2ab93d60773d4d</td>\n",
       "      <td>12969594</td>\n",
       "      <td>3e31f26463b536d280c5100e473feb83</td>\n",
       "      <td>3</td>\n",
       "      <td>This book takes us into the crazy world of Nor...</td>\n",
       "    </tr>\n",
       "    <tr>\n",
       "      <th>2</th>\n",
       "      <td>8842281e1d1347389f2ab93d60773d4d</td>\n",
       "      <td>8664353</td>\n",
       "      <td>da2d4cfce836a2c57ad55c38437aa692</td>\n",
       "      <td>5</td>\n",
       "      <td>Wow. Amazing story, and well told - kept me up...</td>\n",
       "    </tr>\n",
       "    <tr>\n",
       "      <th>3</th>\n",
       "      <td>8842281e1d1347389f2ab93d60773d4d</td>\n",
       "      <td>6452796</td>\n",
       "      <td>33f25b63a8a5be9b832f706c4c0a1cfc</td>\n",
       "      <td>3</td>\n",
       "      <td>Kareem recommends</td>\n",
       "    </tr>\n",
       "    <tr>\n",
       "      <th>4</th>\n",
       "      <td>8842281e1d1347389f2ab93d60773d4d</td>\n",
       "      <td>178186</td>\n",
       "      <td>66c9b63369a1ffd1489c61555531996a</td>\n",
       "      <td>5</td>\n",
       "      <td>My safari guide gave this to me, saying the au...</td>\n",
       "    </tr>\n",
       "    <tr>\n",
       "      <th>...</th>\n",
       "      <td>...</td>\n",
       "      <td>...</td>\n",
       "      <td>...</td>\n",
       "      <td>...</td>\n",
       "      <td>...</td>\n",
       "    </tr>\n",
       "    <tr>\n",
       "      <th>101247</th>\n",
       "      <td>7f7a51d8f8187e96e8122c1ab042875b</td>\n",
       "      <td>27135263</td>\n",
       "      <td>4a832a70990e81b885c52d02f9b3291d</td>\n",
       "      <td>5</td>\n",
       "      <td>Because fiction is memoir is fiction is nonfic...</td>\n",
       "    </tr>\n",
       "    <tr>\n",
       "      <th>101248</th>\n",
       "      <td>7f7a51d8f8187e96e8122c1ab042875b</td>\n",
       "      <td>22798607</td>\n",
       "      <td>fdaa572b54ad8a32be63e632f55dc0e7</td>\n",
       "      <td>5</td>\n",
       "      <td>Stories filled with lives lived, drenched in l...</td>\n",
       "    </tr>\n",
       "    <tr>\n",
       "      <th>101249</th>\n",
       "      <td>7f7a51d8f8187e96e8122c1ab042875b</td>\n",
       "      <td>25343294</td>\n",
       "      <td>f6c642fdd4824e1065160387b5e31146</td>\n",
       "      <td>5</td>\n",
       "      <td>Something kind of magical. \\n More - http://be...</td>\n",
       "    </tr>\n",
       "    <tr>\n",
       "      <th>101250</th>\n",
       "      <td>7f7a51d8f8187e96e8122c1ab042875b</td>\n",
       "      <td>26047380</td>\n",
       "      <td>3ee7ec45cc7f4344fc868d8a74395b19</td>\n",
       "      <td>5</td>\n",
       "      <td>The act of grief captured as it is happening, ...</td>\n",
       "    </tr>\n",
       "    <tr>\n",
       "      <th>101251</th>\n",
       "      <td>7f7a51d8f8187e96e8122c1ab042875b</td>\n",
       "      <td>7726420</td>\n",
       "      <td>1d9357090cd356ba52fede1ac25f6be6</td>\n",
       "      <td>5</td>\n",
       "      <td>Time travel, and family, in all its fucked-upe...</td>\n",
       "    </tr>\n",
       "  </tbody>\n",
       "</table>\n",
       "<p>90424 rows × 5 columns</p>\n",
       "</div>"
      ],
      "text/plain": [
       "                                 user_id  ...                                        review_text\n",
       "0       8842281e1d1347389f2ab93d60773d4d  ...  A beautiful story. It is rare to encounter a b...\n",
       "1       8842281e1d1347389f2ab93d60773d4d  ...  This book takes us into the crazy world of Nor...\n",
       "2       8842281e1d1347389f2ab93d60773d4d  ...  Wow. Amazing story, and well told - kept me up...\n",
       "3       8842281e1d1347389f2ab93d60773d4d  ...                                  Kareem recommends\n",
       "4       8842281e1d1347389f2ab93d60773d4d  ...  My safari guide gave this to me, saying the au...\n",
       "...                                  ...  ...                                                ...\n",
       "101247  7f7a51d8f8187e96e8122c1ab042875b  ...  Because fiction is memoir is fiction is nonfic...\n",
       "101248  7f7a51d8f8187e96e8122c1ab042875b  ...  Stories filled with lives lived, drenched in l...\n",
       "101249  7f7a51d8f8187e96e8122c1ab042875b  ...  Something kind of magical. \\n More - http://be...\n",
       "101250  7f7a51d8f8187e96e8122c1ab042875b  ...  The act of grief captured as it is happening, ...\n",
       "101251  7f7a51d8f8187e96e8122c1ab042875b  ...  Time travel, and family, in all its fucked-upe...\n",
       "\n",
       "[90424 rows x 5 columns]"
      ]
     },
     "execution_count": 40,
     "metadata": {
      "tags": []
     },
     "output_type": "execute_result"
    }
   ],
   "source": [
    "review_table"
   ]
  },
  {
   "cell_type": "code",
   "execution_count": null,
   "metadata": {
    "colab": {
     "base_uri": "https://localhost:8080/"
    },
    "id": "D0WU7B5jJLgs",
    "outputId": "91c8bf3e-688a-48c0-da72-6751632759ab"
   },
   "outputs": [
    {
     "name": "stdout",
     "output_type": "stream",
     "text": [
      "Collecting xlsxwriter\n",
      "\u001b[?25l  Downloading https://files.pythonhosted.org/packages/6b/41/bf1aae04932d1eaffee1fc5f8b38ca47bbbf07d765129539bc4bcce1ce0c/XlsxWriter-1.3.7-py2.py3-none-any.whl (144kB)\n",
      "\r",
      "\u001b[K     |██▎                             | 10kB 12.4MB/s eta 0:00:01\r",
      "\u001b[K     |████▌                           | 20kB 17.3MB/s eta 0:00:01\r",
      "\u001b[K     |██████▉                         | 30kB 14.1MB/s eta 0:00:01\r",
      "\u001b[K     |█████████                       | 40kB 9.9MB/s eta 0:00:01\r",
      "\u001b[K     |███████████▎                    | 51kB 5.5MB/s eta 0:00:01\r",
      "\u001b[K     |█████████████▋                  | 61kB 6.0MB/s eta 0:00:01\r",
      "\u001b[K     |███████████████▉                | 71kB 6.1MB/s eta 0:00:01\r",
      "\u001b[K     |██████████████████▏             | 81kB 6.4MB/s eta 0:00:01\r",
      "\u001b[K     |████████████████████▍           | 92kB 6.5MB/s eta 0:00:01\r",
      "\u001b[K     |██████████████████████▋         | 102kB 6.9MB/s eta 0:00:01\r",
      "\u001b[K     |█████████████████████████       | 112kB 6.9MB/s eta 0:00:01\r",
      "\u001b[K     |███████████████████████████▏    | 122kB 6.9MB/s eta 0:00:01\r",
      "\u001b[K     |█████████████████████████████▌  | 133kB 6.9MB/s eta 0:00:01\r",
      "\u001b[K     |███████████████████████████████▊| 143kB 6.9MB/s eta 0:00:01\r",
      "\u001b[K     |████████████████████████████████| 153kB 6.9MB/s \n",
      "\u001b[?25hInstalling collected packages: xlsxwriter\n",
      "Successfully installed xlsxwriter-1.3.7\n"
     ]
    }
   ],
   "source": [
    "#pip install xlsxwriter"
   ]
  },
  {
   "cell_type": "code",
   "execution_count": null,
   "metadata": {
    "id": "oo9pOCLLIY5O"
   },
   "outputs": [],
   "source": [
    "#import xlsxwriter"
   ]
  },
  {
   "cell_type": "code",
   "execution_count": null,
   "metadata": {
    "id": "Bz_bfnkx1cQv"
   },
   "outputs": [],
   "source": [
    "#writer = pd.ExcelWriter(r'review_dataset.xlsx', engine='xlsxwriter',options={'strings_to_urls': False})\n",
    "#review_table.to_excel(writer)\n",
    "#writer.close()"
   ]
  },
  {
   "cell_type": "code",
   "execution_count": null,
   "metadata": {
    "id": "eOYvzn6O1lVn"
   },
   "outputs": [],
   "source": [
    "#writer = pd.ExcelWriter(r'meta_dataset.xlsx', engine='xlsxwriter',options={'strings_to_urls': False})\n",
    "#meta_dataset.to_excel(writer)\n",
    "#writer.close()"
   ]
  },
  {
   "cell_type": "code",
   "execution_count": null,
   "metadata": {
    "id": "lPIXjQ_F3FZW"
   },
   "outputs": [],
   "source": []
  }
 ],
 "metadata": {
  "colab": {
   "collapsed_sections": [],
   "name": "2#review_book_cleaning.ipynb",
   "provenance": []
  },
  "kernelspec": {
   "display_name": "Python 3",
   "language": "python",
   "name": "python3"
  },
  "language_info": {
   "codemirror_mode": {
    "name": "ipython",
    "version": 3
   },
   "file_extension": ".py",
   "mimetype": "text/x-python",
   "name": "python",
   "nbconvert_exporter": "python",
   "pygments_lexer": "ipython3",
   "version": "3.8.3"
  }
 },
 "nbformat": 4,
 "nbformat_minor": 1
}
