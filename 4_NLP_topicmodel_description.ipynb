{
 "cells": [
  {
   "cell_type": "markdown",
   "metadata": {
    "id": "gPNKtvC-OASD"
   },
   "source": [
    "# **NLP Topic Modelling on Description for the content based system**"
   ]
  },
  {
   "cell_type": "code",
   "execution_count": null,
   "metadata": {
    "colab": {
     "base_uri": "https://localhost:8080/"
    },
    "id": "3cPG33-1UCdK",
    "outputId": "a4d668b1-97b9-4412-dda0-beeacd891a94"
   },
   "outputs": [
    {
     "name": "stdout",
     "output_type": "stream",
     "text": [
      "Mounted at /content/gdrive\n"
     ]
    }
   ],
   "source": [
    "from google.colab import drive\n",
    "drive.mount('/content/gdrive')"
   ]
  },
  {
   "cell_type": "markdown",
   "metadata": {
    "id": "G0arIo5NRrQr"
   },
   "source": []
  },
  {
   "cell_type": "code",
   "execution_count": null,
   "metadata": {
    "colab": {
     "base_uri": "https://localhost:8080/"
    },
    "id": "a2NApncVUXej",
    "outputId": "ccdff304-efdd-4563-fb2f-490d026f32af"
   },
   "outputs": [
    {
     "name": "stdout",
     "output_type": "stream",
     "text": [
      "/content/gdrive/My Drive\n"
     ]
    }
   ],
   "source": [
    "%cd /content/gdrive/My Drive"
   ]
  },
  {
   "cell_type": "code",
   "execution_count": null,
   "metadata": {
    "id": "ln-XjgqRUokF"
   },
   "outputs": [],
   "source": [
    "# Dataframe\n",
    "import pandas as pd\n",
    "import numpy as np\n",
    "\n",
    "# Visualizations\n",
    "import matplotlib.pyplot as plt\n",
    "from matplotlib.colors import ListedColormap\n",
    "import seaborn as sns\n",
    "import matplotlib.colors as colors\n",
    "%matplotlib inline\n",
    "\n",
    "## Warnings\n",
    "import warnings\n",
    "from scipy import stats\n",
    "warnings.filterwarnings('ignore')"
   ]
  },
  {
   "cell_type": "markdown",
   "metadata": {
    "id": "dzLzNVcAClyQ"
   },
   "source": [
    "**Importing meta_book dataset for nlp topic modelling on description of book**"
   ]
  },
  {
   "cell_type": "code",
   "execution_count": null,
   "metadata": {
    "id": "zVUsQni3U5lN"
   },
   "outputs": [],
   "source": [
    "goodreads_book1 = pd.read_excel('nlp_dataset.xlsx')"
   ]
  },
  {
   "cell_type": "code",
   "execution_count": null,
   "metadata": {
    "colab": {
     "base_uri": "https://localhost:8080/"
    },
    "id": "uLJV9FdmVCjK",
    "outputId": "91f6b073-737c-45f1-ad13-b0426cd1dc94"
   },
   "outputs": [
    {
     "data": {
      "text/plain": [
       "(24015, 15)"
      ]
     },
     "execution_count": 5,
     "metadata": {
      "tags": []
     },
     "output_type": "execute_result"
    }
   ],
   "source": [
    "goodreads_book1.shape"
   ]
  },
  {
   "cell_type": "code",
   "execution_count": null,
   "metadata": {
    "colab": {
     "base_uri": "https://localhost:8080/"
    },
    "id": "Dlmd_mgq0YEE",
    "outputId": "6748fb5b-6dd7-4cb0-b9aa-f2e923fc8288"
   },
   "outputs": [
    {
     "name": "stdout",
     "output_type": "stream",
     "text": [
      "Collecting gensim\n",
      "\u001b[?25l  Downloading https://files.pythonhosted.org/packages/2b/e0/fa6326251692056dc880a64eb22117e03269906ba55a6864864d24ec8b4e/gensim-3.8.3-cp36-cp36m-manylinux1_x86_64.whl (24.2MB)\n",
      "\u001b[K     |████████████████████████████████| 24.2MB 168kB/s \n",
      "\u001b[?25hRequirement already satisfied, skipping upgrade: numpy>=1.11.3 in /usr/local/lib/python3.6/dist-packages (from gensim) (1.18.5)\n",
      "Requirement already satisfied, skipping upgrade: six>=1.5.0 in /usr/local/lib/python3.6/dist-packages (from gensim) (1.15.0)\n",
      "Requirement already satisfied, skipping upgrade: smart-open>=1.8.1 in /usr/local/lib/python3.6/dist-packages (from gensim) (3.0.0)\n",
      "Requirement already satisfied, skipping upgrade: scipy>=0.18.1 in /usr/local/lib/python3.6/dist-packages (from gensim) (1.4.1)\n",
      "Requirement already satisfied, skipping upgrade: requests in /usr/local/lib/python3.6/dist-packages (from smart-open>=1.8.1->gensim) (2.23.0)\n",
      "Requirement already satisfied, skipping upgrade: idna<3,>=2.5 in /usr/local/lib/python3.6/dist-packages (from requests->smart-open>=1.8.1->gensim) (2.10)\n",
      "Requirement already satisfied, skipping upgrade: certifi>=2017.4.17 in /usr/local/lib/python3.6/dist-packages (from requests->smart-open>=1.8.1->gensim) (2020.11.8)\n",
      "Requirement already satisfied, skipping upgrade: urllib3!=1.25.0,!=1.25.1,<1.26,>=1.21.1 in /usr/local/lib/python3.6/dist-packages (from requests->smart-open>=1.8.1->gensim) (1.24.3)\n",
      "Requirement already satisfied, skipping upgrade: chardet<4,>=3.0.2 in /usr/local/lib/python3.6/dist-packages (from requests->smart-open>=1.8.1->gensim) (3.0.4)\n",
      "Installing collected packages: gensim\n",
      "  Found existing installation: gensim 3.6.0\n",
      "    Uninstalling gensim-3.6.0:\n",
      "      Successfully uninstalled gensim-3.6.0\n",
      "Successfully installed gensim-3.8.3\n"
     ]
    }
   ],
   "source": [
    "#pip install --upgrade gensim"
   ]
  },
  {
   "cell_type": "code",
   "execution_count": null,
   "metadata": {
    "colab": {
     "base_uri": "https://localhost:8080/"
    },
    "id": "Fy-r2QkAXHor",
    "outputId": "ab081667-e849-4345-a97f-0fad6f12b523"
   },
   "outputs": [
    {
     "data": {
      "text/plain": [
       "Index(['Unnamed: 0', 'book_id', 'text_reviews_count', 'average_rating',\n",
       "       'description', 'link', 'url', 'image_url', 'ratings_count', 'title',\n",
       "       'title_without_series', 'language', 'author_id', 'author_name',\n",
       "       'genres_book'],\n",
       "      dtype='object')"
      ]
     },
     "execution_count": 8,
     "metadata": {
      "tags": []
     },
     "output_type": "execute_result"
    }
   ],
   "source": [
    "goodreads_book1.columns"
   ]
  },
  {
   "cell_type": "code",
   "execution_count": null,
   "metadata": {
    "id": "aPN6A1XjXe1b"
   },
   "outputs": [],
   "source": [
    "goodreads_book1=goodreads_book1.drop(['Unnamed: 0'],axis=1)"
   ]
  },
  {
   "cell_type": "code",
   "execution_count": null,
   "metadata": {
    "colab": {
     "base_uri": "https://localhost:8080/"
    },
    "id": "JyBEG7RfX4bi",
    "outputId": "86409c4c-b4c6-4b77-cf2f-b3c39bf7693a"
   },
   "outputs": [
    {
     "data": {
      "text/plain": [
       "Index(['book_id', 'text_reviews_count', 'average_rating', 'description',\n",
       "       'link', 'url', 'image_url', 'ratings_count', 'title',\n",
       "       'title_without_series', 'language', 'author_id', 'author_name',\n",
       "       'genres_book'],\n",
       "      dtype='object')"
      ]
     },
     "execution_count": 10,
     "metadata": {
      "tags": []
     },
     "output_type": "execute_result"
    }
   ],
   "source": [
    "goodreads_book1.columns"
   ]
  },
  {
   "cell_type": "code",
   "execution_count": null,
   "metadata": {
    "id": "OJD8QYzOX7s9"
   },
   "outputs": [],
   "source": [
    "goodreads_book2= goodreads_book1.reset_index(drop=True)"
   ]
  },
  {
   "cell_type": "code",
   "execution_count": null,
   "metadata": {
    "id": "bdKstBKFcpUm"
   },
   "outputs": [],
   "source": [
    "# group data by title, genre and author name to join description in the same book\n",
    "grouped_data = goodreads_book2.groupby(['book_id','title','genres_book','author_name'])['description'].apply(lambda x: ' '.join(x)).reset_index()"
   ]
  },
  {
   "cell_type": "code",
   "execution_count": null,
   "metadata": {
    "colab": {
     "base_uri": "https://localhost:8080/",
     "height": 415
    },
    "id": "-SHLZBFktgCu",
    "outputId": "d0a85c78-d417-469a-88ac-fd3993e6f2f9"
   },
   "outputs": [
    {
     "data": {
      "text/html": [
       "<div>\n",
       "<style scoped>\n",
       "    .dataframe tbody tr th:only-of-type {\n",
       "        vertical-align: middle;\n",
       "    }\n",
       "\n",
       "    .dataframe tbody tr th {\n",
       "        vertical-align: top;\n",
       "    }\n",
       "\n",
       "    .dataframe thead th {\n",
       "        text-align: right;\n",
       "    }\n",
       "</style>\n",
       "<table border=\"1\" class=\"dataframe\">\n",
       "  <thead>\n",
       "    <tr style=\"text-align: right;\">\n",
       "      <th></th>\n",
       "      <th>book_id</th>\n",
       "      <th>title</th>\n",
       "      <th>genres_book</th>\n",
       "      <th>author_name</th>\n",
       "      <th>description</th>\n",
       "    </tr>\n",
       "  </thead>\n",
       "  <tbody>\n",
       "    <tr>\n",
       "      <th>0</th>\n",
       "      <td>228</td>\n",
       "      <td>Cockfighter</td>\n",
       "      <td>fiction</td>\n",
       "      <td>Charles Willeford</td>\n",
       "      <td>The sport is cockfighting and Frank Mansfield ...</td>\n",
       "    </tr>\n",
       "    <tr>\n",
       "      <th>1</th>\n",
       "      <td>420</td>\n",
       "      <td>The Year of Magical Thinking</td>\n",
       "      <td>non-fiction</td>\n",
       "      <td>Joan Didion</td>\n",
       "      <td>From one of America's most iconic writers, a s...</td>\n",
       "    </tr>\n",
       "    <tr>\n",
       "      <th>2</th>\n",
       "      <td>422</td>\n",
       "      <td>A Book of Common Prayer</td>\n",
       "      <td>fiction</td>\n",
       "      <td>Joan Didion</td>\n",
       "      <td>Writing with the telegraphic swiftness and mic...</td>\n",
       "    </tr>\n",
       "    <tr>\n",
       "      <th>3</th>\n",
       "      <td>423</td>\n",
       "      <td>Where I Was From</td>\n",
       "      <td>non-fiction</td>\n",
       "      <td>Joan Didion</td>\n",
       "      <td>In her moving and insightful new book, Joan Di...</td>\n",
       "    </tr>\n",
       "    <tr>\n",
       "      <th>4</th>\n",
       "      <td>428</td>\n",
       "      <td>Play It as It Lays</td>\n",
       "      <td>fiction</td>\n",
       "      <td>Joan Didion</td>\n",
       "      <td>A ruthless dissection of American life in the ...</td>\n",
       "    </tr>\n",
       "    <tr>\n",
       "      <th>...</th>\n",
       "      <td>...</td>\n",
       "      <td>...</td>\n",
       "      <td>...</td>\n",
       "      <td>...</td>\n",
       "      <td>...</td>\n",
       "    </tr>\n",
       "    <tr>\n",
       "      <th>24010</th>\n",
       "      <td>36393393</td>\n",
       "      <td>Adrenaline Secrets (Deadly DNA, #1)</td>\n",
       "      <td>romance</td>\n",
       "      <td>Carolyn Reilly</td>\n",
       "      <td>He's a trained, genetically-engineered mercena...</td>\n",
       "    </tr>\n",
       "    <tr>\n",
       "      <th>24011</th>\n",
       "      <td>36434372</td>\n",
       "      <td>Ace's Gamble</td>\n",
       "      <td>romance</td>\n",
       "      <td>Natasha Spencer</td>\n",
       "      <td>She's taking a chance and he's risking it all....</td>\n",
       "    </tr>\n",
       "    <tr>\n",
       "      <th>24012</th>\n",
       "      <td>36438554</td>\n",
       "      <td>The Long Ride from Singapore: Two Surgeons on ...</td>\n",
       "      <td>non-fiction</td>\n",
       "      <td>Philip Iau</td>\n",
       "      <td>About the Book\\nThey had all come with a breas...</td>\n",
       "    </tr>\n",
       "    <tr>\n",
       "      <th>24013</th>\n",
       "      <td>36460950</td>\n",
       "      <td>Accidental Daddy: A Billionaire's Baby Romance</td>\n",
       "      <td>romance</td>\n",
       "      <td>R.R. Banks</td>\n",
       "      <td>She gave me her innocence. I gave her a baby.\\...</td>\n",
       "    </tr>\n",
       "    <tr>\n",
       "      <th>24014</th>\n",
       "      <td>36469332</td>\n",
       "      <td>Blue Highway the Way of Life on an Ocean Liner</td>\n",
       "      <td>thriller,crime</td>\n",
       "      <td>Laura Bennett Haddock</td>\n",
       "      <td>Part of the \"Way of Life\" series</td>\n",
       "    </tr>\n",
       "  </tbody>\n",
       "</table>\n",
       "<p>24015 rows × 5 columns</p>\n",
       "</div>"
      ],
      "text/plain": [
       "        book_id  ...                                        description\n",
       "0           228  ...  The sport is cockfighting and Frank Mansfield ...\n",
       "1           420  ...  From one of America's most iconic writers, a s...\n",
       "2           422  ...  Writing with the telegraphic swiftness and mic...\n",
       "3           423  ...  In her moving and insightful new book, Joan Di...\n",
       "4           428  ...  A ruthless dissection of American life in the ...\n",
       "...         ...  ...                                                ...\n",
       "24010  36393393  ...  He's a trained, genetically-engineered mercena...\n",
       "24011  36434372  ...  She's taking a chance and he's risking it all....\n",
       "24012  36438554  ...  About the Book\\nThey had all come with a breas...\n",
       "24013  36460950  ...  She gave me her innocence. I gave her a baby.\\...\n",
       "24014  36469332  ...                   Part of the \"Way of Life\" series\n",
       "\n",
       "[24015 rows x 5 columns]"
      ]
     },
     "execution_count": 13,
     "metadata": {
      "tags": []
     },
     "output_type": "execute_result"
    }
   ],
   "source": [
    "grouped_data"
   ]
  },
  {
   "cell_type": "code",
   "execution_count": null,
   "metadata": {
    "colab": {
     "base_uri": "https://localhost:8080/"
    },
    "id": "c5bSHTemJp5T",
    "outputId": "da868f61-d58a-4b8d-ff3f-07bf84bae6e1"
   },
   "outputs": [
    {
     "name": "stdout",
     "output_type": "stream",
     "text": [
      "Collecting nameparser\n",
      "  Downloading https://files.pythonhosted.org/packages/3d/70/8cc66ac7d01118aa7a2ca938915ce4d622c5d73bb9f08058c7dce4ea9853/nameparser-1.0.6-py2.py3-none-any.whl\n",
      "Installing collected packages: nameparser\n",
      "Successfully installed nameparser-1.0.6\n"
     ]
    }
   ],
   "source": [
    "#pip install nameparser\n"
   ]
  },
  {
   "cell_type": "code",
   "execution_count": null,
   "metadata": {
    "colab": {
     "base_uri": "https://localhost:8080/"
    },
    "id": "jtQOEyvv9OSQ",
    "outputId": "de5f06e7-d00f-4fdc-cae4-95ad5491e783"
   },
   "outputs": [
    {
     "name": "stdout",
     "output_type": "stream",
     "text": [
      "[nltk_data] Downloading package maxent_ne_chunker to\n",
      "[nltk_data]     /root/nltk_data...\n",
      "[nltk_data]   Unzipping chunkers/maxent_ne_chunker.zip.\n",
      "[nltk_data] Downloading package words to /root/nltk_data...\n",
      "[nltk_data]   Unzipping corpora/words.zip.\n"
     ]
    },
    {
     "data": {
      "text/plain": [
       "True"
      ]
     },
     "execution_count": 16,
     "metadata": {
      "tags": []
     },
     "output_type": "execute_result"
    }
   ],
   "source": [
    "import nltk\n",
    "nltk.download('maxent_ne_chunker')\n",
    "nltk.download('words')\n",
    "nltk.download('punkt')\n",
    "nltk.download('averaged_perceptron_tagger')"
   ]
  },
  {
   "cell_type": "code",
   "execution_count": null,
   "metadata": {
    "id": "zJcJG9gEoYkz"
   },
   "outputs": [],
   "source": [
    "#grouped_data['personnames_string'] = [','.join(map(str, l)) for l in grouped_data['personnames']]\n",
    "#grouped_data['final_description'] = [a.replace(b, '').strip() for a, b in zip(grouped_data['description'], grouped_data['personnames_string'])]\n",
    "#print (grouped_data)"
   ]
  },
  {
   "cell_type": "code",
   "execution_count": null,
   "metadata": {
    "id": "KstP2Cz1YPLl"
   },
   "outputs": [],
   "source": [
    "import nltk\n",
    "from nltk.corpus import stopwords\n",
    "from sklearn.metrics.pairwise import linear_kernel\n",
    "from sklearn.feature_extraction.text import CountVectorizer\n",
    "from sklearn.feature_extraction.text import TfidfVectorizer\n",
    "from sklearn.metrics.pairwise import linear_kernel, cosine_similarity\n",
    "from nltk.tokenize import RegexpTokenizer\n",
    "import re\n",
    "import string\n",
    "import random\n",
    "import matplotlib.pyplot as plt\n",
    "%matplotlib inline"
   ]
  },
  {
   "cell_type": "code",
   "execution_count": null,
   "metadata": {
    "colab": {
     "base_uri": "https://localhost:8080/"
    },
    "id": "cbBiDUXDYfwY",
    "outputId": "2f1eb81c-0a2f-4b43-967b-2fcd1f4bbee8"
   },
   "outputs": [
    {
     "name": "stdout",
     "output_type": "stream",
     "text": [
      "[nltk_data] Downloading package stopwords to /root/nltk_data...\n",
      "[nltk_data]   Unzipping corpora/stopwords.zip.\n"
     ]
    }
   ],
   "source": [
    "nltk.download('stopwords')\n",
    "stop = stopwords.words('english')"
   ]
  },
  {
   "cell_type": "markdown",
   "metadata": {
    "id": "scRXHWiMh7Up"
   },
   "source": [
    "**Book Description Exploration**"
   ]
  },
  {
   "cell_type": "code",
   "execution_count": null,
   "metadata": {
    "colab": {
     "base_uri": "https://localhost:8080/",
     "height": 202
    },
    "id": "5dlJSMhNbjLL",
    "outputId": "94f51f19-90c4-4629-a900-41277bd5be06"
   },
   "outputs": [
    {
     "data": {
      "text/html": [
       "<div>\n",
       "<style scoped>\n",
       "    .dataframe tbody tr th:only-of-type {\n",
       "        vertical-align: middle;\n",
       "    }\n",
       "\n",
       "    .dataframe tbody tr th {\n",
       "        vertical-align: top;\n",
       "    }\n",
       "\n",
       "    .dataframe thead th {\n",
       "        text-align: right;\n",
       "    }\n",
       "</style>\n",
       "<table border=\"1\" class=\"dataframe\">\n",
       "  <thead>\n",
       "    <tr style=\"text-align: right;\">\n",
       "      <th></th>\n",
       "      <th>description</th>\n",
       "      <th>stopwords</th>\n",
       "    </tr>\n",
       "  </thead>\n",
       "  <tbody>\n",
       "    <tr>\n",
       "      <th>0</th>\n",
       "      <td>The sport is cockfighting and Frank Mansfield ...</td>\n",
       "      <td>23</td>\n",
       "    </tr>\n",
       "    <tr>\n",
       "      <th>1</th>\n",
       "      <td>From one of America's most iconic writers, a s...</td>\n",
       "      <td>19</td>\n",
       "    </tr>\n",
       "    <tr>\n",
       "      <th>2</th>\n",
       "      <td>Writing with the telegraphic swiftness and mic...</td>\n",
       "      <td>45</td>\n",
       "    </tr>\n",
       "    <tr>\n",
       "      <th>3</th>\n",
       "      <td>In her moving and insightful new book, Joan Di...</td>\n",
       "      <td>43</td>\n",
       "    </tr>\n",
       "    <tr>\n",
       "      <th>4</th>\n",
       "      <td>A ruthless dissection of American life in the ...</td>\n",
       "      <td>44</td>\n",
       "    </tr>\n",
       "  </tbody>\n",
       "</table>\n",
       "</div>"
      ],
      "text/plain": [
       "                                         description  stopwords\n",
       "0  The sport is cockfighting and Frank Mansfield ...         23\n",
       "1  From one of America's most iconic writers, a s...         19\n",
       "2  Writing with the telegraphic swiftness and mic...         45\n",
       "3  In her moving and insightful new book, Joan Di...         43\n",
       "4  A ruthless dissection of American life in the ...         44"
      ]
     },
     "execution_count": 19,
     "metadata": {
      "tags": []
     },
     "output_type": "execute_result"
    }
   ],
   "source": [
    "grouped_data['stopwords'] = grouped_data['description'].apply(lambda x: len([x for x in x.split() if x in stop]))\n",
    "grouped_data[['description','stopwords']].head()"
   ]
  },
  {
   "cell_type": "code",
   "execution_count": null,
   "metadata": {
    "id": "12pSj7DQbpP4"
   },
   "outputs": [],
   "source": [
    "# Calculating the word count for book description\n",
    "grouped_data['word_count'] = grouped_data['description'].apply(lambda x: len(str(x).split()))"
   ]
  },
  {
   "cell_type": "code",
   "execution_count": null,
   "metadata": {
    "colab": {
     "base_uri": "https://localhost:8080/",
     "height": 517
    },
    "id": "k7Qgbc2tb12A",
    "outputId": "83f421d8-cee5-423b-fed7-e1fe5fcfcded"
   },
   "outputs": [
    {
     "data": {
      "text/plain": [
       "<matplotlib.axes._subplots.AxesSubplot at 0x7f07eda674a8>"
      ]
     },
     "execution_count": 21,
     "metadata": {
      "tags": []
     },
     "output_type": "execute_result"
    },
    {
     "data": {
      "image/png": "[encoded data removed]",
      "text/plain": [
       "<Figure size 864x576 with 1 Axes>"
      ]
     },
     "metadata": {
      "needs_background": "light",
      "tags": []
     },
     "output_type": "display_data"
    }
   ],
   "source": [
    "grouped_data['word_count'].plot(\n",
    "    kind='hist',\n",
    "    bins = 50,\n",
    "    figsize = (12,8),title='Word Count Distribution for book descriptions')"
   ]
  },
  {
   "cell_type": "code",
   "execution_count": null,
   "metadata": {
    "colab": {
     "base_uri": "https://localhost:8080/"
    },
    "id": "WGMGc3X_b44M",
    "outputId": "e12be0fb-9ce6-462a-86a9-c41908fc17e5"
   },
   "outputs": [
    {
     "name": "stdout",
     "output_type": "stream",
     "text": [
      "Requirement already satisfied: textblob in /usr/local/lib/python3.6/dist-packages (0.15.3)\n",
      "Requirement already satisfied: nltk>=3.1 in /usr/local/lib/python3.6/dist-packages (from textblob) (3.2.5)\n",
      "Requirement already satisfied: six in /usr/local/lib/python3.6/dist-packages (from nltk>=3.1->textblob) (1.15.0)\n"
     ]
    }
   ],
   "source": [
    "#!pip install textblob"
   ]
  },
  {
   "cell_type": "code",
   "execution_count": null,
   "metadata": {
    "colab": {
     "base_uri": "https://localhost:8080/",
     "height": 531
    },
    "id": "TSmfgPMOcLZB",
    "outputId": "ed4b386e-e406-4558-d380-5dc9a8014082"
   },
   "outputs": [
    {
     "data": {
      "text/plain": [
       "<matplotlib.axes._subplots.AxesSubplot at 0x7f07ebf898d0>"
      ]
     },
     "execution_count": 24,
     "metadata": {
      "tags": []
     },
     "output_type": "execute_result"
    },
    {
     "data": {
      "image/png": "[encoded data removed]",
      "text/plain": [
       "<Figure size 720x576 with 1 Axes>"
      ]
     },
     "metadata": {
      "needs_background": "light",
      "tags": []
     },
     "output_type": "display_data"
    }
   ],
   "source": [
    "from textblob import TextBlob\n",
    "blob = TextBlob(str(grouped_data['description']))\n",
    "pos_df = pd.DataFrame(blob.tags, columns = ['word' , 'pos'])\n",
    "pos_df = pos_df.pos.value_counts()[:25]\n",
    "pos_df.plot(kind = 'bar', figsize=(10, 8), title = \"Top 20 Part-of-speech tagging for comments\")"
   ]
  },
  {
   "cell_type": "markdown",
   "metadata": {
    "id": "cZl76FTgiGkW"
   },
   "source": [
    "**Bigram using tf-idf**"
   ]
  },
  {
   "cell_type": "code",
   "execution_count": null,
   "metadata": {
    "colab": {
     "base_uri": "https://localhost:8080/",
     "height": 557
    },
    "id": "t8AMBKoEcO_H",
    "outputId": "a5d01275-8a6d-4043-98bc-f041a53a14a2"
   },
   "outputs": [
    {
     "data": {
      "text/plain": [
       "<matplotlib.axes._subplots.AxesSubplot at 0x7f07e435bbe0>"
      ]
     },
     "execution_count": 25,
     "metadata": {
      "tags": []
     },
     "output_type": "execute_result"
    },
    {
     "data": {
      "image/png": "[encoded data removed]",
      "text/plain": [
       "<Figure size 1080x504 with 1 Axes>"
      ]
     },
     "metadata": {
      "needs_background": "light",
      "tags": []
     },
     "output_type": "display_data"
    }
   ],
   "source": [
    "#Converting text descriptions into vectors using TF-IDF using Bigram\n",
    "tf = TfidfVectorizer(ngram_range=(2, 2), stop_words='english', lowercase = False)\n",
    "tfidf_matrix = tf.fit_transform(grouped_data['description'])\n",
    "total_words = tfidf_matrix.sum(axis=0) \n",
    "#Finding the word frequency\n",
    "freq = [(word, total_words[0, idx]) for word, idx in tf.vocabulary_.items()]\n",
    "freq =sorted(freq, key = lambda x: x[1], reverse=True)\n",
    "#converting into dataframe \n",
    "bigram = pd.DataFrame(freq)\n",
    "bigram.rename(columns = {0:'bigram', 1: 'count'}, inplace = True) \n",
    "#Taking first 20 records\n",
    "bigram = bigram.head(20)\n",
    "\n",
    "#Plotting the bigram distribution\n",
    "bigram.plot(x ='bigram', y='count', kind = 'bar', title = \"Bigram disribution for the top 20 words in the book description\", figsize = (15,7), )"
   ]
  },
  {
   "cell_type": "markdown",
   "metadata": {
    "id": "ZWRJPr32iTS8"
   },
   "source": [
    "**Trigram using tf-idf**"
   ]
  },
  {
   "cell_type": "code",
   "execution_count": null,
   "metadata": {
    "colab": {
     "base_uri": "https://localhost:8080/",
     "height": 609
    },
    "id": "2g2rE2pQcfGs",
    "outputId": "8208109d-261e-460f-b4b5-4040b89f5d21"
   },
   "outputs": [
    {
     "data": {
      "text/plain": [
       "<matplotlib.axes._subplots.AxesSubplot at 0x7f07ddfdf470>"
      ]
     },
     "execution_count": 26,
     "metadata": {
      "tags": []
     },
     "output_type": "execute_result"
    },
    {
     "data": {
      "image/png": "[encoded data removed]",
      "text/plain": [
       "<Figure size 1080x504 with 1 Axes>"
      ]
     },
     "metadata": {
      "needs_background": "light",
      "tags": []
     },
     "output_type": "display_data"
    }
   ],
   "source": [
    "#Converting text descriptions into vectors using TF-IDF using Trigram\n",
    "tf = TfidfVectorizer(ngram_range=(3, 3), stop_words='english', lowercase = False)\n",
    "tfidf_matrix = tf.fit_transform(grouped_data['description'])\n",
    "total_words = tfidf_matrix.sum(axis=0) \n",
    "#Finding the word frequency\n",
    "freq = [(word, total_words[0, idx]) for word, idx in tf.vocabulary_.items()]\n",
    "freq =sorted(freq, key = lambda x: x[1], reverse=True)#converting into dataframe \n",
    "trigram = pd.DataFrame(freq)\n",
    "trigram.rename(columns = {0:'trigram', 1: 'count'}, inplace = True) \n",
    "#Taking first 20 records\n",
    "trigram = trigram.head(20)\n",
    "\n",
    "#Plotting the trigramn distribution\n",
    "trigram.plot(x ='trigram', y='count', kind = 'bar', title = \"Bigram disribution for the top 20 words in the book description\", figsize = (15,7), )"
   ]
  },
  {
   "cell_type": "markdown",
   "metadata": {
    "id": "QnGYx7yPC4tw"
   },
   "source": [
    "**Preprocessing**\n",
    "\n",
    "\n",
    "1. Removing nonascii, punctuation, html, converting to lower case,   removing stop words\n",
    "2. Extracting Human names from the description\n",
    "3. Lematizing and tokenization\n",
    "\n"
   ]
  },
  {
   "cell_type": "code",
   "execution_count": null,
   "metadata": {
    "id": "T5ClsdZ9cs1v"
   },
   "outputs": [],
   "source": [
    "# Function for removing NonAscii characters\n",
    "def _removeNonAscii(s):\n",
    "    return \"\".join(i for i in s if  ord(i)<128)\n",
    "\n",
    "# Function for removing punctuation\n",
    "def remove_punctuation(text):\n",
    "    tokenizer = RegexpTokenizer(r'\\w+')\n",
    "    text = tokenizer.tokenize(text)\n",
    "    text = \" \".join(text)\n",
    "    return text\n",
    "\n",
    "# Function for removing the html tags\n",
    "def remove_html(text):\n",
    "    html_pattern = re.compile('<.*?>')\n",
    "    return html_pattern.sub(r'', text)\n"
   ]
  },
  {
   "cell_type": "code",
   "execution_count": null,
   "metadata": {
    "id": "AiRYU5_8_s5C"
   },
   "outputs": [],
   "source": [
    "grouped_data['cleaned_desc'] = grouped_data['description'].apply(_removeNonAscii)\n",
    "grouped_data['cleaned_desc'] = grouped_data['cleaned_desc'].apply(remove_punctuation)\n",
    "grouped_data['cleaned_desc'] = grouped_data['cleaned_desc'].apply(remove_html)"
   ]
  },
  {
   "cell_type": "code",
   "execution_count": null,
   "metadata": {
    "colab": {
     "base_uri": "https://localhost:8080/",
     "height": 289
    },
    "id": "h5ZqSuuXAbGo",
    "outputId": "f4e28782-7e8e-4595-87cf-3d53137c352e"
   },
   "outputs": [
    {
     "data": {
      "text/html": [
       "<div>\n",
       "<style scoped>\n",
       "    .dataframe tbody tr th:only-of-type {\n",
       "        vertical-align: middle;\n",
       "    }\n",
       "\n",
       "    .dataframe tbody tr th {\n",
       "        vertical-align: top;\n",
       "    }\n",
       "\n",
       "    .dataframe thead th {\n",
       "        text-align: right;\n",
       "    }\n",
       "</style>\n",
       "<table border=\"1\" class=\"dataframe\">\n",
       "  <thead>\n",
       "    <tr style=\"text-align: right;\">\n",
       "      <th></th>\n",
       "      <th>book_id</th>\n",
       "      <th>title</th>\n",
       "      <th>genres_book</th>\n",
       "      <th>author_name</th>\n",
       "      <th>description</th>\n",
       "      <th>stopwords</th>\n",
       "      <th>word_count</th>\n",
       "      <th>cleaned_desc</th>\n",
       "    </tr>\n",
       "  </thead>\n",
       "  <tbody>\n",
       "    <tr>\n",
       "      <th>0</th>\n",
       "      <td>228</td>\n",
       "      <td>Cockfighter</td>\n",
       "      <td>fiction</td>\n",
       "      <td>Charles Willeford</td>\n",
       "      <td>The sport is cockfighting and Frank Mansfield ...</td>\n",
       "      <td>23</td>\n",
       "      <td>69</td>\n",
       "      <td>The sport is cockfighting and Frank Mansfield ...</td>\n",
       "    </tr>\n",
       "    <tr>\n",
       "      <th>1</th>\n",
       "      <td>420</td>\n",
       "      <td>The Year of Magical Thinking</td>\n",
       "      <td>non-fiction</td>\n",
       "      <td>Joan Didion</td>\n",
       "      <td>From one of America's most iconic writers, a s...</td>\n",
       "      <td>19</td>\n",
       "      <td>50</td>\n",
       "      <td>From one of America s most iconic writers a st...</td>\n",
       "    </tr>\n",
       "    <tr>\n",
       "      <th>2</th>\n",
       "      <td>422</td>\n",
       "      <td>A Book of Common Prayer</td>\n",
       "      <td>fiction</td>\n",
       "      <td>Joan Didion</td>\n",
       "      <td>Writing with the telegraphic swiftness and mic...</td>\n",
       "      <td>45</td>\n",
       "      <td>114</td>\n",
       "      <td>Writing with the telegraphic swiftness and mic...</td>\n",
       "    </tr>\n",
       "    <tr>\n",
       "      <th>3</th>\n",
       "      <td>423</td>\n",
       "      <td>Where I Was From</td>\n",
       "      <td>non-fiction</td>\n",
       "      <td>Joan Didion</td>\n",
       "      <td>In her moving and insightful new book, Joan Di...</td>\n",
       "      <td>43</td>\n",
       "      <td>120</td>\n",
       "      <td>In her moving and insightful new book Joan Did...</td>\n",
       "    </tr>\n",
       "    <tr>\n",
       "      <th>4</th>\n",
       "      <td>428</td>\n",
       "      <td>Play It as It Lays</td>\n",
       "      <td>fiction</td>\n",
       "      <td>Joan Didion</td>\n",
       "      <td>A ruthless dissection of American life in the ...</td>\n",
       "      <td>44</td>\n",
       "      <td>103</td>\n",
       "      <td>A ruthless dissection of American life in the ...</td>\n",
       "    </tr>\n",
       "  </tbody>\n",
       "</table>\n",
       "</div>"
      ],
      "text/plain": [
       "   book_id  ...                                       cleaned_desc\n",
       "0      228  ...  The sport is cockfighting and Frank Mansfield ...\n",
       "1      420  ...  From one of America s most iconic writers a st...\n",
       "2      422  ...  Writing with the telegraphic swiftness and mic...\n",
       "3      423  ...  In her moving and insightful new book Joan Did...\n",
       "4      428  ...  A ruthless dissection of American life in the ...\n",
       "\n",
       "[5 rows x 8 columns]"
      ]
     },
     "execution_count": 29,
     "metadata": {
      "tags": []
     },
     "output_type": "execute_result"
    }
   ],
   "source": [
    "grouped_data.head()"
   ]
  },
  {
   "cell_type": "code",
   "execution_count": null,
   "metadata": {
    "id": "KQfm_DuwA20J"
   },
   "outputs": [],
   "source": [
    "# Extracting and removing names of people from the description as it shows irrelevance in topic model\n",
    "from nameparser.parser import HumanName\n",
    "\n",
    "def get_human_names(text):\n",
    "    tokens = nltk.tokenize.word_tokenize(text)\n",
    "    pos = nltk.pos_tag(tokens)\n",
    "    sentt = nltk.ne_chunk(pos, binary = False)\n",
    "    person_list = []\n",
    "    person = []\n",
    "    name = \"\"\n",
    "    for subtree in sentt.subtrees(filter=lambda t: t.label() == 'PERSON'):\n",
    "        for leaf in subtree.leaves():\n",
    "            person.append(leaf[0])\n",
    "        if len(person) > 1: #avoid grabbing lone surnames\n",
    "            for part in person:\n",
    "                name += part + ' '\n",
    "            if name[:-1] not in person_list:\n",
    "                person_list.append(name[:-1])\n",
    "            name = ''\n",
    "        person = []\n",
    "\n",
    "    return (person_list)"
   ]
  },
  {
   "cell_type": "code",
   "execution_count": null,
   "metadata": {
    "id": "9nAMUO_eA91d"
   },
   "outputs": [],
   "source": [
    "grouped_data['personnames'] = grouped_data['cleaned_desc'].apply(get_human_names)\n",
    "#grouped_data2 = pd.read_excel('goodreads_english.xlsx')"
   ]
  },
  {
   "cell_type": "code",
   "execution_count": null,
   "metadata": {
    "colab": {
     "base_uri": "https://localhost:8080/",
     "height": 702
    },
    "id": "YqXvvpUv7wD5",
    "outputId": "ed56f35f-b2ef-44e5-fe95-145de9cbc970"
   },
   "outputs": [
    {
     "data": {
      "text/html": [
       "<div>\n",
       "<style scoped>\n",
       "    .dataframe tbody tr th:only-of-type {\n",
       "        vertical-align: middle;\n",
       "    }\n",
       "\n",
       "    .dataframe tbody tr th {\n",
       "        vertical-align: top;\n",
       "    }\n",
       "\n",
       "    .dataframe thead th {\n",
       "        text-align: right;\n",
       "    }\n",
       "</style>\n",
       "<table border=\"1\" class=\"dataframe\">\n",
       "  <thead>\n",
       "    <tr style=\"text-align: right;\">\n",
       "      <th></th>\n",
       "      <th>book_id</th>\n",
       "      <th>title</th>\n",
       "      <th>genres_book</th>\n",
       "      <th>author_name</th>\n",
       "      <th>description</th>\n",
       "      <th>stopwords</th>\n",
       "      <th>word_count</th>\n",
       "      <th>cleaned_desc</th>\n",
       "      <th>personnames</th>\n",
       "    </tr>\n",
       "  </thead>\n",
       "  <tbody>\n",
       "    <tr>\n",
       "      <th>0</th>\n",
       "      <td>228</td>\n",
       "      <td>Cockfighter</td>\n",
       "      <td>fiction</td>\n",
       "      <td>Charles Willeford</td>\n",
       "      <td>The sport is cockfighting and Frank Mansfield ...</td>\n",
       "      <td>23</td>\n",
       "      <td>69</td>\n",
       "      <td>The sport is cockfighting and Frank Mansfield ...</td>\n",
       "      <td>[Frank Mansfield, Hoke Moseley, Charles Willef...</td>\n",
       "    </tr>\n",
       "    <tr>\n",
       "      <th>1</th>\n",
       "      <td>420</td>\n",
       "      <td>The Year of Magical Thinking</td>\n",
       "      <td>non-fiction</td>\n",
       "      <td>Joan Didion</td>\n",
       "      <td>From one of America's most iconic writers, a s...</td>\n",
       "      <td>19</td>\n",
       "      <td>50</td>\n",
       "      <td>From one of America s most iconic writers a st...</td>\n",
       "      <td>[Joan Didion]</td>\n",
       "    </tr>\n",
       "    <tr>\n",
       "      <th>2</th>\n",
       "      <td>422</td>\n",
       "      <td>A Book of Common Prayer</td>\n",
       "      <td>fiction</td>\n",
       "      <td>Joan Didion</td>\n",
       "      <td>Writing with the telegraphic swiftness and mic...</td>\n",
       "      <td>45</td>\n",
       "      <td>114</td>\n",
       "      <td>Writing with the telegraphic swiftness and mic...</td>\n",
       "      <td>[Joan Didion, Boca Grande Grace Strasser Menda...</td>\n",
       "    </tr>\n",
       "    <tr>\n",
       "      <th>3</th>\n",
       "      <td>423</td>\n",
       "      <td>Where I Was From</td>\n",
       "      <td>non-fiction</td>\n",
       "      <td>Joan Didion</td>\n",
       "      <td>In her moving and insightful new book, Joan Di...</td>\n",
       "      <td>43</td>\n",
       "      <td>120</td>\n",
       "      <td>In her moving and insightful new book Joan Did...</td>\n",
       "      <td>[Joan Didion, Fromexplores California]</td>\n",
       "    </tr>\n",
       "    <tr>\n",
       "      <th>4</th>\n",
       "      <td>428</td>\n",
       "      <td>Play It as It Lays</td>\n",
       "      <td>fiction</td>\n",
       "      <td>Joan Didion</td>\n",
       "      <td>A ruthless dissection of American life in the ...</td>\n",
       "      <td>44</td>\n",
       "      <td>103</td>\n",
       "      <td>A ruthless dissection of American life in the ...</td>\n",
       "      <td>[]</td>\n",
       "    </tr>\n",
       "    <tr>\n",
       "      <th>5</th>\n",
       "      <td>1902</td>\n",
       "      <td>In the Land of White Death: An Epic Story of S...</td>\n",
       "      <td>non-fiction</td>\n",
       "      <td>Valerian Albanov</td>\n",
       "      <td>In 1912, six months after Robert Falcon Scott ...</td>\n",
       "      <td>90</td>\n",
       "      <td>281</td>\n",
       "      <td>In 1912 six months after Robert Falcon Scott a...</td>\n",
       "      <td>[Robert Falcon Scott, Valerian Albanov, Kara S...</td>\n",
       "    </tr>\n",
       "    <tr>\n",
       "      <th>6</th>\n",
       "      <td>2050</td>\n",
       "      <td>Farewell, My Lovely (Philip Marlowe, #2)</td>\n",
       "      <td>mystery</td>\n",
       "      <td>Raymond Chandler</td>\n",
       "      <td>Marlowe's about to give up on a completely rou...</td>\n",
       "      <td>27</td>\n",
       "      <td>52</td>\n",
       "      <td>Marlowe s about to give up on a completely rou...</td>\n",
       "      <td>[]</td>\n",
       "    </tr>\n",
       "    <tr>\n",
       "      <th>7</th>\n",
       "      <td>2054</td>\n",
       "      <td>The Long Goodbye (Philip Marlowe, #6)</td>\n",
       "      <td>mystery</td>\n",
       "      <td>Raymond Chandler</td>\n",
       "      <td>Marlowe befriends a down on his luck war veter...</td>\n",
       "      <td>28</td>\n",
       "      <td>55</td>\n",
       "      <td>Marlowe befriends a down on his luck war veter...</td>\n",
       "      <td>[Terry Lennox]</td>\n",
       "    </tr>\n",
       "    <tr>\n",
       "      <th>8</th>\n",
       "      <td>2056</td>\n",
       "      <td>An Evening of Long Goodbyes</td>\n",
       "      <td>fiction</td>\n",
       "      <td>Paul Murray</td>\n",
       "      <td>Charles Hythloday observes the world from the ...</td>\n",
       "      <td>39</td>\n",
       "      <td>96</td>\n",
       "      <td>Charles Hythloday observes the world from the ...</td>\n",
       "      <td>[]</td>\n",
       "    </tr>\n",
       "    <tr>\n",
       "      <th>9</th>\n",
       "      <td>2058</td>\n",
       "      <td>Ghost In the Shell 2: Innocence (Novel-Hard Co...</td>\n",
       "      <td>fiction</td>\n",
       "      <td>Masaki Yamada</td>\n",
       "      <td>Part man, but mostly machine, Batou is the tou...</td>\n",
       "      <td>60</td>\n",
       "      <td>172</td>\n",
       "      <td>Part man but mostly machine Batou is the tough...</td>\n",
       "      <td>[Masaki Yamada]</td>\n",
       "    </tr>\n",
       "  </tbody>\n",
       "</table>\n",
       "</div>"
      ],
      "text/plain": [
       "   book_id  ...                                        personnames\n",
       "0      228  ...  [Frank Mansfield, Hoke Moseley, Charles Willef...\n",
       "1      420  ...                                      [Joan Didion]\n",
       "2      422  ...  [Joan Didion, Boca Grande Grace Strasser Menda...\n",
       "3      423  ...             [Joan Didion, Fromexplores California]\n",
       "4      428  ...                                                 []\n",
       "5     1902  ...  [Robert Falcon Scott, Valerian Albanov, Kara S...\n",
       "6     2050  ...                                                 []\n",
       "7     2054  ...                                     [Terry Lennox]\n",
       "8     2056  ...                                                 []\n",
       "9     2058  ...                                    [Masaki Yamada]\n",
       "\n",
       "[10 rows x 9 columns]"
      ]
     },
     "execution_count": 32,
     "metadata": {
      "tags": []
     },
     "output_type": "execute_result"
    }
   ],
   "source": [
    "grouped_data.head(10)"
   ]
  },
  {
   "cell_type": "code",
   "execution_count": null,
   "metadata": {
    "id": "89_vrWGDBLrN"
   },
   "outputs": [],
   "source": [
    "def removepname(text,names):\n",
    "  namesplit=[w for segments in names for w in segments.split()]\n",
    "  querywords = text.split()\n",
    "  resultwords  = [word for word in querywords if word not in namesplit]\n",
    "  result = ' '.join(resultwords)\n",
    "  return result"
   ]
  },
  {
   "cell_type": "code",
   "execution_count": null,
   "metadata": {
    "id": "BQECv2KHBXwi"
   },
   "outputs": [],
   "source": [
    "grouped_data['cleaned'] = grouped_data.apply(lambda x: removepname(x['cleaned_desc'], x['personnames']), axis=1)"
   ]
  },
  {
   "cell_type": "code",
   "execution_count": null,
   "metadata": {
    "colab": {
     "base_uri": "https://localhost:8080/",
     "height": 901
    },
    "id": "oKNoRKsFBdl-",
    "outputId": "ed596c0d-ad43-4f8e-9e97-68a878b0f605"
   },
   "outputs": [
    {
     "data": {
      "text/html": [
       "<div>\n",
       "<style scoped>\n",
       "    .dataframe tbody tr th:only-of-type {\n",
       "        vertical-align: middle;\n",
       "    }\n",
       "\n",
       "    .dataframe tbody tr th {\n",
       "        vertical-align: top;\n",
       "    }\n",
       "\n",
       "    .dataframe thead th {\n",
       "        text-align: right;\n",
       "    }\n",
       "</style>\n",
       "<table border=\"1\" class=\"dataframe\">\n",
       "  <thead>\n",
       "    <tr style=\"text-align: right;\">\n",
       "      <th></th>\n",
       "      <th>book_id</th>\n",
       "      <th>title</th>\n",
       "      <th>genres_book</th>\n",
       "      <th>author_name</th>\n",
       "      <th>description</th>\n",
       "      <th>stopwords</th>\n",
       "      <th>word_count</th>\n",
       "      <th>cleaned_desc</th>\n",
       "      <th>personnames</th>\n",
       "      <th>cleaned</th>\n",
       "    </tr>\n",
       "  </thead>\n",
       "  <tbody>\n",
       "    <tr>\n",
       "      <th>0</th>\n",
       "      <td>228</td>\n",
       "      <td>Cockfighter</td>\n",
       "      <td>fiction</td>\n",
       "      <td>Charles Willeford</td>\n",
       "      <td>The sport is cockfighting and Frank Mansfield ...</td>\n",
       "      <td>23</td>\n",
       "      <td>69</td>\n",
       "      <td>The sport is cockfighting and Frank Mansfield ...</td>\n",
       "      <td>[Frank Mansfield, Hoke Moseley, Charles Willef...</td>\n",
       "      <td>The sport is cockfighting and is the cockfight...</td>\n",
       "    </tr>\n",
       "    <tr>\n",
       "      <th>1</th>\n",
       "      <td>420</td>\n",
       "      <td>The Year of Magical Thinking</td>\n",
       "      <td>non-fiction</td>\n",
       "      <td>Joan Didion</td>\n",
       "      <td>From one of America's most iconic writers, a s...</td>\n",
       "      <td>19</td>\n",
       "      <td>50</td>\n",
       "      <td>From one of America s most iconic writers a st...</td>\n",
       "      <td>[Joan Didion]</td>\n",
       "      <td>From one of America s most iconic writers a st...</td>\n",
       "    </tr>\n",
       "    <tr>\n",
       "      <th>2</th>\n",
       "      <td>422</td>\n",
       "      <td>A Book of Common Prayer</td>\n",
       "      <td>fiction</td>\n",
       "      <td>Joan Didion</td>\n",
       "      <td>Writing with the telegraphic swiftness and mic...</td>\n",
       "      <td>45</td>\n",
       "      <td>114</td>\n",
       "      <td>Writing with the telegraphic swiftness and mic...</td>\n",
       "      <td>[Joan Didion, Boca Grande Grace Strasser Menda...</td>\n",
       "      <td>Writing with the telegraphic swiftness and mic...</td>\n",
       "    </tr>\n",
       "    <tr>\n",
       "      <th>3</th>\n",
       "      <td>423</td>\n",
       "      <td>Where I Was From</td>\n",
       "      <td>non-fiction</td>\n",
       "      <td>Joan Didion</td>\n",
       "      <td>In her moving and insightful new book, Joan Di...</td>\n",
       "      <td>43</td>\n",
       "      <td>120</td>\n",
       "      <td>In her moving and insightful new book Joan Did...</td>\n",
       "      <td>[Joan Didion, Fromexplores California]</td>\n",
       "      <td>In her moving and insightful new book reassess...</td>\n",
       "    </tr>\n",
       "    <tr>\n",
       "      <th>4</th>\n",
       "      <td>428</td>\n",
       "      <td>Play It as It Lays</td>\n",
       "      <td>fiction</td>\n",
       "      <td>Joan Didion</td>\n",
       "      <td>A ruthless dissection of American life in the ...</td>\n",
       "      <td>44</td>\n",
       "      <td>103</td>\n",
       "      <td>A ruthless dissection of American life in the ...</td>\n",
       "      <td>[]</td>\n",
       "      <td>A ruthless dissection of American life in the ...</td>\n",
       "    </tr>\n",
       "    <tr>\n",
       "      <th>...</th>\n",
       "      <td>...</td>\n",
       "      <td>...</td>\n",
       "      <td>...</td>\n",
       "      <td>...</td>\n",
       "      <td>...</td>\n",
       "      <td>...</td>\n",
       "      <td>...</td>\n",
       "      <td>...</td>\n",
       "      <td>...</td>\n",
       "      <td>...</td>\n",
       "    </tr>\n",
       "    <tr>\n",
       "      <th>24010</th>\n",
       "      <td>36393393</td>\n",
       "      <td>Adrenaline Secrets (Deadly DNA, #1)</td>\n",
       "      <td>romance</td>\n",
       "      <td>Carolyn Reilly</td>\n",
       "      <td>He's a trained, genetically-engineered mercena...</td>\n",
       "      <td>83</td>\n",
       "      <td>195</td>\n",
       "      <td>He s a trained genetically engineered mercenar...</td>\n",
       "      <td>[Jake Hanson, Kendra Reed Jake, Kendra Reed]</td>\n",
       "      <td>He s a trained genetically engineered mercenar...</td>\n",
       "    </tr>\n",
       "    <tr>\n",
       "      <th>24011</th>\n",
       "      <td>36434372</td>\n",
       "      <td>Ace's Gamble</td>\n",
       "      <td>romance</td>\n",
       "      <td>Natasha Spencer</td>\n",
       "      <td>She's taking a chance and he's risking it all....</td>\n",
       "      <td>56</td>\n",
       "      <td>154</td>\n",
       "      <td>She s taking a chance and he s risking it all ...</td>\n",
       "      <td>[]</td>\n",
       "      <td>She s taking a chance and he s risking it all ...</td>\n",
       "    </tr>\n",
       "    <tr>\n",
       "      <th>24012</th>\n",
       "      <td>36438554</td>\n",
       "      <td>The Long Ride from Singapore: Two Surgeons on ...</td>\n",
       "      <td>non-fiction</td>\n",
       "      <td>Philip Iau</td>\n",
       "      <td>About the Book\\nThey had all come with a breas...</td>\n",
       "      <td>106</td>\n",
       "      <td>293</td>\n",
       "      <td>About the Book They had all come with a breast...</td>\n",
       "      <td>[Philip Iau, Mikael Hartman, Breast Cancer, Cl...</td>\n",
       "      <td>About the Book They had all come with a breast...</td>\n",
       "    </tr>\n",
       "    <tr>\n",
       "      <th>24013</th>\n",
       "      <td>36460950</td>\n",
       "      <td>Accidental Daddy: A Billionaire's Baby Romance</td>\n",
       "      <td>romance</td>\n",
       "      <td>R.R. Banks</td>\n",
       "      <td>She gave me her innocence. I gave her a baby.\\...</td>\n",
       "      <td>55</td>\n",
       "      <td>144</td>\n",
       "      <td>She gave me her innocence I gave her a baby As...</td>\n",
       "      <td>[]</td>\n",
       "      <td>She gave me her innocence I gave her a baby As...</td>\n",
       "    </tr>\n",
       "    <tr>\n",
       "      <th>24014</th>\n",
       "      <td>36469332</td>\n",
       "      <td>Blue Highway the Way of Life on an Ocean Liner</td>\n",
       "      <td>thriller,crime</td>\n",
       "      <td>Laura Bennett Haddock</td>\n",
       "      <td>Part of the \"Way of Life\" series</td>\n",
       "      <td>3</td>\n",
       "      <td>7</td>\n",
       "      <td>Part of the Way of Life series</td>\n",
       "      <td>[]</td>\n",
       "      <td>Part of the Way of Life series</td>\n",
       "    </tr>\n",
       "  </tbody>\n",
       "</table>\n",
       "<p>24015 rows × 10 columns</p>\n",
       "</div>"
      ],
      "text/plain": [
       "        book_id  ...                                            cleaned\n",
       "0           228  ...  The sport is cockfighting and is the cockfight...\n",
       "1           420  ...  From one of America s most iconic writers a st...\n",
       "2           422  ...  Writing with the telegraphic swiftness and mic...\n",
       "3           423  ...  In her moving and insightful new book reassess...\n",
       "4           428  ...  A ruthless dissection of American life in the ...\n",
       "...         ...  ...                                                ...\n",
       "24010  36393393  ...  He s a trained genetically engineered mercenar...\n",
       "24011  36434372  ...  She s taking a chance and he s risking it all ...\n",
       "24012  36438554  ...  About the Book They had all come with a breast...\n",
       "24013  36460950  ...  She gave me her innocence I gave her a baby As...\n",
       "24014  36469332  ...                     Part of the Way of Life series\n",
       "\n",
       "[24015 rows x 10 columns]"
      ]
     },
     "execution_count": 35,
     "metadata": {
      "tags": []
     },
     "output_type": "execute_result"
    }
   ],
   "source": [
    "grouped_data"
   ]
  },
  {
   "cell_type": "code",
   "execution_count": null,
   "metadata": {
    "colab": {
     "base_uri": "https://localhost:8080/",
     "height": 53
    },
    "id": "hr4RAwmPmm-U",
    "outputId": "4908f0cc-c180-4f36-eef4-8e56cc7ffff4"
   },
   "outputs": [
    {
     "data": {
      "application/vnd.google.colaboratory.intrinsic+json": {
       "type": "string"
      },
      "text/plain": [
       "'From one of America s most iconic writers a stunning book of electric honesty and passion Joan Didion explores an intensely personal yet universal experience a portrait of a marriage and a life in good times and bad that will speak to anyone who has ever loved a husband or wife or child'"
      ]
     },
     "execution_count": 37,
     "metadata": {
      "tags": []
     },
     "output_type": "execute_result"
    }
   ],
   "source": [
    "grouped_data['cleaned_desc'][1]"
   ]
  },
  {
   "cell_type": "code",
   "execution_count": null,
   "metadata": {
    "colab": {
     "base_uri": "https://localhost:8080/",
     "height": 53
    },
    "id": "voStrunFmaTj",
    "outputId": "2cfa4747-145b-4269-eefa-2bdf2bcaf29a"
   },
   "outputs": [
    {
     "data": {
      "application/vnd.google.colaboratory.intrinsic+json": {
       "type": "string"
      },
      "text/plain": [
       "'From one of America s most iconic writers a stunning book of electric honesty and passion explores an intensely personal yet universal experience a portrait of a marriage and a life in good times and bad that will speak to anyone who has ever loved a husband or wife or child'"
      ]
     },
     "execution_count": 38,
     "metadata": {
      "tags": []
     },
     "output_type": "execute_result"
    }
   ],
   "source": [
    "grouped_data['cleaned'][1]"
   ]
  },
  {
   "cell_type": "code",
   "execution_count": null,
   "metadata": {
    "id": "a5pf_vnVAAcF"
   },
   "outputs": [],
   "source": [
    "# Function for converting into lower case\n",
    "def make_lower_case(text):\n",
    "   return text.lower()\n",
    "\n",
    "# Function for removing stop words\n",
    "def remove_stop_words(text):\n",
    "    text = text.split()\n",
    "    stops = set(stopwords.words(\"english\"))\n",
    "    stoplist2=['say', 'get', 'go', 'know', 'may', 'need', 'like', 'make','http' ,'see', 'want','www','come', 'take', 'use', 'would', 'can','novel','one', 'mr', 'york', 'image', 'year', 'book','new','bestselling','new york' 'author', 'caption', 'also', 'copyright', 'something','story','edition','reader','content','series']\n",
    "    text = [w for w in text if not w in stops]\n",
    "    text = [w for w in text if not w in stoplist2]\n",
    "    text = \" \".join(text)\n",
    "    return text\n",
    "\n",
    "grouped_data['cleaned'] = grouped_data['cleaned'].apply(make_lower_case)\n",
    "grouped_data['cleaned'] = grouped_data['cleaned'].apply(remove_stop_words)"
   ]
  },
  {
   "cell_type": "code",
   "execution_count": null,
   "metadata": {
    "colab": {
     "base_uri": "https://localhost:8080/",
     "height": 393
    },
    "id": "ZVj8QZAZ5Rpy",
    "outputId": "cbcf514e-2ac0-40fd-976b-150eafbca68b"
   },
   "outputs": [
    {
     "data": {
      "text/html": [
       "<div>\n",
       "<style scoped>\n",
       "    .dataframe tbody tr th:only-of-type {\n",
       "        vertical-align: middle;\n",
       "    }\n",
       "\n",
       "    .dataframe tbody tr th {\n",
       "        vertical-align: top;\n",
       "    }\n",
       "\n",
       "    .dataframe thead th {\n",
       "        text-align: right;\n",
       "    }\n",
       "</style>\n",
       "<table border=\"1\" class=\"dataframe\">\n",
       "  <thead>\n",
       "    <tr style=\"text-align: right;\">\n",
       "      <th></th>\n",
       "      <th>book_id</th>\n",
       "      <th>title</th>\n",
       "      <th>genres_book</th>\n",
       "      <th>author_name</th>\n",
       "      <th>description</th>\n",
       "      <th>stopwords</th>\n",
       "      <th>word_count</th>\n",
       "      <th>cleaned_desc</th>\n",
       "      <th>personnames</th>\n",
       "      <th>cleaned</th>\n",
       "    </tr>\n",
       "  </thead>\n",
       "  <tbody>\n",
       "    <tr>\n",
       "      <th>0</th>\n",
       "      <td>228</td>\n",
       "      <td>Cockfighter</td>\n",
       "      <td>fiction</td>\n",
       "      <td>Charles Willeford</td>\n",
       "      <td>The sport is cockfighting and Frank Mansfield ...</td>\n",
       "      <td>23</td>\n",
       "      <td>69</td>\n",
       "      <td>The sport is cockfighting and Frank Mansfield ...</td>\n",
       "      <td>[Frank Mansfield, Hoke Moseley, Charles Willef...</td>\n",
       "      <td>sport cockfighting cockfighter silent fiercely...</td>\n",
       "    </tr>\n",
       "    <tr>\n",
       "      <th>1</th>\n",
       "      <td>420</td>\n",
       "      <td>The Year of Magical Thinking</td>\n",
       "      <td>non-fiction</td>\n",
       "      <td>Joan Didion</td>\n",
       "      <td>From one of America's most iconic writers, a s...</td>\n",
       "      <td>19</td>\n",
       "      <td>50</td>\n",
       "      <td>From one of America s most iconic writers a st...</td>\n",
       "      <td>[Joan Didion]</td>\n",
       "      <td>america iconic writers stunning electric hones...</td>\n",
       "    </tr>\n",
       "    <tr>\n",
       "      <th>2</th>\n",
       "      <td>422</td>\n",
       "      <td>A Book of Common Prayer</td>\n",
       "      <td>fiction</td>\n",
       "      <td>Joan Didion</td>\n",
       "      <td>Writing with the telegraphic swiftness and mic...</td>\n",
       "      <td>45</td>\n",
       "      <td>114</td>\n",
       "      <td>Writing with the telegraphic swiftness and mic...</td>\n",
       "      <td>[Joan Didion, Boca Grande Grace Strasser Menda...</td>\n",
       "      <td>writing telegraphic swiftness microscopic sens...</td>\n",
       "    </tr>\n",
       "    <tr>\n",
       "      <th>3</th>\n",
       "      <td>423</td>\n",
       "      <td>Where I Was From</td>\n",
       "      <td>non-fiction</td>\n",
       "      <td>Joan Didion</td>\n",
       "      <td>In her moving and insightful new book, Joan Di...</td>\n",
       "      <td>43</td>\n",
       "      <td>120</td>\n",
       "      <td>In her moving and insightful new book Joan Did...</td>\n",
       "      <td>[Joan Didion, Fromexplores California]</td>\n",
       "      <td>moving insightful reassesses parts life work h...</td>\n",
       "    </tr>\n",
       "    <tr>\n",
       "      <th>4</th>\n",
       "      <td>428</td>\n",
       "      <td>Play It as It Lays</td>\n",
       "      <td>fiction</td>\n",
       "      <td>Joan Didion</td>\n",
       "      <td>A ruthless dissection of American life in the ...</td>\n",
       "      <td>44</td>\n",
       "      <td>103</td>\n",
       "      <td>A ruthless dissection of American life in the ...</td>\n",
       "      <td>[]</td>\n",
       "      <td>ruthless dissection american life late 1960s p...</td>\n",
       "    </tr>\n",
       "  </tbody>\n",
       "</table>\n",
       "</div>"
      ],
      "text/plain": [
       "   book_id  ...                                            cleaned\n",
       "0      228  ...  sport cockfighting cockfighter silent fiercely...\n",
       "1      420  ...  america iconic writers stunning electric hones...\n",
       "2      422  ...  writing telegraphic swiftness microscopic sens...\n",
       "3      423  ...  moving insightful reassesses parts life work h...\n",
       "4      428  ...  ruthless dissection american life late 1960s p...\n",
       "\n",
       "[5 rows x 10 columns]"
      ]
     },
     "execution_count": 42,
     "metadata": {
      "tags": []
     },
     "output_type": "execute_result"
    }
   ],
   "source": [
    "grouped_data.head(5)"
   ]
  },
  {
   "cell_type": "code",
   "execution_count": null,
   "metadata": {
    "colab": {
     "base_uri": "https://localhost:8080/",
     "height": 53
    },
    "id": "NQnSmkX-99SD",
    "outputId": "aae326e2-f936-46ca-8417-c7a9257f583a"
   },
   "outputs": [
    {
     "data": {
      "application/vnd.google.colaboratory.intrinsic+json": {
       "type": "string"
      },
      "text/plain": [
       "'america iconic writers stunning electric honesty passion explores intensely personal yet universal experience portrait marriage life good times bad speak anyone ever loved husband wife child'"
      ]
     },
     "execution_count": 44,
     "metadata": {
      "tags": []
     },
     "output_type": "execute_result"
    }
   ],
   "source": [
    "grouped_data.cleaned[1]"
   ]
  },
  {
   "cell_type": "code",
   "execution_count": null,
   "metadata": {
    "id": "r0q-ijaXfhHe"
   },
   "outputs": [],
   "source": [
    "grouped_data2=grouped_data.drop(['stopwords','word_count','personnames'],axis=1)"
   ]
  },
  {
   "cell_type": "code",
   "execution_count": null,
   "metadata": {
    "colab": {
     "base_uri": "https://localhost:8080/"
    },
    "id": "ZsT_xB_MoBDL",
    "outputId": "92f3befb-4f08-494a-93d3-c4c3e405908b"
   },
   "outputs": [
    {
     "data": {
      "text/plain": [
       "Index(['book_id', 'title', 'genres_book', 'author_name', 'description',\n",
       "       'cleaned_desc', 'cleaned'],\n",
       "      dtype='object')"
      ]
     },
     "execution_count": 47,
     "metadata": {
      "tags": []
     },
     "output_type": "execute_result"
    }
   ],
   "source": [
    "grouped_data2.columns"
   ]
  },
  {
   "cell_type": "code",
   "execution_count": null,
   "metadata": {
    "id": "wQcmGJ10dPRZ"
   },
   "outputs": [],
   "source": [
    "from nltk.tokenize import word_tokenize \n",
    "from nltk.stem import WordNetLemmatizer\n",
    "from IPython.core.debugger import set_trace\n"
   ]
  },
  {
   "cell_type": "code",
   "execution_count": null,
   "metadata": {
    "id": "M51cx_qQdmtM"
   },
   "outputs": [],
   "source": [
    "grouped_data2['tokenized'] = grouped_data2.cleaned.apply(word_tokenize)"
   ]
  },
  {
   "cell_type": "code",
   "execution_count": null,
   "metadata": {
    "colab": {
     "base_uri": "https://localhost:8080/"
    },
    "id": "qbJD2h9MdtXl",
    "outputId": "b381a352-a9a8-4764-f789-ad3ef13d7ca7"
   },
   "outputs": [
    {
     "name": "stdout",
     "output_type": "stream",
     "text": [
      "[nltk_data] Downloading package wordnet to /root/nltk_data...\n",
      "[nltk_data]   Unzipping corpora/wordnet.zip.\n"
     ]
    },
    {
     "data": {
      "text/plain": [
       "True"
      ]
     },
     "execution_count": 51,
     "metadata": {
      "tags": []
     },
     "output_type": "execute_result"
    }
   ],
   "source": [
    "#nltk.download('wordnet')"
   ]
  },
  {
   "cell_type": "code",
   "execution_count": null,
   "metadata": {
    "id": "3kTunp_6dwP1"
   },
   "outputs": [],
   "source": [
    "lemmatizer = WordNetLemmatizer()\n",
    "grouped_data2['lemmatize'] = grouped_data2['tokenized'].apply(lambda x: [lemmatizer.lemmatize(cleaned) for cleaned in x])"
   ]
  },
  {
   "cell_type": "code",
   "execution_count": null,
   "metadata": {
    "id": "hk-qDgptd0R0"
   },
   "outputs": [],
   "source": [
    "# tag words base on their part of speech\n",
    "tagged_tokens=[]\n",
    "for token in grouped_data2['lemmatize'].to_list():\n",
    "    tagged_tokens.append(nltk.pos_tag(token))"
   ]
  },
  {
   "cell_type": "code",
   "execution_count": null,
   "metadata": {
    "id": "oTsWdZwReKgB"
   },
   "outputs": [],
   "source": [
    "# only preserve words that are verb, noun or adjective\n",
    "tag_list = []\n",
    "for desc in tagged_tokens:\n",
    "    tag_list.append([(word,tag) for word, tag in desc if tag.startswith('NN') or tag.startswith('VB') or tag.startswith('JJ')])"
   ]
  },
  {
   "cell_type": "code",
   "execution_count": null,
   "metadata": {
    "id": "dU6HbglUeajp"
   },
   "outputs": [],
   "source": [
    "word_list = []\n",
    "for desc in tag_list:\n",
    "    word_list.append([word for word, tag in desc])"
   ]
  },
  {
   "cell_type": "code",
   "execution_count": null,
   "metadata": {
    "id": "a6JHLiWAeu4u"
   },
   "outputs": [],
   "source": [
    "grouped_data2['processed'] = [' '.join(desc) for desc in word_list]"
   ]
  },
  {
   "cell_type": "code",
   "execution_count": null,
   "metadata": {
    "colab": {
     "base_uri": "https://localhost:8080/",
     "height": 462
    },
    "id": "QR2HTl1te5oX",
    "outputId": "995ea718-aa4d-42d9-afca-9df39d74eaa4"
   },
   "outputs": [
    {
     "data": {
      "text/html": [
       "<div>\n",
       "<style scoped>\n",
       "    .dataframe tbody tr th:only-of-type {\n",
       "        vertical-align: middle;\n",
       "    }\n",
       "\n",
       "    .dataframe tbody tr th {\n",
       "        vertical-align: top;\n",
       "    }\n",
       "\n",
       "    .dataframe thead th {\n",
       "        text-align: right;\n",
       "    }\n",
       "</style>\n",
       "<table border=\"1\" class=\"dataframe\">\n",
       "  <thead>\n",
       "    <tr style=\"text-align: right;\">\n",
       "      <th></th>\n",
       "      <th>book_id</th>\n",
       "      <th>title</th>\n",
       "      <th>genres_book</th>\n",
       "      <th>author_name</th>\n",
       "      <th>description</th>\n",
       "      <th>cleaned_desc</th>\n",
       "      <th>cleaned</th>\n",
       "      <th>tokenized</th>\n",
       "      <th>lemmatize</th>\n",
       "      <th>processed</th>\n",
       "    </tr>\n",
       "  </thead>\n",
       "  <tbody>\n",
       "    <tr>\n",
       "      <th>0</th>\n",
       "      <td>228</td>\n",
       "      <td>Cockfighter</td>\n",
       "      <td>fiction</td>\n",
       "      <td>Charles Willeford</td>\n",
       "      <td>The sport is cockfighting and Frank Mansfield ...</td>\n",
       "      <td>The sport is cockfighting and Frank Mansfield ...</td>\n",
       "      <td>sport cockfighting cockfighter silent fiercely...</td>\n",
       "      <td>[sport, cockfighting, cockfighter, silent, fie...</td>\n",
       "      <td>[sport, cockfighting, cockfighter, silent, fie...</td>\n",
       "      <td>sport cockfighting cockfighter silent contrary...</td>\n",
       "    </tr>\n",
       "    <tr>\n",
       "      <th>1</th>\n",
       "      <td>420</td>\n",
       "      <td>The Year of Magical Thinking</td>\n",
       "      <td>non-fiction</td>\n",
       "      <td>Joan Didion</td>\n",
       "      <td>From one of America's most iconic writers, a s...</td>\n",
       "      <td>From one of America s most iconic writers a st...</td>\n",
       "      <td>america iconic writers stunning electric hones...</td>\n",
       "      <td>[america, iconic, writers, stunning, electric,...</td>\n",
       "      <td>[america, iconic, writer, stunning, electric, ...</td>\n",
       "      <td>america iconic writer stunning electric honest...</td>\n",
       "    </tr>\n",
       "    <tr>\n",
       "      <th>2</th>\n",
       "      <td>422</td>\n",
       "      <td>A Book of Common Prayer</td>\n",
       "      <td>fiction</td>\n",
       "      <td>Joan Didion</td>\n",
       "      <td>Writing with the telegraphic swiftness and mic...</td>\n",
       "      <td>Writing with the telegraphic swiftness and mic...</td>\n",
       "      <td>writing telegraphic swiftness microscopic sens...</td>\n",
       "      <td>[writing, telegraphic, swiftness, microscopic,...</td>\n",
       "      <td>[writing, telegraphic, swiftness, microscopic,...</td>\n",
       "      <td>writing telegraphic swiftness microscopic sens...</td>\n",
       "    </tr>\n",
       "    <tr>\n",
       "      <th>3</th>\n",
       "      <td>423</td>\n",
       "      <td>Where I Was From</td>\n",
       "      <td>non-fiction</td>\n",
       "      <td>Joan Didion</td>\n",
       "      <td>In her moving and insightful new book, Joan Di...</td>\n",
       "      <td>In her moving and insightful new book Joan Did...</td>\n",
       "      <td>moving insightful reassesses parts life work h...</td>\n",
       "      <td>[moving, insightful, reassesses, parts, life, ...</td>\n",
       "      <td>[moving, insightful, reassesses, part, life, w...</td>\n",
       "      <td>moving insightful reassesses part life work hi...</td>\n",
       "    </tr>\n",
       "    <tr>\n",
       "      <th>4</th>\n",
       "      <td>428</td>\n",
       "      <td>Play It as It Lays</td>\n",
       "      <td>fiction</td>\n",
       "      <td>Joan Didion</td>\n",
       "      <td>A ruthless dissection of American life in the ...</td>\n",
       "      <td>A ruthless dissection of American life in the ...</td>\n",
       "      <td>ruthless dissection american life late 1960s p...</td>\n",
       "      <td>[ruthless, dissection, american, life, late, 1...</td>\n",
       "      <td>[ruthless, dissection, american, life, late, 1...</td>\n",
       "      <td>ruthless dissection american life play layscap...</td>\n",
       "    </tr>\n",
       "  </tbody>\n",
       "</table>\n",
       "</div>"
      ],
      "text/plain": [
       "   book_id  ...                                          processed\n",
       "0      228  ...  sport cockfighting cockfighter silent contrary...\n",
       "1      420  ...  america iconic writer stunning electric honest...\n",
       "2      422  ...  writing telegraphic swiftness microscopic sens...\n",
       "3      423  ...  moving insightful reassesses part life work hi...\n",
       "4      428  ...  ruthless dissection american life play layscap...\n",
       "\n",
       "[5 rows x 10 columns]"
      ]
     },
     "execution_count": 57,
     "metadata": {
      "tags": []
     },
     "output_type": "execute_result"
    }
   ],
   "source": [
    "grouped_data2.head(5)"
   ]
  },
  {
   "cell_type": "code",
   "execution_count": null,
   "metadata": {
    "colab": {
     "base_uri": "https://localhost:8080/"
    },
    "id": "fn_keUoY1DAN",
    "outputId": "74056255-27b2-4ddb-e5d9-1a2ce6dc9f8d"
   },
   "outputs": [
    {
     "name": "stdout",
     "output_type": "stream",
     "text": [
      "Collecting xlsxwriter\n",
      "\u001b[?25l  Downloading https://files.pythonhosted.org/packages/6b/41/bf1aae04932d1eaffee1fc5f8b38ca47bbbf07d765129539bc4bcce1ce0c/XlsxWriter-1.3.7-py2.py3-none-any.whl (144kB)\n",
      "\r",
      "\u001b[K     |██▎                             | 10kB 13.8MB/s eta 0:00:01\r",
      "\u001b[K     |████▌                           | 20kB 10.5MB/s eta 0:00:01\r",
      "\u001b[K     |██████▉                         | 30kB 7.6MB/s eta 0:00:01\r",
      "\u001b[K     |█████████                       | 40kB 7.5MB/s eta 0:00:01\r",
      "\u001b[K     |███████████▎                    | 51kB 4.3MB/s eta 0:00:01\r",
      "\u001b[K     |█████████████▋                  | 61kB 4.6MB/s eta 0:00:01\r",
      "\u001b[K     |███████████████▉                | 71kB 4.7MB/s eta 0:00:01\r",
      "\u001b[K     |██████████████████▏             | 81kB 5.1MB/s eta 0:00:01\r",
      "\u001b[K     |████████████████████▍           | 92kB 5.1MB/s eta 0:00:01\r",
      "\u001b[K     |██████████████████████▋         | 102kB 5.5MB/s eta 0:00:01\r",
      "\u001b[K     |█████████████████████████       | 112kB 5.5MB/s eta 0:00:01\r",
      "\u001b[K     |███████████████████████████▏    | 122kB 5.5MB/s eta 0:00:01\r",
      "\u001b[K     |█████████████████████████████▌  | 133kB 5.5MB/s eta 0:00:01\r",
      "\u001b[K     |███████████████████████████████▊| 143kB 5.5MB/s eta 0:00:01\r",
      "\u001b[K     |████████████████████████████████| 153kB 5.5MB/s \n",
      "\u001b[?25hInstalling collected packages: xlsxwriter\n",
      "Successfully installed xlsxwriter-1.3.7\n"
     ]
    }
   ],
   "source": [
    "#pip install xlsxwriter\n",
    "#import xlsxwriter"
   ]
  },
  {
   "cell_type": "code",
   "execution_count": null,
   "metadata": {
    "colab": {
     "base_uri": "https://localhost:8080/"
    },
    "id": "5VqAKbEZi-0y",
    "outputId": "4e7e5c2c-77b3-4907-bae1-7ea2725756f2"
   },
   "outputs": [
    {
     "name": "stdout",
     "output_type": "stream",
     "text": [
      "0        [sport, cockfighting, cockfighter, silent, con...\n",
      "1        [america, iconic, writer, stunning, electric, ...\n",
      "2        [writing, telegraphic, swiftness, microscopic,...\n",
      "3        [moving, insightful, reassesses, part, life, w...\n",
      "4        [ruthless, dissection, american, life, play, l...\n",
      "                               ...                        \n",
      "24010    [trained, engineered, mercenary, spy, looking,...\n",
      "24011    [taking, chance, risking, christie, spent, who...\n",
      "24012    [breast, lump, mammogram, discovered, cancer, ...\n",
      "24013    [gave, innocence, gave, baby, billionaire, use...\n",
      "24014                                    [part, way, life]\n",
      "Name: dictionary, Length: 24015, dtype: object\n"
     ]
    }
   ],
   "source": [
    "stop = set(stopwords.words('english'))\n",
    "\n",
    "def process(text):\n",
    "    # only preserve words that have three or more characters\n",
    "    text_filt = re.findall(r'\\b[a-zA-Z]{3,}\\b', text)\n",
    "    \n",
    "    words_filt = [w for w in text_filt if w not in stop]\n",
    "    return words_filt\n",
    "\n",
    "grouped_data2['dictionary'] = grouped_data2['processed'].apply(process)\n",
    "print(grouped_data2.dictionary)"
   ]
  },
  {
   "cell_type": "markdown",
   "metadata": {
    "id": "rKSp78ztEOlI"
   },
   "source": [
    "# **Topic Modelling on LDA**\n"
   ]
  },
  {
   "cell_type": "code",
   "execution_count": null,
   "metadata": {
    "id": "99cMR9FnECjq"
   },
   "outputs": [],
   "source": [
    "#pip install pyLDAvis"
   ]
  },
  {
   "cell_type": "code",
   "execution_count": null,
   "metadata": {
    "id": "-zIiCXaTD6K0"
   },
   "outputs": [],
   "source": [
    "from gensim.parsing.preprocessing import remove_stopwords\n",
    "import pyLDAvis.gensim as gensimvis\n",
    "import pyLDAvis"
   ]
  },
  {
   "cell_type": "code",
   "execution_count": null,
   "metadata": {
    "id": "YSgZq8I3jZqE"
   },
   "outputs": [],
   "source": [
    "from gensim import corpora, models, similarities, matutils"
   ]
  },
  {
   "cell_type": "code",
   "execution_count": null,
   "metadata": {
    "id": "Nlx1l_6Ain52"
   },
   "outputs": [],
   "source": [
    "dictionary = corpora.Dictionary(grouped_data2.dictionary)\n",
    "\n",
    "dictionary.save('dictionary.dict')"
   ]
  },
  {
   "cell_type": "code",
   "execution_count": null,
   "metadata": {
    "id": "I3TJ4gk0jTbS"
   },
   "outputs": [],
   "source": [
    "dictionary = corpora.Dictionary.load('dictionary.dict')"
   ]
  },
  {
   "cell_type": "code",
   "execution_count": null,
   "metadata": {
    "id": "p38v9vIFjjub"
   },
   "outputs": [],
   "source": [
    "doc_term_matrix = [dictionary.doc2bow(doc) for doc in grouped_data2.dictionary]\n",
    "corpora.MmCorpus.serialize('corpus.mm', doc_term_matrix)"
   ]
  },
  {
   "cell_type": "code",
   "execution_count": null,
   "metadata": {
    "id": "Kqhl0OI_jrCk"
   },
   "outputs": [],
   "source": [
    "#Taking 20 topics for the model\n",
    "seed = 123\n",
    "Lda = models.ldamodel.LdaModel\n",
    "ldamodel = Lda(doc_term_matrix, num_topics=20, id2word = dictionary, passes=10, random_state = seed)"
   ]
  },
  {
   "cell_type": "code",
   "execution_count": null,
   "metadata": {
    "id": "iV0x0eE2kCq5"
   },
   "outputs": [],
   "source": [
    "topics=ldamodel.print_topics()"
   ]
  },
  {
   "cell_type": "code",
   "execution_count": null,
   "metadata": {
    "colab": {
     "base_uri": "https://localhost:8080/"
    },
    "id": "MtmyfIjkGbFq",
    "outputId": "c1049160-2bff-4a3c-eb77-944143b7b8ca"
   },
   "outputs": [
    {
     "data": {
      "text/plain": [
       "[(0,\n",
       "  '0.021*\"natural\" + 0.020*\"place\" + 0.020*\"love\" + 0.019*\"others\" + 0.019*\"violence\" + 0.019*\"human\" + 0.019*\"many\" + 0.019*\"play\" + 0.019*\"education\" + 0.018*\"hand\"'),\n",
       " (1,\n",
       "  '0.025*\"author\" + 0.022*\"story\" + 0.015*\"life\" + 0.014*\"character\" + 0.012*\"tale\" + 0.012*\"read\" + 0.011*\"writer\" + 0.011*\"reader\" + 0.011*\"book\" + 0.010*\"time\"'),\n",
       " (2,\n",
       "  '0.009*\"life\" + 0.008*\"help\" + 0.008*\"way\" + 0.008*\"cupcake\" + 0.007*\"food\" + 0.007*\"time\" + 0.006*\"people\" + 0.006*\"everything\" + 0.005*\"work\" + 0.005*\"reader\"'),\n",
       " (3,\n",
       "  '0.044*\"politics\" + 0.043*\"kit\" + 0.038*\"scandal\" + 0.033*\"challenge\" + 0.030*\"many\" + 0.025*\"bed\" + 0.025*\"steel\" + 0.025*\"rivalry\" + 0.024*\"capital\" + 0.024*\"regain\"'),\n",
       " (4,\n",
       "  '0.069*\"tame\" + 0.047*\"flying\" + 0.036*\"alpha\" + 0.035*\"boxing\" + 0.030*\"test\" + 0.026*\"horse\" + 0.012*\"pilot\" + 0.010*\"cozy\" + 0.009*\"crew\" + 0.009*\"battlefield\"'),\n",
       " (5,\n",
       "  '0.053*\"pool\" + 0.050*\"fade\" + 0.016*\"jewish\" + 0.016*\"fling\" + 0.012*\"fairytale\" + 0.011*\"lion\" + 0.011*\"apocalypse\" + 0.011*\"ben\" + 0.010*\"marvel\" + 0.008*\"sunny\"'),\n",
       " (6,\n",
       "  '0.037*\"god\" + 0.031*\"fighting\" + 0.027*\"factor\" + 0.027*\"singapore\" + 0.018*\"contract\" + 0.017*\"great\" + 0.016*\"joe\" + 0.016*\"submission\" + 0.016*\"stretch\" + 0.015*\"church\"'),\n",
       " (7,\n",
       "  '0.018*\"world\" + 0.008*\"secret\" + 0.006*\"life\" + 0.006*\"death\" + 0.006*\"find\" + 0.006*\"time\" + 0.005*\"monster\" + 0.005*\"mystery\" + 0.005*\"human\" + 0.005*\"power\"'),\n",
       " (8,\n",
       "  '0.008*\"game\" + 0.008*\"history\" + 0.008*\"world\" + 0.007*\"journalism\" + 0.007*\"first\" + 0.006*\"ruining\" + 0.006*\"star\" + 0.006*\"city\" + 0.006*\"art\" + 0.006*\"film\"'),\n",
       " (9,\n",
       "  '0.017*\"life\" + 0.010*\"thing\" + 0.010*\"find\" + 0.009*\"time\" + 0.008*\"want\" + 0.007*\"dream\" + 0.006*\"job\" + 0.006*\"way\" + 0.006*\"chance\" + 0.006*\"heart\"'),\n",
       " (10,\n",
       "  '0.077*\"swordplay\" + 0.073*\"poem\" + 0.046*\"collection\" + 0.045*\"verse\" + 0.043*\"chain\" + 0.042*\"recognizes\" + 0.021*\"poetry\" + 0.016*\"poet\" + 0.009*\"breakfast\" + 0.009*\"guest\"'),\n",
       " (11,\n",
       "  '0.020*\"family\" + 0.019*\"life\" + 0.019*\"love\" + 0.012*\"woman\" + 0.009*\"heart\" + 0.009*\"find\" + 0.008*\"night\" + 0.007*\"secret\" + 0.007*\"passion\" + 0.007*\"world\"'),\n",
       " (12,\n",
       "  '0.108*\"breast\" + 0.085*\"cancer\" + 0.041*\"rebecca\" + 0.032*\"understand\" + 0.030*\"virgin\" + 0.018*\"silence\" + 0.015*\"available\" + 0.015*\"acceptance\" + 0.015*\"simmering\" + 0.015*\"care\"'),\n",
       " (13,\n",
       "  '0.065*\"investor\" + 0.030*\"property\" + 0.026*\"holmes\" + 0.024*\"roller\" + 0.024*\"quit\" + 0.024*\"danny\" + 0.024*\"existing\" + 0.023*\"coaster\" + 0.021*\"report\" + 0.021*\"century\"'),\n",
       " (14,\n",
       "  '0.024*\"space\" + 0.011*\"planet\" + 0.009*\"prequel\" + 0.009*\"earth\" + 0.008*\"robot\" + 0.007*\"sky\" + 0.007*\"sun\" + 0.007*\"tea\" + 0.007*\"moon\" + 0.007*\"accepts\"'),\n",
       " (15,\n",
       "  '0.024*\"science\" + 0.021*\"world\" + 0.020*\"written\" + 0.019*\"publishing\" + 0.018*\"scholar\" + 0.017*\"genius\" + 0.017*\"form\" + 0.015*\"classic\" + 0.015*\"discovery\" + 0.014*\"mathematical\"'),\n",
       " (16,\n",
       "  '0.012*\"war\" + 0.012*\"country\" + 0.011*\"american\" + 0.011*\"history\" + 0.010*\"trauma\" + 0.009*\"national\" + 0.009*\"ride\" + 0.009*\"year\" + 0.009*\"cultural\" + 0.008*\"work\"'),\n",
       " (17,\n",
       "  '0.041*\"cancel\" + 0.038*\"paranormal\" + 0.017*\"sam\" + 0.016*\"harder\" + 0.012*\"fake\" + 0.010*\"nick\" + 0.009*\"owns\" + 0.008*\"connor\" + 0.008*\"gabe\" + 0.008*\"gene\"'),\n",
       " (18,\n",
       "  '0.101*\"veterinarian\" + 0.062*\"saint\" + 0.056*\"surgeon\" + 0.055*\"surgery\" + 0.051*\"evoke\" + 0.014*\"adam\" + 0.011*\"hospital\" + 0.011*\"lucy\" + 0.009*\"january\" + 0.007*\"patient\"'),\n",
       " (19,\n",
       "  '0.034*\"little\" + 0.021*\"boy\" + 0.021*\"cry\" + 0.019*\"night\" + 0.016*\"dog\" + 0.016*\"thing\" + 0.014*\"playboy\" + 0.014*\"parent\" + 0.014*\"daddy\" + 0.013*\"engineered\"')]"
      ]
     },
     "execution_count": 77,
     "metadata": {
      "tags": []
     },
     "output_type": "execute_result"
    }
   ],
   "source": [
    "topics"
   ]
  },
  {
   "cell_type": "code",
   "execution_count": null,
   "metadata": {
    "id": "EvgXJHGxEl8u"
   },
   "outputs": [],
   "source": [
    "cleaned_topics=[]\n",
    "cnt=0\n",
    "for i in topics:\n",
    "  res1 = \" \".join(re.findall(\"[a-zA-Z]+\", i[1]))\n",
    "  cleaned_topics.append((cnt,res1))\n",
    "  cnt+=1 "
   ]
  },
  {
   "cell_type": "code",
   "execution_count": null,
   "metadata": {
    "id": "h5K-Vxe4Fn82"
   },
   "outputs": [],
   "source": [
    "df = pd.DataFrame(cleaned_topics, columns =['topic', 'topicname']) "
   ]
  },
  {
   "cell_type": "code",
   "execution_count": null,
   "metadata": {
    "colab": {
     "base_uri": "https://localhost:8080/",
     "height": 662
    },
    "id": "NVUyeLUYH3Hi",
    "outputId": "9fc92c61-654f-4fdf-c55e-38e81dd48d86"
   },
   "outputs": [
    {
     "data": {
      "text/html": [
       "<div>\n",
       "<style scoped>\n",
       "    .dataframe tbody tr th:only-of-type {\n",
       "        vertical-align: middle;\n",
       "    }\n",
       "\n",
       "    .dataframe tbody tr th {\n",
       "        vertical-align: top;\n",
       "    }\n",
       "\n",
       "    .dataframe thead th {\n",
       "        text-align: right;\n",
       "    }\n",
       "</style>\n",
       "<table border=\"1\" class=\"dataframe\">\n",
       "  <thead>\n",
       "    <tr style=\"text-align: right;\">\n",
       "      <th></th>\n",
       "      <th>topic</th>\n",
       "      <th>topicname</th>\n",
       "    </tr>\n",
       "  </thead>\n",
       "  <tbody>\n",
       "    <tr>\n",
       "      <th>0</th>\n",
       "      <td>0</td>\n",
       "      <td>natural place love others violence human many ...</td>\n",
       "    </tr>\n",
       "    <tr>\n",
       "      <th>1</th>\n",
       "      <td>1</td>\n",
       "      <td>author story life character tale read writer r...</td>\n",
       "    </tr>\n",
       "    <tr>\n",
       "      <th>2</th>\n",
       "      <td>2</td>\n",
       "      <td>life help way cupcake food time people everyth...</td>\n",
       "    </tr>\n",
       "    <tr>\n",
       "      <th>3</th>\n",
       "      <td>3</td>\n",
       "      <td>politics kit scandal challenge many bed steel ...</td>\n",
       "    </tr>\n",
       "    <tr>\n",
       "      <th>4</th>\n",
       "      <td>4</td>\n",
       "      <td>tame flying alpha boxing test horse pilot cozy...</td>\n",
       "    </tr>\n",
       "    <tr>\n",
       "      <th>5</th>\n",
       "      <td>5</td>\n",
       "      <td>pool fade jewish fling fairytale lion apocalyp...</td>\n",
       "    </tr>\n",
       "    <tr>\n",
       "      <th>6</th>\n",
       "      <td>6</td>\n",
       "      <td>god fighting factor singapore contract great j...</td>\n",
       "    </tr>\n",
       "    <tr>\n",
       "      <th>7</th>\n",
       "      <td>7</td>\n",
       "      <td>world secret life death find time monster myst...</td>\n",
       "    </tr>\n",
       "    <tr>\n",
       "      <th>8</th>\n",
       "      <td>8</td>\n",
       "      <td>game history world journalism first ruining st...</td>\n",
       "    </tr>\n",
       "    <tr>\n",
       "      <th>9</th>\n",
       "      <td>9</td>\n",
       "      <td>life thing find time want dream job way chance...</td>\n",
       "    </tr>\n",
       "    <tr>\n",
       "      <th>10</th>\n",
       "      <td>10</td>\n",
       "      <td>swordplay poem collection verse chain recogniz...</td>\n",
       "    </tr>\n",
       "    <tr>\n",
       "      <th>11</th>\n",
       "      <td>11</td>\n",
       "      <td>family life love woman heart find night secret...</td>\n",
       "    </tr>\n",
       "    <tr>\n",
       "      <th>12</th>\n",
       "      <td>12</td>\n",
       "      <td>breast cancer rebecca understand virgin silenc...</td>\n",
       "    </tr>\n",
       "    <tr>\n",
       "      <th>13</th>\n",
       "      <td>13</td>\n",
       "      <td>investor property holmes roller quit danny exi...</td>\n",
       "    </tr>\n",
       "    <tr>\n",
       "      <th>14</th>\n",
       "      <td>14</td>\n",
       "      <td>space planet prequel earth robot sky sun tea m...</td>\n",
       "    </tr>\n",
       "    <tr>\n",
       "      <th>15</th>\n",
       "      <td>15</td>\n",
       "      <td>science world written publishing scholar geniu...</td>\n",
       "    </tr>\n",
       "    <tr>\n",
       "      <th>16</th>\n",
       "      <td>16</td>\n",
       "      <td>war country american history trauma national r...</td>\n",
       "    </tr>\n",
       "    <tr>\n",
       "      <th>17</th>\n",
       "      <td>17</td>\n",
       "      <td>cancel paranormal sam harder fake nick owns co...</td>\n",
       "    </tr>\n",
       "    <tr>\n",
       "      <th>18</th>\n",
       "      <td>18</td>\n",
       "      <td>veterinarian saint surgeon surgery evoke adam ...</td>\n",
       "    </tr>\n",
       "    <tr>\n",
       "      <th>19</th>\n",
       "      <td>19</td>\n",
       "      <td>little boy cry night dog thing playboy parent ...</td>\n",
       "    </tr>\n",
       "  </tbody>\n",
       "</table>\n",
       "</div>"
      ],
      "text/plain": [
       "    topic                                          topicname\n",
       "0       0  natural place love others violence human many ...\n",
       "1       1  author story life character tale read writer r...\n",
       "2       2  life help way cupcake food time people everyth...\n",
       "3       3  politics kit scandal challenge many bed steel ...\n",
       "4       4  tame flying alpha boxing test horse pilot cozy...\n",
       "5       5  pool fade jewish fling fairytale lion apocalyp...\n",
       "6       6  god fighting factor singapore contract great j...\n",
       "7       7  world secret life death find time monster myst...\n",
       "8       8  game history world journalism first ruining st...\n",
       "9       9  life thing find time want dream job way chance...\n",
       "10     10  swordplay poem collection verse chain recogniz...\n",
       "11     11  family life love woman heart find night secret...\n",
       "12     12  breast cancer rebecca understand virgin silenc...\n",
       "13     13  investor property holmes roller quit danny exi...\n",
       "14     14  space planet prequel earth robot sky sun tea m...\n",
       "15     15  science world written publishing scholar geniu...\n",
       "16     16  war country american history trauma national r...\n",
       "17     17  cancel paranormal sam harder fake nick owns co...\n",
       "18     18  veterinarian saint surgeon surgery evoke adam ...\n",
       "19     19  little boy cry night dog thing playboy parent ..."
      ]
     },
     "execution_count": 80,
     "metadata": {
      "tags": []
     },
     "output_type": "execute_result"
    }
   ],
   "source": [
    "df"
   ]
  },
  {
   "cell_type": "markdown",
   "metadata": {
    "id": "5oLlwq6NGL5q"
   },
   "source": [
    "**pyLDAvis Visualisation**"
   ]
  },
  {
   "cell_type": "code",
   "execution_count": null,
   "metadata": {
    "id": "s90i7wpfkQDr"
   },
   "outputs": [],
   "source": [
    "d = corpora.Dictionary.load('dictionary.dict')\n",
    "c = corpora.MmCorpus('corpus.mm')"
   ]
  },
  {
   "cell_type": "code",
   "execution_count": null,
   "metadata": {
    "colab": {
     "base_uri": "https://localhost:8080/",
     "height": 881
    },
    "id": "KjCdlAVkkU8R",
    "outputId": "d2a0b229-52ee-475c-9313-e4ea02c9eaf2"
   },
   "outputs": [
    {
     "data": {
      "text/html": [
       "\n",
       "<link rel=\"stylesheet\" type=\"text/css\" href=\"https://cdn.rawgit.com/bmabey/pyLDAvis/files/ldavis.v1.0.0.css\">\n",
       "\n",
       "\n",
       "<div id=\"ldavis_el551396707260452727877669055\"></div>\n",
       "<script type=\"text/javascript\">\n",
       "\n",
       "var ldavis_el551396707260452727877669055_data = {\"mdsDat\": {\"x\": [-0.2812232614450714, -0.27023799662836756, -0.26886293560836155, -0.2240194362522467, -0.19262234998790462, -0.2003650217507512, -0.1539320259590292, -0.12500429336622412, -0.01941895455103914, 0.06504152973330055, 0.17082809377789376, 0.08268999087325025, 0.140385267422519, 0.08668084618163972, 0.19269300346296642, 0.1530829382603547, 0.21134511152140809, 0.21414267285562952, 0.2023688721814308, 0.21642794927860415], \"y\": [0.18092475282765447, 0.0653536381702163, 0.1326312954527303, -0.08143083587676742, -0.15330527714796255, -0.13291592199842764, -0.18581604957446704, 0.2443966315427846, -0.23132817311005263, 0.01943576910400161, 0.0050943123920044785, -0.044862842907649615, -0.01195543895541339, 0.07258606630657369, 0.03836918571508125, 0.01240435727767119, 0.023384041454842536, 0.020144587762847197, 0.010925150046950601, 0.015964751517382334], \"topics\": [1, 2, 3, 4, 5, 6, 7, 8, 9, 10, 11, 12, 13, 14, 15, 16, 17, 18, 19, 20], \"cluster\": [1, 1, 1, 1, 1, 1, 1, 1, 1, 1, 1, 1, 1, 1, 1, 1, 1, 1, 1, 1], \"Freq\": [20.99583567787035, 20.24595111908965, 14.316427172068302, 9.483346987435185, 8.793843085767529, 7.448016667735839, 5.851359442930422, 2.7517809915255906, 2.0867396978878205, 1.4905120748763359, 1.1132323247595504, 1.0145219191060326, 0.776524011247792, 0.6240641064618824, 0.6156383944809688, 0.607198673125539, 0.5528283733160372, 0.4857163300552656, 0.45740193112889543, 0.2890610191310281]}, \"tinfo\": {\"Term\": [\"love\", \"world\", \"little\", \"time\", \"many\", \"thing\", \"night\", \"life\", \"author\", \"human\", \"collection\", \"story\", \"boy\", \"family\", \"hand\", \"place\", \"fear\", \"breast\", \"challenge\", \"century\", \"character\", \"need\", \"meet\", \"fighting\", \"war\", \"work\", \"tale\", \"great\", \"case\", \"business\", \"holiday\", \"sexy\", \"guy\", \"bos\", \"serial\", \"smile\", \"boyfriend\", \"cafe\", \"driver\", \"mercenary\", \"ace\", \"adrenaline\", \"billionaire\", \"dirty\", \"steamy\", \"crush\", \"chase\", \"apartment\", \"hire\", \"stopped\", \"shy\", \"damaged\", \"lip\", \"knee\", \"motorcycle\", \"racing\", \"sheriff\", \"cute\", \"ripped\", \"naughty\", \"want\", \"bar\", \"christmas\", \"someone\", \"job\", \"convince\", \"worst\", \"falling\", \"bad\", \"got\", \"happen\", \"get\", \"chance\", \"annual\", \"hell\", \"happens\", \"college\", \"thing\", \"farm\", \"anything\", \"dream\", \"know\", \"need\", \"week\", \"romance\", \"town\", \"turn\", \"life\", \"nothing\", \"find\", \"run\", \"men\", \"time\", \"heart\", \"best\", \"way\", \"keep\", \"small\", \"day\", \"man\", \"friend\", \"everything\", \"love\", \"woman\", \"help\", \"darkness\", \"prince\", \"vampire\", \"brutal\", \"evil\", \"terrifying\", \"dragon\", \"castle\", \"wolf\", \"savage\", \"cunning\", \"peter\", \"veil\", \"warrior\", \"motel\", \"alien\", \"hunter\", \"supernatural\", \"werewolf\", \"curse\", \"beast\", \"assassin\", \"immortal\", \"sinister\", \"pirate\", \"throne\", \"hunted\", \"prophecy\", \"plague\", \"underworld\", \"monster\", \"salvation\", \"blood\", \"archaeologist\", \"destruction\", \"exposing\", \"continues\", \"witch\", \"sending\", \"proclaimed\", \"demon\", \"search\", \"shadow\", \"king\", \"murder\", \"death\", \"remains\", \"mystery\", \"fate\", \"dangerous\", \"dead\", \"force\", \"world\", \"dark\", \"battle\", \"human\", \"secret\", \"piece\", \"enemy\", \"truth\", \"save\", \"city\", \"power\", \"old\", \"find\", \"known\", \"war\", \"call\", \"time\", \"life\", \"tale\", \"man\", \"young\", \"spice\", \"marriage\", \"mine\", \"amy\", \"belongs\", \"intimacy\", \"brewing\", \"wed\", \"spite\", \"furious\", \"steam\", \"outcast\", \"mist\", \"snowstorm\", \"virginity\", \"mum\", \"behaviour\", \"shrouded\", \"foreigner\", \"hesitate\", \"taker\", \"banquet\", \"marry\", \"temptation\", \"forgiveness\", \"matched\", \"seduction\", \"undeniable\", \"expecting\", \"classmate\", \"episode\", \"shopping\", \"lust\", \"feud\", \"glittering\", \"husband\", \"gave\", \"desire\", \"family\", \"daughter\", \"knew\", \"affair\", \"love\", \"passion\", \"welcome\", \"sex\", \"beauty\", \"mother\", \"stranger\", \"wife\", \"meant\", \"wanted\", \"woman\", \"touch\", \"connection\", \"heart\", \"night\", \"life\", \"face\", \"left\", \"everything\", \"running\", \"secret\", \"find\", \"man\", \"young\", \"year\", \"keep\", \"friend\", \"world\", \"home\", \"father\", \"power\", \"begin\", \"cupcake\", \"recipe\", \"unravelling\", \"delicacy\", \"practical\", \"advice\", \"tool\", \"healthy\", \"cook\", \"meal\", \"chef\", \"basic\", \"diet\", \"exercise\", \"cooking\", \"dish\", \"manage\", \"positive\", \"instruction\", \"ingredient\", \"specific\", \"improve\", \"customer\", \"helpful\", \"cookbook\", \"knitting\", \"data\", \"firefighter\", \"vegetable\", \"symptom\", \"food\", \"eating\", \"concept\", \"tip\", \"technique\", \"stress\", \"guide\", \"benefit\", \"practice\", \"method\", \"program\", \"emotion\", \"strategy\", \"approach\", \"create\", \"step\", \"learning\", \"information\", \"learn\", \"help\", \"project\", \"offer\", \"show\", \"way\", \"people\", \"experience\", \"reader\", \"simple\", \"everything\", \"work\", \"life\", \"time\", \"easy\", \"many\", \"author\", \"child\", \"world\", \"question\", \"personal\", \"word\", \"day\", \"trauma\", \"cultural\", \"asian\", \"revolution\", \"political\", \"africa\", \"sci\", \"corporation\", \"united\", \"cooky\", \"avid\", \"contention\", \"bernard\", \"german\", \"african\", \"indian\", \"germany\", \"population\", \"institution\", \"iraq\", \"election\", \"racial\", \"terrorism\", \"soviet\", \"democracy\", \"hitler\", \"china\", \"regime\", \"industrial\", \"founding\", \"appointed\", \"national\", \"overcoming\", \"silk\", \"disease\", \"state\", \"patient\", \"inevitable\", \"university\", \"president\", \"nation\", \"hospital\", \"american\", \"growth\", \"ride\", \"country\", \"america\", \"war\", \"history\", \"professor\", \"research\", \"account\", \"work\", \"year\", \"epic\", \"century\", \"woman\", \"shape\", \"journey\", \"author\", \"world\", \"people\", \"day\", \"stall\", \"los\", \"angeles\", \"musical\", \"charlotte\", \"starring\", \"fictional\", \"rescuing\", \"opera\", \"scary\", \"button\", \"yoga\", \"starred\", \"hurting\", \"gothic\", \"fantastical\", \"jazz\", \"insecurity\", \"creepy\", \"literary\", \"satire\", \"robbery\", \"album\", \"soccer\", \"autobiography\", \"jordan\", \"prodigy\", \"booklist\", \"scarlet\", \"irreverent\", \"fiction\", \"novel\", \"story\", \"novelist\", \"anthology\", \"writer\", \"comedy\", \"award\", \"storytelling\", \"character\", \"comic\", \"winner\", \"funny\", \"humor\", \"writing\", \"song\", \"short\", \"debut\", \"book\", \"author\", \"prose\", \"winning\", \"voice\", \"collection\", \"tale\", \"read\", \"write\", \"page\", \"reader\", \"acclaimed\", \"fan\", \"written\", \"music\", \"life\", \"reading\", \"time\", \"age\", \"young\", \"work\", \"world\", \"classic\", \"best\", \"great\", \"journalism\", \"ruining\", \"sport\", \"baseball\", \"radio\", \"iconic\", \"blog\", \"canada\", \"awaits\", \"translation\", \"marketing\", \"ethan\", \"spain\", \"hannah\", \"eligible\", \"atlantis\", \"granddaughter\", \"egypt\", \"ian\", \"filmmaker\", \"vintage\", \"predicted\", \"solved\", \"drummer\", \"exam\", \"zach\", \"sexiest\", \"classical\", \"noah\", \"adapted\", \"actress\", \"film\", \"map\", \"television\", \"movie\", \"player\", \"photography\", \"bee\", \"museum\", \"photograph\", \"canadian\", \"hollywood\", \"graphic\", \"director\", \"tour\", \"celebrity\", \"actor\", \"band\", \"game\", \"star\", \"version\", \"art\", \"original\", \"includes\", \"english\", \"history\", \"rock\", \"volume\", \"artist\", \"popular\", \"first\", \"city\", \"including\", \"published\", \"play\", \"famous\", \"fan\", \"world\", \"made\", \"time\", \"show\", \"full\", \"book\", \"part\", \"year\", \"cry\", \"playboy\", \"daddy\", \"engineered\", \"feisty\", \"cat\", \"woke\", \"appealing\", \"resurrected\", \"continuity\", \"dog\", \"nate\", \"mouse\", \"jason\", \"adorable\", \"junior\", \"ruby\", \"elephant\", \"menage\", \"yellow\", \"fox\", \"bedtime\", \"redhead\", \"buck\", \"bullying\", \"cinderella\", \"jay\", \"grandma\", \"wet\", \"counting\", \"pet\", \"tree\", \"animal\", \"alice\", \"seal\", \"watch\", \"bird\", \"bedroom\", \"uncle\", \"little\", \"kid\", \"glimpse\", \"older\", \"parent\", \"boy\", \"supposed\", \"wonder\", \"bit\", \"single\", \"birthday\", \"sweet\", \"night\", \"big\", \"thing\", \"child\", \"old\", \"mother\", \"place\", \"school\", \"father\", \"friend\", \"different\", \"year\", \"publishing\", \"mathematical\", \"theory\", \"digital\", \"scholar\", \"prompt\", \"category\", \"thinker\", \"encourages\", \"suited\", \"physic\", \"philosopher\", \"download\", \"truly\", \"lauren\", \"coven\", \"printed\", \"oxford\", \"experimental\", \"arrow\", \"biologist\", \"laboratory\", \"physicist\", \"underlying\", \"laird\", \"dictionary\", \"hawaii\", \"paradox\", \"lied\", \"duel\", \"science\", \"scientific\", \"advanced\", \"genius\", \"scientist\", \"consciousness\", \"form\", \"discovery\", \"painting\", \"sharp\", \"written\", \"philosophy\", \"study\", \"classic\", \"result\", \"evolution\", \"experiment\", \"art\", \"ambition\", \"third\", \"sense\", \"technology\", \"reveal\", \"wit\", \"world\", \"essay\", \"work\", \"human\", \"group\", \"look\", \"nature\", \"thought\", \"idea\", \"many\", \"singapore\", \"contract\", \"joe\", \"submission\", \"stretch\", \"church\", \"narrated\", \"portrayed\", \"indulge\", \"complicates\", \"renew\", \"christian\", \"jesus\", \"sarah\", \"emma\", \"biblical\", \"catholic\", \"activist\", \"minister\", \"scripture\", \"ranger\", \"gospel\", \"chose\", \"christianity\", \"presidential\", \"absolute\", \"jamie\", \"finn\", \"runner\", \"execution\", \"factor\", \"relate\", \"god\", \"conscience\", \"fighting\", \"faith\", \"bible\", \"sacrifice\", \"prayer\", \"wisdom\", \"ultimate\", \"regret\", \"spiritual\", \"great\", \"walk\", \"problem\", \"whole\", \"relevant\", \"lead\", \"used\", \"life\", \"sign\", \"understand\", \"prequel\", \"robot\", \"rat\", \"deserve\", \"engineer\", \"ford\", \"blade\", \"promotion\", \"reservation\", \"mage\", \"novelette\", \"instrument\", \"beatrice\", \"amongst\", \"championship\", \"convinces\", \"wandering\", \"hop\", \"quilt\", \"elli\", \"enhanced\", \"simon\", \"everlasting\", \"swan\", \"thirst\", \"balloon\", \"void\", \"vigilante\", \"rocket\", \"unleashes\", \"tea\", \"accepts\", \"space\", \"flash\", \"galaxy\", \"mortal\", \"moon\", \"planet\", \"machine\", \"sky\", \"sun\", \"tech\", \"computer\", \"ship\", \"earth\", \"website\", \"universe\", \"star\", \"translator\", \"observe\", \"junkie\", \"alarm\", \"sonnet\", \"interconnectedness\", \"rome\", \"christ\", \"sebastian\", \"toe\", \"ella\", \"bath\", \"travelling\", \"gambling\", \"ceremony\", \"transformative\", \"soil\", \"yearns\", \"viewed\", \"cooker\", \"equality\", \"worship\", \"endangered\", \"obtain\", \"coastal\", \"midwife\", \"sierra\", \"reich\", \"treaty\", \"pakistan\", \"fiery\", \"connected\", \"education\", \"variety\", \"natural\", \"meaning\", \"universe\", \"violence\", \"knowledge\", \"roman\", \"twenty\", \"spanning\", \"loss\", \"style\", \"play\", \"others\", \"identity\", \"free\", \"hand\", \"place\", \"including\", \"human\", \"many\", \"love\", \"time\", \"world\", \"investor\", \"property\", \"holmes\", \"roller\", \"quit\", \"danny\", \"existing\", \"coaster\", \"financial\", \"ceo\", \"shark\", \"geek\", \"kidnapper\", \"tax\", \"reunite\", \"sherlock\", \"investment\", \"skull\", \"privacy\", \"ransom\", \"rainbow\", \"resolution\", \"operating\", \"stressed\", \"grimm\", \"covenant\", \"rocker\", \"flirt\", \"angst\", \"domain\", \"corporate\", \"punk\", \"report\", \"serf\", \"likely\", \"complex\", \"condition\", \"sugar\", \"debt\", \"using\", \"employee\", \"century\", \"case\", \"third\", \"market\", \"business\", \"company\", \"wide\", \"center\", \"character\", \"law\", \"office\", \"reality\", \"money\", \"breast\", \"cancer\", \"rebecca\", \"virgin\", \"simmering\", \"refer\", \"prolonged\", \"needlework\", \"anna\", \"sophie\", \"pregnancy\", \"josh\", \"messy\", \"blackmail\", \"july\", \"insanity\", \"smash\", \"net\", \"penniless\", \"taylor\", \"gardener\", \"surveillance\", \"matthew\", \"targeting\", \"caroline\", \"fitness\", \"feline\", \"juice\", \"gardening\", \"cracking\", \"silence\", \"acceptance\", \"thread\", \"sweep\", \"affect\", \"understand\", \"asks\", \"say\", \"message\", \"available\", \"health\", \"unforgettable\", \"discovered\", \"interest\", \"care\", \"sure\", \"month\", \"head\", \"entire\", \"wrong\", \"published\", \"adventure\", \"becomes\", \"fear\", \"tame\", \"flying\", \"alpha\", \"boxing\", \"horse\", \"pilot\", \"cozy\", \"battlefield\", \"ticket\", \"rider\", \"heartbroken\", \"rabbit\", \"gargoyle\", \"cage\", \"cassie\", \"toughest\", \"maya\", \"horn\", \"naval\", \"avenger\", \"fleet\", \"warming\", \"delve\", \"alexander\", \"kat\", \"ted\", \"mutant\", \"hollow\", \"quaint\", \"daisy\", \"collecting\", \"test\", \"approaching\", \"horde\", \"crew\", \"accident\", \"ship\", \"navy\", \"kit\", \"steel\", \"regain\", \"herald\", \"aristocrat\", \"fashionable\", \"duke\", \"charlie\", \"investigating\", \"rachel\", \"dallas\", \"mar\", \"jacob\", \"mama\", \"hooked\", \"widower\", \"depend\", \"nora\", \"mild\", \"zoe\", \"relaxing\", \"rivalry\", \"gypsy\", \"showdown\", \"policeman\", \"russell\", \"tennessee\", \"bree\", \"scout\", \"specter\", \"capital\", \"charged\", \"producer\", \"politics\", \"bound\", \"scandal\", \"biggest\", \"sent\", \"bed\", \"system\", \"professional\", \"challenge\", \"music\", \"class\", \"many\", \"honor\", \"deputy\", \"enemy\", \"wit\", \"cancel\", \"paranormal\", \"sam\", \"harder\", \"fake\", \"nick\", \"owns\", \"connor\", \"gabe\", \"gene\", \"suitor\", \"andrew\", \"district\", \"armor\", \"parker\", \"phoenix\", \"raven\", \"robert\", \"chris\", \"destroys\", \"fort\", \"abyss\", \"noticed\", \"frantic\", \"satisfied\", \"portland\", \"asset\", \"waitress\", \"thwart\", \"bathroom\", \"gaze\", \"cell\", \"genetic\", \"pool\", \"fade\", \"jewish\", \"fling\", \"fairytale\", \"lion\", \"apocalypse\", \"ben\", \"marvel\", \"sunny\", \"vengeful\", \"jew\", \"indie\", \"swimming\", \"fascination\", \"tony\", \"medal\", \"laura\", \"knocking\", \"holocaust\", \"chamber\", \"swim\", \"enforcer\", \"whale\", \"egyptian\", \"kennedy\", \"harley\", \"seize\", \"penny\", \"eli\", \"goat\", \"water\", \"oil\", \"swordplay\", \"poem\", \"verse\", \"recognizes\", \"breakfast\", \"okay\", \"unleashed\", \"waited\", \"amelia\", \"manor\", \"bastard\", \"tick\", \"locate\", \"bartender\", \"unicorn\", \"delectable\", \"bitch\", \"gabriel\", \"jude\", \"floating\", \"vet\", \"belle\", \"celtic\", \"roaring\", \"bitterness\", \"skirt\", \"dante\", \"hello\", \"sorceress\", \"bloodshed\", \"blossom\", \"chain\", \"poetry\", \"poet\", \"collection\", \"whim\", \"guest\", \"novella\", \"veterinarian\", \"saint\", \"surgeon\", \"surgery\", \"evoke\", \"adam\", \"lucy\", \"january\", \"happier\", \"maria\", \"imaginary\", \"lesbian\", \"puppy\", \"vehicle\", \"canyon\", \"comedian\", \"climbing\", \"rift\", \"grueling\", \"bookstore\", \"remove\", \"lillian\", \"theological\", \"allergy\", \"denver\", \"hugh\", \"detailing\", \"deaf\", \"hudson\", \"license\", \"hospital\", \"patient\"], \"Freq\": [7203.0, 11526.0, 3163.0, 8655.0, 2962.0, 4423.0, 3839.0, 15880.0, 5151.0, 2582.0, 1572.0, 2926.0, 2446.0, 6059.0, 1936.0, 2442.0, 1952.0, 1069.0, 1357.0, 1781.0, 2010.0, 1606.0, 1826.0, 1270.0, 2953.0, 4130.0, 2560.0, 2147.0, 1397.0, 1478.0, 1739.2493671882376, 1479.72810969969, 1005.8894477144481, 740.5364377945335, 716.2373920006651, 626.336544442602, 601.564858676573, 531.833759537801, 528.478301855863, 522.7147543419444, 500.51146316285167, 491.26064925748136, 477.60868493071933, 404.0278744480225, 391.1151447112259, 386.5348597192338, 385.97274912407096, 369.4390110403496, 346.33111541192216, 346.0276344612114, 337.2759073327266, 335.3676775760152, 319.204871394529, 316.6372307735169, 315.24848353856294, 307.9136517062013, 306.84145416464384, 299.59207180368884, 297.38631549382177, 296.9671684373585, 2781.427156168371, 1172.3237523090402, 1084.97096159042, 1572.3499236158075, 2145.350106618876, 445.7339828553235, 704.249720455454, 834.9920514979245, 1461.226791208303, 770.5698777532525, 715.9369655785703, 842.1091805027951, 2062.921757337945, 533.2333522825872, 1372.9687000718027, 819.930828196579, 889.1445133867701, 3317.017328600095, 851.2384319022367, 1125.3115410467399, 2196.5814338630285, 1609.421693474091, 1292.1307935767727, 995.0097580935036, 1647.5862886083187, 1667.6535363268413, 1720.535700960667, 5721.1565337977645, 1320.8624630362524, 3287.110786906153, 1289.2419828045213, 1538.6277730366648, 3121.3814984480446, 2053.6836255260687, 1535.5772655723667, 2137.9562914522926, 1558.1263371237624, 1221.8517352032611, 1841.6973290072506, 1874.449918072822, 1738.7247615646875, 1770.2476515403869, 2030.4718372597818, 1845.448908786275, 1310.0239128893245, 1036.4582173575052, 954.5597314439476, 855.9085893597586, 807.4831278712429, 781.0783980849004, 822.6852183839238, 670.864379028985, 648.2962441097775, 601.0936967691116, 548.7013329455726, 539.6242153991905, 524.7588736847832, 469.7505548199157, 457.59683880852555, 424.35016535273945, 395.5011731973503, 392.0541957950027, 391.25877962334954, 357.35333573834527, 320.48016257466605, 315.38474909857223, 251.837581332216, 235.57509748785841, 278.4058572438495, 197.72118818996844, 188.97440659937735, 188.69339733314737, 176.43161374073458, 171.87038631504674, 165.89160378697113, 1737.6464677449476, 542.3165652907917, 831.1444287299307, 459.9714547254934, 286.7232020919121, 459.41502878822183, 1164.6157425194885, 571.4742314166092, 478.77894222022354, 449.23960011478607, 729.1871680742044, 1086.9921617999598, 603.6681174701747, 914.9890632010938, 1205.1213435419606, 1914.9098122420917, 687.2396468763073, 1628.0122143902233, 1076.947562569963, 1408.583684890452, 1164.8006710003829, 1069.344914103002, 5664.434534273053, 1451.719595281903, 891.6540716296615, 1620.0586492171778, 2553.8453196615023, 1053.2155713080947, 966.7471894463074, 1302.300216300836, 1181.8940280698878, 1266.1161254322956, 1472.890177947513, 1455.8540890527365, 1865.5889389799554, 1076.8525630196973, 1271.977016053801, 1083.9482986587875, 1812.078093402717, 2029.1559432929264, 1102.7423266410979, 1187.1351845765896, 1107.1109637304833, 1030.7003683485875, 940.5160476325982, 854.7419181068778, 711.4327714613975, 442.4870384490074, 400.65249495432306, 386.47567518252174, 385.2208068191791, 381.3419382359325, 378.7778643935288, 376.2492507261087, 373.3357425645726, 359.4902183755552, 359.417505243507, 356.99883130075733, 355.423028580481, 351.62678615961266, 350.21475935532027, 343.6531242101337, 340.12279355497895, 331.90180677165506, 329.6069138858185, 284.6632907961196, 479.00479667374833, 121.58458249063906, 349.8242228705377, 110.79104569669043, 103.65349249021766, 98.96017355336936, 107.80361163875725, 1418.9442012228951, 693.4669331259364, 516.8944022926144, 364.56774633101793, 361.67746524320717, 1077.862031974623, 836.2046041186694, 1028.5311020306297, 4501.225289691332, 1357.359078466715, 875.6684305912696, 605.7676192896921, 4255.715805890019, 1598.7986305709476, 787.0623908531392, 1080.1251557074074, 770.2361819034344, 1275.6393256170784, 749.8970164660949, 848.3935185715557, 597.9080626467776, 811.77757916344, 2738.111010272371, 621.7071920425942, 640.7052510256086, 2002.261285072728, 1797.6213270821397, 4340.32119968561, 1349.663719570862, 1033.0726408727712, 1576.23773357534, 850.6600169529629, 1628.1120940033636, 1926.5803604761402, 1489.7084736913437, 1260.0734424702862, 1355.430150405375, 1103.2966531882348, 1194.8253495494027, 1592.316879686133, 967.8114711884737, 905.6643639787982, 923.4309398588495, 877.1132547618666, 1131.2408245342135, 663.5181826320644, 564.5756065277255, 557.9414585746334, 421.3311085139784, 415.94899501192293, 408.8607811138586, 272.71408477524466, 266.1938899102658, 233.78814647763477, 230.9053865774547, 225.50811425846703, 222.6536810876233, 221.9880728045184, 204.3934889668629, 189.0852494106664, 180.78485408027413, 179.53503756673797, 170.33248305998507, 156.5544282742703, 155.94129953595927, 155.81541848475314, 152.74607240933906, 120.91271402849519, 119.72568086388884, 115.08791242620394, 146.31755520505757, 108.3948144886021, 107.28391595811523, 105.0523128191376, 1022.7214388000157, 323.25834811945833, 726.112360703578, 340.2041241139729, 264.63289851182515, 197.18597797379448, 765.8178429083313, 234.80845012006225, 423.79595310403596, 201.2463404381853, 323.1941152523196, 667.3472159615667, 258.01614477724047, 373.4374201953907, 451.15402006715834, 629.0178329952763, 366.8807079499912, 462.4632309896849, 779.8524624170302, 1265.6420389881296, 353.61967709892656, 643.7916718623901, 738.5054270367534, 1215.3358633757546, 955.9076608300244, 628.4924437687938, 780.2568605332524, 502.11904536568807, 838.5277719582363, 795.1692942980316, 1308.3180904611906, 1008.1252445018349, 472.9228146728691, 637.8817590915287, 679.305706257254, 580.8418553715143, 733.3478666085615, 493.1521510843758, 480.11357761819795, 482.65501964035735, 478.9533692724946, 1457.3359731354128, 1195.1274279124448, 928.0316967321751, 725.0160383833785, 770.0420714011777, 583.0214758167529, 558.5317161183797, 526.5133800882924, 492.8313370288813, 477.9299089239631, 463.0974686122285, 455.92756402779827, 426.01698321696267, 250.16641823074337, 212.8600059099602, 222.1291475025589, 147.57031471603338, 167.03275902649042, 98.61177505780093, 95.50203691982871, 87.28410087444381, 86.59606909482022, 85.80719529919806, 79.94258510589005, 78.93792202759866, 74.55005546635992, 162.80456843726807, 72.07180664794078, 71.41500560990276, 71.3195239130459, 478.78947091612196, 1308.4498215274677, 484.3419842197038, 470.76525129845106, 1052.3577405258807, 1011.2325947433055, 986.287969050815, 505.34922068499003, 1068.0851436081543, 442.3450335408273, 476.6872865421414, 913.6074827797294, 1571.715402252003, 523.7959088095663, 1276.3599390020083, 1611.196371352339, 731.2025268342725, 1680.7557591716218, 1495.143874890824, 575.6912798762355, 691.3909345448203, 535.6786189388569, 1104.2335164681951, 1199.648363181803, 595.5144850009532, 734.8972927944636, 982.3201021177958, 552.9488222748888, 681.8572101904767, 857.5275324212657, 977.562276369872, 690.2888788401896, 688.6059005728638, 480.59737144603275, 232.0733102153823, 217.7285820978743, 144.73931976266303, 121.60435387475631, 117.55743390254712, 114.38859268127712, 113.09878292883731, 107.21065310568817, 106.77518672440185, 102.59843881959429, 102.0625376977817, 98.00419923168543, 87.23968672332514, 84.39958839873441, 82.65074833407976, 81.57435811903689, 81.3341788440139, 79.78153799354271, 587.4446832756661, 72.58678957199746, 70.256017796359, 69.2507377093132, 68.85220141185987, 68.95811565786109, 66.24163195928513, 65.46515380110094, 63.05395879554431, 62.17026338004445, 60.86682001448302, 1119.82910099376, 569.5135468162896, 2631.2511224757195, 221.66485583562454, 283.0968467208151, 1319.5392037264646, 265.6500738567879, 543.2060501277067, 198.24015509502036, 1623.0674324486233, 468.73470157572416, 351.3948842785973, 503.47254430965705, 486.73869694144076, 811.0187112892102, 252.16525091135978, 978.2982614281432, 528.5543325445163, 1249.293562014941, 2943.957817760438, 214.65133571405522, 731.0054224464626, 563.6584449009845, 995.8719613101055, 1457.1610093487573, 1372.2956355528358, 361.13238384277776, 716.1010578273563, 1281.5959531590058, 367.64477952872153, 550.1720309101618, 701.2442599791814, 481.0182852483231, 1811.6959588724383, 473.98240819577967, 1203.8544028213983, 605.564934682448, 633.8475770691869, 619.8022672358289, 641.2867566974128, 503.88544802134066, 516.3880473220343, 505.63049563727486, 651.5972193962253, 600.4811793012311, 377.62422183957517, 233.3388613327853, 206.2681435931498, 155.73635553095002, 146.00029431385792, 139.2814713657932, 138.6634917626807, 135.11706468268812, 134.57750976225134, 123.23504639567703, 110.40358084083952, 109.20362285264416, 109.02867051025298, 96.38111180609238, 83.086727266953, 81.30966145654497, 74.0851835676667, 70.89967381682233, 70.77739251715153, 68.100721891475, 67.94911484655798, 67.11017116774497, 64.78568965014392, 64.54060443509611, 63.67623038377489, 61.438589278056746, 60.93192682036628, 59.035602260918196, 151.06069060461434, 517.8804415387241, 255.2863503655223, 251.45892844489566, 392.32211510279126, 436.81737926643774, 102.82996333347045, 110.78942209016209, 160.86734265657986, 274.151074817697, 136.07700736696495, 242.01204073485022, 310.803698304466, 219.35834163709515, 295.4436024513689, 215.9319653113881, 173.5389201320628, 341.40001392491683, 747.6452795271128, 566.5303389329905, 234.26114335947057, 536.0706576868635, 394.61011588898276, 416.2018383205626, 335.6921668154505, 719.9222942838051, 306.35577529463916, 313.8043960557815, 385.7237092787855, 339.065397972848, 648.5018689363878, 539.3735458477637, 484.66466824294946, 383.1485176925565, 399.3452512500103, 375.37742687731225, 357.6925855048656, 701.8527646492639, 399.65080364104534, 480.5227933009099, 359.0637567086469, 357.53442151856245, 347.1491961652906, 332.22393813092066, 337.5739712787313, 919.8642605776597, 616.5251785860121, 590.4013237898492, 546.9277682337121, 359.0411966630732, 341.5141317488304, 287.74723229708087, 297.10243130265286, 274.81574356559577, 266.66552621884017, 717.9260696281215, 86.31943457296002, 71.92969830545769, 54.15165297783045, 53.95947131535967, 53.01244808251135, 50.22549978875459, 45.56620426668911, 43.45310293537638, 41.75849485983373, 39.77768691741622, 36.159650737135536, 35.7986209335748, 35.272601926166274, 33.87754163699401, 33.28773741216328, 30.66501819016459, 30.594997355833033, 29.731842030217372, 29.39390250576876, 385.0327276650572, 244.24416334567343, 356.97006982575493, 331.4282937786176, 322.3800057055918, 540.5639829189375, 109.8906847310801, 257.044098550164, 289.5932789550852, 1479.2978030322345, 353.55373216170835, 258.42684976703003, 314.05428906196124, 599.2235587144862, 935.2477124585084, 287.81142798583153, 361.6213079476693, 375.94665595962493, 460.5399116375825, 279.10931420155964, 429.8687642490012, 819.6420404889678, 445.2229054364701, 679.6199528284816, 483.17032097051737, 508.0886265425701, 427.2980583321285, 420.5892743995655, 350.2591777935297, 350.2082185382348, 366.5318828684078, 334.30574846652394, 339.779935994055, 615.0776592803402, 464.73259853107567, 222.18156087078893, 147.88312271582768, 609.7743566356003, 107.69391803669005, 78.38703467876064, 74.38696948599433, 63.44455768716807, 56.39161416700398, 55.863515823576265, 55.48337063476718, 54.75380375708864, 52.86967887867662, 52.640384345293484, 52.45325344434782, 54.22271952755047, 51.55405211290626, 50.12349755317784, 46.55225863705492, 45.049174329001204, 44.52536459419545, 43.76913225484323, 42.29660620464067, 40.12177822135891, 39.56822106778734, 38.586221921499074, 38.23975537602595, 38.13607557260238, 36.69081830983843, 808.4934777330997, 187.49068292919125, 89.13545610854965, 566.084471412121, 259.65268690798734, 59.669529161877065, 555.0318508259567, 492.25276914317215, 183.81065707625893, 335.3415872806044, 648.521858678296, 112.9572628387317, 272.37519024058946, 495.16367377385075, 354.7416233225385, 99.43334306267599, 108.30147861048071, 427.71474307109804, 228.0034162462173, 387.9338554354359, 296.8519551240813, 164.12133209430536, 305.45625669917115, 209.55077842581147, 680.2622968588362, 149.02847327367743, 385.20670000714796, 309.60759910252204, 194.229670324081, 216.86064265084914, 176.99499735231407, 180.64551019967587, 169.4233589164086, 169.66173792181894, 635.3415780436501, 427.63337777386505, 387.4367958240759, 372.5756227111473, 365.91256354760316, 343.2235903912267, 333.85933019607154, 330.4746162997727, 330.22973129745975, 321.01913907631695, 320.8684794636134, 227.70064962782627, 110.29740619041586, 107.93935597759469, 92.96775184990348, 92.30755927507023, 77.25324717022588, 77.18964338532635, 72.04041029743745, 71.81282337265063, 67.46158557050022, 64.91473872670373, 60.99286764545332, 56.203001980928256, 53.625994668096894, 49.72493507904, 47.81743637962074, 47.28285386885501, 44.00799182286972, 43.43658158976681, 645.2238033961366, 332.4996606786559, 864.9083559131878, 303.9232146465488, 739.7379517736035, 282.5989835000139, 124.56060710638552, 311.95637377730213, 92.03603270810011, 272.01152798842725, 283.0441990148898, 100.99369750116796, 141.72429652154983, 411.9714974582516, 263.38631456854523, 314.0065390710567, 167.80446143251794, 137.24654834282342, 181.72677329038976, 153.11018649570838, 197.1474467096701, 140.71732991905097, 142.0564569400835, 150.78713296726153, 145.2884053955839, 109.200689121697, 105.77919594591529, 100.7742084377834, 97.38418801343649, 86.68230448360794, 79.38767020844536, 73.03716107422628, 67.6469480725686, 64.34318660401703, 62.17635983037209, 60.63705691477073, 57.4684978926186, 57.40297749554618, 57.302532020735164, 55.4960510303885, 55.32268438774688, 54.96299462844932, 53.42565568470014, 53.02977390131258, 52.769660385025084, 52.61189891330071, 52.09186868792594, 50.69130664817793, 50.65269553558525, 48.29220227662625, 48.19468840906847, 48.03857109749592, 47.471516251719166, 123.78300381761449, 120.05883756849825, 430.6494809683869, 95.2615567566904, 120.03106315236755, 103.75892083388233, 121.39433842797435, 194.60268076488984, 108.51373358933772, 126.99730001306717, 125.68448118341614, 73.30839419732607, 90.22271841012108, 118.0702402154003, 149.90625674028792, 72.82644616519339, 94.05432498995607, 97.99800507001493, 271.07858687569524, 266.37741940176227, 264.16123331061567, 258.5609228676843, 257.11940648103564, 254.3840736116519, 76.9138730206973, 63.047965369447255, 59.06690592229134, 51.750398672841804, 51.37620540534455, 46.71229920043169, 43.71512109560328, 39.96998616355586, 34.86820773540557, 31.730216260839544, 30.877055760409366, 28.465715080576118, 27.093899163408643, 26.916833403775993, 26.29528913093122, 26.088810808212738, 25.28281167029134, 25.139229487843743, 25.077194631418536, 24.344064590749046, 23.047079480243386, 22.700538842247074, 21.448673048169216, 20.663032717333273, 276.8939156163095, 276.28240034928604, 304.5752869625549, 273.52922152915625, 329.0552980154103, 289.4318468849668, 289.5406563669028, 312.0648468746728, 288.8558740558614, 73.79822261386806, 273.1058809019095, 262.8843361044674, 274.49376975817546, 264.07152527344806, 308.0095115043739, 312.8315053315996, 258.2111183188889, 285.491359324997, 292.97368520012907, 324.334192100694, 276.04618811679745, 311.46809860876925, 308.48044133361026, 324.3166749698109, 277.9958208699156, 288.8275656549291, 796.7799839703514, 363.6745166864595, 318.09195532789767, 297.6809649992462, 295.45804430085815, 289.4780890362736, 288.8522712508554, 283.1795506024816, 165.69382730459887, 88.10420518852808, 68.13492754108431, 49.17110652099183, 41.93199669720677, 41.894230154282816, 40.20431106429587, 38.075433490816955, 32.854078085738585, 32.33435840277015, 30.95500299040732, 28.3072494393869, 28.10715683234065, 27.385376849669274, 27.284546901105546, 25.150887376867914, 24.907536991576695, 24.32258886904245, 23.75264440301551, 23.222628653820177, 21.284933300073646, 21.2808849440336, 107.16006160061549, 36.13378702165585, 261.49159638007546, 216.0268906595909, 183.8349811930883, 254.96855794224265, 197.55323103234045, 141.01417943886267, 68.36780739902645, 179.3786492488343, 48.66499194553489, 256.59096629798347, 174.3203635126613, 168.8303522795207, 74.2794139439747, 152.84434809349912, 114.06289904141154, 89.58854901620296, 90.1152557241137, 113.426933910723, 77.80004510956468, 81.03341030738731, 83.3138631358366, 76.35176611386794, 1068.1150326941004, 842.5397019413705, 407.7118695823685, 292.41614406004146, 144.80690164392436, 137.64528545545707, 135.5010307450094, 132.87754029217632, 44.0440586209993, 36.44462323135547, 33.0133412857316, 30.235888593244145, 25.96267794022079, 19.932995888832817, 19.88597792074536, 18.415476948004194, 16.306985635799407, 15.826083486156342, 15.605444269759225, 15.43989073106958, 14.35691448997495, 14.32032823132066, 14.116717398604417, 13.651334672139221, 13.306337802955445, 13.170303806901078, 12.946708728802724, 12.313970445316803, 12.084133810103594, 12.036594084157521, 175.29806314261245, 148.78840598261863, 134.64947594989235, 135.30980534058014, 134.02835884584766, 312.82736665293396, 123.56329368561025, 135.43319762640374, 128.6435051499118, 150.27671682658223, 140.6767675688003, 125.31632653879208, 119.11482755591831, 107.6435466191076, 144.0896615722703, 129.74342587970122, 124.32169516577575, 134.37603805609314, 119.9196769779645, 117.09283427285173, 127.45432934890745, 141.24844869036428, 120.46688374852167, 126.94319972085619, 673.719614515616, 459.3460373151965, 350.5008828908009, 338.67109058432254, 255.04937886431364, 113.06844378986439, 99.31007698604621, 84.76205363283663, 77.29413784696233, 73.68026463556915, 52.754325262416494, 51.94243853519544, 50.677350043065935, 49.37960105711167, 47.53268686417373, 45.25000767371919, 44.69922803521627, 52.696700034003385, 43.42423074289139, 42.24316978340266, 39.91773083228808, 39.88733326354227, 39.53154611510833, 38.487693695075556, 38.4541715664512, 35.81420870396343, 34.6892832516685, 34.60934394940581, 36.066833224825515, 33.723134418339455, 78.59025426171736, 294.81850490319107, 49.260133124687435, 44.971060209729394, 86.67459265306393, 62.60500592309861, 46.12184604331225, 40.93178882793475, 409.8513300744542, 237.21044880772354, 226.88794719071814, 218.40381790614444, 210.8539926870499, 208.42054763580427, 90.61965809126961, 79.23322313172886, 52.97268516185471, 39.74605298736766, 26.40811863411775, 26.16328917557442, 25.391730637490433, 25.01801661497591, 23.852084416301263, 23.176524538539454, 23.17353674069688, 22.057943121093004, 22.028583981813554, 21.9325942669939, 21.73000994411394, 236.63951105471577, 20.494537645203582, 19.741742298660924, 19.521810410013856, 19.51472109926463, 18.68691771406927, 18.34561548357006, 17.759564304050226, 17.66799478566459, 229.74031012510105, 222.88338564040853, 206.0413481118562, 420.52374396813684, 214.78509377064324, 369.0681042153478, 186.7983913792307, 207.357643026059, 244.5353483113877, 215.6105131794163, 199.3410235943258, 321.490339806142, 206.7935575279836, 164.38776063930274, 288.9460112254524, 90.56576143857045, 32.60557620008676, 78.18429139692402, 59.66975351646686, 354.9542709636938, 330.57788998289925, 152.3292426147539, 136.72534792949406, 104.5043017207175, 83.24017727559605, 75.19592301073337, 72.60628254127094, 70.27764061403808, 66.60095823818774, 64.75244660997022, 62.680449991464386, 58.50053952387067, 57.19602733803002, 56.125355870070656, 54.73732187025747, 54.27247471935715, 53.87800416470614, 50.82604948282663, 45.63579383455728, 44.77561688460088, 43.78872785450944, 43.55788838367338, 43.25802837529366, 41.58185837014448, 40.82617938549034, 40.42281096816113, 39.04789775258097, 37.18994665265265, 37.1752661972957, 50.14889973564915, 44.344862597014945, 39.807262122005724, 409.7192277415955, 382.5645527011973, 126.48369176878948, 120.70201219028013, 91.93068315431333, 87.84725486563423, 87.31188845613867, 82.64087807294894, 74.52368972495756, 61.294952905210046, 59.12796977609947, 56.70215513504141, 48.61801930850881, 45.24109134942645, 45.06086244019902, 43.367373318160666, 42.9219299463165, 42.65532010771266, 41.04668415723919, 40.976317850730226, 38.54527949443837, 38.281678658924676, 38.237470285343306, 37.71465152607031, 36.799968254971034, 36.47011926105393, 36.34337618677857, 34.91627507434099, 34.06064125270649, 33.675678485185685, 37.5532244137974, 59.636666614805485, 41.65644199628344, 553.7820886923812, 529.1420278375607, 323.094494073221, 301.1911006419173, 66.07205846167041, 57.05883787366032, 55.44857706347345, 53.231896396783974, 51.77273599543969, 50.69302475217959, 45.3561742150376, 42.9539890393697, 39.85881276550984, 39.04161851940804, 39.03955649714939, 37.58166632847097, 35.76155432165691, 34.13250282824042, 30.99606926262037, 29.51037885594168, 28.392294456629575, 27.266981186801214, 26.7098510747788, 26.527100982788042, 26.21936100727079, 24.294611478782212, 20.89005942579958, 20.238101559759635, 19.37422710551643, 19.306030436355783, 47.080819982183776, 314.31550843197846, 150.65902826107802, 116.786929867976, 332.95521928680813, 29.86302509398076, 64.35680635148032, 46.82242702954278, 460.27713621387585, 282.0243320716435, 255.61488151691321, 250.76256836418713, 234.0325674683236, 63.434387997034506, 50.19441030416971, 41.77252392168319, 30.47365418242211, 28.630882922767416, 28.507846541708226, 27.691225912328665, 26.553273000062728, 24.879077104934904, 24.726335091559, 23.418599511094516, 22.04112777092788, 21.31276380801635, 20.817317894553664, 20.728631112844575, 20.716998837785713, 19.197148306412583, 18.56632042690237, 18.16568937269214, 16.88232982826534, 16.247746957529372, 15.844689584917244, 15.52133980603631, 13.752846467515322, 13.60229016352033, 52.37025258593821, 32.27247277472094], \"Total\": [7203.0, 11526.0, 3163.0, 8655.0, 2962.0, 4423.0, 3839.0, 15880.0, 5151.0, 2582.0, 1572.0, 2926.0, 2446.0, 6059.0, 1936.0, 2442.0, 1952.0, 1069.0, 1357.0, 1781.0, 2010.0, 1606.0, 1826.0, 1270.0, 2953.0, 4130.0, 2560.0, 2147.0, 1397.0, 1478.0, 1740.1887309471963, 1480.6618079508014, 1006.8231459656716, 741.4701360456445, 717.1710905739848, 627.2717946620605, 602.4985569250034, 532.7674578019447, 529.4120002000931, 523.6484526357305, 501.4451614674736, 492.1943476882952, 478.5423832592234, 404.961572701814, 392.0488429633055, 387.46855810761997, 386.9064473778625, 370.3727092915731, 347.2648136704298, 346.96689751521114, 338.2096056181516, 336.30137584265077, 320.1385697672414, 317.5709290528981, 316.18218198478263, 308.84735057121463, 307.7751524179467, 300.52577008625497, 298.3200137422523, 297.90086669313575, 2831.4407021798793, 1186.6868335671256, 1100.6110019336998, 1624.7503920331878, 2233.182150182116, 449.62128080454534, 718.4513055704408, 861.7351039284267, 1534.4914630602032, 793.7160926027842, 737.2727482917898, 877.5391130072887, 2263.059939683469, 545.4494474649183, 1491.9657474964479, 886.2216192681243, 983.1440236376842, 4423.605646475292, 938.986599069568, 1307.5120862305967, 2931.1207669219566, 2095.8734147241703, 1606.5843285627197, 1191.2407510928815, 2302.435068757891, 2391.762487655244, 2619.2589620460094, 15880.577597626234, 1839.4603444351706, 7696.718261877666, 1794.3252924390424, 2528.5115834539297, 8655.134895213778, 4348.435397831136, 2763.8997545212733, 5260.871869674591, 2870.341488790662, 1801.5818817942206, 4373.765357539048, 4781.701445896125, 4124.407398572521, 4540.0947987980735, 7203.609680766863, 5850.034310072845, 3328.020378253697, 1037.365968959134, 955.4674806204373, 856.8628248504359, 808.3909288494646, 781.9861471519754, 823.7755740435533, 671.77212809606, 649.2039931768525, 602.0014467589848, 549.6090820159379, 540.532653325035, 525.6666227554549, 470.65830750137854, 458.5045878853902, 425.2579150349135, 396.40892238770624, 392.961952494057, 392.206904312416, 358.2611952685268, 321.3879201348762, 316.29250987006367, 252.74533048896794, 236.48284655493342, 279.64087917121265, 198.62893725704345, 189.88215566645235, 189.60114640022238, 177.33936280780958, 172.77813538448166, 166.79935285640605, 1761.2500845359907, 554.0754456419614, 860.1935264132428, 470.5016110259076, 291.7510726832956, 475.43546310736156, 1261.4683398705363, 603.4140884761352, 500.15799930743003, 468.09897382828854, 800.2227395163043, 1248.2838668435877, 651.8476030591586, 1042.3240111397904, 1440.5302879819676, 2456.417042060206, 759.565774076731, 2095.2865662713066, 1303.6873230324195, 1882.1481744220748, 1493.3250450122061, 1352.9178774994198, 11526.133983728942, 2072.6704613867273, 1104.7852859298682, 2582.1971707669773, 5131.164769158495, 1466.7951202746206, 1304.8565601814505, 2124.73945142617, 1859.9559123630615, 2114.7104847007854, 2957.9030899098007, 3331.1140492938575, 7696.718261877666, 1853.3417270852085, 2953.583244675606, 1887.466503213198, 8655.134895213778, 15880.577597626234, 2560.855626368767, 4781.701445896125, 3533.9968330861316, 1031.621679387776, 941.4373666287199, 855.6632374102339, 712.3540823511119, 443.41262611652553, 401.5738055540279, 387.3969865858533, 386.14211734992614, 382.2632627798809, 379.69917511294284, 377.17056127170207, 374.2570532435023, 360.4115290301664, 360.33881586089484, 357.9201439573911, 356.34433939540156, 352.54809839237976, 351.1360700344907, 344.57448942564645, 341.0441042297575, 332.8231178927372, 330.5282246017854, 285.5846410693872, 482.22123410982175, 122.50589308055261, 352.65584638042014, 111.71235622743752, 104.57480302096475, 99.88150936124366, 108.83575376323857, 1446.479338454931, 714.6730584456634, 532.5376384916684, 374.248189198978, 373.0969792217185, 1158.348110494479, 895.3166483011398, 1174.640710812176, 6059.235752714748, 1645.8209557020473, 1009.0123079322409, 675.9155859053243, 7203.609680766863, 2260.2399073650963, 949.7653309306645, 1420.7101674475055, 947.7292282642493, 1853.694437911538, 936.3084299057641, 1114.8292745342515, 701.7831344163184, 1070.1281520237083, 5850.034310072845, 754.5742461909871, 813.8215919376413, 4348.435397831136, 3839.070323535326, 15880.577597626234, 2631.2206547520495, 1886.4436773059822, 4540.0947987980735, 1395.2509805219, 5131.164769158495, 7696.718261877666, 4781.701445896125, 3533.9968330861316, 5397.602105790798, 2870.341488790662, 4124.407398572521, 11526.133983728942, 2997.7724065626553, 1818.3176714921794, 2957.9030899098007, 1985.1626453723231, 1132.1313416287057, 664.4086991055751, 565.4661234151322, 558.8319755421796, 422.22162498748907, 416.8395114854336, 409.7512975900498, 273.6046013967979, 267.0844121329746, 234.67866295114547, 231.7959030509654, 226.39863073197773, 223.544197561134, 222.8785892780291, 205.2840054403736, 189.9757658841771, 181.67537056402145, 180.42555404024867, 171.22299953349577, 157.444944747781, 156.83188153794183, 156.70593496362488, 153.63658888284976, 121.8032305020059, 120.61619733739956, 115.97842889971466, 147.45631297461594, 109.28533097005096, 108.17443243162595, 105.94282929264831, 1055.6169274058673, 330.60605366344964, 769.5433635489265, 361.3548021165261, 280.4730735875619, 207.4034611372797, 952.0397025575771, 252.76602663326872, 499.45883871062347, 212.17761617914846, 374.32947524933263, 916.1000348530825, 287.9268675558928, 478.6942444284328, 628.2438788049479, 996.053812453736, 482.1449558923199, 689.833562859691, 1547.8768266534137, 3328.020378253697, 478.5476103994875, 1390.0747031525639, 1962.9442859364633, 5260.871869674591, 3398.231575395709, 1664.4512674790817, 2904.6904994836696, 1203.8095102760833, 4540.0947987980735, 4130.657199004657, 15880.577597626234, 8655.134895213778, 1053.7081217627833, 2962.3527945143387, 5151.031132345196, 2616.6182248448176, 11526.133983728942, 1359.035544127837, 1268.2423502167396, 1598.676958397576, 4373.765357539048, 1458.2402325558292, 1196.031687307464, 928.9359561778235, 725.9202979496512, 771.1539716765266, 583.9257352136477, 559.4359755473463, 527.4176394900215, 493.7355969009238, 478.83416904888503, 464.001728061359, 456.8318234884725, 426.92124432780486, 251.08337211360544, 213.76426529236284, 223.45642366310096, 148.47457409843602, 168.34688107110222, 99.51603444256352, 96.40642997721618, 88.1883602568465, 87.50032847722291, 86.71145483975158, 80.84684448829273, 79.84218141000134, 75.4543148487626, 164.78306478649532, 72.97606603302398, 72.31927024233835, 72.22378329544858, 486.22740672674144, 1343.9937525262264, 505.28330650600753, 491.0394785757192, 1124.0737233279615, 1084.760437488502, 1082.7056615876609, 541.6073653064503, 1196.6088486835756, 478.76641019738634, 522.416491587181, 1060.7649619964832, 1966.7965739293963, 595.4182665089584, 1602.5824665787823, 2093.2970515768898, 925.4222044562301, 2953.583244675606, 2517.3600467361703, 691.588220355154, 997.9969088685928, 659.7874094155312, 4130.657199004657, 5397.602105790798, 927.7172721390785, 1781.1471673178758, 5850.034310072845, 778.4274466949885, 1875.1333462259724, 5151.031132345196, 11526.133983728942, 3398.231575395709, 4373.765357539048, 481.4896002111698, 232.96553557954223, 218.62080736797327, 145.63154497109673, 122.49657908319004, 118.4496591238541, 115.28081791973302, 113.99100815385174, 108.10287839324607, 107.66741990792688, 103.49066404213363, 102.95476291474282, 98.89642444011916, 88.13191196596645, 85.29937048978285, 83.54297354706476, 82.46658332747062, 82.22640407035607, 80.67376321286443, 594.6140294773679, 73.47901478043119, 71.1482430156576, 70.14296291774693, 69.7444266202936, 69.85389384660748, 67.13385717784836, 66.35737901408594, 63.94618400645242, 63.06248859631979, 61.75904522291674, 1196.7002403036508, 600.82037915718, 2926.554675712888, 231.37492121514202, 299.91920961657934, 1501.4751059786734, 282.8485613303889, 611.6173270570969, 213.18757878523115, 2010.1292106500916, 540.6426798168446, 399.7033502421351, 591.3916225607109, 581.4798782859448, 1025.7398368266327, 286.21620594570834, 1323.8306817075627, 674.0705725955046, 1840.2473711015414, 5151.031132345196, 243.24479801094225, 1055.3691061083437, 778.841726909197, 1572.5820252793628, 2560.855626368767, 2522.6522996478916, 479.20564871996766, 1244.6990282503557, 2904.6904994836696, 518.5065998095033, 1033.968370070167, 1604.7328417320266, 840.3875329259889, 15880.577597626234, 935.6188178543355, 8655.134895213778, 2000.9486951387212, 3533.9968330861316, 4130.657199004657, 11526.133983728942, 1338.616965344682, 2763.8997545212733, 2147.582470147928, 652.485251096465, 601.369210815421, 378.51256517049126, 234.22689276678068, 207.1561752925169, 156.62438799480643, 146.8883257630779, 140.16950279978857, 139.55152320122733, 136.0050961458756, 135.4655412047741, 124.12307783203234, 111.2916122748349, 110.09165428663954, 109.91670194982659, 97.2691432483918, 83.97475870871797, 82.19769289054035, 74.9732150097147, 71.78770525081771, 71.66543585233939, 68.98875333323997, 68.83714628689009, 67.99820260410027, 65.6737210978196, 65.42863587145142, 64.56426182629096, 62.32663634442399, 61.819958257579984, 59.92363369491358, 153.35186103843057, 540.2597602743343, 281.3389627736475, 281.5793022447716, 461.19367527143623, 530.2714642158679, 109.10990064636411, 119.31254215288834, 183.12097376468256, 338.7691986072095, 151.7649611324019, 304.62512124002893, 411.9457894957398, 274.644750489134, 401.36148892896165, 273.40476022729257, 213.64369515525658, 536.9391176571147, 1597.1203847798565, 1217.7670723979472, 336.787096202328, 1294.6620483879974, 811.7524019260522, 896.1075250154203, 625.8347511712195, 2517.3600467361703, 567.1161945432365, 598.4440294358271, 931.4412967491309, 761.2551924399501, 3003.4119511392087, 2114.7104847007854, 1743.9921923008037, 1035.786781691966, 1147.8937039874097, 1138.9802400054646, 1033.968370070167, 11526.133983728942, 2057.3755637801173, 8655.134895213778, 1962.9442859364633, 1952.1455105981986, 1840.2473711015414, 1979.4180194774717, 5397.602105790798, 920.8146528106745, 617.454949229991, 591.3310944161806, 547.8575389006601, 359.97096729936715, 342.44390331204966, 288.67700294218423, 298.08800973277033, 275.7455143719645, 267.59529878316414, 723.2115673790214, 87.24920519929138, 72.85946900258662, 55.08142360416181, 54.88924194169103, 53.94221870884271, 51.15527075664422, 46.495974893020474, 44.38287356406766, 42.68826548616509, 40.70745754374758, 37.0894213634669, 36.72839156226608, 36.202372552497636, 34.80731226332537, 34.21750803849464, 31.594788816495942, 31.524767982164384, 30.66161266212696, 30.32367314062749, 401.19226785113443, 256.4340106105038, 406.00984722038083, 389.9479640856636, 393.29190001855915, 826.1294190817963, 136.23829615071122, 376.54722387336597, 436.8978392920481, 3163.037243725617, 565.1165719958211, 423.9474086933761, 546.8893203505878, 1332.0560306256482, 2446.6998829651307, 510.6198989283959, 696.1450983162044, 846.9347598985179, 1172.7690947820126, 550.8434876810287, 1188.5223748500616, 3839.070323535326, 1387.452401584682, 4423.605646475292, 2616.6182248448176, 3331.1140492938575, 1853.694437911538, 2442.6465461002335, 1573.6828460396407, 1818.3176714921794, 4124.407398572521, 1261.7967869129502, 5397.602105790798, 616.0002578986292, 465.6373113172218, 223.08627364346032, 148.78783548454538, 614.6367624690038, 108.59863080540778, 79.29174744747837, 75.29168418015949, 64.34927046441318, 57.296329582681935, 56.768228592294, 56.38808340348491, 55.65851652580638, 53.7743916529726, 53.54509711401122, 53.35796621969621, 55.16433953571822, 52.458764884914345, 51.028281185554846, 47.45697141032392, 45.95392502094297, 45.43007825210913, 44.673845023560965, 43.20131898467877, 41.02649099992561, 40.47293383650508, 39.49093469021681, 39.14446814474368, 39.04078835542643, 37.59553108310743, 831.7724443483979, 204.18497106734023, 94.97682469675043, 710.5355073293786, 327.2148800303824, 64.85060930615042, 1054.5721768201547, 909.3539919203517, 283.4506787413029, 647.1899457256029, 1604.7328417320266, 154.9494898390549, 539.0147918228672, 1338.616965344682, 841.2053819573503, 135.39055841354624, 158.3608802898102, 1294.6620483879974, 548.1746724390762, 1455.2999512958772, 937.9150958237602, 353.02604891044246, 1187.5266430218576, 650.7590444260899, 11526.133983728942, 364.45559324798904, 4130.657199004657, 2582.1971707669773, 1119.8875658345764, 1866.2730959976766, 814.743556071046, 1385.3676052357291, 1053.0625993403949, 2962.3527945143387, 636.26529671315, 428.55709638918637, 388.36051447642166, 373.49934135320166, 366.83632773289344, 344.1474327797505, 334.7830488459218, 331.3983351771331, 331.1534502998468, 321.9428576939982, 321.79219808129466, 228.62436824314761, 111.22112480573722, 108.86307459291605, 93.89147046522484, 93.2312778903916, 78.17696578554724, 78.11337993585148, 72.96412891275881, 72.73654253372433, 68.38530418582158, 65.8384573420251, 61.9165862607747, 57.12672059624963, 54.54971328737196, 50.64865369436138, 48.741154994942114, 48.206572484176384, 44.9317104381911, 44.360300222040685, 690.8513047966412, 358.77681310020927, 1033.8822384289501, 343.86994740594866, 1270.9791047822537, 435.5819426317709, 161.66944716955726, 614.5110606362401, 111.48202019944831, 578.0713528515837, 731.7770138888715, 136.11149569261121, 257.8511483408431, 2147.582470147928, 1011.5386708414858, 1497.9600252398704, 889.2807177062883, 470.15823937760365, 1644.0895214098066, 1098.4247322072106, 15880.577597626234, 610.3804787942191, 1180.4688792437328, 151.68892542997293, 146.1901979258452, 110.10248158440841, 106.68098841420493, 101.67600813848875, 98.2859804761479, 87.58409702742037, 80.28946267968415, 73.93895353693769, 68.54874053528002, 65.24497906672845, 63.078152293083505, 61.538849377482144, 58.37029035533001, 58.304769958257594, 58.20432513152748, 56.397847117166556, 56.224476850458295, 55.864787091160736, 54.32744815808558, 53.93156636938504, 53.6714528477365, 53.513691376012126, 52.99366115063735, 51.59309911088934, 51.554487998296665, 49.19399473933766, 49.096480887871465, 48.940363591379295, 48.37330871443058, 130.94942534826646, 128.35520490948178, 629.7122930557465, 121.32292938460334, 186.25047078140113, 173.21062471790802, 230.54207564742714, 539.4198510157602, 211.6660119823433, 288.4949790034208, 303.58806870659885, 111.82501826932435, 204.27728172586973, 425.612804987794, 898.0417577411982, 122.20429969459514, 626.0699833981366, 1217.7670723979472, 272.01054702072196, 267.309016016759, 265.0928302065004, 259.4925199293659, 258.0510030733558, 255.31567020397208, 77.8454696086048, 63.97956196856266, 59.99850251019885, 52.68199526310923, 52.307801993252056, 47.643895788339194, 44.646717683510786, 40.901582751463366, 35.827874867051776, 32.66181286122812, 31.808652351683804, 29.397311668483624, 28.02549575506892, 27.84843000021088, 27.226885718838727, 27.020407398800767, 26.214408258198848, 26.07082607575125, 26.008791219326042, 25.275661178656552, 23.978676068150893, 23.63213543410827, 22.380269636076722, 21.59462930524078, 363.8066939784312, 394.16260916301934, 482.00007408873927, 449.6989655055377, 573.1769877133245, 579.8786290749098, 626.0699833981366, 712.5000699975512, 661.6974688062568, 110.0219682067561, 805.243644352121, 772.0642876901059, 838.3040262763648, 867.5147469692879, 1147.8937039874097, 1238.7383165156532, 927.7473132618574, 1273.5278498159569, 1936.8185581494229, 2442.6465461002335, 1743.9921923008037, 2582.1971707669773, 2962.3527945143387, 7203.609680766863, 8655.134895213778, 11526.133983728942, 797.7108352082425, 364.6053679239524, 319.022806555776, 298.611816229536, 296.38891136492924, 290.40894026623135, 289.7831226221676, 284.11040183513126, 166.62467853011736, 89.03505641404657, 69.06577876660278, 50.101957746510315, 42.86284792272526, 42.825090671635806, 41.13516228981436, 39.00628471633544, 33.78492931125707, 33.26520962828864, 31.8858542159258, 29.23810066490538, 29.038008060333517, 28.316228075187755, 28.215398126624027, 26.081738610913774, 25.838388217095176, 25.25344009724145, 24.68349562853399, 24.153479881698576, 22.215784537867584, 22.21173616955208, 117.19009728884467, 40.295736989542704, 392.3262757481746, 315.5693018402961, 312.59371517474983, 606.603288899024, 440.68920475014903, 313.5084475719461, 116.79726976471098, 785.7644898338356, 77.9195637077763, 1781.1471673178758, 1397.5757894977928, 1455.2999512958772, 221.67727797380218, 1478.1076285699494, 703.0403100386037, 467.8891647137283, 587.7048267612732, 2010.1292106500916, 581.9832739736272, 731.115299270498, 870.8149409108537, 546.3801932250741, 1069.063571773551, 843.4882410767106, 408.6604086839606, 293.3646831574872, 145.7554408693314, 138.59382460560994, 136.44956991593622, 133.82607949522694, 44.992597693815675, 37.393162304171845, 33.96188035854797, 31.184427666060518, 26.911217013037163, 20.88153496164919, 20.834516993561735, 19.364016020820568, 17.255527918106143, 16.774622558972716, 16.5539833425756, 16.388429803885952, 15.305453562791323, 15.268867304137034, 15.06525647142079, 14.599873744955595, 14.254876875771819, 14.118842879717452, 13.895247801619098, 13.262509518133177, 13.032672882919968, 12.985133156973895, 199.17528428632656, 183.83434532742794, 226.1876691213371, 229.755441055448, 263.13212248792684, 1180.4688792437328, 332.25944317604086, 396.04378167450915, 435.22285339775874, 649.1823362197338, 648.5705321675331, 566.37983850137, 591.9057343241088, 546.1145877696075, 1004.0091950724343, 855.7431462926703, 804.2082935219543, 962.0473091797104, 759.1116168631572, 754.0580961942826, 1035.786781691966, 1569.1912295546147, 1248.3599118588447, 1952.625403578442, 674.6421029628826, 460.27266936188596, 351.4233712909296, 339.59357899174626, 255.97186726208244, 113.99093218763318, 100.23256538907651, 85.68454203060541, 78.21678769632756, 74.60275306974806, 53.676813663403614, 52.864926932964245, 51.59983844083474, 50.30208945488047, 48.455175261942536, 46.17249607477834, 45.621716432985075, 53.80966476638068, 44.34671914066019, 43.16565818117146, 40.84021923005688, 40.80982166131107, 40.45403451287713, 39.41018209284436, 39.37665996422, 36.73669710173223, 35.6117716494373, 35.531832347174614, 37.03825760231645, 34.64562281610826, 105.93964898147905, 641.6763714053495, 65.05823056297479, 58.67346014047954, 306.26158422318593, 594.950890699526, 425.612804987794, 312.70333852514466, 410.7910917798242, 238.15021051437196, 227.82770890069355, 219.34371666412335, 211.79375448906217, 209.36030934896135, 91.55941979416524, 80.17298483462449, 53.91244686475035, 40.6858146902633, 27.347880337013386, 27.103050878470057, 26.33149234038607, 25.957778317871547, 24.7918461191969, 24.11628624143509, 24.113298443592516, 22.99770482398864, 22.968345684709192, 22.872355969889536, 22.66977164700958, 247.46523854646247, 21.43429934809922, 20.68150400363594, 20.461572112909494, 20.454482802160268, 19.626679416964908, 19.2853771864657, 18.699326006945864, 18.607758957008382, 268.40679436462403, 296.5593622183435, 309.15580520162763, 719.8848075241089, 374.11182010467536, 931.8599919079539, 451.8754549282599, 571.643385421486, 824.8461836582129, 722.5568816303658, 642.8743671976828, 1357.4537051675968, 840.3875329259889, 698.8919882156648, 2962.3527945143387, 515.1937249948184, 48.50669735179636, 1304.8565601814505, 650.7590444260899, 355.87218271329886, 331.4958013374927, 153.24715396934738, 137.64325928408755, 105.42221307531098, 84.15808863018952, 76.11383436532684, 73.52419389586441, 71.19555196863155, 67.51886959278121, 65.67035796456369, 63.59836134605787, 59.41845880745019, 58.113938692623506, 57.04326722466414, 55.65523322485095, 55.190386073950634, 54.79591558479772, 51.74396083742012, 46.55370518915077, 45.693528239194364, 44.70663926231024, 44.475799738266865, 44.17593972988715, 42.49976980354619, 41.74409074008383, 41.340722325547596, 39.96580910717446, 38.107858007246136, 38.09317755525611, 95.45662486590356, 117.11140904452688, 62.347493110253865, 410.63874657533216, 383.4840701906179, 127.40320955938633, 121.62152963057171, 92.85020059460491, 88.76677230592581, 88.23140589643026, 83.56039551324052, 75.44320773229497, 62.21447034550164, 60.04748721639106, 57.62167258337457, 49.537536804152076, 46.16060878971804, 45.98038016435416, 44.28689075845226, 43.841447386608095, 43.574837548004254, 41.966201597530784, 41.89583529102182, 39.46479736629411, 39.20119609921627, 39.1569877256349, 38.634168966361905, 37.71948569526263, 37.38963702906435, 37.26289362707016, 35.83579251463258, 34.98015869299808, 34.59519592547728, 38.98300163718085, 502.1581716378955, 105.41456316566236, 554.7106079673524, 530.0705470152103, 324.02301401818875, 302.11961998167334, 67.00057763567106, 57.987357047660986, 56.377101262615156, 54.160415570784636, 52.70125516944035, 51.62154392618025, 46.28469338903826, 43.882508213370365, 40.7873319395105, 39.9701376934087, 39.96807567115005, 38.510185502471636, 36.69007349565757, 35.06102200224108, 31.92458843662103, 30.43889802994234, 29.320813630630234, 28.195500368755486, 27.63837024877946, 27.4556201567887, 27.14788018127145, 25.22313065278287, 21.818579074144036, 21.166620733760293, 20.302746279517088, 20.234549610356442, 50.29028716838107, 422.28622917451105, 210.06320785029766, 204.37898863160316, 1572.5820252793628, 37.28494172017292, 487.1888872527415, 340.04878053809875, 461.21318585639983, 282.9603817203395, 256.5509311598108, 251.69861801045164, 234.9686172259202, 64.37043760646205, 51.13045991359724, 42.70857353111072, 31.409703810613305, 29.566932532194954, 29.443896151135764, 28.62727634643315, 27.489322609490266, 25.815126714362442, 25.66238470098654, 24.354649120522055, 22.977177384906682, 22.248813417443888, 21.753367503981202, 21.664680722272113, 21.65304844721325, 20.13319791584012, 19.50237003901043, 19.101738990647057, 17.81837943769288, 17.18379656695691, 16.780739194344783, 16.457389415463847, 14.68889607694286, 14.538339772947868, 1060.7649619964832, 1082.7056615876609], \"Category\": [\"Default\", \"Default\", \"Default\", \"Default\", \"Default\", \"Default\", \"Default\", \"Default\", \"Default\", \"Default\", \"Default\", \"Default\", \"Default\", \"Default\", \"Default\", \"Default\", \"Default\", \"Default\", \"Default\", \"Default\", \"Default\", \"Default\", \"Default\", \"Default\", \"Default\", \"Default\", \"Default\", \"Default\", \"Default\", \"Default\", \"Topic1\", \"Topic1\", \"Topic1\", \"Topic1\", \"Topic1\", \"Topic1\", \"Topic1\", \"Topic1\", \"Topic1\", \"Topic1\", \"Topic1\", \"Topic1\", \"Topic1\", \"Topic1\", \"Topic1\", \"Topic1\", \"Topic1\", \"Topic1\", \"Topic1\", \"Topic1\", \"Topic1\", \"Topic1\", \"Topic1\", \"Topic1\", \"Topic1\", \"Topic1\", \"Topic1\", \"Topic1\", \"Topic1\", \"Topic1\", \"Topic1\", \"Topic1\", \"Topic1\", \"Topic1\", \"Topic1\", \"Topic1\", \"Topic1\", \"Topic1\", \"Topic1\", \"Topic1\", \"Topic1\", \"Topic1\", \"Topic1\", \"Topic1\", \"Topic1\", \"Topic1\", \"Topic1\", \"Topic1\", \"Topic1\", \"Topic1\", \"Topic1\", \"Topic1\", \"Topic1\", \"Topic1\", \"Topic1\", \"Topic1\", \"Topic1\", \"Topic1\", \"Topic1\", \"Topic1\", \"Topic1\", \"Topic1\", \"Topic1\", \"Topic1\", \"Topic1\", \"Topic1\", \"Topic1\", \"Topic1\", \"Topic1\", \"Topic1\", \"Topic1\", \"Topic1\", \"Topic1\", \"Topic1\", \"Topic1\", \"Topic2\", \"Topic2\", \"Topic2\", \"Topic2\", \"Topic2\", \"Topic2\", \"Topic2\", \"Topic2\", \"Topic2\", \"Topic2\", \"Topic2\", \"Topic2\", \"Topic2\", \"Topic2\", \"Topic2\", \"Topic2\", \"Topic2\", \"Topic2\", \"Topic2\", \"Topic2\", \"Topic2\", \"Topic2\", \"Topic2\", \"Topic2\", \"Topic2\", \"Topic2\", \"Topic2\", \"Topic2\", \"Topic2\", \"Topic2\", \"Topic2\", \"Topic2\", \"Topic2\", \"Topic2\", \"Topic2\", \"Topic2\", \"Topic2\", \"Topic2\", \"Topic2\", \"Topic2\", \"Topic2\", \"Topic2\", \"Topic2\", \"Topic2\", \"Topic2\", \"Topic2\", \"Topic2\", \"Topic2\", \"Topic2\", \"Topic2\", \"Topic2\", \"Topic2\", \"Topic2\", \"Topic2\", \"Topic2\", \"Topic2\", \"Topic2\", \"Topic2\", \"Topic2\", \"Topic2\", \"Topic2\", \"Topic2\", \"Topic2\", \"Topic2\", \"Topic2\", \"Topic2\", \"Topic2\", \"Topic2\", \"Topic2\", \"Topic2\", \"Topic2\", \"Topic2\", \"Topic2\", \"Topic3\", \"Topic3\", \"Topic3\", \"Topic3\", \"Topic3\", \"Topic3\", \"Topic3\", \"Topic3\", \"Topic3\", \"Topic3\", \"Topic3\", \"Topic3\", \"Topic3\", \"Topic3\", \"Topic3\", \"Topic3\", \"Topic3\", \"Topic3\", \"Topic3\", \"Topic3\", \"Topic3\", \"Topic3\", \"Topic3\", \"Topic3\", \"Topic3\", \"Topic3\", \"Topic3\", \"Topic3\", \"Topic3\", \"Topic3\", \"Topic3\", \"Topic3\", \"Topic3\", \"Topic3\", \"Topic3\", \"Topic3\", \"Topic3\", \"Topic3\", \"Topic3\", \"Topic3\", \"Topic3\", \"Topic3\", \"Topic3\", \"Topic3\", \"Topic3\", \"Topic3\", \"Topic3\", \"Topic3\", \"Topic3\", \"Topic3\", \"Topic3\", \"Topic3\", \"Topic3\", \"Topic3\", \"Topic3\", \"Topic3\", \"Topic3\", \"Topic3\", \"Topic3\", \"Topic3\", \"Topic3\", \"Topic3\", \"Topic3\", \"Topic3\", \"Topic3\", \"Topic3\", \"Topic3\", \"Topic3\", \"Topic3\", \"Topic3\", \"Topic3\", \"Topic3\", \"Topic3\", \"Topic3\", \"Topic4\", \"Topic4\", \"Topic4\", \"Topic4\", \"Topic4\", \"Topic4\", \"Topic4\", \"Topic4\", \"Topic4\", \"Topic4\", \"Topic4\", \"Topic4\", \"Topic4\", \"Topic4\", \"Topic4\", \"Topic4\", \"Topic4\", \"Topic4\", \"Topic4\", \"Topic4\", \"Topic4\", \"Topic4\", \"Topic4\", \"Topic4\", \"Topic4\", \"Topic4\", \"Topic4\", \"Topic4\", \"Topic4\", \"Topic4\", \"Topic4\", \"Topic4\", \"Topic4\", \"Topic4\", \"Topic4\", \"Topic4\", \"Topic4\", \"Topic4\", \"Topic4\", \"Topic4\", \"Topic4\", \"Topic4\", \"Topic4\", \"Topic4\", \"Topic4\", \"Topic4\", \"Topic4\", \"Topic4\", \"Topic4\", \"Topic4\", \"Topic4\", \"Topic4\", \"Topic4\", \"Topic4\", \"Topic4\", \"Topic4\", \"Topic4\", \"Topic4\", \"Topic4\", \"Topic4\", \"Topic4\", \"Topic4\", \"Topic4\", \"Topic4\", \"Topic4\", \"Topic4\", \"Topic4\", \"Topic4\", \"Topic4\", \"Topic4\", \"Topic4\", \"Topic5\", \"Topic5\", \"Topic5\", \"Topic5\", \"Topic5\", \"Topic5\", \"Topic5\", \"Topic5\", \"Topic5\", \"Topic5\", \"Topic5\", \"Topic5\", \"Topic5\", \"Topic5\", \"Topic5\", \"Topic5\", \"Topic5\", \"Topic5\", \"Topic5\", \"Topic5\", \"Topic5\", \"Topic5\", \"Topic5\", \"Topic5\", \"Topic5\", \"Topic5\", \"Topic5\", \"Topic5\", \"Topic5\", \"Topic5\", \"Topic5\", \"Topic5\", \"Topic5\", \"Topic5\", \"Topic5\", \"Topic5\", \"Topic5\", \"Topic5\", \"Topic5\", \"Topic5\", \"Topic5\", \"Topic5\", \"Topic5\", \"Topic5\", \"Topic5\", \"Topic5\", \"Topic5\", \"Topic5\", \"Topic5\", \"Topic5\", \"Topic5\", \"Topic5\", \"Topic5\", \"Topic5\", \"Topic5\", \"Topic5\", \"Topic5\", \"Topic5\", \"Topic5\", \"Topic5\", \"Topic5\", \"Topic5\", \"Topic5\", \"Topic6\", \"Topic6\", \"Topic6\", \"Topic6\", \"Topic6\", \"Topic6\", \"Topic6\", \"Topic6\", \"Topic6\", \"Topic6\", \"Topic6\", \"Topic6\", \"Topic6\", \"Topic6\", \"Topic6\", \"Topic6\", \"Topic6\", \"Topic6\", \"Topic6\", \"Topic6\", \"Topic6\", \"Topic6\", \"Topic6\", \"Topic6\", \"Topic6\", \"Topic6\", \"Topic6\", \"Topic6\", \"Topic6\", \"Topic6\", \"Topic6\", \"Topic6\", \"Topic6\", \"Topic6\", \"Topic6\", \"Topic6\", \"Topic6\", \"Topic6\", \"Topic6\", \"Topic6\", \"Topic6\", \"Topic6\", \"Topic6\", \"Topic6\", \"Topic6\", \"Topic6\", \"Topic6\", \"Topic6\", \"Topic6\", \"Topic6\", \"Topic6\", \"Topic6\", \"Topic6\", \"Topic6\", \"Topic6\", \"Topic6\", \"Topic6\", \"Topic6\", \"Topic6\", \"Topic6\", \"Topic6\", \"Topic6\", \"Topic6\", \"Topic6\", \"Topic6\", \"Topic6\", \"Topic6\", \"Topic6\", \"Topic6\", \"Topic6\", \"Topic6\", \"Topic6\", \"Topic6\", \"Topic7\", \"Topic7\", \"Topic7\", \"Topic7\", \"Topic7\", \"Topic7\", \"Topic7\", \"Topic7\", \"Topic7\", \"Topic7\", \"Topic7\", \"Topic7\", \"Topic7\", \"Topic7\", \"Topic7\", \"Topic7\", \"Topic7\", \"Topic7\", \"Topic7\", \"Topic7\", \"Topic7\", \"Topic7\", \"Topic7\", \"Topic7\", \"Topic7\", \"Topic7\", \"Topic7\", \"Topic7\", \"Topic7\", \"Topic7\", \"Topic7\", \"Topic7\", \"Topic7\", \"Topic7\", \"Topic7\", \"Topic7\", \"Topic7\", \"Topic7\", \"Topic7\", \"Topic7\", \"Topic7\", \"Topic7\", \"Topic7\", \"Topic7\", \"Topic7\", \"Topic7\", \"Topic7\", \"Topic7\", \"Topic7\", \"Topic7\", \"Topic7\", \"Topic7\", \"Topic7\", \"Topic7\", \"Topic7\", \"Topic7\", \"Topic7\", \"Topic7\", \"Topic7\", \"Topic7\", \"Topic7\", \"Topic7\", \"Topic7\", \"Topic7\", \"Topic7\", \"Topic7\", \"Topic7\", \"Topic7\", \"Topic7\", \"Topic7\", \"Topic7\", \"Topic7\", \"Topic7\", \"Topic7\", \"Topic7\", \"Topic8\", \"Topic8\", \"Topic8\", \"Topic8\", \"Topic8\", \"Topic8\", \"Topic8\", \"Topic8\", \"Topic8\", \"Topic8\", \"Topic8\", \"Topic8\", \"Topic8\", \"Topic8\", \"Topic8\", \"Topic8\", \"Topic8\", \"Topic8\", \"Topic8\", \"Topic8\", \"Topic8\", \"Topic8\", \"Topic8\", \"Topic8\", \"Topic8\", \"Topic8\", \"Topic8\", \"Topic8\", \"Topic8\", \"Topic8\", \"Topic8\", \"Topic8\", \"Topic8\", \"Topic8\", \"Topic8\", \"Topic8\", \"Topic8\", \"Topic8\", \"Topic8\", \"Topic8\", \"Topic8\", \"Topic8\", \"Topic8\", \"Topic8\", \"Topic8\", \"Topic8\", \"Topic8\", \"Topic8\", \"Topic8\", \"Topic8\", \"Topic8\", \"Topic8\", \"Topic8\", \"Topic8\", \"Topic8\", \"Topic8\", \"Topic8\", \"Topic8\", \"Topic8\", \"Topic8\", \"Topic8\", \"Topic8\", \"Topic8\", \"Topic9\", \"Topic9\", \"Topic9\", \"Topic9\", \"Topic9\", \"Topic9\", \"Topic9\", \"Topic9\", \"Topic9\", \"Topic9\", \"Topic9\", \"Topic9\", \"Topic9\", \"Topic9\", \"Topic9\", \"Topic9\", \"Topic9\", \"Topic9\", \"Topic9\", \"Topic9\", \"Topic9\", \"Topic9\", \"Topic9\", \"Topic9\", \"Topic9\", \"Topic9\", \"Topic9\", \"Topic9\", \"Topic9\", \"Topic9\", \"Topic9\", \"Topic9\", \"Topic9\", \"Topic9\", \"Topic9\", \"Topic9\", \"Topic9\", \"Topic9\", \"Topic9\", \"Topic9\", \"Topic9\", \"Topic9\", \"Topic9\", \"Topic9\", \"Topic9\", \"Topic9\", \"Topic9\", \"Topic9\", \"Topic9\", \"Topic9\", \"Topic9\", \"Topic9\", \"Topic9\", \"Topic9\", \"Topic9\", \"Topic9\", \"Topic9\", \"Topic9\", \"Topic9\", \"Topic9\", \"Topic9\", \"Topic9\", \"Topic9\", \"Topic9\", \"Topic10\", \"Topic10\", \"Topic10\", \"Topic10\", \"Topic10\", \"Topic10\", \"Topic10\", \"Topic10\", \"Topic10\", \"Topic10\", \"Topic10\", \"Topic10\", \"Topic10\", \"Topic10\", \"Topic10\", \"Topic10\", \"Topic10\", \"Topic10\", \"Topic10\", \"Topic10\", \"Topic10\", \"Topic10\", \"Topic10\", \"Topic10\", \"Topic10\", \"Topic10\", \"Topic10\", \"Topic10\", \"Topic10\", \"Topic10\", \"Topic10\", \"Topic10\", \"Topic10\", \"Topic10\", \"Topic10\", \"Topic10\", \"Topic10\", \"Topic10\", \"Topic10\", \"Topic10\", \"Topic10\", \"Topic10\", \"Topic10\", \"Topic10\", \"Topic10\", \"Topic10\", \"Topic10\", \"Topic10\", \"Topic10\", \"Topic10\", \"Topic10\", \"Topic10\", \"Topic10\", \"Topic11\", \"Topic11\", \"Topic11\", \"Topic11\", \"Topic11\", \"Topic11\", \"Topic11\", \"Topic11\", \"Topic11\", \"Topic11\", \"Topic11\", \"Topic11\", \"Topic11\", \"Topic11\", \"Topic11\", \"Topic11\", \"Topic11\", \"Topic11\", \"Topic11\", \"Topic11\", \"Topic11\", \"Topic11\", \"Topic11\", \"Topic11\", \"Topic11\", \"Topic11\", \"Topic11\", \"Topic11\", \"Topic11\", \"Topic11\", \"Topic11\", \"Topic11\", \"Topic11\", \"Topic11\", \"Topic11\", \"Topic11\", \"Topic11\", \"Topic11\", \"Topic11\", \"Topic11\", \"Topic11\", \"Topic11\", \"Topic11\", \"Topic11\", \"Topic11\", \"Topic11\", \"Topic11\", \"Topic11\", \"Topic12\", \"Topic12\", \"Topic12\", \"Topic12\", \"Topic12\", \"Topic12\", \"Topic12\", \"Topic12\", \"Topic12\", \"Topic12\", \"Topic12\", \"Topic12\", \"Topic12\", \"Topic12\", \"Topic12\", \"Topic12\", \"Topic12\", \"Topic12\", \"Topic12\", \"Topic12\", \"Topic12\", \"Topic12\", \"Topic12\", \"Topic12\", \"Topic12\", \"Topic12\", \"Topic12\", \"Topic12\", \"Topic12\", \"Topic12\", \"Topic12\", \"Topic12\", \"Topic12\", \"Topic12\", \"Topic12\", \"Topic12\", \"Topic12\", \"Topic12\", \"Topic12\", \"Topic12\", \"Topic12\", \"Topic12\", \"Topic12\", \"Topic12\", \"Topic12\", \"Topic12\", \"Topic12\", \"Topic12\", \"Topic12\", \"Topic12\", \"Topic12\", \"Topic12\", \"Topic12\", \"Topic12\", \"Topic12\", \"Topic12\", \"Topic13\", \"Topic13\", \"Topic13\", \"Topic13\", \"Topic13\", \"Topic13\", \"Topic13\", \"Topic13\", \"Topic13\", \"Topic13\", \"Topic13\", \"Topic13\", \"Topic13\", \"Topic13\", \"Topic13\", \"Topic13\", \"Topic13\", \"Topic13\", \"Topic13\", \"Topic13\", \"Topic13\", \"Topic13\", \"Topic13\", \"Topic13\", \"Topic13\", \"Topic13\", \"Topic13\", \"Topic13\", \"Topic13\", \"Topic13\", \"Topic13\", \"Topic13\", \"Topic13\", \"Topic13\", \"Topic13\", \"Topic13\", \"Topic13\", \"Topic13\", \"Topic13\", \"Topic13\", \"Topic13\", \"Topic13\", \"Topic13\", \"Topic13\", \"Topic13\", \"Topic13\", \"Topic13\", \"Topic13\", \"Topic13\", \"Topic13\", \"Topic13\", \"Topic13\", \"Topic13\", \"Topic13\", \"Topic14\", \"Topic14\", \"Topic14\", \"Topic14\", \"Topic14\", \"Topic14\", \"Topic14\", \"Topic14\", \"Topic14\", \"Topic14\", \"Topic14\", \"Topic14\", \"Topic14\", \"Topic14\", \"Topic14\", \"Topic14\", \"Topic14\", \"Topic14\", \"Topic14\", \"Topic14\", \"Topic14\", \"Topic14\", \"Topic14\", \"Topic14\", \"Topic14\", \"Topic14\", \"Topic14\", \"Topic14\", \"Topic14\", \"Topic14\", \"Topic14\", \"Topic14\", \"Topic14\", \"Topic14\", \"Topic14\", \"Topic14\", \"Topic14\", \"Topic14\", \"Topic14\", \"Topic14\", \"Topic14\", \"Topic14\", \"Topic14\", \"Topic14\", \"Topic14\", \"Topic14\", \"Topic14\", \"Topic14\", \"Topic14\", \"Topic14\", \"Topic14\", \"Topic14\", \"Topic14\", \"Topic14\", \"Topic15\", \"Topic15\", \"Topic15\", \"Topic15\", \"Topic15\", \"Topic15\", \"Topic15\", \"Topic15\", \"Topic15\", \"Topic15\", \"Topic15\", \"Topic15\", \"Topic15\", \"Topic15\", \"Topic15\", \"Topic15\", \"Topic15\", \"Topic15\", \"Topic15\", \"Topic15\", \"Topic15\", \"Topic15\", \"Topic15\", \"Topic15\", \"Topic15\", \"Topic15\", \"Topic15\", \"Topic15\", \"Topic15\", \"Topic15\", \"Topic15\", \"Topic15\", \"Topic15\", \"Topic15\", \"Topic15\", \"Topic15\", \"Topic15\", \"Topic15\", \"Topic16\", \"Topic16\", \"Topic16\", \"Topic16\", \"Topic16\", \"Topic16\", \"Topic16\", \"Topic16\", \"Topic16\", \"Topic16\", \"Topic16\", \"Topic16\", \"Topic16\", \"Topic16\", \"Topic16\", \"Topic16\", \"Topic16\", \"Topic16\", \"Topic16\", \"Topic16\", \"Topic16\", \"Topic16\", \"Topic16\", \"Topic16\", \"Topic16\", \"Topic16\", \"Topic16\", \"Topic16\", \"Topic16\", \"Topic16\", \"Topic16\", \"Topic16\", \"Topic16\", \"Topic16\", \"Topic16\", \"Topic16\", \"Topic16\", \"Topic16\", \"Topic16\", \"Topic16\", \"Topic16\", \"Topic16\", \"Topic16\", \"Topic16\", \"Topic16\", \"Topic16\", \"Topic16\", \"Topic16\", \"Topic16\", \"Topic17\", \"Topic17\", \"Topic17\", \"Topic17\", \"Topic17\", \"Topic17\", \"Topic17\", \"Topic17\", \"Topic17\", \"Topic17\", \"Topic17\", \"Topic17\", \"Topic17\", \"Topic17\", \"Topic17\", \"Topic17\", \"Topic17\", \"Topic17\", \"Topic17\", \"Topic17\", \"Topic17\", \"Topic17\", \"Topic17\", \"Topic17\", \"Topic17\", \"Topic17\", \"Topic17\", \"Topic17\", \"Topic17\", \"Topic17\", \"Topic17\", \"Topic17\", \"Topic17\", \"Topic18\", \"Topic18\", \"Topic18\", \"Topic18\", \"Topic18\", \"Topic18\", \"Topic18\", \"Topic18\", \"Topic18\", \"Topic18\", \"Topic18\", \"Topic18\", \"Topic18\", \"Topic18\", \"Topic18\", \"Topic18\", \"Topic18\", \"Topic18\", \"Topic18\", \"Topic18\", \"Topic18\", \"Topic18\", \"Topic18\", \"Topic18\", \"Topic18\", \"Topic18\", \"Topic18\", \"Topic18\", \"Topic18\", \"Topic18\", \"Topic18\", \"Topic18\", \"Topic18\", \"Topic19\", \"Topic19\", \"Topic19\", \"Topic19\", \"Topic19\", \"Topic19\", \"Topic19\", \"Topic19\", \"Topic19\", \"Topic19\", \"Topic19\", \"Topic19\", \"Topic19\", \"Topic19\", \"Topic19\", \"Topic19\", \"Topic19\", \"Topic19\", \"Topic19\", \"Topic19\", \"Topic19\", \"Topic19\", \"Topic19\", \"Topic19\", \"Topic19\", \"Topic19\", \"Topic19\", \"Topic19\", \"Topic19\", \"Topic19\", \"Topic19\", \"Topic19\", \"Topic19\", \"Topic19\", \"Topic19\", \"Topic19\", \"Topic19\", \"Topic19\", \"Topic20\", \"Topic20\", \"Topic20\", \"Topic20\", \"Topic20\", \"Topic20\", \"Topic20\", \"Topic20\", \"Topic20\", \"Topic20\", \"Topic20\", \"Topic20\", \"Topic20\", \"Topic20\", \"Topic20\", \"Topic20\", \"Topic20\", \"Topic20\", \"Topic20\", \"Topic20\", \"Topic20\", \"Topic20\", \"Topic20\", \"Topic20\", \"Topic20\", \"Topic20\", \"Topic20\", \"Topic20\", \"Topic20\", \"Topic20\", \"Topic20\", \"Topic20\"], \"logprob\": [30.0, 29.0, 28.0, 27.0, 26.0, 25.0, 24.0, 23.0, 22.0, 21.0, 20.0, 19.0, 18.0, 17.0, 16.0, 15.0, 14.0, 13.0, 12.0, 11.0, 10.0, 9.0, 8.0, 7.0, 6.0, 5.0, 4.0, 3.0, 2.0, 1.0, -5.252099990844727, -5.413700103759766, -5.799699783325195, -6.105899810791016, -6.1392998695373535, -6.273399829864502, -6.313700199127197, -6.4369001388549805, -6.443299770355225, -6.45419979095459, -6.497600078582764, -6.516300201416016, -6.54449987411499, -6.7118000984191895, -6.74429988861084, -6.756100177764893, -6.757500171661377, -6.801300048828125, -6.865900039672852, -6.866799831390381, -6.892399787902832, -6.898099899291992, -6.947400093078613, -6.95550012588501, -6.95989990234375, -6.983500003814697, -6.9868998527526855, -7.010900020599365, -7.018199920654297, -7.019700050354004, -4.782599925994873, -5.646500110626221, -5.723999977111816, -5.353000164031982, -5.042200088500977, -6.61359977722168, -6.156099796295166, -5.985899925231934, -5.426199913024902, -6.066100120544434, -6.139699935913086, -5.977399826049805, -5.081399917602539, -6.434299945831299, -5.488500118255615, -6.0040998458862305, -5.922999858856201, -4.606500148773193, -5.966599941253662, -5.6875, -5.018599987030029, -5.329599857330322, -5.549200057983398, -5.810500144958496, -5.30620002746582, -5.294099807739258, -5.262899875640869, -4.061399936676025, -5.527200222015381, -4.615499973297119, -5.551499843597412, -5.374599933624268, -4.667200088500977, -5.085899829864502, -5.3765997886657715, -5.0457000732421875, -5.361999988555908, -5.605199813842773, -5.194799900054932, -5.177199840545654, -5.252399921417236, -5.234399795532227, -5.097300052642822, -5.192800045013428, -5.5355000495910645, -5.73330020904541, -5.815700054168701, -5.924699783325195, -5.982999801635742, -6.016200065612793, -5.964300155639648, -6.168300151824951, -6.202600002288818, -6.278200149536133, -6.3694000244140625, -6.386000156402588, -6.414000034332275, -6.524700164794922, -6.550899982452393, -6.626399993896484, -6.696800231933594, -6.70550012588501, -6.707499980926514, -6.7982001304626465, -6.907100200653076, -6.923099994659424, -7.148099899291992, -7.214900016784668, -7.047800064086914, -7.390100002288818, -7.435299873352051, -7.436800003051758, -7.504000186920166, -7.530200004577637, -7.5655999183654785, -5.216599941253662, -6.381100177764893, -5.954100131988525, -6.5457000732421875, -7.018400192260742, -6.546999931335449, -5.616799831390381, -6.328700065612793, -6.50570011138916, -6.569399833679199, -6.085000038146973, -5.685699939727783, -6.273900032043457, -5.857999801635742, -5.582600116729736, -5.119500160217285, -6.144199848175049, -5.281799793243408, -5.695000171661377, -5.426599979400635, -5.616600036621094, -5.702099800109863, -4.034900188446045, -5.396399974822998, -5.883800029754639, -5.2866997718811035, -4.831600189208984, -5.717299938201904, -5.802999973297119, -5.505000114440918, -5.6020002365112305, -5.533199787139893, -5.381899833679199, -5.393599987030029, -5.145599842071533, -5.695099830627441, -5.528600215911865, -5.688499927520752, -5.174699783325195, -5.061500072479248, -5.67140007019043, -5.597599983215332, -5.667399883270264, -5.392399787902832, -5.48390007019043, -5.579599857330322, -5.7631001472473145, -6.23799991607666, -6.337299823760986, -6.373300075531006, -6.376500129699707, -6.38670015335083, -6.393400192260742, -6.400100231170654, -6.407899856567383, -6.445700168609619, -6.445899963378906, -6.452600002288818, -6.457099914550781, -6.467800140380859, -6.471799850463867, -6.490699768066406, -6.501100063323975, -6.5254998207092285, -6.53249979019165, -6.679100036621094, -6.158699989318848, -7.529799938201904, -6.472899913787842, -7.622700214385986, -7.689300060272217, -7.735599994659424, -7.650100231170654, -5.072700023651123, -5.788700103759766, -6.082499980926514, -6.431600093841553, -6.439599990844727, -5.347599983215332, -5.601500034332275, -5.394499778747559, -3.918299913406372, -5.117099761962891, -5.5553998947143555, -5.923900127410889, -3.974299907684326, -4.953400135040283, -5.662099838256836, -5.3454999923706055, -5.683700084686279, -5.179200172424316, -5.710400104522705, -5.586999893188477, -5.9369001388549805, -5.631100177764893, -4.415299892425537, -5.897900104522705, -5.867800235748291, -4.728300094604492, -4.836100101470947, -3.954699993133545, -5.122799873352051, -5.390100002288818, -4.967599868774414, -5.584400177001953, -4.935200214385986, -4.766900062561035, -5.02400016784668, -5.191400051116943, -5.118500232696533, -5.3242998123168945, -5.24459981918335, -4.957399845123291, -5.4552998542785645, -5.521699905395508, -5.502299785614014, -5.553699970245361, -4.887400150299072, -5.420899868011475, -5.582399845123291, -5.594200134277344, -5.875100135803223, -5.887899875640869, -5.905099868774414, -6.310100078582764, -6.3343000411987305, -6.464099884033203, -6.476500034332275, -6.500100135803223, -6.512899875640869, -6.515900135040283, -6.598400115966797, -6.676300048828125, -6.721199989318848, -6.728099822998047, -6.780700206756592, -6.865099906921387, -6.86899995803833, -6.869800090789795, -6.889699935913086, -7.1234002113342285, -7.133299827575684, -7.172800064086914, -6.932700157165527, -7.232699871063232, -7.243000030517578, -7.263999938964844, -4.98829984664917, -6.139999866485596, -5.3308000564575195, -6.088900089263916, -6.340099811553955, -6.634300231933594, -5.277500152587891, -6.459700107574463, -5.869200229644775, -6.613999843597412, -6.140200138092041, -5.415200233459473, -6.365499973297119, -5.995699882507324, -5.806700229644775, -5.474299907684326, -6.013500213623047, -5.781899929046631, -5.259399890899658, -4.775199890136719, -6.050300121307373, -5.451099872589111, -5.313899993896484, -4.815700054168701, -5.055799961090088, -5.475200176239014, -5.258900165557861, -5.699699878692627, -5.186800003051758, -5.2399001121521, -4.742000102996826, -5.002600193023682, -5.7596001625061035, -5.460299968719482, -5.39739990234375, -5.553999900817871, -5.320899963378906, -5.717700004577637, -5.744500160217285, -5.739200115203857, -5.7469000816345215, -4.558599948883057, -4.756999969482422, -5.009900093078613, -5.256800174713135, -5.196599960327148, -5.474800109863281, -5.5177001953125, -5.576700210571289, -5.6427998542785645, -5.673500061035156, -5.705100059509277, -5.720699787139893, -5.78849983215332, -6.320899963378906, -6.482399940490723, -6.439700126647949, -6.848700046539307, -6.724800109863281, -7.251800060272217, -7.283899784088135, -7.373799800872803, -7.381800174713135, -7.390900135040283, -7.461699962615967, -7.474299907684326, -7.531499862670898, -6.750500202178955, -7.565299987792969, -7.57450008392334, -7.575799942016602, -5.6717000007629395, -4.666399955749512, -5.660200119018555, -5.688600063323975, -4.884200096130371, -4.924099922180176, -4.949100017547607, -5.617800235748291, -4.8694000244140625, -5.750899791717529, -5.67609977722168, -5.025599956512451, -4.483099937438965, -5.581900119781494, -4.691199779510498, -4.4583001136779785, -5.248300075531006, -4.415999889373779, -4.5329999923706055, -5.487400054931641, -5.304299831390381, -5.559500217437744, -4.836100101470947, -4.753200054168701, -5.45359992980957, -5.243299961090088, -4.953100204467773, -5.527699947357178, -5.31820011138916, -5.089000225067139, -4.957900047302246, -5.3059000968933105, -5.308300018310547, -5.5019001960754395, -6.229800224304199, -6.293700218200684, -6.702000141143799, -6.876100063323975, -6.909999847412109, -6.937300205230713, -6.948599815368652, -7.002099990844727, -7.006199836730957, -7.04610013961792, -7.051300048828125, -7.091899871826172, -7.208199977874756, -7.241300106048584, -7.26230001449585, -7.275400161743164, -7.278299808502197, -7.297599792480469, -5.30109977722168, -7.392099857330322, -7.424799919128418, -7.439199924468994, -7.444900035858154, -7.443399906158447, -7.48360013961792, -7.4953999519348145, -7.532899856567383, -7.546999931335449, -7.56820011138916, -4.656000137329102, -5.332099914550781, -3.8017001152038574, -6.275700092315674, -6.031099796295166, -4.4918999671936035, -6.094699859619141, -5.37939977645874, -6.387400150299072, -4.284800052642822, -5.526899814605713, -5.815000057220459, -5.455399990081787, -5.489200115203857, -4.978600025177002, -6.1468000411987305, -4.791100025177002, -5.406799793243408, -4.546599864959717, -3.6893999576568604, -6.3078999519348145, -5.082499980926514, -5.34250020980835, -4.7733001708984375, -4.3927001953125, -4.452700138092041, -5.787700176239014, -5.103099822998047, -4.520999908447266, -5.769800186157227, -5.366700172424316, -5.124000072479248, -5.500999927520752, -4.174900054931641, -5.515699863433838, -4.583600044250488, -5.270699977874756, -5.225100040435791, -5.247499942779541, -5.213399887084961, -5.454599857330322, -5.429999828338623, -5.451099872589111, -4.956200122833252, -5.037899971008301, -5.501699924468994, -5.983099937438965, -6.106500148773193, -6.387499809265137, -6.452000141143799, -6.499100208282471, -6.503600120544434, -6.5295000076293945, -6.5335001945495605, -6.621500015258789, -6.731500148773193, -6.742400169372559, -6.74399995803833, -6.867300033569336, -7.015699863433838, -7.037399768829346, -7.13040018081665, -7.1743998527526855, -7.17609977722168, -7.214600086212158, -7.216899871826172, -7.229300022125244, -7.264500141143799, -7.2683000564575195, -7.281799793243408, -7.317599773406982, -7.325900077819824, -7.357500076293945, -6.417900085449219, -5.1859002113342285, -5.893199920654297, -5.908299922943115, -5.463500022888184, -5.356100082397461, -6.802599906921387, -6.728000164031982, -6.355000019073486, -5.821899890899658, -6.52239990234375, -5.946599960327148, -5.696499824523926, -6.044899940490723, -5.747200012207031, -6.060699939727783, -6.279200077056885, -5.60260009765625, -4.818699836730957, -5.096099853515625, -5.9791998863220215, -5.151400089263916, -5.457699775695801, -5.4045000076293945, -5.6194000244140625, -4.856500148773193, -5.710899829864502, -5.6869001388549805, -5.480500221252441, -5.609399795532227, -4.960999965667725, -5.145199775695801, -5.252200126647949, -5.487199783325195, -5.445799827575684, -5.507699966430664, -5.556000232696533, -4.881899833679199, -5.445000171661377, -5.260799884796143, -5.55210018157959, -5.556399822235107, -5.585899829864502, -5.629799842834473, -5.613800048828125, -3.8570001125335693, -4.2571001052856445, -4.3003997802734375, -4.3769001960754395, -4.797800064086914, -4.847799777984619, -5.019100189208984, -4.987100124359131, -5.065100193023682, -5.095200061798096, -4.104800224304199, -6.223100185394287, -6.4054999351501465, -6.6894001960754395, -6.692999839782715, -6.710700035095215, -6.764699935913086, -6.861999988555908, -6.9095001220703125, -6.9492998123168945, -6.997900009155273, -7.093299865722656, -7.103300094604492, -7.118100166320801, -7.1585001945495605, -7.176000118255615, -7.2581000328063965, -7.26039981842041, -7.289000034332275, -7.3003997802734375, -4.72790002822876, -5.183000087738037, -4.803599834442139, -4.877799987792969, -4.9054999351501465, -4.388599872589111, -5.9816999435424805, -5.131999969482422, -5.012700080871582, -3.3819000720977783, -4.813199996948242, -5.1265997886657715, -4.931600093841553, -4.285600185394287, -3.840399980545044, -5.018899917602539, -4.790599822998047, -4.751800060272217, -4.548799991607666, -5.049600124359131, -4.617700099945068, -3.9723000526428223, -4.582600116729736, -4.1596999168396, -4.500800132751465, -4.450500011444092, -4.623700141906738, -4.639500141143799, -4.822500228881836, -4.822700023651123, -4.777100086212158, -4.869100093841553, -4.85290002822876, -3.982800006866455, -4.2631001472473145, -5.001100063323975, -5.408100128173828, -3.991499900817871, -5.725299835205078, -6.042900085449219, -6.095300197601318, -6.25439977645874, -6.372200012207031, -6.3815999031066895, -6.388500213623047, -6.401700019836426, -6.436699867248535, -6.441100120544434, -6.4446001052856445, -6.411499977111816, -6.461900234222412, -6.490099906921387, -6.564000129699707, -6.596799850463867, -6.608500003814697, -6.6255998611450195, -6.659900188446045, -6.712600231170654, -6.726500034332275, -6.751699924468994, -6.760700225830078, -6.763400077819824, -6.802000045776367, -3.709399938583374, -5.17080020904541, -5.914400100708008, -4.065800189971924, -4.845200061798096, -6.315700054168701, -4.0854997634887695, -4.205599784851074, -5.190700054168701, -4.589399814605713, -3.9298999309539795, -5.677499771118164, -4.797399997711182, -4.199699878692627, -4.533199787139893, -5.805099964141846, -5.719600200653076, -4.346099853515625, -4.975200176239014, -4.443699836730957, -4.711299896240234, -5.303999900817871, -4.682799816131592, -5.059599876403809, -3.8821001052856445, -5.400400161743164, -4.450799942016602, -4.669300079345703, -5.135499954223633, -5.025300025939941, -5.228400230407715, -5.208000183105469, -5.272200107574463, -5.2708001136779785, -3.6138999462127686, -4.009799957275391, -4.108500003814697, -4.147600173950195, -4.1656999588012695, -4.229700088500977, -4.257400035858154, -4.267499923706055, -4.2683000564575195, -4.296599864959717, -4.296999931335449, -4.639999866485596, -5.3649001121521, -5.386499881744385, -5.535799980163574, -5.542900085449219, -5.7210001945495605, -5.721799850463867, -5.790800094604492, -5.794000148773193, -5.856500148773193, -5.894999980926514, -5.957300186157227, -6.039100170135498, -6.085999965667725, -6.161600112915039, -6.200699806213379, -6.211900234222412, -6.283699989318848, -6.296800136566162, -3.5985000133514404, -4.26140022277832, -3.305500030517578, -4.35129976272583, -3.4618000984191895, -4.423999786376953, -5.243299961090088, -4.325200080871582, -5.545899868011475, -4.462200164794922, -4.422500133514404, -5.453000068664551, -5.114200115203857, -4.047100067138672, -4.494500160217285, -4.318699836730957, -4.945300102233887, -5.146299839019775, -4.865600109100342, -5.036900043487549, -4.78410005569458, -5.121300220489502, -5.1118998527526855, -4.76039981842041, -4.797500133514404, -5.083000183105469, -5.1149001121521, -5.163300037384033, -5.1975998878479, -5.314000129699707, -5.401899814605713, -5.485300064086914, -5.5619001388549805, -5.611999988555908, -5.646200180053711, -5.671299934387207, -5.724999904632568, -5.726099967956543, -5.72790002822876, -5.759900093078613, -5.763000011444092, -5.769599914550781, -5.797900199890137, -5.8053998947143555, -5.810299873352051, -5.813300132751465, -5.823200225830078, -5.850500106811523, -5.851200103759766, -5.89900016784668, -5.901000022888184, -5.904200077056885, -5.916100025177002, -4.957699775695801, -4.9882001876831055, -3.710900068283081, -5.219600200653076, -4.988500118255615, -5.134200096130371, -4.977200031280518, -4.505300045013428, -5.089300155639648, -4.93209981918335, -4.942399978637695, -5.481500148773193, -5.273900032043457, -5.004899978637695, -4.766200065612793, -5.488100051879883, -5.232399940490723, -5.191299915313721, -4.080999851226807, -4.098499774932861, -4.106800079345703, -4.128200054168701, -4.133800029754639, -4.144499778747559, -5.340700149536133, -5.5395002365112305, -5.604700088500977, -5.7368998527526855, -5.744200229644775, -5.839399814605713, -5.905700206756592, -5.995200157165527, -6.131800174713135, -6.226099967956543, -6.253399848937988, -6.334700107574463, -6.384099960327148, -6.390600204467773, -6.414000034332275, -6.421899795532227, -6.453199863433838, -6.458899974822998, -6.461400032043457, -6.491099834442139, -6.54580020904541, -6.560999870300293, -6.617700099945068, -6.65500020980835, -4.059700012207031, -4.0619001388549805, -3.9644999504089355, -4.072000026702881, -3.8870999813079834, -4.015500068664551, -4.015100002288818, -3.940200090408325, -4.017399787902832, -5.381999969482422, -4.073500156402588, -4.111700057983398, -4.068399906158447, -4.1072001457214355, -3.953200101852417, -3.937700033187866, -4.1296000480651855, -4.029200077056885, -4.003300189971924, -3.901599884033203, -4.06279993057251, -3.9421000480651855, -3.95169997215271, -3.901700019836426, -4.055799961090088, -4.017499923706055, -2.7353999614715576, -3.5197999477386475, -3.653700113296509, -3.7200000286102295, -3.7274999618530273, -3.7479000091552734, -3.7500998973846436, -3.76990008354187, -4.3059000968933105, -4.9375, -5.194499969482422, -5.520699977874756, -5.679999828338623, -5.6809000968933105, -5.722099781036377, -5.776500225067139, -5.923999786376953, -5.939899921417236, -5.983500003814697, -6.07289981842041, -6.079999923706055, -6.105999946594238, -6.1097002029418945, -6.191100120544434, -6.200900077819824, -6.224599838256836, -6.248300075531006, -6.270899772644043, -6.357999801635742, -6.3582000732421875, -4.741700172424316, -5.828800201416016, -3.849600076675415, -4.040599822998047, -4.202000141143799, -3.8749001026153564, -4.130000114440918, -4.467199802398682, -5.191100120544434, -4.226500034332275, -5.531099796295166, -3.868499994277954, -4.255099773406982, -4.287099838256836, -5.1082000732421875, -4.386600017547607, -4.679299831390381, -4.92080020904541, -4.914899826049805, -4.684899806976318, -5.0619001388549805, -5.021200180053711, -4.9934000968933105, -5.080699920654297, -2.22379994392395, -2.4609999656677246, -3.1868999004364014, -3.5192999839782715, -4.222099781036377, -4.272799968719482, -4.28849983215332, -4.308000087738037, -5.412300109863281, -5.6016998291015625, -5.700500011444092, -5.788400173187256, -5.940800189971924, -6.205100059509277, -6.207399845123291, -6.284299850463867, -6.405900001525879, -6.435800075531006, -6.44980001449585, -6.4604997634887695, -6.533199787139893, -6.535799980163574, -6.550099849700928, -6.583600044250488, -6.6092000007629395, -6.619500160217285, -6.636600017547607, -6.686699867248535, -6.705599784851074, -6.709499835968018, -4.031000137329102, -4.194900035858154, -4.2947998046875, -4.289899826049805, -4.2993998527526855, -3.4518001079559326, -4.38070011138916, -4.289000034332275, -4.340400218963623, -4.184999942779541, -4.250999927520752, -4.366600036621094, -4.417399883270264, -4.518599987030029, -4.2270002365112305, -4.331900119781494, -4.374599933624268, -4.296800136566162, -4.410600185394287, -4.434500217437744, -4.349699974060059, -4.2469000816345215, -4.406099796295166, -4.353700160980225, -2.6710000038146973, -3.0541000366210938, -3.32450008392334, -3.358799934387207, -3.642400026321411, -4.455900192260742, -4.585599899291992, -4.74399995803833, -4.83620023727417, -4.884099960327148, -5.218200206756592, -5.233699798583984, -5.258399963378906, -5.284299850463867, -5.322400093078613, -5.371699810028076, -5.383900165557861, -5.219299793243408, -5.412799835205078, -5.440400123596191, -5.497000217437744, -5.497799873352051, -5.506800174713135, -5.5335001945495605, -5.53439998626709, -5.605500221252441, -5.637400150299072, -5.639699935913086, -5.598499774932861, -5.6656999588012695, -4.8196001052856445, -3.497499942779541, -5.2866997718811035, -5.377799987792969, -4.721700191497803, -5.046999931335449, -5.35260009765625, -5.4720001220703125, -3.1542999744415283, -3.7011001110076904, -3.7455999851226807, -3.7836999893188477, -3.8189001083374023, -3.8304998874664307, -4.663400173187256, -4.797699928283691, -5.200300216674805, -5.487500190734863, -5.896399974822998, -5.905700206756592, -5.9355998039245605, -5.950500011444092, -5.998199939727783, -6.026899814605713, -6.0269999504089355, -6.076399803161621, -6.077700138092041, -6.082099914550781, -6.091400146484375, -3.7035000324249268, -6.149899959564209, -6.187300205230713, -6.198500156402588, -6.19890022277832, -6.242199897766113, -6.260700225830078, -6.293099880218506, -6.298299789428711, -3.733099937438965, -3.763400077819824, -3.8420000076293945, -3.1285998821258545, -3.8004000186920166, -3.2590999603271484, -3.940000057220459, -3.835599899291992, -3.6707000732421875, -3.796600103378296, -3.875, -3.3970999717712402, -3.8382999897003174, -4.067800045013428, -3.5037999153137207, -4.664000034332275, -5.6855998039245605, -4.810999870300293, -5.081200122833252, -3.2042999267578125, -3.275399923324585, -4.05019998550415, -4.158299922943115, -4.427000045776367, -4.6545000076293945, -4.756199836730957, -4.791200160980225, -4.823800086975098, -4.877500057220459, -4.905700206756592, -4.938199996948242, -5.007199764251709, -5.029799938201904, -5.048699855804443, -5.073699951171875, -5.082200050354004, -5.0894999504089355, -5.147799968719482, -5.2555999755859375, -5.274600028991699, -5.296899795532227, -5.302199840545654, -5.309100151062012, -5.348599910736084, -5.3668999671936035, -5.3769001960754395, -5.411499977111816, -5.46019983291626, -5.460599899291992, -5.161300182342529, -5.284299850463867, -5.392199993133545, -2.9314000606536865, -2.9999001026153564, -4.1066999435424805, -4.153500080108643, -4.42579984664917, -4.471199989318848, -4.47730016708374, -4.532299995422363, -4.635700225830078, -4.831099987030029, -4.867099761962891, -4.908999919891357, -5.06279993057251, -5.134799957275391, -5.138800144195557, -5.17710018157959, -5.187399864196777, -5.193699836730957, -5.232100009918213, -5.233799934387207, -5.295000076293945, -5.3018999099731445, -5.302999973297119, -5.316800117492676, -5.341300010681152, -5.350299835205078, -5.353799819946289, -5.393899917602539, -5.418700218200684, -5.429999828338623, -5.321100234985352, -4.85860013961792, -5.217400074005127, -2.569999933242798, -2.615499973297119, -3.108799934387207, -3.178999900817871, -4.696000099182129, -4.842700004577637, -4.871300220489502, -4.912099838256836, -4.939899921417236, -4.960999965667725, -5.072199821472168, -5.1265997886657715, -5.201399803161621, -5.222099781036377, -5.2221999168396, -5.260200023651123, -5.309899806976318, -5.356500148773193, -5.452899932861328, -5.501999855041504, -5.540599822998047, -5.581099987030029, -5.6016998291015625, -5.60860013961792, -5.620299816131592, -5.696499824523926, -5.847499847412109, -5.879199981689453, -5.922800064086914, -5.926300048828125, -5.034900188446045, -3.136399984359741, -3.8717000484466553, -4.126399993896484, -3.0787999629974365, -5.490099906921387, -4.722300052642822, -5.04040002822876, -2.2960000038146973, -2.785799980163574, -2.884200096130371, -2.9033000469207764, -2.972399950027466, -4.2778000831604, -4.511899948120117, -4.6956000328063965, -5.011000156402588, -5.073400020599365, -5.077700138092041, -5.1066999435424805, -5.14870023727417, -5.213799953460693, -5.21999979019165, -5.2743000984191895, -5.33489990234375, -5.368500232696533, -5.392099857330322, -5.396299839019775, -5.396900177001953, -5.473100185394287, -5.506499767303467, -5.528299808502197, -5.601600170135498, -5.639900207519531, -5.664999961853027, -5.6855998039245605, -5.806600093841553, -5.817599773406982, -4.4695000648498535, -4.95359992980957], \"loglift\": [30.0, 29.0, 28.0, 27.0, 26.0, 25.0, 24.0, 23.0, 22.0, 21.0, 20.0, 19.0, 18.0, 17.0, 16.0, 15.0, 14.0, 13.0, 12.0, 11.0, 10.0, 9.0, 8.0, 7.0, 6.0, 5.0, 4.0, 3.0, 2.0, 1.0, 1.5603, 1.5602, 1.5599, 1.5596, 1.5595, 1.5594, 1.5593, 1.5591, 1.5591, 1.5591, 1.559, 1.5589, 1.5589, 1.5585, 1.5585, 1.5584, 1.5584, 1.5583, 1.5582, 1.5581, 1.5581, 1.5581, 1.5579, 1.5579, 1.5579, 1.5578, 1.5578, 1.5577, 1.5577, 1.5577, 1.543, 1.5487, 1.5465, 1.5281, 1.5207, 1.5522, 1.5409, 1.5293, 1.5119, 1.5313, 1.5315, 1.5196, 1.4683, 1.5382, 1.4777, 1.4831, 1.4604, 1.273, 1.4627, 1.4108, 1.2724, 1.2968, 1.343, 1.3808, 1.2262, 1.2002, 1.1406, 0.5399, 1.2297, 0.7101, 1.2303, 1.0641, 0.541, 0.8107, 0.9731, 0.6604, 0.9499, 1.1725, 0.6959, 0.6244, 0.6971, 0.619, 0.2945, 0.4071, 0.6285, 1.5963, 1.5963, 1.5961, 1.5961, 1.5961, 1.5959, 1.5959, 1.5958, 1.5957, 1.5956, 1.5955, 1.5955, 1.5953, 1.5952, 1.5951, 1.5949, 1.5949, 1.5948, 1.5947, 1.5944, 1.5943, 1.5936, 1.5934, 1.5928, 1.5926, 1.5924, 1.5924, 1.5921, 1.5919, 1.5918, 1.5837, 1.5758, 1.5629, 1.5746, 1.5798, 1.5629, 1.5173, 1.5428, 1.5535, 1.5561, 1.5043, 1.4589, 1.5204, 1.4669, 1.4188, 1.3482, 1.4972, 1.3449, 1.4061, 1.3074, 1.3488, 1.362, 0.8868, 1.2411, 1.3829, 1.131, 0.8995, 1.266, 1.2973, 1.1077, 1.1438, 1.0843, 0.9, 0.7695, 0.18, 1.0543, 0.7548, 1.0426, 0.0335, -0.4603, 0.7547, 0.204, 0.4365, 1.9429, 1.9428, 1.9427, 1.9425, 1.9417, 1.9415, 1.9414, 1.9414, 1.9413, 1.9413, 1.9413, 1.9413, 1.9412, 1.9412, 1.9412, 1.9412, 1.9411, 1.9411, 1.9411, 1.9411, 1.941, 1.941, 1.9405, 1.9371, 1.9362, 1.9357, 1.9355, 1.9349, 1.9345, 1.9342, 1.9245, 1.9136, 1.9139, 1.9176, 1.9127, 1.8717, 1.8755, 1.8109, 1.6465, 1.7511, 1.802, 1.8342, 1.4174, 1.5975, 1.7559, 1.6697, 1.7364, 1.57, 1.7218, 1.6707, 1.7836, 1.6675, 1.1846, 1.7501, 1.7046, 1.1682, 1.185, 0.6466, 1.2762, 1.3416, 0.8859, 1.4489, 0.7959, 0.5587, 0.7775, 0.9125, 0.5619, 0.9876, 0.7048, -0.0357, 0.8132, 1.2468, 0.7796, 1.1269, 2.3548, 2.3543, 2.3541, 2.354, 2.3535, 2.3535, 2.3535, 2.3524, 2.3523, 2.3518, 2.3518, 2.3517, 2.3516, 2.3516, 2.3513, 2.3509, 2.3507, 2.3507, 2.3504, 2.35, 2.3499, 2.3499, 2.3498, 2.3483, 2.3482, 2.3479, 2.3479, 2.3475, 2.3474, 2.3472, 2.324, 2.3332, 2.2975, 2.2953, 2.2975, 2.3051, 2.138, 2.2819, 2.1914, 2.3027, 2.2087, 2.0388, 2.2459, 2.1073, 2.0245, 1.896, 2.0824, 1.9557, 1.6701, 1.3888, 2.0531, 1.5859, 1.3781, 0.8904, 1.0873, 1.3817, 1.0412, 1.4812, 0.6666, 0.708, -0.1407, 0.2056, 1.5545, 0.82, 0.3298, 0.8505, -0.3991, 1.3419, 1.3843, 1.158, 0.1439, 2.4305, 2.4304, 2.4301, 2.4299, 2.4297, 2.4296, 2.4295, 2.4294, 2.4293, 2.4292, 2.4292, 2.4291, 2.429, 2.4275, 2.4269, 2.4252, 2.425, 2.4233, 2.422, 2.4217, 2.4208, 2.4207, 2.4206, 2.4199, 2.4197, 2.4191, 2.419, 2.4186, 2.4185, 2.4185, 2.4157, 2.4043, 2.3888, 2.389, 2.3652, 2.3609, 2.3378, 2.3618, 2.3175, 2.352, 2.3395, 2.2818, 2.2069, 2.303, 2.2035, 2.1694, 2.1956, 1.8673, 1.9101, 2.2477, 2.0641, 2.2227, 1.1118, 0.9272, 1.9878, 1.5458, 0.6468, 2.0891, 1.4195, 0.6382, -0.0362, 0.8372, 0.5824, 2.5954, 2.5934, 2.5931, 2.5911, 2.5899, 2.5897, 2.5895, 2.5894, 2.5889, 2.5889, 2.5886, 2.5885, 2.5882, 2.587, 2.5866, 2.5865, 2.5863, 2.5863, 2.5861, 2.5851, 2.585, 2.5846, 2.5844, 2.5843, 2.5843, 2.5838, 2.5837, 2.5832, 2.583, 2.5827, 2.5308, 2.5437, 2.4909, 2.5543, 2.5395, 2.4681, 2.5345, 2.4786, 2.5245, 2.3833, 2.4545, 2.4684, 2.4363, 2.4194, 2.3623, 2.4706, 2.2948, 2.354, 2.2099, 2.0378, 2.4722, 2.23, 2.2739, 2.1404, 2.0334, 1.9884, 2.3143, 2.0444, 1.779, 2.2534, 1.9663, 1.7694, 2.0393, 0.4264, 1.9172, 0.6246, 1.402, 0.8788, 0.7004, -0.2917, 1.6202, 0.9197, 1.1509, 2.8371, 2.837, 2.8361, 2.8347, 2.8342, 2.8328, 2.8324, 2.8321, 2.8321, 2.8319, 2.8319, 2.8313, 2.8305, 2.8304, 2.8304, 2.8293, 2.8279, 2.8276, 2.8266, 2.826, 2.826, 2.8255, 2.8255, 2.8254, 2.8249, 2.8248, 2.8246, 2.8241, 2.824, 2.8236, 2.8234, 2.7962, 2.7413, 2.7254, 2.6768, 2.6446, 2.7792, 2.7644, 2.7089, 2.6269, 2.7294, 2.6084, 2.5568, 2.6137, 2.5321, 2.6025, 2.6306, 2.3857, 2.0795, 2.0733, 2.4755, 1.9568, 2.1172, 2.0716, 2.2156, 1.5867, 2.2227, 2.1929, 1.9569, 2.0297, 1.3057, 1.4722, 1.558, 1.844, 1.7826, 1.7285, 1.777, 0.0398, 1.1999, -0.0525, 1.1398, 1.141, 1.1706, 1.0537, 0.0666, 3.5919, 3.5914, 3.5913, 3.5912, 3.5903, 3.5902, 3.5897, 3.5896, 3.5895, 3.5894, 3.5856, 3.5822, 3.5801, 3.5759, 3.5758, 3.5755, 3.5746, 3.5727, 3.5718, 3.5709, 3.5698, 3.5675, 3.5673, 3.5669, 3.5658, 3.5654, 3.5631, 3.563, 3.5621, 3.5618, 3.5518, 3.5442, 3.4642, 3.4303, 3.3941, 3.1688, 3.378, 3.2111, 3.1817, 2.833, 3.1239, 3.0979, 3.0382, 2.7941, 2.6312, 3.0196, 2.938, 2.7807, 2.6582, 2.9131, 2.5759, 2.0488, 2.4563, 1.7197, 1.9037, 1.7125, 2.1255, 1.8337, 2.0904, 1.9458, 1.1723, 2.2647, 0.8275, 3.8681, 3.8676, 3.8655, 3.8635, 3.8616, 3.8612, 3.8581, 3.8575, 3.8554, 3.8537, 3.8535, 3.8534, 3.8532, 3.8526, 3.8525, 3.8525, 3.8524, 3.8522, 3.8517, 3.8503, 3.8497, 3.8495, 3.8491, 3.8484, 3.8473, 3.847, 3.8464, 3.8462, 3.8461, 3.8452, 3.8412, 3.7843, 3.8061, 3.6423, 3.6383, 3.7863, 3.2277, 3.2558, 3.4364, 3.2121, 2.9636, 3.5535, 3.187, 2.8751, 3.0061, 3.5609, 3.4896, 2.762, 2.9923, 2.5474, 2.7191, 3.1036, 2.5117, 2.7364, 1.0397, 2.9753, 1.4972, 1.7485, 2.1176, 1.7171, 2.3428, 1.8324, 2.0425, 1.0096, 4.2046, 4.2039, 4.2037, 4.2036, 4.2035, 4.2034, 4.2033, 4.2033, 4.2033, 4.2032, 4.2032, 4.202, 4.1977, 4.1975, 4.1962, 4.1961, 4.1942, 4.1942, 4.1933, 4.1933, 4.1925, 4.1919, 4.191, 4.1897, 4.189, 4.1876, 4.1869, 4.1867, 4.1853, 4.185, 4.1377, 4.13, 4.0276, 4.0826, 3.6648, 3.7734, 3.9453, 3.5281, 4.0144, 3.4522, 3.2562, 3.9076, 3.6076, 2.5549, 2.8604, 2.6436, 2.5384, 2.9748, 2.0036, 2.2356, -0.1828, 2.7387, 2.0886, 4.4919, 4.4917, 4.4897, 4.4894, 4.489, 4.4887, 4.4876, 4.4866, 4.4856, 4.4847, 4.484, 4.4835, 4.4831, 4.4823, 4.4823, 4.4823, 4.4818, 4.4817, 4.4816, 4.4812, 4.481, 4.481, 4.4809, 4.4807, 4.4803, 4.4803, 4.4794, 4.4794, 4.4793, 4.4791, 4.4416, 4.4311, 4.1179, 4.2561, 4.0586, 3.9855, 3.8565, 3.4784, 3.8298, 3.6774, 3.616, 4.0756, 3.6807, 3.2157, 2.7077, 3.9803, 2.6023, 1.9781, 4.5873, 4.5873, 4.5872, 4.5872, 4.5871, 4.5871, 4.5787, 4.5761, 4.5751, 4.5729, 4.5728, 4.571, 4.5697, 4.5677, 4.5636, 4.5618, 4.561, 4.5585, 4.5569, 4.5567, 4.5559, 4.5557, 4.5546, 4.5544, 4.5543, 4.5532, 4.5511, 4.5505, 4.5482, 4.5467, 4.3178, 4.2354, 4.1317, 4.0936, 4.0358, 3.8959, 3.8196, 3.7652, 3.7619, 4.1914, 3.5095, 3.5134, 3.4743, 3.4013, 3.2752, 3.2146, 3.3118, 3.0954, 2.702, 2.5717, 2.7474, 2.4757, 2.3287, 1.4901, 1.1525, 0.9042, 4.8569, 4.8555, 4.8552, 4.855, 4.855, 4.8549, 4.8549, 4.8548, 4.8525, 4.8476, 4.8445, 4.8393, 4.8361, 4.8361, 4.8352, 4.8339, 4.8302, 4.8297, 4.8285, 4.8257, 4.8255, 4.8247, 4.8246, 4.8218, 4.8214, 4.8205, 4.8197, 4.8188, 4.8153, 4.8153, 4.7686, 4.7491, 4.4524, 4.4791, 4.3272, 3.9914, 4.0558, 4.0591, 4.3226, 3.3809, 4.3874, 2.9206, 2.7765, 2.704, 3.7647, 2.589, 3.0394, 3.2051, 2.983, 1.9833, 2.8458, 2.6584, 2.5113, 2.8901, 5.0758, 5.0755, 5.0743, 5.0734, 5.0701, 5.0698, 5.0697, 5.0696, 5.0554, 5.051, 5.0483, 5.0458, 5.0408, 5.0302, 5.0301, 5.0264, 5.0201, 5.0185, 5.0177, 5.0171, 5.0127, 5.0125, 5.0116, 5.0095, 5.0078, 5.0071, 5.006, 5.0025, 5.0011, 5.0008, 4.949, 4.8652, 4.558, 4.5472, 4.4021, 3.7487, 4.0875, 4.0036, 3.8579, 3.6134, 3.5484, 3.5682, 3.4734, 3.4527, 3.1354, 3.1903, 3.2097, 3.1083, 3.2313, 3.2142, 2.9815, 2.6689, 2.7385, 2.3435, 5.0889, 5.0883, 5.0876, 5.0875, 5.0867, 5.0821, 5.081, 5.0794, 5.0784, 5.0778, 5.0729, 5.0727, 5.0722, 5.0718, 5.071, 5.0701, 5.0698, 5.0694, 5.0692, 5.0687, 5.0674, 5.0674, 5.0672, 5.0666, 5.0666, 5.0648, 5.064, 5.064, 5.0637, 5.0633, 4.7916, 4.3125, 4.8121, 4.8243, 3.828, 2.8386, 2.868, 3.0569, 5.1018, 5.1001, 5.0999, 5.0998, 5.0996, 5.0996, 5.0938, 5.0923, 5.0865, 5.0807, 5.0691, 5.0688, 5.0677, 5.0672, 5.0654, 5.0643, 5.0643, 5.0623, 5.0623, 5.0621, 5.0617, 5.0593, 5.0592, 5.0576, 5.0571, 5.057, 5.055, 5.0541, 5.0525, 5.0522, 4.9485, 4.8185, 4.6983, 4.5665, 4.5492, 4.1779, 4.2207, 4.09, 3.8882, 3.8947, 3.9331, 3.6637, 3.7019, 3.6568, 2.7766, 3.3656, 4.7069, 2.2893, 2.7148, 5.1953, 5.1951, 5.1919, 5.1912, 5.1891, 5.1869, 5.1857, 5.1853, 5.1849, 5.1842, 5.1838, 5.1833, 5.1823, 5.182, 5.1817, 5.1812, 5.1811, 5.181, 5.18, 5.178, 5.1776, 5.1771, 5.177, 5.1769, 5.176, 5.1756, 5.1754, 5.1746, 5.1735, 5.1735, 4.5542, 4.2267, 4.7492, 5.3251, 5.3249, 5.3201, 5.3197, 5.3173, 5.3169, 5.3168, 5.3162, 5.315, 5.3124, 5.3119, 5.3112, 5.3086, 5.3072, 5.3071, 5.3063, 5.3061, 5.306, 5.3051, 5.3051, 5.3037, 5.3036, 5.3035, 5.3032, 5.3026, 5.3024, 5.3023, 5.3013, 5.3007, 5.3004, 5.2899, 3.1967, 4.3989, 5.3857, 5.3856, 5.3845, 5.3843, 5.3734, 5.3712, 5.3708, 5.3701, 5.3696, 5.3692, 5.3671, 5.366, 5.3643, 5.3639, 5.3639, 5.363, 5.3617, 5.3605, 5.3578, 5.3564, 5.3552, 5.3539, 5.3532, 5.353, 5.3526, 5.3499, 5.3439, 5.3425, 5.3406, 5.3404, 5.3214, 5.0921, 5.055, 4.8277, 3.8349, 5.1654, 3.3632, 3.4046, 5.8443, 5.843, 5.8426, 5.8426, 5.8423, 5.8316, 5.8278, 5.8241, 5.816, 5.8141, 5.814, 5.813, 5.8116, 5.8094, 5.8091, 5.8071, 5.8047, 5.8033, 5.8023, 5.8021, 5.8021, 5.7987, 5.7971, 5.796, 5.7923, 5.7903, 5.7889, 5.7877, 5.7804, 5.7797, 2.8379, 2.3333]}, \"token.table\": {\"Topic\": [10, 17, 3, 5, 14, 11, 14, 1, 2, 3, 15, 2, 4, 5, 6, 7, 5, 7, 1, 10, 6, 7, 3, 7, 20, 7, 8, 1, 9, 13, 2, 5, 6, 7, 8, 11, 14, 4, 1, 3, 5, 3, 4, 5, 14, 5, 5, 1, 2, 3, 4, 5, 6, 7, 8, 12, 6, 15, 2, 8, 2, 20, 15, 2, 3, 6, 9, 19, 5, 6, 7, 5, 6, 7, 11, 3, 17, 6, 13, 4, 8, 14, 1, 7, 6, 9, 19, 1, 2, 3, 4, 1, 18, 8, 1, 5, 2, 3, 4, 6, 9, 4, 15, 2, 8, 16, 17, 9, 4, 6, 7, 9, 1, 6, 7, 9, 5, 1, 3, 5, 10, 14, 2, 17, 7, 1, 2, 3, 4, 5, 6, 7, 9, 10, 6, 1, 2, 3, 4, 5, 6, 7, 14, 15, 5, 7, 5, 6, 7, 1, 4, 8, 11, 1, 2, 5, 7, 3, 1, 7, 19, 7, 4, 19, 12, 17, 1, 2, 3, 5, 15, 15, 2, 11, 2, 3, 6, 1, 2, 3, 5, 6, 14, 1, 3, 8, 16, 1, 8, 8, 3, 7, 10, 1, 2, 3, 4, 8, 9, 3, 19, 3, 18, 1, 4, 5, 1, 2, 3, 4, 6, 7, 8, 4, 10, 10, 1, 4, 7, 8, 1, 7, 8, 16, 1, 9, 8, 11, 1, 2, 3, 8, 1, 2, 8, 19, 19, 14, 11, 7, 1, 2, 4, 19, 16, 19, 4, 6, 7, 6, 20, 1, 1, 2, 3, 16, 15, 1, 2, 3, 6, 8, 1, 19, 14, 16, 3, 2, 8, 8, 1, 3, 4, 7, 13, 6, 1, 15, 1, 2, 4, 5, 10, 7, 5, 7, 17, 14, 20, 5, 7, 13, 16, 1, 3, 4, 5, 8, 14, 14, 1, 4, 5, 7, 13, 15, 2, 8, 9, 10, 1, 3, 4, 5, 7, 1, 2, 5, 17, 19, 1, 2, 3, 4, 5, 6, 7, 13, 1, 2, 5, 6, 7, 9, 12, 13, 13, 12, 2, 19, 1, 2, 3, 4, 5, 9, 16, 18, 11, 1, 2, 3, 1, 2, 5, 6, 7, 13, 1, 2, 16, 16, 6, 1, 4, 2, 3, 4, 6, 8, 5, 11, 10, 17, 12, 10, 10, 1, 3, 10, 8, 1, 2, 3, 5, 6, 7, 1, 3, 4, 5, 6, 7, 8, 16, 3, 4, 5, 6, 7, 9, 7, 3, 20, 12, 13, 15, 18, 4, 6, 7, 19, 1, 4, 5, 6, 7, 20, 6, 7, 6, 7, 1, 2, 3, 4, 7, 13, 1, 4, 5, 6, 9, 13, 10, 4, 7, 9, 11, 13, 4, 5, 9, 1, 4, 5, 12, 13, 14, 1, 2, 4, 12, 1, 2, 3, 4, 5, 9, 17, 1, 10, 5, 9, 5, 1, 2, 3, 5, 7, 9, 8, 10, 1, 2, 11, 4, 4, 12, 4, 5, 5, 13, 5, 8, 1, 2, 3, 5, 7, 14, 9, 13, 15, 14, 2, 3, 4, 5, 6, 7, 6, 2, 7, 15, 1, 8, 5, 2, 4, 2, 4, 1, 8, 15, 16, 1, 1, 2, 13, 19, 1, 2, 3, 6, 2, 4, 1, 2, 3, 6, 1, 2, 3, 4, 5, 6, 7, 8, 10, 14, 1, 2, 20, 1, 2, 3, 5, 6, 1, 2, 13, 2, 6, 19, 4, 15, 5, 1, 2, 3, 20, 16, 16, 17, 11, 1, 2, 3, 17, 2, 10, 20, 9, 4, 1, 2, 3, 4, 5, 6, 7, 8, 9, 9, 3, 4, 5, 6, 7, 10, 1, 1, 2, 3, 5, 7, 14, 2, 3, 5, 9, 4, 5, 4, 17, 1, 8, 13, 9, 2, 1, 2, 3, 6, 1, 7, 9, 16, 2, 4, 9, 11, 1, 4, 4, 7, 4, 5, 12, 7, 18, 5, 8, 18, 7, 12, 11, 10, 3, 4, 6, 1, 13, 9, 12, 2, 3, 16, 18, 11, 8, 2, 3, 5, 6, 7, 9, 11, 1, 2, 3, 4, 5, 7, 14, 2, 5, 10, 3, 5, 12, 6, 7, 9, 7, 11, 1, 2, 3, 4, 2, 20, 5, 9, 7, 10, 4, 13, 3, 1, 3, 4, 5, 6, 8, 2, 5, 9, 9, 1, 2, 3, 1, 2, 3, 4, 5, 8, 9, 4, 10, 18, 18, 3, 10, 17, 1, 3, 1, 2, 3, 4, 5, 6, 7, 8, 1, 2, 5, 6, 7, 1, 2, 6, 7, 6, 1, 3, 4, 18, 16, 1, 2, 3, 1, 2, 3, 6, 8, 1, 2, 3, 4, 5, 14, 8, 14, 2, 3, 6, 9, 6, 3, 12, 1, 2, 10, 6, 7, 7, 13, 1, 2, 3, 4, 8, 10, 10, 4, 1, 2, 3, 4, 5, 6, 7, 14, 5, 11, 15, 18, 13, 19, 15, 2, 4, 1, 2, 3, 5, 7, 11, 3, 3, 1, 2, 3, 4, 5, 6, 7, 9, 17, 5, 8, 17, 1, 2, 3, 4, 5, 6, 12, 19, 1, 2, 3, 6, 8, 1, 2, 3, 4, 5, 6, 7, 8, 6, 8, 3, 17, 19, 2, 11, 12, 1, 2, 3, 4, 7, 14, 14, 15, 3, 5, 7, 2, 17, 13, 17, 11, 17, 2, 3, 6, 9, 11, 5, 5, 1, 8, 1, 3, 5, 6, 7, 8, 2, 3, 2, 18, 2, 3, 10, 10, 1, 6, 7, 6, 7, 8, 1, 4, 7, 1, 2, 3, 4, 5, 6, 7, 8, 10, 13, 1, 2, 4, 5, 6, 9, 4, 5, 20, 1, 3, 7, 19, 4, 7, 1, 16, 1, 2, 3, 4, 5, 7, 8, 12, 7, 1, 4, 8, 1, 3, 8, 20, 17, 18, 9, 1, 2, 3, 5, 6, 8, 14, 3, 4, 5, 14, 4, 1, 2, 3, 6, 15, 1, 2, 19, 1, 2, 3, 4, 8, 4, 16, 3, 1, 2, 5, 7, 9, 5, 1, 15, 1, 6, 7, 13, 18, 1, 2, 3, 4, 5, 6, 7, 8, 2, 3, 5, 16, 16, 11, 11, 15, 15, 15, 1, 3, 5, 20, 20, 20, 2, 4, 5, 6, 9, 12, 4, 5, 6, 8, 2, 2, 6, 1, 3, 7, 7, 1, 2, 3, 4, 5, 7, 9, 1, 2, 3, 5, 12, 20, 2, 4, 1, 4, 6, 7, 1, 2, 3, 4, 5, 6, 7, 9, 12, 5, 7, 18, 10, 5, 1, 2, 3, 5, 2, 4, 5, 7, 9, 4, 14, 6, 5, 4, 11, 12, 1, 3, 4, 5, 9, 10, 14, 3, 16, 13, 13, 5, 6, 16, 10, 20, 8, 8, 6, 10, 18, 18, 1, 4, 10, 6, 14, 7, 2, 3, 4, 5, 6, 8, 10, 14, 19, 14, 14, 8, 12, 15, 1, 2, 3, 4, 18, 1, 4, 6, 8, 13, 2, 7, 16, 1, 1, 2, 3, 4, 18, 1, 2, 3, 8, 2, 4, 5, 9, 12, 1, 2, 3, 4, 5, 6, 7, 9, 9, 9, 18, 9, 1, 2, 3, 5, 7, 9, 13, 1, 2, 3, 4, 10, 1, 2, 3, 4, 8, 1, 2, 3, 4, 5, 8, 1, 2, 3, 5, 20, 20, 9, 1, 2, 3, 4, 5, 6, 9, 10, 1, 13, 20, 18, 1, 6, 9, 1, 2, 3, 4, 5, 8, 19, 1, 2, 3, 4, 5, 6, 7, 8, 9, 6, 2, 3, 4, 5, 12, 19, 1, 2, 3, 4, 6, 12, 20, 1, 3, 2, 5, 7, 11, 1, 2, 3, 4, 5, 6, 7, 11, 16, 1, 2, 3, 5, 6, 7, 4, 19, 1, 2, 3, 4, 5, 6, 7, 8, 9, 10, 12, 16, 4, 7, 16, 20, 4, 7, 13, 7, 3, 3, 18, 3, 5, 9, 14, 15, 4, 3, 4, 5, 9, 12, 1, 2, 3, 7, 18, 1, 2, 3, 4, 5, 6, 8, 14, 1, 2, 3, 5, 6, 8, 1, 1, 2, 4, 5, 8, 10, 14, 14, 4, 5, 13, 12, 16, 3, 10, 3, 1, 3, 4, 5, 13, 2, 8, 1, 2, 3, 4, 5, 14, 2, 8, 11, 1, 3, 11, 2, 1, 2, 3, 6, 8, 1, 8, 1, 6, 7, 3, 1, 2, 2, 7, 9, 1, 3, 6, 7, 16, 6, 15, 1, 2, 6, 7, 9, 10, 8, 2, 5, 5, 7, 10, 4, 5, 9, 12, 1, 2, 3, 4, 5, 6, 9, 1, 15, 1, 15, 1, 3, 4, 10, 14, 14, 14, 17, 1, 2, 3, 8, 7, 16, 1, 2, 3, 4, 17, 2, 6, 7, 11, 6, 7, 1, 11, 19, 12, 12, 1, 2, 3, 4, 5, 6, 7, 9, 1, 5, 13, 4, 5, 18, 19, 1, 2, 3, 4, 5, 6, 7, 8, 1, 3, 6, 8, 6, 13, 2, 4, 5, 6, 7, 9, 1, 2, 3, 4, 5, 6, 7, 12, 3, 4, 5, 17, 9, 1, 2, 4, 6, 7, 8, 7, 9, 12, 9, 17, 1, 2, 3, 4, 8, 17, 1, 2, 3, 4, 5, 6, 7, 9, 1, 3, 1, 3, 5, 14, 20, 14, 18, 1, 2, 3, 4, 5, 6, 7, 1, 3, 4, 5, 6, 7, 10, 1, 8, 2, 9, 4, 9, 17, 4, 7, 7, 9, 9, 9, 1, 2, 3, 4, 6, 7, 9, 15, 2, 1, 2, 3, 4, 5, 6, 7, 8, 9, 12, 2, 2, 4, 11, 1, 2, 3, 4, 6, 7, 8, 12, 8, 1, 7, 19, 6, 19, 6, 19, 16, 5, 5, 16, 18, 1, 4, 5, 6, 7, 8, 9, 5, 17, 10, 4, 2, 3, 4, 5, 6, 9, 10, 4, 1, 4, 5, 9, 3, 10, 7, 14, 11, 1, 5, 10, 2, 9, 13, 1, 4, 5, 10, 1, 2, 6, 7, 16, 1, 3, 4, 5, 7, 16, 1, 2, 4, 5, 6, 9, 4, 5, 1, 4, 5, 7, 9, 14, 11, 9, 13, 2, 5, 6, 7, 5, 6, 7, 14, 9, 4, 13, 20, 15, 1, 2, 3, 4, 5, 6, 9, 10, 11, 13, 15, 16, 5, 1, 7, 13, 10, 13, 11, 17, 1, 2, 3, 4, 6, 7, 8, 1, 2, 4, 6, 7, 9, 4, 6, 7, 9, 1, 2, 3, 4, 5, 6, 9, 13, 14, 4, 19, 8, 14, 16, 5, 6, 10, 12, 6, 10, 16, 4, 5, 10, 2, 3, 5, 6, 9, 20, 10, 1, 5, 7, 13, 6, 4, 5, 9, 11, 13, 3, 4, 5, 9, 8, 13, 1, 2, 3, 5, 9, 5, 1, 3, 5, 6, 11, 15, 20, 1, 3, 16, 19, 6, 17, 11, 1, 2, 3, 6, 7, 13, 11, 13, 7, 12, 1, 2, 3, 6, 12, 8, 7, 1, 2, 3, 5, 10, 10, 1, 2, 3, 4, 16, 1, 2, 3, 10, 20, 2, 10, 17, 10, 6, 17, 2, 1, 2, 4, 1, 3, 4, 5, 8, 10, 14, 3, 16, 6, 6, 5, 9, 1, 4, 5, 6, 7, 8, 5, 4, 9, 4, 9, 2, 5, 9, 16, 10, 1, 8, 1, 2, 3, 4, 5, 8, 12, 1, 2, 3, 4, 3, 18, 1, 2, 1, 2, 3, 4, 5, 6, 9, 1, 2, 3, 15, 16, 1, 4, 5, 13, 1, 1, 3, 6, 7, 1, 1, 2, 3, 6, 1, 2, 3, 4, 5, 13, 1, 3, 5, 6, 9, 19, 1, 13, 2, 11, 15, 3, 4, 1, 2, 3, 4, 6, 7, 9, 1, 3, 4, 5, 6, 7, 8, 9, 16, 3, 1, 12, 1, 2, 4, 5, 10, 2, 3, 14, 1, 3, 5, 14, 11, 1, 2, 4, 7, 10, 1, 2, 3, 4, 5, 7, 8, 15, 2, 19, 13, 2, 3, 11, 1, 2, 3, 4, 5, 6, 7, 8, 14, 1, 3, 6, 12, 7, 1, 3, 2, 3, 6, 19, 12, 14, 19, 5, 2, 4, 9, 11, 7, 5, 12, 4, 16, 3, 4, 6, 10, 3, 7, 6, 1, 2, 3, 6, 7, 11, 6, 6, 1, 5, 7, 3, 1, 16, 1, 2, 3, 4, 1, 4, 5, 6, 7, 4, 5, 6, 1, 2, 3, 4, 5, 1, 4, 13, 10, 4, 5, 9, 4, 6, 7, 9, 12, 10, 1, 4, 13, 9, 17, 1, 2, 3, 7, 8, 11, 18, 2, 1, 8, 9, 1, 4, 6, 8, 14, 20, 20, 14, 11, 2, 3, 5, 14, 1, 3, 4, 8, 18, 18, 19, 4, 4, 5, 11, 13, 16, 3, 2, 6, 15, 14, 13, 14, 4, 11, 1, 2, 11, 4, 7, 2, 4, 5, 9, 11, 13, 15, 6, 7, 1, 3, 16, 2, 5, 1, 2, 3, 4, 8, 15, 20, 9, 1, 2, 3, 4, 6, 8, 9, 1, 2, 3, 5, 8, 9, 13, 11, 1, 2, 3, 4, 5, 9, 3, 4, 5, 14, 2, 17, 19, 15, 1, 2, 3, 4, 5, 6, 7, 8, 9, 12, 4, 7, 12, 18, 4, 1, 2, 3, 4, 6, 8, 15, 1, 4, 5, 6, 7, 1, 2, 3, 6, 7, 8, 12, 7, 12, 5, 12, 12, 7, 8, 9, 1, 2, 3, 4, 6, 10, 1, 2, 3, 4, 5, 6, 7, 8, 9, 1, 2, 3, 4, 5, 6, 7, 12, 19, 1, 2, 4, 7, 10, 1, 2, 8, 3, 9, 1, 3, 4, 5, 10, 14, 2, 2, 3, 5, 6, 14, 19, 5, 2, 9, 11, 12, 1, 5, 7, 10, 19, 11, 4, 1, 3, 4, 5, 7, 9, 10, 1, 2, 4, 5, 13, 2, 4, 9, 12, 4, 20, 2, 18, 19, 2, 4, 7, 19, 20, 12, 11, 7, 1, 2, 3, 5, 12, 14, 3, 3, 4, 5, 6, 11, 2, 6, 7, 9, 19, 17, 1, 2, 3, 4, 8, 10, 11, 1, 2, 3, 4, 1, 3, 2, 5, 15, 2, 1, 2, 3, 8, 1, 2, 3, 4, 7, 11, 18, 1, 2, 3, 4, 5, 6, 7, 8, 9, 5, 11, 19, 3, 1, 3, 4, 8, 1, 2, 3, 4, 6, 2, 8, 18, 10, 19, 1, 2, 3, 4, 6, 7, 8, 10, 1, 4, 5, 6, 7, 9, 12, 13, 14, 16, 1, 2, 3, 6, 2, 5, 6, 7, 1, 2, 3, 4, 5, 6, 7, 4, 5, 6, 10, 2, 3, 6, 9, 16, 2, 6, 8, 2, 1, 2, 3, 5, 6, 10, 14, 1, 2, 3, 6, 8, 9, 1, 2, 3, 4, 6, 7, 8, 9, 1, 2, 3, 4, 5, 6, 7, 9, 10, 1, 2, 3, 4, 5, 6, 7, 8, 9, 12, 12, 1, 2, 4, 6, 9, 6, 7, 9, 4, 6, 7, 9, 3, 4, 5, 6, 7, 9, 1, 2, 3, 4, 5, 10, 14, 1, 2, 3, 4, 5, 6, 7, 8, 12, 8, 6, 1, 2, 3, 5, 6, 7, 8, 7, 16], \"Freq\": [0.9871930713444889, 0.9841938630599333, 0.059836479306453125, 0.12511263854985655, 0.8105123106055924, 0.9349056010983425, 0.054536160064069986, 0.5479443851520227, 0.03193540895057801, 0.3126308455161847, 0.10589109283612708, 0.04628677823737919, 0.027000620638471196, 0.09257355647475839, 0.7097305996398143, 0.12343140863301118, 0.8123828862918322, 0.18642368472741672, 0.9991122429695585, 0.9857466168181966, 0.18254692688992477, 0.814440135355049, 0.006520951185257518, 0.9846636289738852, 0.9787101399738741, 0.9845864872010927, 0.9837993400849719, 0.9975734225841789, 0.9370707041866928, 0.05264442158352207, 0.451187839101645, 0.008921793428563602, 0.31035095712217675, 0.030589006040789492, 0.10897333402031256, 0.0006372709591831144, 0.08985520524481913, 0.9979860078944005, 0.014794746871543073, 0.8965616604155102, 0.08728900654210413, 0.03800372187724372, 0.21662121470028922, 0.23182270345118672, 0.5092498731550659, 0.99841463535888, 0.9964247284675127, 0.0004997629386647879, 0.40080987680915986, 0.098953061855628, 0.09545472128497448, 0.06796775965841115, 0.30285634083086144, 0.03148506513588163, 0.0019990517546591515, 0.998101987951329, 0.9837052375576546, 0.9642178234669866, 0.14873779412080373, 0.8488312043790696, 0.998968432937273, 0.9423225816672236, 0.9987952671179086, 0.040133193133699674, 0.5345011630988183, 0.007296944206127214, 0.4159258197492512, 0.9866937672132146, 0.789909726047182, 0.07239938665548727, 0.13615407042673724, 0.7992692385361209, 0.04372592526342646, 0.15659982536203895, 0.9765241812746116, 0.9980991442533147, 0.9905915603264995, 0.9971603463757759, 0.945273841858016, 0.11822373355872266, 0.8792890183429998, 0.9779386444727971, 0.9771757996588327, 0.020166855152433695, 0.9435874426376054, 0.010002693738207832, 0.0433450061989006, 0.8604126966376597, 0.08718848659261619, 0.043594243296308094, 0.00764811285900142, 0.996293708318308, 0.9860434514907794, 0.9963500385884501, 0.014396555815567143, 0.9851357479509516, 0.09191670990850657, 0.027157209745695125, 0.7792030180880217, 0.0062670484028527216, 0.09191670990850657, 0.23056268008212066, 0.7531714216015941, 0.9776799679750101, 0.021253912347282827, 0.9962522290094104, 0.9808318156076917, 0.9903708265246671, 0.008496425776669873, 0.24639634752342632, 0.41400765602682293, 0.3305882029467914, 0.02576651913949229, 0.4176323310526042, 0.4144115161601677, 0.1406422503030621, 0.9989924427280492, 0.3431053724471555, 0.015048481247682259, 0.1053393687337758, 0.1625235974749684, 0.37320233494252003, 0.997051061289536, 0.9675689671073052, 0.9869522522147559, 0.02213149116574982, 0.05688181501372541, 0.03688581860958303, 0.13181826755740464, 0.16656859140538022, 0.5715360525611182, 0.006988891947078891, 0.005435804847728026, 0.0015530870993508646, 0.9877760021727272, 0.007701996374571121, 0.04775237752234095, 0.043131179697598276, 0.16636312169073622, 0.026186787673541812, 0.26340827601033234, 0.21411549921307715, 0.23105989123713364, 0.9729957046808124, 0.9978411113563211, 0.9960478883456395, 0.07194040792093588, 0.8878100341151859, 0.0376052132313983, 0.9521069586704375, 0.011730270538034137, 0.03519081161410241, 0.9892446221497732, 0.10801969551609084, 0.24956274481303745, 0.003724817086761753, 0.6350813132928789, 0.998401877472274, 0.987623665189764, 0.011797552314553494, 0.9757284375437946, 0.9947619474762777, 0.9982392529023303, 0.9722436664268252, 0.9864852406024952, 0.9713025369524398, 0.016292758628523807, 0.8073967053690686, 0.01900821839994444, 0.14482452114243383, 0.01267214559996296, 0.9920109040162588, 0.9959135615617498, 0.9912437528011482, 0.050647377508775605, 0.8124683475366087, 0.13611482705483444, 0.41894969153666395, 0.2891794237949057, 0.13297447188353004, 0.05767567455189255, 0.00400525517721476, 0.09612612425315425, 0.2861139503044486, 0.22307189345770567, 0.19397555952843973, 0.29702507552792334, 0.3160294179728705, 0.682517314445611, 0.970627167439717, 0.033525394127252424, 0.9303296870312547, 0.033525394127252424, 0.04936623214649488, 0.42011671030792586, 0.44177740400485727, 0.027705538449563454, 0.013097163630702725, 0.04735128389561754, 0.9984453230782435, 0.9575996044361651, 0.9968141951010788, 0.9932935272769057, 0.06725587384678414, 0.9297135502349572, 0.9978421211405036, 0.555736508709248, 0.005065306720006167, 0.01845218876573675, 0.1667933141373459, 0.186692733394513, 0.062230911131504335, 0.004703499097148583, 0.22267658255949604, 0.7731825783315834, 0.986793296002666, 0.48217870338175206, 0.06702932647907764, 0.12901343483607416, 0.3207317234751565, 0.4271088369485367, 0.11286295691386203, 0.04647298225864907, 0.4138308420174941, 0.998866593058008, 0.9792417074165433, 0.80740880580534, 0.18350200131939545, 0.010892386193506855, 0.3757873236759865, 0.10529306653723293, 0.5064959579980687, 0.14995251820248529, 0.4049898719956886, 0.4439539121585391, 0.981191820296047, 0.9577175023019536, 0.9577839960870593, 0.9933310150216254, 0.9939523732845134, 0.017437936393855047, 0.9660616762195696, 0.015112878208007708, 0.9389880361001672, 0.0397691107490326, 0.9345741026022661, 0.13204746482237562, 0.67871310108291, 0.18856160614553227, 0.9852034328372598, 0.9693196160703723, 0.9993659406862268, 0.0026729976072934637, 0.3154137176606287, 0.10691990429173855, 0.5746944855680948, 0.9982520900615712, 0.3596681416167548, 0.24073242660485064, 0.0020435689864588343, 0.015122410499795373, 0.382147400467802, 0.9991725176446099, 0.985066134188993, 0.9990051370174492, 0.9333496475574372, 0.9963939146812549, 0.9982793858765286, 0.9667874653586845, 0.9768062452734682, 0.6048274041213993, 0.008795029366418558, 0.26182125883107554, 0.02029622161481206, 0.1035107302355415, 0.9952588569541513, 0.9985594882144059, 0.9741146049996907, 0.3359000008321667, 0.574314827921244, 0.0651667194043478, 0.013775078898480023, 0.010596214537292325, 0.9916565103219419, 0.09883704307026302, 0.8961225238370514, 0.9975491686182129, 0.999421164335276, 0.9741884977290877, 0.07451376202060851, 0.04098256911133468, 0.026079816707212978, 0.8569082632369979, 0.27390187395660265, 0.2808739216573162, 0.056772388420095826, 0.06772846337835993, 0.177289212961001, 0.14342498127182104, 0.9119685924538107, 0.6926279113262563, 0.04579358091413265, 0.09874240884609853, 0.037922809194516106, 0.12450129811029816, 0.9906062611582371, 0.9981454316524444, 0.9987037196231081, 0.9837089295032373, 0.9849448520581388, 0.09143951985040961, 0.05486371191024577, 0.029260646352131076, 0.032918227146147463, 0.7900374515075391, 0.008538877707634706, 0.5635659287038906, 0.042694388538173526, 0.375710619135927, 0.9769027535620466, 0.4117713331258735, 0.023821482081662102, 0.03232915425368428, 0.07827058398260404, 0.15483963353080366, 0.11570434153950164, 0.02892608538487541, 0.15313809909639922, 0.0005614359208205355, 0.2358030867446249, 0.4126554018030936, 0.10218133758933746, 0.09881272206441424, 0.005614359208205355, 0.0005614359208205355, 0.1442890316508776, 0.9883747317547241, 0.9768929954644586, 0.25338264098539176, 0.743571488499187, 0.005893386985902614, 0.06556393021816659, 0.33002967121054644, 0.21879199185163456, 0.093557518401204, 0.0493571160069344, 0.23647215280934242, 0.9882224818746674, 0.9776215572209319, 0.9115975957263195, 0.03314096930657972, 0.054793069253545136, 0.10695829843220243, 0.004477324120417776, 0.01691433556602271, 0.8074107830486723, 0.006964726409538762, 0.0562152917341343, 0.0640681172830792, 0.1820883333308567, 0.7519573765329823, 0.9853693256270296, 0.995946179992073, 0.9976571923678045, 0.9965663627333811, 0.11235876797328204, 0.3309615410369464, 0.22204232718529546, 0.14981169063104272, 0.18458940452753478, 0.989179320163722, 0.0060685847862805035, 0.9851964341684746, 0.9856222673065627, 0.9846894549068032, 0.9972690214610738, 0.980276819945383, 0.9858160586199191, 0.013628793437141738, 0.9966658685480161, 0.9644185649894508, 0.08606379044162707, 0.5986635093357136, 0.0004728779694594894, 0.05863686821297669, 0.0009457559389189788, 0.25488122553866477, 0.1659770063985976, 0.02861672524113752, 0.1359294448954032, 0.16168449761242698, 0.03147839776525127, 0.042925087861706276, 0.19745540416384888, 0.23465714697732765, 0.024652309700484626, 0.038846063770460626, 0.0007470396878934735, 0.3765080026983107, 0.18900104103704882, 0.3697846455072694, 0.9787147771445125, 0.9923209631546571, 0.9574718265634937, 0.9612134523738861, 0.9960916537094069, 0.745707586909328, 0.24542275012205733, 0.09220504728472992, 0.6333532903144208, 0.062317894026920916, 0.21175366031596596, 0.9042418797508971, 0.027462914233154355, 0.05899440835270195, 0.0030514349147949286, 0.006102869829589857, 0.9443782123972141, 0.9404325719348153, 0.05656737274795882, 0.8674860818588809, 0.13132518510017174, 0.5575782702679956, 0.029870264478642623, 0.03413744511844871, 0.10810190954175425, 0.10667951599515221, 0.16215286431263137, 0.07912914565154977, 0.06758947857736543, 0.14177305262569334, 0.1697979583772839, 0.12034224234506528, 0.4203735862738582, 0.9970713507957542, 0.34756679450668715, 0.11748736715719002, 0.01958122785953167, 0.44057762683946255, 0.06853429750836085, 0.9434166213218755, 0.006497359650977104, 0.04808046141723057, 0.22237894403508612, 0.0862285701360538, 0.19287969635696245, 0.045383457966344104, 0.44929623386680667, 0.00453834579663441, 0.04820345603137081, 0.1623695361056701, 0.08625881605613724, 0.7002186244557023, 0.05652344501019915, 0.06881115044719896, 0.7876419185116882, 0.052837133379099205, 0.012287705436999816, 0.022117869786599666, 0.9928704570823741, 0.11341497067191901, 0.8840551560067533, 0.0616802223263096, 0.925203334894644, 0.9981791472360212, 0.007927269899636399, 0.9235269433076404, 0.0063418159197091185, 0.0015854539799272796, 0.04042907648814563, 0.019818174749090995, 0.997775376526153, 0.9987000649531178, 0.9919459310331898, 0.006672282047308451, 0.9793086660002327, 0.9959398149659341, 0.9948912554781024, 0.9695340096298264, 0.9937452241463277, 0.9982579166174754, 0.07679829787850778, 0.9130464303333703, 0.9992081427340478, 0.956348522341311, 0.0157646044430918, 0.07165729292314454, 0.10127564066471095, 0.7695993259945724, 0.03773950760618946, 0.0038217222892343757, 0.9745498879379151, 0.9503655702979504, 0.9877029448034976, 0.924133765509766, 0.0604860648579402, 0.007958692744465815, 0.7178740855508166, 0.07162823470019233, 0.1034630056780556, 0.03660998662454275, 0.9916482982071054, 0.5616114095284515, 0.15019840022272538, 0.2840708873777632, 0.9987907196653365, 0.9991152912171979, 0.999137408048288, 0.9990145769700343, 0.9990006975453235, 0.9956814800808514, 0.9958565281390414, 0.9982504991631698, 0.9977489862637872, 0.9813649528099094, 0.9507135353671587, 0.9961303285203934, 0.25130858793582367, 0.7486126858384261, 0.9951484266808738, 0.9624824755378278, 0.2653581503892426, 0.7005455170276004, 0.005307163007784852, 0.027983223131956492, 0.9986832333043423, 0.9901237665228573, 0.010936791111838684, 0.16283666766515376, 0.8245125299313941, 0.0006075995062132602, 0.4211474209115835, 0.08688166120868716, 0.0864243893075888, 0.10951662031305566, 0.15753016992838276, 0.039554019445007575, 0.039325383494458396, 0.05190036077466312, 0.0022863595054917673, 0.005715898763729418, 0.21964407621471252, 0.7801382585065246, 0.9722076567603078, 0.0179122678464635, 0.7795907483176727, 0.07816262333002254, 0.03745292367896913, 0.08671166025674375, 0.14555134751220328, 0.26541716311048835, 0.5822053900488131, 0.21511100750427123, 0.7847842963431689, 0.9867519333959351, 0.9985112241629115, 0.9887765332099916, 0.9894519238436558, 0.07247981984998099, 0.9109963563902783, 0.014995824796547791, 0.9540710511550964, 0.9538305202750748, 0.6803184261477637, 0.30923564824898353, 0.9936165906941086, 0.11492875971126322, 0.008513241460093572, 0.8760125462436286, 0.9881060983889246, 0.9837153205998559, 0.013710318057140848, 0.9534740880420871, 0.988314812105899, 0.9975655929920293, 0.15374900460368965, 0.06974181652126128, 0.17356202066086615, 0.22111325919808977, 0.0515138417486589, 0.025360660553185924, 0.00237756192686118, 0.26470189452387805, 0.03804099082977888, 0.9947049738173843, 0.02548747058712468, 0.04369280672078517, 0.09466774789503453, 0.02548747058712468, 0.7973937226543293, 0.010923201680196292, 0.9976255211194519, 0.006757832823781577, 0.4004015948090584, 0.12164099082806838, 0.2517292726858637, 0.018584040265399334, 0.2010455265075019, 0.24083030584989362, 0.21553762532684542, 0.0021993635237433206, 0.5410434268408569, 0.06316311690820027, 0.9358816758792491, 0.9948637349630585, 0.9929574274417612, 0.00553088498638971, 0.9927938550569531, 0.945446129906174, 0.9881686295842784, 0.9988506101045777, 0.7495426407514163, 0.08529160682196363, 0.16375988509817016, 0.0010234992818635635, 0.9973328896973257, 0.9853201619179257, 0.9841595246575725, 0.9938900902231265, 0.6981857965904206, 0.08240151347319158, 0.052336096395135194, 0.16703009487809106, 0.5504370593914554, 0.44889091222785926, 0.976993604384533, 0.021173236008333533, 0.22821573255556865, 0.13900412801111908, 0.6327799857222586, 0.9854291179177587, 0.9809253577560579, 0.9865247493729851, 0.9893329499131563, 0.9827954168330363, 0.9916600304269952, 0.974997955497714, 0.9755657921899279, 0.9905053093661471, 0.23141577549879586, 0.728086425743853, 0.0392970184809276, 0.359344927867013, 0.6288536237672727, 0.9790320783021252, 0.9536740159748207, 0.7410776245517217, 0.1984892500091995, 0.059776685330955835, 0.970452586043092, 0.9933513505214722, 0.9984347410781628, 0.07829542847900163, 0.11344847800018604, 0.05113170839445005, 0.21571189478908612, 0.5368829381417255, 0.003195731774653128, 0.9827268808956038, 0.12382895731253853, 0.3517269319409339, 0.021077269329793792, 0.02502925732913013, 0.18047411863635934, 0.13831957997677177, 0.15807951997345343, 0.35571182073510876, 0.6424371065397722, 0.0010779146082882083, 0.9810026056201513, 0.018666011523427825, 0.9549384482857023, 0.5377884264397456, 0.0521325515426284, 0.4088289568342964, 0.9909519015186513, 0.9904007486158506, 0.38985970083016386, 0.07797194016603277, 0.34712931554143406, 0.18479790338785734, 0.9987389199213221, 0.9958776740598133, 0.2585113793023409, 0.7312179014551929, 0.9897413899112538, 0.969335189003865, 0.9960579915689743, 0.997297556134114, 0.9911744489357336, 0.004205590236716242, 0.10213576289168017, 0.3773015240939714, 0.18384437320502428, 0.14178847083786186, 0.18985235925747607, 0.2904757785875979, 0.018944072516582467, 0.6819866105969689, 0.9798487983199807, 0.016826679162116817, 0.9654307169264524, 0.016826679162116817, 0.17900437165897218, 0.27097689382770096, 0.5130698550734871, 0.012541707568463019, 0.019382638969442846, 0.0015202069779955175, 0.0034204657004899145, 0.06513702686462493, 0.9336307183929572, 0.9987377045665097, 0.9908433090164556, 0.3489584510359206, 0.649705537126089, 0.9959950273951339, 0.9689752642006246, 0.030171684873312864, 0.14836854624730797, 0.05891832147974299, 0.7428329551269557, 0.005941343342495091, 0.009572164274019869, 0.020959739013802128, 0.0014853358356237728, 0.011882686684990183, 0.035997112645082666, 0.4934238367447917, 0.0017559567143942765, 0.139598558794345, 0.32924188394892684, 0.057061706825708935, 0.06479888741224574, 0.5319311653244053, 0.346238831247522, 0.9935006676921924, 0.9062962142838321, 0.0425991170051155, 0.050053962481010704, 0.9786782936363325, 0.9935025442349056, 0.011505826385662405, 0.8261183344905607, 0.16184862449165116, 0.05334601402207029, 0.2474815083498106, 0.4982627701442854, 0.00769942470421633, 0.19248561760540825, 0.37692841578890834, 0.44248118375219675, 0.05940719596673012, 0.02048523998852763, 0.03431277698078378, 0.06504063696357522, 0.9973026510814145, 0.9355716562669159, 0.02404821254917264, 0.9752886200497793, 0.9359068898622525, 0.06350796752636713, 0.9888895833422623, 0.23638927326911316, 0.7613933569249343, 0.28403299365165185, 0.13296835436877885, 0.5822282972360731, 0.04072115233758811, 0.9587980414032109, 0.9890272958570613, 0.9962509843342056, 0.42706513193820794, 0.2424409906287484, 0.2503664463781341, 0.050411095586256366, 0.029623014932130032, 0.0001299255040882896, 0.9749707887949836, 0.9882387603291132, 0.3276273837915455, 0.08323866458118534, 0.06459320371499983, 0.03362842049079888, 0.1095420825888399, 0.16547846518739645, 0.21608757325275713, 0.9207553416912986, 0.20606162517513907, 0.7830341756655285, 0.979426671896058, 0.9948896413944174, 0.9522437393142433, 0.9855810144798737, 0.9972349664740026, 0.03031402696301831, 0.9691015494739915, 0.039913730831768954, 0.7901440418363149, 0.028087440214948522, 0.12639348096726835, 0.014782863271025537, 0.9869159317542752, 0.9983327569414554, 0.9958704592258271, 0.010430770166123893, 0.16215106349156233, 0.1630993153248463, 0.03508531783150764, 0.018016784832395813, 0.08249790949570715, 0.0009482518332839902, 0.5262797674726146, 0.9848221779775045, 0.983055674466091, 0.9826209351692552, 0.9733805384316122, 0.08872990097258582, 0.24498875312784757, 0.1083604100373172, 0.32115512829900533, 0.00471132217553553, 0.003926101812946275, 0.22378780333793769, 0.003926101812946275, 0.4216363302524084, 0.17820741962939632, 0.28973859381922257, 0.021578857614988123, 0.0889824802775353, 0.04610312064924975, 0.09732881025952725, 0.32579538592136487, 0.13626033436333815, 0.000512256896102775, 0.1495790136620103, 0.18338796880479344, 0.06095857063623022, 0.8505362281292093, 0.1471106398553503, 0.9981586077643312, 0.983207490698881, 0.9697378472831379, 0.3489924064476022, 0.6442936734417272, 0.9779572649561805, 0.13712178623916724, 0.09141452415944482, 0.29302737881246693, 0.009391903167066248, 0.4683429045977036, 0.9147066398629978, 0.9207627712137744, 0.988375187617641, 0.9337478551150669, 0.03685846796506843, 0.027923081791718506, 0.46094233964180825, 0.5237981132293276, 0.9780056948655451, 0.9923151913544968, 0.352861019786244, 0.6415654905204436, 0.0014073892010810322, 0.021110838016215484, 0.15340542291783252, 0.7965822878118642, 0.02533300561945858, 0.9956852096397875, 0.9968036675550833, 0.9595013914701788, 0.03988426211574377, 0.07548106048961441, 0.12029794015532295, 0.00707634942090135, 0.11558037387472206, 0.07076349420901351, 0.6085660501975162, 0.029482951116211218, 0.9702571185516783, 0.025652206295120928, 0.9747838392145952, 0.15572373140353948, 0.006770597017545195, 0.8366523457395134, 0.9872649303177111, 0.9713800780726358, 0.003779689019737883, 0.023938030458339924, 0.984766939283116, 0.9883922416246637, 0.9833537876484522, 0.2014828215664002, 0.04369506973729161, 0.7549537049054272, 0.022816353123158446, 0.16716470961660984, 0.006984597894844422, 0.0987156502471345, 0.1257227621071996, 0.23561376898608516, 0.14993603480932693, 0.0013969195789688845, 0.19184362217839346, 0.9675526116392785, 0.04286144561684534, 0.48487010354056287, 0.10001003977263911, 0.18394703743896124, 0.013394201755264169, 0.1732316760347499, 0.11924390633207382, 0.8800536185634744, 0.9653677756401015, 0.004105183948833483, 0.7533012546109442, 0.1087873746440873, 0.13136588636267146, 0.8045882938938401, 0.19431962711535303, 0.999182432417282, 0.9330839172857585, 0.18019240807639716, 0.49823975299061113, 0.07693028310424979, 0.08157707872799642, 0.007744659372911054, 0.0005163106248607369, 0.0025815531243036844, 0.15127901308419592, 0.9900841322286132, 0.9711467047424752, 0.009494451024018613, 0.018988902048037225, 0.9252764570076584, 0.05754768208218363, 0.016925788847701066, 0.9551188441918078, 0.9953266197892052, 0.9661085464883834, 0.9875684205991095, 0.5207644106683045, 0.2255606329641159, 0.01247339905792346, 0.04365689670273211, 0.034301847409289515, 0.021828448351366055, 0.13928628948014532, 0.02158593291806178, 0.5905294505441188, 0.169603758641914, 0.21740118153190793, 0.9977902367368411, 0.47235380362888024, 0.05519226527309214, 0.46039547948637694, 0.011958324142503298, 0.9873909493278089, 0.9202624137343132, 0.07909028756056005, 0.9448839402172705, 0.39362739740415675, 0.19711417763139452, 0.024338793274608164, 0.38040632451424616, 0.0042067050104261025, 0.9934055074016065, 0.9938739222414975, 0.9969385067303373, 0.9963577833957281, 0.09216003896653348, 0.5938761131679636, 0.28601391403406945, 0.027409666761598322, 0.9939789414339893, 0.9993168953883816, 0.9850322285105315, 0.05252357367924631, 0.15100527432783314, 0.7944190518986004, 0.9967939390703179, 0.9786175574541226, 0.2515200948375401, 0.23817685373210035, 0.32290643475164305, 0.12609362844640606, 0.0020014861658159693, 0.006671620552719897, 0.023350671934519642, 0.02868796837669556, 0.05240747060782147, 0.7162354316402267, 0.05240747060782147, 0.17663258612265756, 0.9680602196629579, 0.9782216408395392, 0.2215652523112599, 0.7669566426158997, 0.9849531720761334, 0.9962032262667078, 0.07918813592966176, 0.009427159039245448, 0.8616423361870339, 0.04902122700407633, 0.9531008951704533, 0.9311097194182769, 0.6273726957569314, 0.06118820119110813, 0.0538301263643293, 0.016652485134288922, 0.12005279980533874, 0.120440066901485, 0.11694299758135528, 0.0034394999288633907, 0.8375182326782356, 0.041273999146360686, 0.9968294157939666, 0.9975520467364546, 0.9871566162503821, 0.06820056879643568, 0.9306356096526287, 0.9870191639829158, 0.9960134688933173, 0.21176328941857792, 0.0009496111633120086, 0.09306189400457685, 0.43397230163358796, 0.0883138381880168, 0.010445722796432095, 0.16048428659972946, 0.46779979181411346, 0.11748888780584878, 0.0010778797046408146, 0.1347349630801018, 0.2780929637973301, 0.9849240009251071, 0.997958217426898, 0.9954951612790622, 0.0011159375098237145, 0.3247378153587009, 0.2086803143370346, 0.4642300040866652, 0.029816647247369696, 0.0733948239935254, 0.0034403823746965035, 0.26146906047693425, 0.07511501518087366, 0.11869319192702936, 0.27809757528796736, 0.0011467941248988344, 0.15825758923603916, 0.9934822922553492, 0.004475145460609681, 0.9891488992220739, 0.9965168706567835, 0.9817576942090602, 0.025848983778273715, 0.024002627794111307, 0.014770847873299265, 0.9324097720020161, 0.071031626522884, 0.6697267643586207, 0.05653537621209135, 0.17540462876059112, 0.026093250559426778, 0.9971739661219751, 0.929559239191191, 0.9850850333998954, 0.9948145598299402, 0.9928572707122999, 0.9829076747829577, 0.9948468881564497, 0.15381387328081697, 0.1391649329683582, 0.04394682093737627, 0.4046769761316732, 0.051271291093605655, 0.009155587695286724, 0.19776069421819323, 0.9985711081099121, 0.983075395055999, 0.9767668801664315, 0.9991089061639021, 0.9957842025961108, 0.987709569988056, 0.9494334645688165, 0.9847940617119347, 0.9834091033128379, 0.9803668181865927, 0.9811744645627953, 0.9943421528012403, 0.9890207475614899, 0.9892111326259221, 0.9889860737085101, 0.9605127820966486, 0.0389578610920319, 0.9964967744512959, 0.9831105015336065, 0.9620186177939836, 0.9992563033483904, 0.29491235975991115, 0.128524192951426, 0.07412806149480587, 0.36370746719034247, 0.1130586261647399, 0.005866249470811976, 0.01599886219312357, 0.003733067845062166, 0.9710383600259535, 0.9048061366963009, 0.959945460035401, 0.9825328150862981, 0.995877556531238, 0.9650386811509427, 0.5427925583364716, 0.04947146552232282, 0.3842748343036766, 0.022993779749812017, 0.9628336314689512, 0.17164600156287274, 0.19818919768084275, 0.003539092815729335, 0.6264194283840923, 0.9798695615307496, 0.8778460346504342, 0.12184311082033349, 0.9980742236244786, 0.9982021998846027, 0.10901750071356606, 0.022794568331018356, 0.8681757329553078, 0.9915636993103201, 0.9769766726377345, 0.767699035970526, 0.14313841565640634, 0.06870643951507505, 0.020039378191896887, 0.2025094643957824, 0.23877981622786285, 0.00755632329835009, 0.11334484947525135, 0.4367554866446352, 0.01402871344233466, 0.5811124760536319, 0.11007144393216425, 0.015107845245591172, 0.06312921049050597, 0.07446009442469935, 0.14136626622660312, 0.0005395659016282562, 0.9905331826698061, 0.9749798002483938, 0.9868080392182533, 0.9898198501190395, 0.23024716687317076, 0.2852315649324354, 0.06013918537732072, 0.25258457858474703, 0.003436524878704041, 0.03608351122639243, 0.1340244702694576, 0.44401475132207224, 0.3260163105597681, 0.05778274161040666, 0.06143217792264287, 0.1106995681378317, 0.22482409065609776, 0.18153899274242377, 0.06395857751423471, 0.5039160652636674, 0.025841849500700894, 0.022814715503228642, 0.0850366668756704, 0.0995551221959068, 0.7611818717895373, 0.004148130091496116, 0.0248887805489767, 0.1733420424547138, 0.23483340919705878, 0.547591222800365, 0.04346803511096799, 0.9780881583409416, 0.9629710282360039, 0.9733410005466304, 0.3602513803311003, 0.12776613366401024, 0.2732898078372619, 0.0823647623620135, 0.029658870850541558, 0.11410164327214714, 6.297000180582071e-05, 0.012405090355746681, 0.40947720247172575, 0.5886234785531057, 0.9437149567308153, 0.9913619444978442, 0.9964435095462906, 0.9871950053313404, 0.010090579270848454, 0.27694899949018437, 0.018020654076416107, 0.23332004751570326, 0.00031615182590203695, 0.0034776700849224063, 0.46758855050911263, 0.9806966550134205, 0.16181983261059452, 0.008573236164799708, 0.3054215383709896, 0.17843047767989395, 0.06322761671539785, 0.030542153837098962, 0.1146670337041961, 0.021968917672299255, 0.11627451548509606, 0.995855457430043, 0.02147192359310692, 0.4389815490146304, 0.1920544276939008, 0.004771538576245982, 0.3268503924728498, 0.014314615728737946, 0.2818031639637499, 0.015686580063006765, 0.5908149092757239, 0.001249373633336822, 0.06538388681129369, 0.04497745080012559, 0.977890675822053, 0.02816702316569625, 0.9708233984443307, 0.28346544368684506, 0.04724424061447417, 0.15590599402776478, 0.5149622226977685, 0.15067739962383034, 0.34315562624007817, 0.18178499180423402, 0.06610363338335783, 0.058326735338256906, 0.004860561278188076, 0.19442245112752304, 0.9919948852306397, 0.9631024540643321, 0.39191070818701, 0.24823799926252982, 0.3116045652073879, 0.006483048000959077, 0.03910741858643056, 0.002509566968113191, 0.9962825419762474, 0.9879596021562418, 0.0040508341957856955, 0.05164813599626762, 0.13739079314039818, 0.21536935140927282, 0.14346704443407673, 0.09620731214991028, 0.07899126681782107, 0.013502780652618986, 0.057386817773630694, 0.00033756951631547466, 0.10397141102516619, 0.09755759021517217, 0.08886078115001035, 0.9063799677301057, 0.9593015973214185, 0.9808254531788974, 0.27066373490516604, 0.3924624156124908, 0.3338186063830381, 0.9965633975944452, 0.9995354267376425, 0.9979528273397408, 0.9941252798546469, 0.9924690136072345, 0.0056712515063270545, 0.9986313138966056, 0.9292905186551844, 0.9863723576928911, 0.9971081182131724, 0.1517558944022267, 0.22073584640323884, 0.02069398560030364, 0.10691892560156882, 0.4983801532073127, 0.022799066001076524, 0.1068706218800462, 0.852115091790235, 0.017099299500807394, 0.9808070345126169, 0.5463064992803651, 0.10783805647117428, 0.1866638439424895, 0.007663618226377868, 0.006021414320725468, 0.06240374841479121, 0.018064242962176402, 0.06459335362232775, 0.6086584732579063, 0.1514725115385173, 0.05457756290421772, 0.1783658034043637, 0.006723322966461603, 0.9688421804849691, 0.9987616641804887, 0.04365579576455634, 0.3032928968906019, 0.16773016267434804, 0.03676277538067902, 0.006893020383877317, 0.14475342806142363, 0.2963998765067246, 0.9661398809055821, 0.9473195317186011, 0.04241729246501199, 0.0047130324961124435, 0.9495300570125638, 0.9578399899582732, 0.9992248850000366, 0.9867862615901083, 0.9960835630481504, 0.6076354965218093, 0.005490682197486229, 0.2379295618910699, 0.007320909596648305, 0.1390972823363178, 0.9867991009680399, 0.01305890639946198, 0.31708203217259995, 0.07460753698178822, 0.22755298779445407, 0.03606030954119764, 0.19024921930355998, 0.15418890976236233, 0.3339954313491899, 0.13446569314058296, 0.524849963548727, 0.24247935176263857, 0.15587958327598195, 0.600425061507486, 0.9970419950095222, 0.009710338247699374, 0.06095934566611274, 0.688355089114689, 0.010249801483682673, 0.2303508017648685, 0.9962610733553622, 0.9882037432559918, 0.07372173952730217, 0.07372173952730217, 0.8499682910206603, 0.9962274147593239, 0.16313436930868733, 0.836497510710503, 0.07099132192637582, 0.8792002177035775, 0.04914783825672172, 0.044027307105778436, 0.010709344971675836, 0.5723549923751197, 0.12613228522195985, 0.2463149343485442, 0.9956634054028468, 0.9828210835602456, 0.03197653298528549, 0.7769820253738026, 0.18804110442093255, 0.0004772616863475446, 0.002386308431737723, 0.997661026002896, 0.9856823314729574, 0.0861381689220475, 0.9130645905737035, 0.973218809642105, 0.009672664010204408, 0.01562507263186866, 0.28089055117565964, 0.08723309042722349, 0.05582917787342303, 0.5739937350111306, 0.3473485588087576, 0.16937844917176165, 0.1141463461809698, 0.09205350498465308, 0.05523210299079184, 0.0049095202658481635, 0.21724627176378125, 0.9969759514192226, 0.9696320456900401, 0.8666360943831393, 0.1311146858660838, 0.8041905905778673, 0.06099897668469891, 0.06473360791029273, 0.002489754150395874, 0.06660092352308963, 0.9938272159033367, 0.9538217592527367, 0.9862391286560886, 0.23260839858167887, 0.08543735132675327, 0.46834255391921453, 0.21359337831688316, 0.9867363505138012, 0.9566172002108686, 0.718145408242345, 0.2120187049315023, 0.06414924918440326, 0.0054363770495256996, 0.9893020532274435, 0.031623427997986446, 0.9487028399395935, 0.019972691367149336, 0.9809183927324866, 0.9594816881366981, 0.038897906275812084, 0.7028403384414509, 0.15880074592400983, 0.1382154640449715, 0.9951029859139621, 0.9589262698220662, 0.040285604703831426, 0.02158157394848112, 0.22085144007279014, 0.4632844540940614, 0.08344875260079367, 0.07409673722311852, 0.04676007688837576, 0.04963762008150658, 0.7741596989760042, 0.11352518553888402, 0.11078963889939283, 0.05691813180092402, 0.5407222521087781, 0.3984269226064681, 0.9829728910243407, 0.15130073379109907, 0.43709100872984175, 0.16390912827369067, 0.009306195927627126, 0.0006003997372662661, 0.0735489678151176, 0.01170779487669219, 0.1525015332656316, 0.16456711925240153, 0.24502215533135338, 0.014628188377991246, 0.5741563938361564, 0.9897978813363866, 0.9569242964012201, 0.04804420646919473, 0.01847854094969028, 0.06036323376898825, 0.34370086166423924, 0.4866015783418441, 0.04188469281929797, 0.0008072730024310696, 0.1913237015761635, 0.08880003026741766, 0.3317892039991696, 0.059738202179899155, 0.04117092312398455, 0.033905466102104924, 0.2526764497609248, 0.9966412035989488, 0.039581754913492695, 0.9578784689065233, 0.9853662034686005, 0.9912547524532688, 0.0008034070705475496, 0.06186234443216132, 0.1293485383581555, 0.5752394625120455, 0.2313812363176943, 0.0016068141410950992, 0.349267112146711, 0.6491429155049983, 0.972464018861557, 0.9707629660336218, 0.9985043510792828, 0.006005753373784518, 0.07206904048541422, 0.38211605840703994, 0.0893355814350447, 0.4496807838621158, 0.9817109489792153, 0.37031086551061, 0.15155969939042702, 0.02677554689230877, 0.07022266071756451, 0.03890032284354293, 0.106596988571267, 0.16772606732540588, 0.06820186472569215, 0.292446831792546, 0.7074470257734963, 0.01939585313445758, 0.035097258052828005, 0.9106814852654844, 0.004618060270108948, 0.029555585728697265, 0.9665347408468876, 0.9719795812934868, 0.07709892459859545, 0.28809101977872115, 0.07915881953061898, 0.28132279357350093, 0.20304678615660635, 0.06267966007443065, 0.00823957972809417, 0.09225366112399966, 0.08988818263364069, 0.3784765584574345, 0.301992753935828, 0.1214278958384269, 0.014192870942153794, 0.0007884928301196552, 0.03738855706353211, 0.9596396312973242, 0.9987318526103853, 0.9753833909630785, 0.2646023555326736, 0.7292699067120029, 0.9882269251805349, 0.188919182331584, 0.808810249357094, 0.944002326001864, 0.04582535563115844, 0.9864672791217184, 0.9849163414699232, 0.07022112262053055, 0.7178916710623172, 0.06749408873235462, 0.021134512633363568, 0.09476442761411405, 0.025906821937671468, 0.002045275416131958, 0.9913069209224286, 0.996833607098096, 0.10685131682956553, 0.22066229797370046, 0.19077668062290246, 0.032341969461822516, 0.04953643423899398, 0.04626129809096132, 0.04626129809096132, 0.17235403979021874, 0.002456352111024495, 0.13264301399532272, 0.9954963318550112, 0.6265991126643292, 0.011123061171556141, 0.3614994880755746, 0.1838149292630969, 0.001742321604389544, 0.024392502461453615, 0.04268687930754383, 0.09234304503264583, 0.34759316007571406, 0.03920223609876474, 0.26831752707598977, 0.9992631863578737, 0.1753818681107469, 0.8241061974666279, 0.9979803687995146, 0.42567976572591365, 0.5724658918382977, 0.2808678426069099, 0.7188312581973456, 0.9774420015059214, 0.9985035781194023, 0.4139551173817764, 0.5848157866366707, 0.9984445048582015, 0.05254479758856333, 0.22200176981168007, 0.04597669788999291, 0.20492471059539696, 0.4453171595630742, 0.01707705921628308, 0.011822579457426749, 0.9919993702138541, 0.9821749443599851, 0.9957805002961596, 0.9976413870944593, 0.4979879175300899, 0.31204538213188937, 0.0551066059452849, 0.0939854997103632, 0.005071160056314561, 0.03414581104585138, 0.0013523093483505497, 0.9971066735685903, 0.05405850874458799, 0.8489188039890855, 0.042045506801346215, 0.05205634175404769, 0.17043107010446895, 0.8252451815584813, 0.9856679054850587, 0.9716776471622581, 0.995458301072276, 0.07519324504231172, 0.9232059530194939, 0.9899227098687755, 0.9995107309982609, 0.9788932570294923, 0.9722179556512133, 0.5126972596461772, 0.1862533013558378, 0.09079013972901054, 0.20961841084492142, 0.03845340623755114, 0.9591988555922479, 0.9795444148901993, 0.32993072840238874, 0.6663306867734518, 0.14777381841200032, 0.02022168041427373, 0.3282134282624429, 0.048220930218652744, 0.14466279065595822, 0.3095472617261902, 0.09832440460752742, 0.015905418392394143, 0.005783788506325143, 0.8328655449108205, 0.026027048278463142, 0.020243259772138, 0.8628762129534598, 0.13357216918784207, 0.08149659334301791, 0.7397383088058549, 0.07313796838475967, 0.0710483121451951, 0.03552415607259755, 0.9967052302457736, 0.9839398267637127, 0.9944876763089174, 0.9983396626127604, 0.9924474590040052, 0.06577735734056786, 0.8838832392638807, 0.04522193317164041, 0.08495957040140181, 0.42093605335239986, 0.3697672211788283, 0.12261210728384124, 0.9983762053898461, 0.07444956276090796, 0.8933947531308956, 0.9821995392014012, 0.9719679685404122, 0.10595749362273832, 0.18248235012804934, 0.18689724569566343, 0.3627572524722916, 0.04194150789233392, 0.0014716318558713657, 0.08756209542434625, 0.030168453045362996, 0.9845199966528188, 0.9953138889085525, 0.9836389269191458, 0.983143641205557, 0.9942819817258954, 0.9972564097776865, 0.9944188229441661, 0.9642534688268973, 0.9797426625162428, 0.9576545453791573, 0.9899867689761088, 0.9784312783687432, 0.04201926679106563, 0.0007928163545484081, 0.233088008237232, 0.1641129853915205, 0.543872019220208, 0.0019820408863710204, 0.01347787802732294, 0.0006885415159912958, 0.2602686930447098, 0.26853119123660535, 0.4413551117504206, 0.02616457760766924, 0.002754166063965183, 0.4050794968715622, 0.5066165739238008, 0.07054154826787098, 0.017100981398271754, 0.408812462068728, 0.16421399459502276, 0.0344504883765782, 0.024115341863604742, 0.07234602559081423, 0.09760971706697158, 0.10335146512973462, 0.09531301784186637, 0.9983839670544857, 0.999384867919211, 0.9962941169403654, 0.9801681606168016, 0.9957153602817459, 0.9963669524453922, 0.9866248472124781, 0.2497952125717893, 0.7420387196985505, 0.9732510235534657, 0.06968120315238237, 0.9253663778636377, 0.9704552980312914, 0.03828498257060949, 0.6678602515095211, 0.29139125623186113, 0.9044641339126472, 0.010532333437119618, 0.009215791757479667, 0.030280458631718903, 0.04476241710775838, 0.9698403460923629, 0.9975381687746994, 0.14273833658784846, 0.18097181960245073, 0.010195595470560604, 0.6652626044540795, 0.9913062602927927, 0.2585178347821628, 0.6923869140871103, 0.04809634135482098, 0.9873009625911379, 0.9535168288766148, 0.266284554051221, 0.19020325289372925, 0.1212545737197524, 0.4220134673579618, 0.9972963680890242, 0.9724040887011295, 0.0008420863699153182, 0.4900942672907152, 0.24167878816569632, 0.01010503643898382, 0.25683634282417206, 0.9987322327916018, 0.14102238400403086, 0.0018719785487260735, 0.7962148760581566, 0.05428737791305613, 0.0062399284957535784, 0.9919204983067511, 0.9438705609142836, 0.9955751753772955, 0.04040971596147014, 0.9577102682868422, 0.983405213424908, 0.9838612597164922, 0.9854749103778361, 0.991858565466551, 0.28212913251201777, 0.014106456625600887, 0.04408267695500277, 0.11637826716120732, 0.539571965929234, 0.9723096096752247, 0.9807855209407366, 0.9979511318833221, 0.3181182864700903, 0.6725929485367623, 0.7157639415599489, 0.006080518921018984, 0.08643023323448412, 0.19153634601209799, 0.9891391289325416, 0.9774163885840802, 0.9977231777237741, 0.7183758738906538, 0.12093682283496654, 0.0016719376428797218, 0.15103170040680153, 0.007245063119145461, 0.979263855546457, 0.3511912959320862, 0.03511912959320862, 0.6099261078330722, 0.0035835846523682266, 0.9777807727256606, 0.08299281049098879, 0.4068275024068078, 0.0016273100096272312, 0.5077207230036962, 0.9966059498700822, 0.978206134675449, 0.01985289203215856, 0.991861813175357, 0.9920719252497374, 0.9934809308227313, 0.9882406468115861, 0.9988917904818752, 0.3435565304277319, 0.6354989342184336, 0.02043059179382443, 0.2928969103101214, 0.022724760282681833, 0.09847396122495461, 0.060599360753818214, 0.09089904113072733, 0.0883740677659849, 0.3408714042402275, 0.6030948907349513, 0.39598223252882025, 0.9831518130671774, 0.9938010968545765, 0.00650790880768659, 0.992456093172205, 0.5344151790918202, 0.14678942493485195, 0.03939802747169186, 0.05274252064758749, 0.0038127123359701803, 0.22240821959826051, 0.9992206873236571, 0.0264495417580641, 0.9714195336598088, 0.07836032160625181, 0.915836258773068, 0.15891697833292825, 0.04584143605757546, 0.7945848916646413, 0.9626015393984736, 0.9898738308411782, 0.1779848504296599, 0.8187303119764354, 0.008812098187101157, 0.8707955208526325, 0.0504692896170339, 0.04245829126512375, 0.02082859571496637, 0.006408798681528114, 0.98335787613984, 0.17910163507587282, 0.4977427377407826, 0.3172768899929499, 0.0058466257369708214, 0.9936232995928649, 0.9766771583385158, 0.04198673225076626, 0.9576973689579542, 0.018125308011029604, 0.010661945888840944, 0.40302155459818767, 0.06610406451081385, 0.04264778355536378, 0.14180388032158456, 0.31665979289857604, 0.09446448848556963, 0.5160560019119081, 0.019242766172986404, 0.006997369517449602, 0.3621138725280169, 0.205976942690374, 0.09506628124171108, 0.012675504165561477, 0.6844772249403197, 0.9983670694630935, 0.2027155197442067, 0.7601831990407751, 0.03589753995470327, 0.9912604618974953, 0.9995530323351034, 0.027613816351436987, 0.9265969486815522, 0.01840921090095799, 0.027613816351436987, 0.02183890107186973, 0.15415694874260985, 0.0012846412395217488, 0.11176378783839214, 0.710406605455527, 0.9845686418710428, 0.0015451414327502275, 0.30130257938629434, 0.013906272894752048, 0.15605928470777297, 0.5176223799713262, 0.007725707163751137, 0.9974814327542139, 0.9742019850479627, 0.6132334294018366, 0.2772472975839721, 0.108079454990362, 0.9696741633260949, 0.027984824338415436, 0.07780451187847068, 0.05740915439576477, 0.03399226247117651, 0.06345222327952948, 0.7387651710402362, 0.005287685273294124, 0.022661508314117673, 0.18034133853733753, 0.06673648403500343, 0.3764752801669278, 0.09526505736294383, 0.08966123045924125, 0.18288853258447507, 0.0005094388094275071, 0.008660459760267622, 0.9670476574858324, 0.9967645874877534, 0.9964235030641995, 0.9591855669858772, 0.12451250103891721, 0.09829934292546097, 0.031128125259729304, 0.5144332279765791, 0.23100345587483326, 0.005020703264379125, 0.11045547181634074, 0.8786230712663469, 0.03054744201730609, 0.008145984537948292, 0.9591896793434113, 0.9948170657312981, 0.9874895719770922, 0.5723496899787607, 0.0033227848474819198, 0.41700949835898093, 0.0066455696949638396, 0.9980113692830863, 0.27371116908539067, 0.0008526827697364195, 0.1927063059604308, 0.03240194524998394, 0.023875117552619746, 0.0784468148157506, 0.39308675684848937, 0.003410731078945678, 0.9941321913445709, 0.9515075797045074, 0.9619659806017664, 0.5234059896696142, 0.034662648322491, 0.4402156336956357, 0.6782927894362443, 0.09491658510114384, 0.010546287233460426, 0.06383279114989206, 0.027753387456474807, 0.06827333314292802, 0.03829967468993523, 0.01720710022301438, 0.9272390897534509, 0.9979724982489517, 0.9962845638550034, 0.9893263640355603, 0.9745775978578672, 0.9878387421320294, 0.9675332332327202, 0.031389436956023364, 0.06987724518923205, 0.027950898075692822, 0.8804532893843239, 0.017469311297308013, 0.995927149823723, 0.9627428594340518, 0.9358339871078725, 0.9895253241650592, 0.04605277730767234, 0.1524505731564326, 0.11592595667103728, 0.6844395524002338, 0.988394343037773, 0.6579762956266966, 0.34064520816893934, 0.9946957115493091, 0.9673384119811227, 0.9993973765769008, 0.39169885668491244, 0.05817309752746224, 0.5507053232599759, 0.9966953068660215, 0.9986458437112639, 0.9989831551689693, 0.1905126236852182, 0.08047516000496287, 0.0016423502041829157, 0.18147969756221216, 0.4656062828858566, 0.08047516000496287, 0.9909357244693721, 0.9962037955433546, 0.043327538851635324, 0.9320030165745385, 0.023968425747713157, 0.9968964670313736, 0.9973247135347274, 0.995170230956808, 0.16163785328363273, 0.1355348459210585, 0.07027732751462293, 0.6314919858099688, 0.9972132859874082, 0.06628955256157754, 0.0314362826580677, 0.8990093442758273, 0.003075288520897927, 0.0234535240209144, 0.04221634323764592, 0.9287595512282102, 0.0843739065854091, 0.11321055820320713, 0.8010181004943902, 0.89606087195012, 0.10072002049051736, 0.04339368277968577, 0.9498395008442329, 0.9585250574338198, 0.997720161091836, 0.3320873614518979, 0.1614055890855593, 0.5046243704743923, 0.28241594838119055, 0.14985336036552968, 0.24783440368145293, 0.013832617879895048, 0.30431759335769104, 0.9986630730019697, 0.42742069962643914, 0.12120885511794542, 0.4497486466218501, 0.9773749978031097, 0.9897920768922042, 0.03293937091336896, 0.22728165930224584, 0.04282118218737965, 0.18116654002352928, 0.09881811274010689, 0.4150360735084489, 0.980479294627806, 0.9969227866742126, 0.424973645671474, 0.5640203223658272, 0.009792019485517835, 0.6450533695670547, 0.07829452130614613, 0.08180024614074968, 0.0420686980152427, 0.15191474283282086, 0.9978525466373475, 0.9972243867845845, 0.9168983999361079, 0.9812494338178898, 0.04352454050298923, 0.13927852960956552, 0.22197515656524505, 0.5875812967903545, 0.35758687340961165, 0.26166945324797464, 0.01851037932943872, 0.3617937778026659, 0.9693581773327502, 0.9748571602466266, 0.998718957313695, 0.9911005841646544, 0.36260121059096057, 0.22558777605468155, 0.08303844517350241, 0.029063455810725846, 0.2989384026246087, 0.9975268608204, 0.43071541739509467, 0.5689504652263399, 0.9990482317067633, 0.9589124018854713, 0.9807334751965328, 0.9152798760771619, 0.04581921596099184, 0.9469304631938313, 0.17885085385661292, 0.152023225778121, 0.6528056165766372, 0.9448322315235324, 0.05348106970887919, 0.011330608640199073, 0.27193460736477776, 0.10480812992184144, 0.464554954248162, 0.13030199936228934, 0.01699591296029861, 0.9799465613445827, 0.10299052440577057, 0.8914007457189108, 0.004147473936298121, 0.9933200077433999, 0.9680700232753984, 0.9990585129396998, 0.9917951458539545, 0.13090711103485042, 0.11064767718421879, 0.10908925919570868, 0.14181603695442127, 0.04675253965530372, 0.45973330661048656, 0.9742405647105689, 0.9951307015634838, 0.7498408007149032, 0.017180554975680627, 0.021927813587381856, 0.04995924538980814, 0.007007857950606572, 0.1537207550455635, 0.9828442650177843, 0.12231155497634645, 0.3971689818894845, 0.08039579737209289, 0.01305572777837406, 0.004122861403697072, 0.266611704105744, 0.11612726287080084, 0.9885042937697038, 0.26996444740481823, 0.08661960879298981, 0.3933973899348287, 0.11260549143088676, 0.0064964706594742355, 0.13065124326275962, 0.19010762243158752, 0.1812654074347695, 0.030947752488863084, 0.5968495122852167, 0.9953541939559505, 0.9709283579508594, 0.9798892941789167, 0.9844433946705703, 0.36059518861177875, 0.20935548919081803, 0.020450287851420966, 0.11646265623860076, 0.04298026599281694, 0.1391081727294398, 0.05557394608211008, 0.023107669888611262, 0.00011553834944305631, 0.032119661145169655, 0.9409035053873732, 0.05534726502278666, 0.9870544906337897, 0.970941948364107, 0.9981664546409773, 0.03975751909296786, 0.001325250636432262, 0.824305895860867, 0.08879179264096156, 0.03975751909296786, 0.003975751909296786, 0.9746061795559108, 0.05979646942222661, 0.05730494986296717, 0.05730494986296717, 0.08720318457408048, 0.7349982699815354, 0.6973936620417598, 0.25755065696506235, 0.005853424021933236, 0.02759471324625668, 0.007107729169490358, 0.005017220590228488, 0.9797374118809633, 0.9926098640833462, 0.996284897656395, 0.9991495005225199, 0.9855147765151472, 0.9383264965739401, 0.042896026052908556, 0.9515118506281535, 0.9855992484681174, 0.2541488085221652, 0.6127810161034427, 0.07671528849835726, 0.0070596891256157, 0.01129550260098512, 0.03765167533661706, 0.6570560700327459, 0.1786764908630593, 0.045050910089403845, 0.06261312927679856, 0.004199661110029172, 0.05077772069398907, 0.0007635747472780313, 0.00038178737363901564, 0.0007635747472780313, 0.06706044857199346, 0.0012418601587406196, 0.14281391825517126, 0.042223245397181065, 0.1577162401600587, 0.1527487995250962, 0.08568835095310275, 0.33902782333618914, 0.009934881269924957, 0.15441862460189315, 0.31020378570468804, 0.06422721554238034, 0.08335872655500427, 0.3867298297551838, 0.0961323133757243, 0.24033078343931075, 0.6637707352133344, 0.9945034271702189, 0.9721925391883333, 0.04066180891676805, 0.052521503184158734, 0.24227661146240964, 0.278702815283681, 0.12029118471210548, 0.26514887897809164, 0.9952076980952427, 0.0017655995712099859, 0.09887357598775921, 0.16949755883615863, 0.508492676508476, 0.22069994640124824, 0.9757787770640948, 0.9985101400313428, 0.1741019420997918, 0.21083904914837173, 0.15014295924202228, 0.4632070019168773, 0.03342779893697524, 0.892522231617239, 0.02423515422930705, 0.04930600343203848, 0.9755733935982207, 0.9716101968021696, 0.9991756828644004, 0.28040155230399333, 0.3932904889458607, 0.10742656873984159, 0.004551973251688203, 0.028222234160466857, 0.04551973251688203, 0.139290381501659, 0.16417132826564793, 0.09544844666607438, 0.4988772145746821, 0.012726459555476584, 0.22780362604303087, 0.9989930420302847, 0.3869255064983184, 0.0022237098074616, 0.6092964872444784, 0.9891431606783029, 0.9684244542596439, 0.9986013048300935, 0.9825556860919714, 0.9968427735872758, 0.15440021481333868, 0.14846174501282566, 0.6948009666600241, 0.9549530361855159, 0.9973695768169613, 0.9634084704858988, 0.9776668130170948, 0.9907146891046549, 0.06596490580016579, 0.4056139952393173, 0.0028070172680921615, 0.08561402667681092, 0.43789469382237717, 0.9953481682157541, 0.9974291920336827, 0.2157049297637165, 0.0012839579152602173, 0.05906206410196999, 0.7241522642067626, 0.9757288517498074, 0.0150390004032367, 0.3458970092744441, 0.5246940140684805, 0.11362800304667729, 0.9785744706986593, 0.9758341159918846, 0.6020531073650213, 0.04646386871289984, 0.04152090395620837, 0.04646386871289984, 0.002965778854014883, 0.2599999462019714, 0.9752145305429385, 0.9821854993674967, 0.0031785938490857496, 0.009535781547257248, 0.0045913022264571935, 0.2401581525670453, 0.7587876260094973, 0.43066333149506497, 0.5691391983044058, 0.9801562068064903, 0.9988994921780012, 0.24209281909157832, 0.09320573535025765, 0.009683712763663133, 0.6548610756427193, 0.011948426489665051, 0.5775072803338108, 0.013939830904609226, 0.059742132448325255, 0.11948426489665051, 0.09957022074720875, 0.11948426489665051, 0.40639651619803563, 0.10397516106656945, 0.12564457306216162, 0.230950312058285, 0.045049567043467936, 0.025471063222889046, 0.004942146595485934, 0.04219832862299528, 0.01520660490918749, 0.33550374334180116, 0.5973603235110119, 0.06546414504230268, 0.9970422357504941, 0.8352635679119909, 0.0008394608722733576, 0.07974878286596897, 0.08394608722733576, 0.06843795818100375, 0.06212060819506494, 0.8286257398223069, 0.01158180830755448, 0.027375183272401498, 0.9964796766013648, 0.9784221179291009, 0.9835852825794166, 0.1877433536717229, 0.8046143728788124, 0.49365739215880866, 0.02586359913360501, 0.008996034481253917, 0.16417762928288399, 0.06971926722971786, 0.03598413792501567, 0.012369547411724136, 0.18891672410633226, 0.30776519496471877, 0.07266678214444748, 0.01709806638692882, 0.06411774895098307, 0.0854903319346441, 0.06411774895098307, 0.19449050515131533, 0.19235324685294922, 0.0021372582983661026, 0.9537123489802855, 0.07355386324444844, 0.11930077818916637, 0.7606545857474668, 0.045746914944717935, 0.04253154242940826, 0.0325241206813122, 0.8781512583954294, 0.045033397866432276, 0.03505882424058905, 0.0028426073708585717, 0.01421303685429286, 0.04358664635316477, 0.08527822112575716, 0.6926486626992053, 0.12602226010806336, 0.19720748907145516, 0.2750525505470296, 0.05708637841542123, 0.470530149363472, 0.030733341582118427, 0.3104067499793961, 0.24279339849873557, 0.3227000866122435, 0.09220002474635527, 0.9462821815148633, 0.05137433910150747, 0.9976548081929484, 0.9983364711756486, 0.3153827656742454, 0.026495571100004358, 0.46803144304394795, 0.16786226335615664, 0.019658004364519362, 0.001538452515484124, 0.0006837566735484995, 0.17525082097839453, 0.13646580322088098, 0.11491857113337346, 0.030166124922510532, 0.5200065343785149, 0.021547232087507525, 0.09695517232910099, 0.05004137926663277, 0.2020420687890298, 0.30212482732229534, 0.25896413770482457, 0.06567931028745551, 0.0012510344816658193, 0.023144137910817656, 0.2292613389046648, 0.007262766807961926, 0.0007262766807961925, 0.19246332041099104, 0.26726981853299886, 0.1500971806978798, 0.057617950009831276, 0.09320550736884471, 0.0016946455885244493, 0.008155379777182588, 0.49140501125491687, 0.13812090005611363, 0.06359461039015785, 0.08485065342643161, 0.05561274933163872, 0.06090507025087423, 0.013187422618422909, 0.058996364345576174, 0.025073454846869875, 0.9622356767705118, 0.979885476637882, 0.018094476131097253, 0.1919843813313683, 0.7533300180502605, 0.054256455593647564, 0.8791354546898156, 0.094573662549965, 0.026640468323933804, 0.08871645297654608, 0.7906488281755919, 0.023397745839968197, 0.0965157015898688, 0.011216820352833416, 0.034896774431037295, 0.044867281411333663, 0.4368328370742347, 0.06667776543073196, 0.4044286893882715, 0.594118678999732, 0.08885257029683491, 0.04508936403122966, 0.04376320626560526, 0.031827786374985644, 0.041110890734356455, 0.155160458578055, 0.23047271281174636, 0.13394836926277542, 0.25103740020893595, 0.019082547764959705, 0.222320944834482, 0.01741514067870109, 0.06262039946171244, 0.06299093436976991, 0.9524680459138153, 0.9838769395212801, 0.9907263842127104, 0.11318629271398985, 0.3132430650859669, 0.356536822049068, 0.012733457930323858, 0.1794002739516739, 0.0028296573178497463, 0.022071327079228018, 0.9934488031770436, 0.9618598114231015], \"Term\": [\"absolute\", \"abyss\", \"acceptance\", \"acceptance\", \"acceptance\", \"accepts\", \"accepts\", \"accident\", \"accident\", \"accident\", \"accident\", \"acclaimed\", \"acclaimed\", \"acclaimed\", \"acclaimed\", \"acclaimed\", \"account\", \"account\", \"ace\", \"activist\", \"actor\", \"actor\", \"actress\", \"actress\", \"adam\", \"adapted\", \"adorable\", \"adrenaline\", \"advanced\", \"advanced\", \"adventure\", \"adventure\", \"adventure\", \"adventure\", \"adventure\", \"adventure\", \"adventure\", \"advice\", \"affair\", \"affair\", \"affair\", \"affect\", \"affect\", \"affect\", \"affect\", \"africa\", \"african\", \"age\", \"age\", \"age\", \"age\", \"age\", \"age\", \"age\", \"age\", \"alarm\", \"album\", \"alexander\", \"alice\", \"alice\", \"alien\", \"allergy\", \"alpha\", \"ambition\", \"ambition\", \"ambition\", \"ambition\", \"amelia\", \"america\", \"america\", \"america\", \"american\", \"american\", \"american\", \"amongst\", \"amy\", \"andrew\", \"angeles\", \"angst\", \"animal\", \"animal\", \"anna\", \"annual\", \"annual\", \"anthology\", \"anthology\", \"anthology\", \"anything\", \"anything\", \"anything\", \"anything\", \"apartment\", \"apocalypse\", \"appealing\", \"appointed\", \"appointed\", \"approach\", \"approach\", \"approach\", \"approach\", \"approach\", \"approaching\", \"approaching\", \"archaeologist\", \"archaeologist\", \"aristocrat\", \"armor\", \"arrow\", \"art\", \"art\", \"art\", \"art\", \"artist\", \"artist\", \"artist\", \"artist\", \"asian\", \"asks\", \"asks\", \"asks\", \"asks\", \"asks\", \"assassin\", \"asset\", \"atlantis\", \"author\", \"author\", \"author\", \"author\", \"author\", \"author\", \"author\", \"author\", \"author\", \"autobiography\", \"available\", \"available\", \"available\", \"available\", \"available\", \"available\", \"available\", \"available\", \"avenger\", \"avid\", \"awaits\", \"award\", \"award\", \"award\", \"bad\", \"bad\", \"bad\", \"balloon\", \"band\", \"band\", \"band\", \"band\", \"banquet\", \"bar\", \"bar\", \"bartender\", \"baseball\", \"basic\", \"bastard\", \"bath\", \"bathroom\", \"battle\", \"battle\", \"battle\", \"battle\", \"battle\", \"battlefield\", \"beast\", \"beatrice\", \"beauty\", \"beauty\", \"beauty\", \"becomes\", \"becomes\", \"becomes\", \"becomes\", \"becomes\", \"becomes\", \"bed\", \"bed\", \"bed\", \"bed\", \"bedroom\", \"bedroom\", \"bedtime\", \"bee\", \"bee\", \"bee\", \"begin\", \"begin\", \"begin\", \"begin\", \"begin\", \"begin\", \"behaviour\", \"belle\", \"belongs\", \"ben\", \"benefit\", \"benefit\", \"bernard\", \"best\", \"best\", \"best\", \"best\", \"best\", \"best\", \"best\", \"bible\", \"bible\", \"biblical\", \"big\", \"big\", \"big\", \"big\", \"biggest\", \"biggest\", \"biggest\", \"biggest\", \"billionaire\", \"biologist\", \"bird\", \"bird\", \"birthday\", \"birthday\", \"birthday\", \"birthday\", \"bit\", \"bit\", \"bit\", \"bitch\", \"bitterness\", \"blackmail\", \"blade\", \"blog\", \"blood\", \"blood\", \"blood\", \"bloodshed\", \"blossom\", \"blossom\", \"book\", \"book\", \"book\", \"booklist\", \"bookstore\", \"bos\", \"bound\", \"bound\", \"bound\", \"bound\", \"boxing\", \"boy\", \"boy\", \"boy\", \"boy\", \"boy\", \"boyfriend\", \"breakfast\", \"breast\", \"bree\", \"brewing\", \"brutal\", \"buck\", \"bullying\", \"business\", \"business\", \"business\", \"business\", \"business\", \"button\", \"cafe\", \"cage\", \"call\", \"call\", \"call\", \"call\", \"call\", \"canada\", \"canadian\", \"canadian\", \"cancel\", \"cancer\", \"canyon\", \"capital\", \"capital\", \"capital\", \"capital\", \"care\", \"care\", \"care\", \"care\", \"care\", \"care\", \"caroline\", \"case\", \"case\", \"case\", \"case\", \"case\", \"cassie\", \"castle\", \"cat\", \"category\", \"catholic\", \"celebrity\", \"celebrity\", \"celebrity\", \"celebrity\", \"celebrity\", \"cell\", \"cell\", \"cell\", \"cell\", \"celtic\", \"center\", \"center\", \"center\", \"center\", \"center\", \"center\", \"center\", \"center\", \"century\", \"century\", \"century\", \"century\", \"century\", \"century\", \"century\", \"century\", \"ceo\", \"ceremony\", \"chain\", \"chain\", \"challenge\", \"challenge\", \"challenge\", \"challenge\", \"challenge\", \"challenge\", \"challenge\", \"chamber\", \"championship\", \"chance\", \"chance\", \"chance\", \"character\", \"character\", \"character\", \"character\", \"character\", \"character\", \"charged\", \"charged\", \"charged\", \"charlie\", \"charlotte\", \"chase\", \"chef\", \"child\", \"child\", \"child\", \"child\", \"child\", \"china\", \"china\", \"chose\", \"chris\", \"christ\", \"christian\", \"christianity\", \"christmas\", \"christmas\", \"church\", \"cinderella\", \"city\", \"city\", \"city\", \"city\", \"city\", \"city\", \"class\", \"class\", \"class\", \"class\", \"class\", \"class\", \"class\", \"class\", \"classic\", \"classic\", \"classic\", \"classic\", \"classic\", \"classic\", \"classical\", \"classmate\", \"climbing\", \"coastal\", \"coaster\", \"collecting\", \"collecting\", \"collection\", \"collection\", \"collection\", \"collection\", \"college\", \"college\", \"college\", \"college\", \"college\", \"comedian\", \"comedy\", \"comedy\", \"comic\", \"comic\", \"company\", \"company\", \"company\", \"company\", \"company\", \"company\", \"complex\", \"complex\", \"complex\", \"complex\", \"complex\", \"complex\", \"complicates\", \"computer\", \"computer\", \"computer\", \"computer\", \"computer\", \"concept\", \"concept\", \"concept\", \"condition\", \"condition\", \"condition\", \"condition\", \"condition\", \"condition\", \"connected\", \"connected\", \"connected\", \"connected\", \"connection\", \"connection\", \"connection\", \"connection\", \"connection\", \"connection\", \"connor\", \"conscience\", \"conscience\", \"consciousness\", \"consciousness\", \"contention\", \"continues\", \"continues\", \"continues\", \"continues\", \"continues\", \"continues\", \"continuity\", \"contract\", \"convince\", \"convince\", \"convinces\", \"cook\", \"cookbook\", \"cooker\", \"cooking\", \"cooky\", \"corporate\", \"corporate\", \"corporation\", \"counting\", \"country\", \"country\", \"country\", \"country\", \"country\", \"country\", \"coven\", \"covenant\", \"cozy\", \"cracking\", \"create\", \"create\", \"create\", \"create\", \"create\", \"create\", \"creepy\", \"crew\", \"crew\", \"crew\", \"crush\", \"cry\", \"cultural\", \"cunning\", \"cupcake\", \"curse\", \"customer\", \"cute\", \"daddy\", \"daisy\", \"dallas\", \"damaged\", \"dangerous\", \"dangerous\", \"danny\", \"dante\", \"dark\", \"dark\", \"dark\", \"dark\", \"darkness\", \"data\", \"daughter\", \"daughter\", \"daughter\", \"daughter\", \"day\", \"day\", \"day\", \"day\", \"day\", \"day\", \"day\", \"day\", \"day\", \"day\", \"dead\", \"dead\", \"deaf\", \"death\", \"death\", \"death\", \"death\", \"death\", \"debt\", \"debt\", \"debt\", \"debut\", \"debut\", \"delectable\", \"delicacy\", \"delve\", \"democracy\", \"demon\", \"demon\", \"demon\", \"denver\", \"depend\", \"deputy\", \"deputy\", \"deserve\", \"desire\", \"desire\", \"desire\", \"destroys\", \"destruction\", \"destruction\", \"detailing\", \"dictionary\", \"diet\", \"different\", \"different\", \"different\", \"different\", \"different\", \"different\", \"different\", \"different\", \"different\", \"digital\", \"director\", \"director\", \"director\", \"director\", \"director\", \"director\", \"dirty\", \"discovered\", \"discovered\", \"discovered\", \"discovered\", \"discovered\", \"discovered\", \"discovery\", \"discovery\", \"discovery\", \"discovery\", \"disease\", \"disease\", \"dish\", \"district\", \"dog\", \"dog\", \"domain\", \"download\", \"dragon\", \"dream\", \"dream\", \"dream\", \"dream\", \"driver\", \"drummer\", \"duel\", \"duke\", \"earth\", \"earth\", \"earth\", \"earth\", \"easy\", \"easy\", \"eating\", \"eating\", \"education\", \"education\", \"education\", \"egypt\", \"egyptian\", \"election\", \"elephant\", \"eli\", \"eligible\", \"ella\", \"elli\", \"emma\", \"emotion\", \"emotion\", \"emotion\", \"employee\", \"employee\", \"encourages\", \"endangered\", \"enemy\", \"enemy\", \"enemy\", \"enforcer\", \"engineer\", \"engineered\", \"english\", \"english\", \"english\", \"english\", \"english\", \"english\", \"enhanced\", \"entire\", \"entire\", \"entire\", \"entire\", \"entire\", \"entire\", \"entire\", \"epic\", \"epic\", \"epic\", \"episode\", \"episode\", \"equality\", \"essay\", \"essay\", \"essay\", \"ethan\", \"everlasting\", \"everything\", \"everything\", \"everything\", \"everything\", \"evil\", \"evoke\", \"evolution\", \"evolution\", \"exam\", \"execution\", \"exercise\", \"existing\", \"expecting\", \"experience\", \"experience\", \"experience\", \"experience\", \"experience\", \"experience\", \"experiment\", \"experiment\", \"experiment\", \"experimental\", \"exposing\", \"exposing\", \"exposing\", \"face\", \"face\", \"face\", \"face\", \"face\", \"face\", \"face\", \"factor\", \"factor\", \"fade\", \"fairytale\", \"faith\", \"faith\", \"fake\", \"falling\", \"falling\", \"family\", \"family\", \"family\", \"family\", \"family\", \"family\", \"family\", \"family\", \"famous\", \"famous\", \"famous\", \"famous\", \"famous\", \"fan\", \"fan\", \"fan\", \"fan\", \"fantastical\", \"farm\", \"farm\", \"farm\", \"fascination\", \"fashionable\", \"fate\", \"fate\", \"fate\", \"father\", \"father\", \"father\", \"father\", \"father\", \"fear\", \"fear\", \"fear\", \"fear\", \"fear\", \"fear\", \"feisty\", \"feline\", \"feud\", \"feud\", \"fiction\", \"fiction\", \"fictional\", \"fiery\", \"fiery\", \"fighting\", \"fighting\", \"fighting\", \"film\", \"film\", \"filmmaker\", \"financial\", \"find\", \"find\", \"find\", \"find\", \"find\", \"find\", \"finn\", \"firefighter\", \"first\", \"first\", \"first\", \"first\", \"first\", \"first\", \"first\", \"fitness\", \"flash\", \"flash\", \"fleet\", \"fling\", \"flirt\", \"floating\", \"flying\", \"food\", \"food\", \"force\", \"force\", \"force\", \"force\", \"force\", \"ford\", \"foreigner\", \"forgiveness\", \"form\", \"form\", \"form\", \"form\", \"form\", \"form\", \"form\", \"form\", \"fort\", \"founding\", \"fox\", \"frantic\", \"free\", \"free\", \"free\", \"free\", \"free\", \"free\", \"free\", \"free\", \"friend\", \"friend\", \"friend\", \"friend\", \"friend\", \"full\", \"full\", \"full\", \"full\", \"full\", \"full\", \"full\", \"full\", \"funny\", \"funny\", \"furious\", \"gabe\", \"gabriel\", \"galaxy\", \"galaxy\", \"gambling\", \"game\", \"game\", \"game\", \"game\", \"game\", \"gardener\", \"gardening\", \"gargoyle\", \"gave\", \"gave\", \"gave\", \"gaze\", \"gaze\", \"geek\", \"gene\", \"genetic\", \"genetic\", \"genius\", \"genius\", \"genius\", \"genius\", \"genius\", \"german\", \"germany\", \"get\", \"get\", \"glimpse\", \"glimpse\", \"glimpse\", \"glimpse\", \"glimpse\", \"glimpse\", \"glittering\", \"glittering\", \"goat\", \"goat\", \"god\", \"god\", \"god\", \"gospel\", \"got\", \"got\", \"got\", \"gothic\", \"granddaughter\", \"grandma\", \"graphic\", \"graphic\", \"graphic\", \"great\", \"great\", \"great\", \"great\", \"great\", \"great\", \"great\", \"great\", \"great\", \"grimm\", \"group\", \"group\", \"group\", \"group\", \"group\", \"group\", \"growth\", \"growth\", \"grueling\", \"guest\", \"guest\", \"guest\", \"guest\", \"guide\", \"guide\", \"guy\", \"gypsy\", \"hand\", \"hand\", \"hand\", \"hand\", \"hand\", \"hand\", \"hand\", \"hand\", \"hannah\", \"happen\", \"happen\", \"happen\", \"happens\", \"happens\", \"happens\", \"happier\", \"harder\", \"harley\", \"hawaii\", \"head\", \"head\", \"head\", \"head\", \"head\", \"head\", \"head\", \"health\", \"health\", \"health\", \"health\", \"healthy\", \"heart\", \"heart\", \"heart\", \"heart\", \"heartbroken\", \"hell\", \"hell\", \"hello\", \"help\", \"help\", \"help\", \"help\", \"help\", \"helpful\", \"herald\", \"hesitate\", \"hire\", \"history\", \"history\", \"history\", \"history\", \"hitler\", \"holiday\", \"hollow\", \"hollywood\", \"hollywood\", \"hollywood\", \"holmes\", \"holocaust\", \"home\", \"home\", \"home\", \"home\", \"home\", \"home\", \"home\", \"home\", \"honor\", \"honor\", \"honor\", \"honor\", \"hooked\", \"hop\", \"horde\", \"horde\", \"horn\", \"horse\", \"hospital\", \"hospital\", \"hospital\", \"hospital\", \"hudson\", \"hugh\", \"human\", \"human\", \"human\", \"human\", \"human\", \"human\", \"humor\", \"humor\", \"humor\", \"humor\", \"hunted\", \"hunter\", \"hurting\", \"husband\", \"husband\", \"ian\", \"iconic\", \"idea\", \"idea\", \"idea\", \"idea\", \"idea\", \"idea\", \"idea\", \"identity\", \"identity\", \"identity\", \"identity\", \"identity\", \"imaginary\", \"immortal\", \"improve\", \"includes\", \"includes\", \"includes\", \"includes\", \"including\", \"including\", \"including\", \"including\", \"including\", \"including\", \"including\", \"including\", \"including\", \"indian\", \"indian\", \"indie\", \"indulge\", \"industrial\", \"inevitable\", \"inevitable\", \"inevitable\", \"inevitable\", \"information\", \"information\", \"information\", \"information\", \"information\", \"ingredient\", \"insanity\", \"insecurity\", \"institution\", \"instruction\", \"instrument\", \"interconnectedness\", \"interest\", \"interest\", \"interest\", \"interest\", \"interest\", \"interest\", \"interest\", \"intimacy\", \"investigating\", \"investment\", \"investor\", \"iraq\", \"irreverent\", \"jacob\", \"jamie\", \"january\", \"jason\", \"jay\", \"jazz\", \"jesus\", \"jew\", \"jewish\", \"job\", \"job\", \"joe\", \"jordan\", \"josh\", \"journalism\", \"journey\", \"journey\", \"journey\", \"journey\", \"journey\", \"journey\", \"journey\", \"journey\", \"jude\", \"juice\", \"july\", \"junior\", \"junkie\", \"kat\", \"keep\", \"keep\", \"keep\", \"keep\", \"kennedy\", \"kid\", \"kid\", \"kid\", \"kid\", \"kidnapper\", \"king\", \"king\", \"kit\", \"knee\", \"knew\", \"knew\", \"knew\", \"knitting\", \"knocking\", \"know\", \"know\", \"know\", \"know\", \"knowledge\", \"knowledge\", \"knowledge\", \"knowledge\", \"knowledge\", \"known\", \"known\", \"known\", \"known\", \"known\", \"known\", \"known\", \"known\", \"laboratory\", \"laird\", \"laura\", \"lauren\", \"law\", \"law\", \"law\", \"law\", \"law\", \"law\", \"law\", \"lead\", \"lead\", \"lead\", \"lead\", \"lead\", \"learn\", \"learn\", \"learn\", \"learn\", \"learn\", \"learning\", \"learning\", \"learning\", \"learning\", \"learning\", \"learning\", \"left\", \"left\", \"left\", \"left\", \"lesbian\", \"license\", \"lied\", \"life\", \"life\", \"life\", \"life\", \"life\", \"life\", \"life\", \"life\", \"likely\", \"likely\", \"lillian\", \"lion\", \"lip\", \"literary\", \"literary\", \"little\", \"little\", \"little\", \"little\", \"little\", \"little\", \"locate\", \"look\", \"look\", \"look\", \"look\", \"look\", \"look\", \"look\", \"look\", \"look\", \"los\", \"loss\", \"loss\", \"loss\", \"loss\", \"loss\", \"loss\", \"love\", \"love\", \"love\", \"love\", \"love\", \"love\", \"lucy\", \"lust\", \"lust\", \"machine\", \"machine\", \"machine\", \"machine\", \"made\", \"made\", \"made\", \"made\", \"made\", \"made\", \"made\", \"mage\", \"mama\", \"man\", \"man\", \"man\", \"man\", \"man\", \"man\", \"manage\", \"manor\", \"many\", \"many\", \"many\", \"many\", \"many\", \"many\", \"many\", \"many\", \"many\", \"many\", \"many\", \"many\", \"map\", \"map\", \"mar\", \"maria\", \"market\", \"market\", \"market\", \"marketing\", \"marriage\", \"marry\", \"marvel\", \"matched\", \"matched\", \"mathematical\", \"matthew\", \"maya\", \"meal\", \"meaning\", \"meaning\", \"meaning\", \"meaning\", \"meaning\", \"meant\", \"meant\", \"meant\", \"meant\", \"medal\", \"meet\", \"meet\", \"meet\", \"meet\", \"meet\", \"meet\", \"meet\", \"meet\", \"men\", \"men\", \"men\", \"men\", \"men\", \"menage\", \"mercenary\", \"message\", \"message\", \"message\", \"message\", \"message\", \"message\", \"message\", \"messy\", \"method\", \"method\", \"method\", \"midwife\", \"mild\", \"mine\", \"minister\", \"mist\", \"money\", \"money\", \"money\", \"money\", \"money\", \"monster\", \"monster\", \"month\", \"month\", \"month\", \"month\", \"month\", \"month\", \"moon\", \"moon\", \"moon\", \"mortal\", \"mortal\", \"mortal\", \"motel\", \"mother\", \"mother\", \"mother\", \"mother\", \"mother\", \"motorcycle\", \"mouse\", \"movie\", \"movie\", \"movie\", \"mum\", \"murder\", \"murder\", \"museum\", \"museum\", \"museum\", \"music\", \"music\", \"music\", \"music\", \"music\", \"musical\", \"mutant\", \"mystery\", \"mystery\", \"mystery\", \"mystery\", \"mystery\", \"narrated\", \"nate\", \"nation\", \"nation\", \"national\", \"national\", \"national\", \"natural\", \"natural\", \"natural\", \"natural\", \"nature\", \"nature\", \"nature\", \"nature\", \"nature\", \"nature\", \"nature\", \"naughty\", \"naval\", \"navy\", \"navy\", \"need\", \"need\", \"need\", \"need\", \"need\", \"needlework\", \"net\", \"nick\", \"night\", \"night\", \"night\", \"night\", \"noah\", \"nora\", \"nothing\", \"nothing\", \"nothing\", \"nothing\", \"noticed\", \"novel\", \"novel\", \"novel\", \"novelette\", \"novelist\", \"novelist\", \"novella\", \"novella\", \"novella\", \"observe\", \"obtain\", \"offer\", \"offer\", \"offer\", \"offer\", \"offer\", \"offer\", \"offer\", \"offer\", \"office\", \"office\", \"office\", \"oil\", \"oil\", \"oil\", \"okay\", \"old\", \"old\", \"old\", \"old\", \"old\", \"old\", \"old\", \"old\", \"older\", \"older\", \"older\", \"older\", \"opera\", \"operating\", \"original\", \"original\", \"original\", \"original\", \"original\", \"original\", \"others\", \"others\", \"others\", \"others\", \"others\", \"others\", \"others\", \"others\", \"outcast\", \"overcoming\", \"overcoming\", \"owns\", \"oxford\", \"page\", \"page\", \"page\", \"page\", \"page\", \"page\", \"painting\", \"painting\", \"pakistan\", \"paradox\", \"paranormal\", \"parent\", \"parent\", \"parent\", \"parent\", \"parent\", \"parker\", \"part\", \"part\", \"part\", \"part\", \"part\", \"part\", \"part\", \"part\", \"passion\", \"passion\", \"patient\", \"patient\", \"patient\", \"patient\", \"patient\", \"penniless\", \"penny\", \"people\", \"people\", \"people\", \"people\", \"people\", \"people\", \"people\", \"personal\", \"personal\", \"personal\", \"personal\", \"personal\", \"personal\", \"personal\", \"pet\", \"pet\", \"peter\", \"philosopher\", \"philosophy\", \"philosophy\", \"phoenix\", \"photograph\", \"photograph\", \"photography\", \"photography\", \"physic\", \"physicist\", \"piece\", \"piece\", \"piece\", \"piece\", \"piece\", \"piece\", \"piece\", \"pilot\", \"pirate\", \"place\", \"place\", \"place\", \"place\", \"place\", \"place\", \"place\", \"place\", \"place\", \"place\", \"plague\", \"planet\", \"planet\", \"planet\", \"play\", \"play\", \"play\", \"play\", \"play\", \"play\", \"play\", \"play\", \"playboy\", \"player\", \"player\", \"poem\", \"poet\", \"poet\", \"poetry\", \"poetry\", \"policeman\", \"political\", \"politics\", \"politics\", \"pool\", \"popular\", \"popular\", \"popular\", \"popular\", \"popular\", \"popular\", \"popular\", \"population\", \"portland\", \"portrayed\", \"positive\", \"power\", \"power\", \"power\", \"power\", \"power\", \"power\", \"power\", \"practical\", \"practice\", \"practice\", \"practice\", \"practice\", \"prayer\", \"prayer\", \"predicted\", \"pregnancy\", \"prequel\", \"president\", \"president\", \"presidential\", \"prince\", \"printed\", \"privacy\", \"problem\", \"problem\", \"problem\", \"problem\", \"proclaimed\", \"proclaimed\", \"prodigy\", \"producer\", \"producer\", \"professional\", \"professional\", \"professional\", \"professional\", \"professional\", \"professional\", \"professor\", \"professor\", \"professor\", \"professor\", \"professor\", \"professor\", \"program\", \"program\", \"project\", \"project\", \"project\", \"project\", \"project\", \"prolonged\", \"promotion\", \"prompt\", \"property\", \"prophecy\", \"prose\", \"prose\", \"prose\", \"published\", \"published\", \"published\", \"published\", \"publishing\", \"punk\", \"punk\", \"puppy\", \"quaint\", \"question\", \"question\", \"question\", \"question\", \"question\", \"question\", \"question\", \"question\", \"quilt\", \"quit\", \"rabbit\", \"rachel\", \"racial\", \"racing\", \"radio\", \"rainbow\", \"ranger\", \"ransom\", \"rat\", \"raven\", \"read\", \"read\", \"read\", \"read\", \"read\", \"read\", \"read\", \"reader\", \"reader\", \"reader\", \"reader\", \"reader\", \"reader\", \"reading\", \"reading\", \"reading\", \"reading\", \"reality\", \"reality\", \"reality\", \"reality\", \"reality\", \"reality\", \"reality\", \"reality\", \"rebecca\", \"recipe\", \"recognizes\", \"redhead\", \"refer\", \"regain\", \"regime\", \"regret\", \"regret\", \"reich\", \"relate\", \"relate\", \"relaxing\", \"relevant\", \"relevant\", \"relevant\", \"remains\", \"remains\", \"remains\", \"remains\", \"remains\", \"remove\", \"renew\", \"report\", \"report\", \"report\", \"report\", \"rescuing\", \"research\", \"research\", \"research\", \"reservation\", \"resolution\", \"result\", \"result\", \"result\", \"result\", \"resurrected\", \"reunite\", \"reveal\", \"reveal\", \"reveal\", \"reveal\", \"reveal\", \"revolution\", \"ride\", \"ride\", \"ride\", \"ride\", \"ride\", \"rider\", \"rift\", \"ripped\", \"rivalry\", \"rivalry\", \"roaring\", \"robbery\", \"robert\", \"robot\", \"rock\", \"rock\", \"rock\", \"rock\", \"rock\", \"rocker\", \"rocket\", \"roller\", \"roman\", \"roman\", \"romance\", \"romance\", \"romance\", \"romance\", \"rome\", \"ruby\", \"ruining\", \"run\", \"run\", \"run\", \"run\", \"run\", \"runner\", \"running\", \"running\", \"running\", \"running\", \"russell\", \"sacrifice\", \"sacrifice\", \"sacrifice\", \"sacrifice\", \"saint\", \"salvation\", \"salvation\", \"sam\", \"sarah\", \"satire\", \"satisfied\", \"savage\", \"save\", \"save\", \"save\", \"say\", \"say\", \"say\", \"say\", \"say\", \"say\", \"say\", \"scandal\", \"scandal\", \"scarlet\", \"scary\", \"scholar\", \"scholar\", \"school\", \"school\", \"school\", \"school\", \"school\", \"school\", \"sci\", \"science\", \"science\", \"scientific\", \"scientific\", \"scientist\", \"scientist\", \"scientist\", \"scout\", \"scripture\", \"seal\", \"seal\", \"search\", \"search\", \"search\", \"search\", \"search\", \"search\", \"sebastian\", \"secret\", \"secret\", \"secret\", \"secret\", \"seduction\", \"seize\", \"sending\", \"sending\", \"sense\", \"sense\", \"sense\", \"sense\", \"sense\", \"sense\", \"sense\", \"sent\", \"sent\", \"sent\", \"sent\", \"sent\", \"serf\", \"serf\", \"serf\", \"serf\", \"serial\", \"sex\", \"sex\", \"sex\", \"sexiest\", \"sexy\", \"shadow\", \"shadow\", \"shadow\", \"shadow\", \"shape\", \"shape\", \"shape\", \"shape\", \"shape\", \"shark\", \"sharp\", \"sharp\", \"sharp\", \"sharp\", \"sharp\", \"sharp\", \"sheriff\", \"sherlock\", \"ship\", \"ship\", \"ship\", \"shopping\", \"shopping\", \"short\", \"short\", \"short\", \"short\", \"short\", \"short\", \"short\", \"show\", \"show\", \"show\", \"show\", \"show\", \"show\", \"show\", \"show\", \"showdown\", \"shrouded\", \"shy\", \"sierra\", \"sign\", \"sign\", \"sign\", \"sign\", \"sign\", \"silence\", \"silence\", \"silence\", \"silk\", \"silk\", \"silk\", \"simmering\", \"simon\", \"simple\", \"simple\", \"simple\", \"simple\", \"singapore\", \"single\", \"single\", \"single\", \"single\", \"single\", \"single\", \"single\", \"single\", \"sinister\", \"skirt\", \"skull\", \"sky\", \"sky\", \"sky\", \"small\", \"small\", \"small\", \"small\", \"small\", \"small\", \"small\", \"small\", \"smash\", \"smile\", \"snowstorm\", \"soccer\", \"soil\", \"solved\", \"someone\", \"someone\", \"song\", \"song\", \"song\", \"song\", \"sonnet\", \"sophie\", \"sorceress\", \"soviet\", \"space\", \"space\", \"space\", \"space\", \"spain\", \"spanning\", \"spanning\", \"specific\", \"specter\", \"spice\", \"spiritual\", \"spiritual\", \"spiritual\", \"spite\", \"sport\", \"stall\", \"star\", \"star\", \"star\", \"star\", \"star\", \"star\", \"starred\", \"starring\", \"state\", \"state\", \"state\", \"steam\", \"steamy\", \"steel\", \"step\", \"step\", \"step\", \"step\", \"stopped\", \"story\", \"story\", \"story\", \"story\", \"storytelling\", \"storytelling\", \"storytelling\", \"stranger\", \"stranger\", \"stranger\", \"strategy\", \"strategy\", \"stress\", \"stress\", \"stressed\", \"stretch\", \"study\", \"study\", \"study\", \"style\", \"style\", \"style\", \"style\", \"style\", \"submission\", \"sugar\", \"sugar\", \"sugar\", \"suited\", \"suitor\", \"sun\", \"sun\", \"sun\", \"sun\", \"sun\", \"sun\", \"sunny\", \"supernatural\", \"supposed\", \"supposed\", \"supposed\", \"sure\", \"sure\", \"sure\", \"sure\", \"sure\", \"surgeon\", \"surgery\", \"surveillance\", \"swan\", \"sweep\", \"sweep\", \"sweep\", \"sweep\", \"sweet\", \"sweet\", \"sweet\", \"sweet\", \"swim\", \"swimming\", \"swordplay\", \"symptom\", \"system\", \"system\", \"system\", \"system\", \"system\", \"taker\", \"tale\", \"tale\", \"tame\", \"targeting\", \"tax\", \"taylor\", \"tea\", \"tea\", \"tech\", \"tech\", \"tech\", \"technique\", \"technique\", \"technology\", \"technology\", \"technology\", \"technology\", \"technology\", \"technology\", \"ted\", \"television\", \"television\", \"temptation\", \"temptation\", \"tennessee\", \"terrifying\", \"terrorism\", \"test\", \"test\", \"test\", \"test\", \"test\", \"test\", \"theological\", \"theory\", \"thing\", \"thing\", \"thing\", \"thing\", \"thing\", \"thing\", \"thinker\", \"third\", \"third\", \"third\", \"third\", \"third\", \"third\", \"third\", \"thirst\", \"thought\", \"thought\", \"thought\", \"thought\", \"thought\", \"thought\", \"thread\", \"thread\", \"thread\", \"thread\", \"throne\", \"thwart\", \"tick\", \"ticket\", \"time\", \"time\", \"time\", \"time\", \"time\", \"time\", \"time\", \"time\", \"time\", \"time\", \"tip\", \"tip\", \"toe\", \"tony\", \"tool\", \"touch\", \"touch\", \"touch\", \"touch\", \"touch\", \"touch\", \"toughest\", \"tour\", \"tour\", \"tour\", \"tour\", \"tour\", \"town\", \"town\", \"town\", \"town\", \"town\", \"town\", \"transformative\", \"translation\", \"translator\", \"trauma\", \"travelling\", \"treaty\", \"tree\", \"tree\", \"truly\", \"truth\", \"truth\", \"truth\", \"truth\", \"truth\", \"truth\", \"turn\", \"turn\", \"turn\", \"turn\", \"turn\", \"turn\", \"turn\", \"turn\", \"turn\", \"twenty\", \"twenty\", \"twenty\", \"twenty\", \"twenty\", \"twenty\", \"twenty\", \"twenty\", \"twenty\", \"ultimate\", \"ultimate\", \"ultimate\", \"ultimate\", \"ultimate\", \"uncle\", \"uncle\", \"uncle\", \"undeniable\", \"underlying\", \"understand\", \"understand\", \"understand\", \"understand\", \"understand\", \"understand\", \"underworld\", \"unforgettable\", \"unforgettable\", \"unforgettable\", \"unforgettable\", \"unforgettable\", \"unicorn\", \"united\", \"universe\", \"universe\", \"universe\", \"universe\", \"university\", \"university\", \"university\", \"university\", \"unleashed\", \"unleashes\", \"unravelling\", \"used\", \"used\", \"used\", \"used\", \"used\", \"used\", \"used\", \"using\", \"using\", \"using\", \"using\", \"using\", \"vampire\", \"variety\", \"variety\", \"variety\", \"vegetable\", \"vehicle\", \"veil\", \"vengeful\", \"verse\", \"version\", \"version\", \"version\", \"vet\", \"veterinarian\", \"viewed\", \"vigilante\", \"vintage\", \"violence\", \"violence\", \"violence\", \"violence\", \"violence\", \"virgin\", \"virginity\", \"voice\", \"voice\", \"voice\", \"voice\", \"void\", \"volume\", \"volume\", \"volume\", \"volume\", \"waited\", \"waitress\", \"walk\", \"walk\", \"walk\", \"walk\", \"walk\", \"walk\", \"wandering\", \"want\", \"want\", \"want\", \"want\", \"wanted\", \"wanted\", \"war\", \"war\", \"warming\", \"warrior\", \"watch\", \"watch\", \"watch\", \"watch\", \"water\", \"water\", \"water\", \"water\", \"water\", \"water\", \"water\", \"way\", \"way\", \"way\", \"way\", \"way\", \"way\", \"way\", \"way\", \"way\", \"website\", \"website\", \"website\", \"wed\", \"week\", \"week\", \"week\", \"week\", \"welcome\", \"welcome\", \"welcome\", \"welcome\", \"welcome\", \"werewolf\", \"wet\", \"whale\", \"whim\", \"whim\", \"whole\", \"whole\", \"whole\", \"whole\", \"whole\", \"whole\", \"whole\", \"whole\", \"wide\", \"wide\", \"wide\", \"wide\", \"wide\", \"wide\", \"wide\", \"wide\", \"wide\", \"widower\", \"wife\", \"wife\", \"wife\", \"wife\", \"winner\", \"winner\", \"winner\", \"winner\", \"winning\", \"winning\", \"winning\", \"winning\", \"winning\", \"winning\", \"winning\", \"wisdom\", \"wisdom\", \"wisdom\", \"wisdom\", \"wit\", \"wit\", \"wit\", \"wit\", \"wit\", \"witch\", \"witch\", \"woke\", \"wolf\", \"woman\", \"woman\", \"woman\", \"woman\", \"woman\", \"woman\", \"woman\", \"wonder\", \"wonder\", \"wonder\", \"wonder\", \"wonder\", \"wonder\", \"word\", \"word\", \"word\", \"word\", \"word\", \"word\", \"word\", \"word\", \"work\", \"work\", \"work\", \"work\", \"work\", \"work\", \"work\", \"work\", \"work\", \"world\", \"world\", \"world\", \"world\", \"world\", \"world\", \"world\", \"world\", \"world\", \"world\", \"worship\", \"worst\", \"worst\", \"write\", \"write\", \"write\", \"writer\", \"writer\", \"writer\", \"writing\", \"writing\", \"writing\", \"writing\", \"written\", \"written\", \"written\", \"written\", \"written\", \"written\", \"wrong\", \"wrong\", \"wrong\", \"wrong\", \"wrong\", \"wrong\", \"wrong\", \"year\", \"year\", \"year\", \"year\", \"year\", \"year\", \"year\", \"year\", \"yearns\", \"yellow\", \"yoga\", \"young\", \"young\", \"young\", \"young\", \"young\", \"young\", \"young\", \"zach\", \"zoe\"]}, \"R\": 30, \"lambda.step\": 0.01, \"plot.opts\": {\"xlab\": \"PC1\", \"ylab\": \"PC2\"}, \"topic.order\": [10, 8, 12, 3, 17, 2, 9, 20, 16, 7, 15, 1, 14, 13, 5, 4, 18, 6, 11, 19]};\n",
       "\n",
       "function LDAvis_load_lib(url, callback){\n",
       "  var s = document.createElement('script');\n",
       "  s.src = url;\n",
       "  s.async = true;\n",
       "  s.onreadystatechange = s.onload = callback;\n",
       "  s.onerror = function(){console.warn(\"failed to load library \" + url);};\n",
       "  document.getElementsByTagName(\"head\")[0].appendChild(s);\n",
       "}\n",
       "\n",
       "if(typeof(LDAvis) !== \"undefined\"){\n",
       "   // already loaded: just create the visualization\n",
       "   !function(LDAvis){\n",
       "       new LDAvis(\"#\" + \"ldavis_el551396707260452727877669055\", ldavis_el551396707260452727877669055_data);\n",
       "   }(LDAvis);\n",
       "}else if(typeof define === \"function\" && define.amd){\n",
       "   // require.js is available: use it to load d3/LDAvis\n",
       "   require.config({paths: {d3: \"https://cdnjs.cloudflare.com/ajax/libs/d3/3.5.5/d3.min\"}});\n",
       "   require([\"d3\"], function(d3){\n",
       "      window.d3 = d3;\n",
       "      LDAvis_load_lib(\"https://cdn.rawgit.com/bmabey/pyLDAvis/files/ldavis.v1.0.0.js\", function(){\n",
       "        new LDAvis(\"#\" + \"ldavis_el551396707260452727877669055\", ldavis_el551396707260452727877669055_data);\n",
       "      });\n",
       "    });\n",
       "}else{\n",
       "    // require.js not available: dynamically load d3 & LDAvis\n",
       "    LDAvis_load_lib(\"https://cdnjs.cloudflare.com/ajax/libs/d3/3.5.5/d3.min.js\", function(){\n",
       "         LDAvis_load_lib(\"https://cdn.rawgit.com/bmabey/pyLDAvis/files/ldavis.v1.0.0.js\", function(){\n",
       "                 new LDAvis(\"#\" + \"ldavis_el551396707260452727877669055\", ldavis_el551396707260452727877669055_data);\n",
       "            })\n",
       "         });\n",
       "}\n",
       "</script>"
      ],
      "text/plain": [
       "<IPython.core.display.HTML object>"
      ]
     },
     "execution_count": 82,
     "metadata": {
      "tags": []
     },
     "output_type": "execute_result"
    }
   ],
   "source": [
    "pyLDAvis.enable_notebook()\n",
    "vis_data = gensimvis.prepare(ldamodel, c, d)\n",
    "pyLDAvis.display(vis_data)"
   ]
  },
  {
   "cell_type": "code",
   "execution_count": null,
   "metadata": {
    "colab": {
     "base_uri": "https://localhost:8080/"
    },
    "id": "XkWOs6oZkapF",
    "outputId": "485f7260-e535-4ae3-ae24-dc0ee7b9f466"
   },
   "outputs": [
    {
     "data": {
      "text/plain": [
       "CountVectorizer(analyzer='word', binary=False, decode_error='strict',\n",
       "                dtype=<class 'numpy.int64'>, encoding='utf-8', input='content',\n",
       "                lowercase=True, max_df=1.0, max_features=None, min_df=1,\n",
       "                ngram_range=(1, 1), preprocessor=None, stop_words='english',\n",
       "                strip_accents=None, token_pattern='\\\\b[a-z][a-z][a-z]+\\\\b',\n",
       "                tokenizer=None, vocabulary=None)"
      ]
     },
     "execution_count": 83,
     "metadata": {
      "tags": []
     },
     "output_type": "execute_result"
    }
   ],
   "source": [
    "count_vectorizer = CountVectorizer(ngram_range=(1,1),stop_words='english',token_pattern='\\\\b[a-z][a-z][a-z]+\\\\b')\n",
    "count_vectorizer.fit(grouped_data2.processed)"
   ]
  },
  {
   "cell_type": "code",
   "execution_count": null,
   "metadata": {
    "id": "Ti7qvnM6k2Tk"
   },
   "outputs": [],
   "source": [
    "# Create the term-document matrix\n",
    "# Transpose it so the terms are the rows\n",
    "doc_word = count_vectorizer.transform(grouped_data2.processed).transpose()"
   ]
  },
  {
   "cell_type": "code",
   "execution_count": null,
   "metadata": {
    "id": "cSzhra59lR3m"
   },
   "outputs": [],
   "source": [
    "# convert sparse matrix to genism corpus\n",
    "corpus = matutils.Sparse2Corpus(doc_word)"
   ]
  },
  {
   "cell_type": "code",
   "execution_count": null,
   "metadata": {
    "id": "RzlebRcElYDS"
   },
   "outputs": [],
   "source": [
    "# tranform doc from word space to the topic space (like transform in sklearn)\n",
    "lda_corpus = ldamodel[corpus]"
   ]
  },
  {
   "cell_type": "code",
   "execution_count": null,
   "metadata": {
    "colab": {
     "base_uri": "https://localhost:8080/"
    },
    "id": "Pw5oLCtLvN1T",
    "outputId": "39f673ba-9141-4308-bca2-570f2e613a09"
   },
   "outputs": [
    {
     "data": {
      "text/plain": [
       "<gensim.interfaces.TransformedCorpus at 0x7f079bea2dd8>"
      ]
     },
     "execution_count": 87,
     "metadata": {
      "tags": []
     },
     "output_type": "execute_result"
    }
   ],
   "source": [
    "lda_corpus"
   ]
  },
  {
   "cell_type": "code",
   "execution_count": null,
   "metadata": {
    "id": "0uSuseY1lbLI"
   },
   "outputs": [],
   "source": [
    "lda_docs = [doc for doc in lda_corpus]"
   ]
  },
  {
   "cell_type": "code",
   "execution_count": null,
   "metadata": {
    "id": "E3QZzcY2lelZ"
   },
   "outputs": [],
   "source": [
    "#lda_docs[6]"
   ]
  },
  {
   "cell_type": "code",
   "execution_count": null,
   "metadata": {
    "colab": {
     "base_uri": "https://localhost:8080/"
    },
    "id": "C7IFfHHX60yR",
    "outputId": "20508a96-db65-4d94-d3c8-1f4bf777c49e"
   },
   "outputs": [
    {
     "data": {
      "text/plain": [
       "<gensim.matutils.Sparse2Corpus at 0x7f07a28dd5f8>"
      ]
     },
     "execution_count": 92,
     "metadata": {
      "tags": []
     },
     "output_type": "execute_result"
    }
   ],
   "source": [
    "corpus"
   ]
  },
  {
   "cell_type": "code",
   "execution_count": null,
   "metadata": {
    "id": "MuvQ3OpW_TID"
   },
   "outputs": [],
   "source": [
    "listoftopics=[]\n",
    "for i in corpus:\n",
    "  var=ldamodel[i]\n",
    "  var1=sorted(var,key=lambda x:(-x[1],x[0]))\n",
    "  listoftopics.append(var1[0][0]) #highest probability topics applied\n"
   ]
  },
  {
   "cell_type": "code",
   "execution_count": null,
   "metadata": {
    "id": "8ndTaVHABRTd"
   },
   "outputs": [],
   "source": [
    "grouped_data2['topic']=listoftopics"
   ]
  },
  {
   "cell_type": "code",
   "execution_count": null,
   "metadata": {
    "colab": {
     "base_uri": "https://localhost:8080/",
     "height": 549
    },
    "id": "ugF1RZ86BtQG",
    "outputId": "e3d97112-89c7-401c-f240-4a9868060c0d"
   },
   "outputs": [
    {
     "data": {
      "text/html": [
       "<div>\n",
       "<style scoped>\n",
       "    .dataframe tbody tr th:only-of-type {\n",
       "        vertical-align: middle;\n",
       "    }\n",
       "\n",
       "    .dataframe tbody tr th {\n",
       "        vertical-align: top;\n",
       "    }\n",
       "\n",
       "    .dataframe thead th {\n",
       "        text-align: right;\n",
       "    }\n",
       "</style>\n",
       "<table border=\"1\" class=\"dataframe\">\n",
       "  <thead>\n",
       "    <tr style=\"text-align: right;\">\n",
       "      <th></th>\n",
       "      <th>book_id</th>\n",
       "      <th>title</th>\n",
       "      <th>genres_book</th>\n",
       "      <th>author_name</th>\n",
       "      <th>description</th>\n",
       "      <th>cleaned_desc</th>\n",
       "      <th>cleaned</th>\n",
       "      <th>tokenized</th>\n",
       "      <th>lemmatize</th>\n",
       "      <th>processed</th>\n",
       "      <th>dictionary</th>\n",
       "      <th>topic</th>\n",
       "    </tr>\n",
       "  </thead>\n",
       "  <tbody>\n",
       "    <tr>\n",
       "      <th>0</th>\n",
       "      <td>228</td>\n",
       "      <td>Cockfighter</td>\n",
       "      <td>fiction</td>\n",
       "      <td>Charles Willeford</td>\n",
       "      <td>The sport is cockfighting and Frank Mansfield ...</td>\n",
       "      <td>The sport is cockfighting and Frank Mansfield ...</td>\n",
       "      <td>sport cockfighting cockfighter silent fiercely...</td>\n",
       "      <td>[sport, cockfighting, cockfighter, silent, fie...</td>\n",
       "      <td>[sport, cockfighting, cockfighter, silent, fie...</td>\n",
       "      <td>sport cockfighting cockfighter silent contrary...</td>\n",
       "      <td>[sport, cockfighting, cockfighter, silent, con...</td>\n",
       "      <td>13</td>\n",
       "    </tr>\n",
       "    <tr>\n",
       "      <th>1</th>\n",
       "      <td>420</td>\n",
       "      <td>The Year of Magical Thinking</td>\n",
       "      <td>non-fiction</td>\n",
       "      <td>Joan Didion</td>\n",
       "      <td>From one of America's most iconic writers, a s...</td>\n",
       "      <td>From one of America s most iconic writers a st...</td>\n",
       "      <td>america iconic writers stunning electric hones...</td>\n",
       "      <td>[america, iconic, writers, stunning, electric,...</td>\n",
       "      <td>[america, iconic, writer, stunning, electric, ...</td>\n",
       "      <td>america iconic writer stunning electric honest...</td>\n",
       "      <td>[america, iconic, writer, stunning, electric, ...</td>\n",
       "      <td>7</td>\n",
       "    </tr>\n",
       "    <tr>\n",
       "      <th>2</th>\n",
       "      <td>422</td>\n",
       "      <td>A Book of Common Prayer</td>\n",
       "      <td>fiction</td>\n",
       "      <td>Joan Didion</td>\n",
       "      <td>Writing with the telegraphic swiftness and mic...</td>\n",
       "      <td>Writing with the telegraphic swiftness and mic...</td>\n",
       "      <td>writing telegraphic swiftness microscopic sens...</td>\n",
       "      <td>[writing, telegraphic, swiftness, microscopic,...</td>\n",
       "      <td>[writing, telegraphic, swiftness, microscopic,...</td>\n",
       "      <td>writing telegraphic swiftness microscopic sens...</td>\n",
       "      <td>[writing, telegraphic, swiftness, microscopic,...</td>\n",
       "      <td>8</td>\n",
       "    </tr>\n",
       "    <tr>\n",
       "      <th>3</th>\n",
       "      <td>423</td>\n",
       "      <td>Where I Was From</td>\n",
       "      <td>non-fiction</td>\n",
       "      <td>Joan Didion</td>\n",
       "      <td>In her moving and insightful new book, Joan Di...</td>\n",
       "      <td>In her moving and insightful new book Joan Did...</td>\n",
       "      <td>moving insightful reassesses parts life work h...</td>\n",
       "      <td>[moving, insightful, reassesses, parts, life, ...</td>\n",
       "      <td>[moving, insightful, reassesses, part, life, w...</td>\n",
       "      <td>moving insightful reassesses part life work hi...</td>\n",
       "      <td>[moving, insightful, reassesses, part, life, w...</td>\n",
       "      <td>2</td>\n",
       "    </tr>\n",
       "    <tr>\n",
       "      <th>4</th>\n",
       "      <td>428</td>\n",
       "      <td>Play It as It Lays</td>\n",
       "      <td>fiction</td>\n",
       "      <td>Joan Didion</td>\n",
       "      <td>A ruthless dissection of American life in the ...</td>\n",
       "      <td>A ruthless dissection of American life in the ...</td>\n",
       "      <td>ruthless dissection american life late 1960s p...</td>\n",
       "      <td>[ruthless, dissection, american, life, late, 1...</td>\n",
       "      <td>[ruthless, dissection, american, life, late, 1...</td>\n",
       "      <td>ruthless dissection american life play layscap...</td>\n",
       "      <td>[ruthless, dissection, american, life, play, l...</td>\n",
       "      <td>8</td>\n",
       "    </tr>\n",
       "  </tbody>\n",
       "</table>\n",
       "</div>"
      ],
      "text/plain": [
       "   book_id  ... topic\n",
       "0      228  ...    13\n",
       "1      420  ...     7\n",
       "2      422  ...     8\n",
       "3      423  ...     2\n",
       "4      428  ...     8\n",
       "\n",
       "[5 rows x 12 columns]"
      ]
     },
     "execution_count": 96,
     "metadata": {
      "tags": []
     },
     "output_type": "execute_result"
    }
   ],
   "source": [
    "grouped_data2.head(5)"
   ]
  },
  {
   "cell_type": "code",
   "execution_count": null,
   "metadata": {
    "id": "brPuloyCIWmt"
   },
   "outputs": [],
   "source": [
    "final_goodreads=pd.merge(grouped_data2, df, on='topic', how='left')"
   ]
  },
  {
   "cell_type": "code",
   "execution_count": null,
   "metadata": {
    "colab": {
     "base_uri": "https://localhost:8080/",
     "height": 538
    },
    "id": "rzp57htHJ_uZ",
    "outputId": "926dd77a-dad2-4d22-a1c6-1bc1ccfa7ca4"
   },
   "outputs": [
    {
     "data": {
      "text/html": [
       "<div>\n",
       "<style scoped>\n",
       "    .dataframe tbody tr th:only-of-type {\n",
       "        vertical-align: middle;\n",
       "    }\n",
       "\n",
       "    .dataframe tbody tr th {\n",
       "        vertical-align: top;\n",
       "    }\n",
       "\n",
       "    .dataframe thead th {\n",
       "        text-align: right;\n",
       "    }\n",
       "</style>\n",
       "<table border=\"1\" class=\"dataframe\">\n",
       "  <thead>\n",
       "    <tr style=\"text-align: right;\">\n",
       "      <th></th>\n",
       "      <th>book_id</th>\n",
       "      <th>title</th>\n",
       "      <th>genres_book</th>\n",
       "      <th>author_name</th>\n",
       "      <th>description</th>\n",
       "      <th>cleaned_desc</th>\n",
       "      <th>cleaned</th>\n",
       "      <th>tokenized</th>\n",
       "      <th>lemmatize</th>\n",
       "      <th>processed</th>\n",
       "      <th>dictionary</th>\n",
       "      <th>topic</th>\n",
       "      <th>topicname</th>\n",
       "    </tr>\n",
       "  </thead>\n",
       "  <tbody>\n",
       "    <tr>\n",
       "      <th>0</th>\n",
       "      <td>228</td>\n",
       "      <td>Cockfighter</td>\n",
       "      <td>fiction</td>\n",
       "      <td>Charles Willeford</td>\n",
       "      <td>The sport is cockfighting and Frank Mansfield ...</td>\n",
       "      <td>The sport is cockfighting and Frank Mansfield ...</td>\n",
       "      <td>sport cockfighting cockfighter silent fiercely...</td>\n",
       "      <td>[sport, cockfighting, cockfighter, silent, fie...</td>\n",
       "      <td>[sport, cockfighting, cockfighter, silent, fie...</td>\n",
       "      <td>sport cockfighting cockfighter silent contrary...</td>\n",
       "      <td>[sport, cockfighting, cockfighter, silent, con...</td>\n",
       "      <td>13</td>\n",
       "      <td>investor property holmes roller quit danny exi...</td>\n",
       "    </tr>\n",
       "    <tr>\n",
       "      <th>1</th>\n",
       "      <td>420</td>\n",
       "      <td>The Year of Magical Thinking</td>\n",
       "      <td>non-fiction</td>\n",
       "      <td>Joan Didion</td>\n",
       "      <td>From one of America's most iconic writers, a s...</td>\n",
       "      <td>From one of America s most iconic writers a st...</td>\n",
       "      <td>america iconic writers stunning electric hones...</td>\n",
       "      <td>[america, iconic, writers, stunning, electric,...</td>\n",
       "      <td>[america, iconic, writer, stunning, electric, ...</td>\n",
       "      <td>america iconic writer stunning electric honest...</td>\n",
       "      <td>[america, iconic, writer, stunning, electric, ...</td>\n",
       "      <td>7</td>\n",
       "      <td>world secret life death find time monster myst...</td>\n",
       "    </tr>\n",
       "    <tr>\n",
       "      <th>2</th>\n",
       "      <td>422</td>\n",
       "      <td>A Book of Common Prayer</td>\n",
       "      <td>fiction</td>\n",
       "      <td>Joan Didion</td>\n",
       "      <td>Writing with the telegraphic swiftness and mic...</td>\n",
       "      <td>Writing with the telegraphic swiftness and mic...</td>\n",
       "      <td>writing telegraphic swiftness microscopic sens...</td>\n",
       "      <td>[writing, telegraphic, swiftness, microscopic,...</td>\n",
       "      <td>[writing, telegraphic, swiftness, microscopic,...</td>\n",
       "      <td>writing telegraphic swiftness microscopic sens...</td>\n",
       "      <td>[writing, telegraphic, swiftness, microscopic,...</td>\n",
       "      <td>8</td>\n",
       "      <td>game history world journalism first ruining st...</td>\n",
       "    </tr>\n",
       "    <tr>\n",
       "      <th>3</th>\n",
       "      <td>423</td>\n",
       "      <td>Where I Was From</td>\n",
       "      <td>non-fiction</td>\n",
       "      <td>Joan Didion</td>\n",
       "      <td>In her moving and insightful new book, Joan Di...</td>\n",
       "      <td>In her moving and insightful new book Joan Did...</td>\n",
       "      <td>moving insightful reassesses parts life work h...</td>\n",
       "      <td>[moving, insightful, reassesses, parts, life, ...</td>\n",
       "      <td>[moving, insightful, reassesses, part, life, w...</td>\n",
       "      <td>moving insightful reassesses part life work hi...</td>\n",
       "      <td>[moving, insightful, reassesses, part, life, w...</td>\n",
       "      <td>2</td>\n",
       "      <td>life help way cupcake food time people everyth...</td>\n",
       "    </tr>\n",
       "  </tbody>\n",
       "</table>\n",
       "</div>"
      ],
      "text/plain": [
       "   book_id  ...                                          topicname\n",
       "0      228  ...  investor property holmes roller quit danny exi...\n",
       "1      420  ...  world secret life death find time monster myst...\n",
       "2      422  ...  game history world journalism first ruining st...\n",
       "3      423  ...  life help way cupcake food time people everyth...\n",
       "\n",
       "[4 rows x 13 columns]"
      ]
     },
     "execution_count": 108,
     "metadata": {
      "tags": []
     },
     "output_type": "execute_result"
    }
   ],
   "source": [
    "# Using this table on topic for the content based recommendation \n",
    "final_goodreads.head(4)"
   ]
  },
  {
   "cell_type": "code",
   "execution_count": null,
   "metadata": {
    "id": "vfHjsereJkb8"
   },
   "outputs": [],
   "source": [
    "df1= final_goodreads[['book_id','processed','topicname']]\n",
    "df1"
   ]
  },
  {
   "cell_type": "code",
   "execution_count": null,
   "metadata": {
    "id": "sOhXolVLLQ4S"
   },
   "outputs": [],
   "source": [
    "hybrid=pd.merge(goodreads_book2, df1 ,on='book_id', how='left')"
   ]
  },
  {
   "cell_type": "code",
   "execution_count": null,
   "metadata": {
    "colab": {
     "base_uri": "https://localhost:8080/",
     "height": 1000
    },
    "id": "NK79VR-YLVDF",
    "outputId": "5107c1bd-1fe7-4a51-f3b2-23dcdcf99712"
   },
   "outputs": [
    {
     "data": {
      "text/html": [
       "<div>\n",
       "<style scoped>\n",
       "    .dataframe tbody tr th:only-of-type {\n",
       "        vertical-align: middle;\n",
       "    }\n",
       "\n",
       "    .dataframe tbody tr th {\n",
       "        vertical-align: top;\n",
       "    }\n",
       "\n",
       "    .dataframe thead th {\n",
       "        text-align: right;\n",
       "    }\n",
       "</style>\n",
       "<table border=\"1\" class=\"dataframe\">\n",
       "  <thead>\n",
       "    <tr style=\"text-align: right;\">\n",
       "      <th></th>\n",
       "      <th>book_id</th>\n",
       "      <th>text_reviews_count</th>\n",
       "      <th>average_rating</th>\n",
       "      <th>description</th>\n",
       "      <th>link</th>\n",
       "      <th>url</th>\n",
       "      <th>image_url</th>\n",
       "      <th>ratings_count</th>\n",
       "      <th>title</th>\n",
       "      <th>title_without_series</th>\n",
       "      <th>language</th>\n",
       "      <th>author_id</th>\n",
       "      <th>author_name</th>\n",
       "      <th>genres_book</th>\n",
       "      <th>processed</th>\n",
       "      <th>topicname</th>\n",
       "    </tr>\n",
       "  </thead>\n",
       "  <tbody>\n",
       "    <tr>\n",
       "      <th>0</th>\n",
       "      <td>19398490</td>\n",
       "      <td>2311</td>\n",
       "      <td>4.31</td>\n",
       "      <td>Winner of the Pulitzer Prize\\nFrom the highly ...</td>\n",
       "      <td>https://www.goodreads.com/book/show/19398490-a...</td>\n",
       "      <td>https://www.goodreads.com/book/show/19398490-a...</td>\n",
       "      <td>https://images.gr-assets.com/books/1440903901m...</td>\n",
       "      <td>53342</td>\n",
       "      <td>All the Light We Cannot See</td>\n",
       "      <td>All the Light We Cannot See</td>\n",
       "      <td>en</td>\n",
       "      <td>28186</td>\n",
       "      <td>Anthony Doerr</td>\n",
       "      <td>fiction</td>\n",
       "      <td>winner pulitzer prize acclaimed multiple award...</td>\n",
       "      <td>life thing find time want dream job way chance...</td>\n",
       "    </tr>\n",
       "    <tr>\n",
       "      <th>1</th>\n",
       "      <td>12969594</td>\n",
       "      <td>241</td>\n",
       "      <td>4.06</td>\n",
       "      <td>An alternate cover of this ASIN can be found \u0001...</td>\n",
       "      <td>https://www.goodreads.com/book/show/12969594-t...</td>\n",
       "      <td>https://www.goodreads.com/book/show/12969594-t...</td>\n",
       "      <td>https://images.gr-assets.com/books/1328309680m...</td>\n",
       "      <td>6390</td>\n",
       "      <td>The Orphan Master's Son</td>\n",
       "      <td>The Orphan Master's Son</td>\n",
       "      <td>en</td>\n",
       "      <td>36615</td>\n",
       "      <td>Adam Johnson</td>\n",
       "      <td>fiction</td>\n",
       "      <td>alternate cover asin found thrilling literary ...</td>\n",
       "      <td>world secret life death find time monster myst...</td>\n",
       "    </tr>\n",
       "    <tr>\n",
       "      <th>2</th>\n",
       "      <td>8664353</td>\n",
       "      <td>38878</td>\n",
       "      <td>4.39</td>\n",
       "      <td>In her long-awaited new book, Laura Hillenbran...</td>\n",
       "      <td>https://www.goodreads.com/book/show/8664353-un...</td>\n",
       "      <td>https://www.goodreads.com/book/show/8664353-un...</td>\n",
       "      <td>https://images.gr-assets.com/books/1327861115m...</td>\n",
       "      <td>504961</td>\n",
       "      <td>Unbroken: A World War II Story of Survival, Re...</td>\n",
       "      <td>Unbroken: A World War II Story of Survival, Re...</td>\n",
       "      <td>en</td>\n",
       "      <td>30913</td>\n",
       "      <td>Laura Hillenbrand</td>\n",
       "      <td>non-fiction</td>\n",
       "      <td>awaited writes rich vivid narrative voice disp...</td>\n",
       "      <td>game history world journalism first ruining st...</td>\n",
       "    </tr>\n",
       "    <tr>\n",
       "      <th>3</th>\n",
       "      <td>6452796</td>\n",
       "      <td>2930</td>\n",
       "      <td>3.95</td>\n",
       "      <td>Forget everything you thought you knew about h...</td>\n",
       "      <td>https://www.goodreads.com/book/show/6452796-drive</td>\n",
       "      <td>https://www.goodreads.com/book/show/6452796-drive</td>\n",
       "      <td>https://s.gr-assets.com/assets/nophoto/book/11...</td>\n",
       "      <td>58428</td>\n",
       "      <td>Drive: The Surprising Truth About What Motivat...</td>\n",
       "      <td>Drive: The Surprising Truth About What Motivat...</td>\n",
       "      <td>en</td>\n",
       "      <td>96150</td>\n",
       "      <td>Daniel H. Pink</td>\n",
       "      <td>non-fiction</td>\n",
       "      <td>forget everything thought knew motivate people...</td>\n",
       "      <td>life thing find time want dream job way chance...</td>\n",
       "    </tr>\n",
       "    <tr>\n",
       "      <th>4</th>\n",
       "      <td>178186</td>\n",
       "      <td>26</td>\n",
       "      <td>3.87</td>\n",
       "      <td>An autobiographical memoir revealing the tradi...</td>\n",
       "      <td>https://www.goodreads.com/book/show/178186.The...</td>\n",
       "      <td>https://www.goodreads.com/book/show/178186.The...</td>\n",
       "      <td>https://s.gr-assets.com/assets/nophoto/book/11...</td>\n",
       "      <td>245</td>\n",
       "      <td>The Worlds of a Maasai Warrior: An Autobiography</td>\n",
       "      <td>The Worlds of a Maasai Warrior: An Autobiography</td>\n",
       "      <td>en</td>\n",
       "      <td>103752</td>\n",
       "      <td>Tepilit Ole Saitoti</td>\n",
       "      <td>non-fiction</td>\n",
       "      <td>autobiographical memoir revealing traditional ...</td>\n",
       "      <td>life thing find time want dream job way chance...</td>\n",
       "    </tr>\n",
       "    <tr>\n",
       "      <th>...</th>\n",
       "      <td>...</td>\n",
       "      <td>...</td>\n",
       "      <td>...</td>\n",
       "      <td>...</td>\n",
       "      <td>...</td>\n",
       "      <td>...</td>\n",
       "      <td>...</td>\n",
       "      <td>...</td>\n",
       "      <td>...</td>\n",
       "      <td>...</td>\n",
       "      <td>...</td>\n",
       "      <td>...</td>\n",
       "      <td>...</td>\n",
       "      <td>...</td>\n",
       "      <td>...</td>\n",
       "      <td>...</td>\n",
       "    </tr>\n",
       "    <tr>\n",
       "      <th>24010</th>\n",
       "      <td>23228256</td>\n",
       "      <td>28</td>\n",
       "      <td>4.09</td>\n",
       "      <td>From Brazil's most acclaimed young novelist, t...</td>\n",
       "      <td>https://www.goodreads.com/book/show/23228256-b...</td>\n",
       "      <td>https://www.goodreads.com/book/show/23228256-b...</td>\n",
       "      <td>https://images.gr-assets.com/books/1411183144m...</td>\n",
       "      <td>159</td>\n",
       "      <td>Blood-Drenched Beard</td>\n",
       "      <td>Blood-Drenched Beard</td>\n",
       "      <td>en</td>\n",
       "      <td>1169290</td>\n",
       "      <td>Daniel Galera</td>\n",
       "      <td>fiction</td>\n",
       "      <td>acclaimed young novelist mesmerizing troubled ...</td>\n",
       "      <td>world secret life death find time monster myst...</td>\n",
       "    </tr>\n",
       "    <tr>\n",
       "      <th>24011</th>\n",
       "      <td>30340824</td>\n",
       "      <td>45</td>\n",
       "      <td>4.33</td>\n",
       "      <td>Ten seconds can change everything.\\nDaisy Conn...</td>\n",
       "      <td>https://www.goodreads.com/book/show/30340824-c...</td>\n",
       "      <td>https://www.goodreads.com/book/show/30340824-c...</td>\n",
       "      <td>https://images.gr-assets.com/books/1464920539m...</td>\n",
       "      <td>68</td>\n",
       "      <td>Collateral Damage (Hidden Scars, #2)</td>\n",
       "      <td>Collateral Damage (Hidden Scars, #2)</td>\n",
       "      <td>en</td>\n",
       "      <td>3975855</td>\n",
       "      <td>A.M. Myers</td>\n",
       "      <td>romance</td>\n",
       "      <td>ten second change everything fell best friend ...</td>\n",
       "      <td>life help way cupcake food time people everyth...</td>\n",
       "    </tr>\n",
       "    <tr>\n",
       "      <th>24012</th>\n",
       "      <td>33125385</td>\n",
       "      <td>29</td>\n",
       "      <td>4.40</td>\n",
       "      <td>Librarian Note: Alternate Cover Edition for \u0001....</td>\n",
       "      <td>https://www.goodreads.com/book/show/33125385-u...</td>\n",
       "      <td>https://www.goodreads.com/book/show/33125385-u...</td>\n",
       "      <td>https://images.gr-assets.com/books/1480090010m...</td>\n",
       "      <td>93</td>\n",
       "      <td>Untouched (Untouched #1)</td>\n",
       "      <td>Untouched (Untouched #1)</td>\n",
       "      <td>en</td>\n",
       "      <td>8577407</td>\n",
       "      <td>Lilly Wilde</td>\n",
       "      <td>romance</td>\n",
       "      <td>librarian note alternate cover untouched follo...</td>\n",
       "      <td>war country american history trauma national r...</td>\n",
       "    </tr>\n",
       "    <tr>\n",
       "      <th>24013</th>\n",
       "      <td>22798607</td>\n",
       "      <td>3</td>\n",
       "      <td>3.90</td>\n",
       "      <td>In his debut collection, Christian Winn throws...</td>\n",
       "      <td>https://www.goodreads.com/book/show/22798607-n...</td>\n",
       "      <td>https://www.goodreads.com/book/show/22798607-n...</td>\n",
       "      <td>https://images.gr-assets.com/books/1417750817m...</td>\n",
       "      <td>21</td>\n",
       "      <td>Naked Me</td>\n",
       "      <td>Naked Me</td>\n",
       "      <td>en</td>\n",
       "      <td>8409842</td>\n",
       "      <td>Christian Winn</td>\n",
       "      <td>fiction</td>\n",
       "      <td>debut collection throw reader world character ...</td>\n",
       "      <td>war country american history trauma national r...</td>\n",
       "    </tr>\n",
       "    <tr>\n",
       "      <th>24014</th>\n",
       "      <td>26047380</td>\n",
       "      <td>2</td>\n",
       "      <td>4.70</td>\n",
       "      <td>Sadly Beautiful is a collection of poems and e...</td>\n",
       "      <td>https://www.goodreads.com/book/show/26047380-s...</td>\n",
       "      <td>https://www.goodreads.com/book/show/26047380-s...</td>\n",
       "      <td>https://images.gr-assets.com/books/1438812276m...</td>\n",
       "      <td>9</td>\n",
       "      <td>Sadly Beautiful</td>\n",
       "      <td>Sadly Beautiful</td>\n",
       "      <td>en</td>\n",
       "      <td>4952802</td>\n",
       "      <td>Jason Fisk</td>\n",
       "      <td>poetry</td>\n",
       "      <td>beautiful collection poem essay inspired autho...</td>\n",
       "      <td>cancel paranormal sam harder fake nick owns co...</td>\n",
       "    </tr>\n",
       "  </tbody>\n",
       "</table>\n",
       "<p>24015 rows × 16 columns</p>\n",
       "</div>"
      ],
      "text/plain": [
       "        book_id  ...                                          topicname\n",
       "0      19398490  ...  life thing find time want dream job way chance...\n",
       "1      12969594  ...  world secret life death find time monster myst...\n",
       "2       8664353  ...  game history world journalism first ruining st...\n",
       "3       6452796  ...  life thing find time want dream job way chance...\n",
       "4        178186  ...  life thing find time want dream job way chance...\n",
       "...         ...  ...                                                ...\n",
       "24010  23228256  ...  world secret life death find time monster myst...\n",
       "24011  30340824  ...  life help way cupcake food time people everyth...\n",
       "24012  33125385  ...  war country american history trauma national r...\n",
       "24013  22798607  ...  war country american history trauma national r...\n",
       "24014  26047380  ...  cancel paranormal sam harder fake nick owns co...\n",
       "\n",
       "[24015 rows x 16 columns]"
      ]
     },
     "execution_count": 112,
     "metadata": {
      "tags": []
     },
     "output_type": "execute_result"
    }
   ],
   "source": [
    "hybrid"
   ]
  },
  {
   "cell_type": "code",
   "execution_count": null,
   "metadata": {
    "id": "cPqlY2d7ktwG"
   },
   "outputs": [],
   "source": [
    "topics = [ldamodel[corpus[i]] for i in range(len(grouped_data))]"
   ]
  },
  {
   "cell_type": "code",
   "execution_count": null,
   "metadata": {
    "colab": {
     "base_uri": "https://localhost:8080/",
     "height": 79
    },
    "id": "DGx7lBtflJoY",
    "outputId": "81032e7f-5ca8-4270-9dfa-3a93fb1fad39"
   },
   "outputs": [
    {
     "data": {
      "text/html": [
       "<div>\n",
       "<style scoped>\n",
       "    .dataframe tbody tr th:only-of-type {\n",
       "        vertical-align: middle;\n",
       "    }\n",
       "\n",
       "    .dataframe tbody tr th {\n",
       "        vertical-align: top;\n",
       "    }\n",
       "\n",
       "    .dataframe thead th {\n",
       "        text-align: right;\n",
       "    }\n",
       "</style>\n",
       "<table border=\"1\" class=\"dataframe\">\n",
       "  <thead>\n",
       "    <tr style=\"text-align: right;\">\n",
       "      <th></th>\n",
       "      <th>0</th>\n",
       "      <th>1</th>\n",
       "      <th>2</th>\n",
       "      <th>3</th>\n",
       "      <th>4</th>\n",
       "      <th>5</th>\n",
       "      <th>6</th>\n",
       "      <th>7</th>\n",
       "      <th>8</th>\n",
       "      <th>9</th>\n",
       "      <th>10</th>\n",
       "      <th>11</th>\n",
       "      <th>12</th>\n",
       "      <th>13</th>\n",
       "      <th>14</th>\n",
       "      <th>15</th>\n",
       "      <th>16</th>\n",
       "      <th>17</th>\n",
       "      <th>18</th>\n",
       "      <th>19</th>\n",
       "    </tr>\n",
       "  </thead>\n",
       "  <tbody>\n",
       "    <tr>\n",
       "      <th>0</th>\n",
       "      <td>NaN</td>\n",
       "      <td>NaN</td>\n",
       "      <td>NaN</td>\n",
       "      <td>0.136288</td>\n",
       "      <td>NaN</td>\n",
       "      <td>NaN</td>\n",
       "      <td>0.190147</td>\n",
       "      <td>NaN</td>\n",
       "      <td>0.0717016</td>\n",
       "      <td>NaN</td>\n",
       "      <td>NaN</td>\n",
       "      <td>NaN</td>\n",
       "      <td>NaN</td>\n",
       "      <td>NaN</td>\n",
       "      <td>NaN</td>\n",
       "      <td>NaN</td>\n",
       "      <td>NaN</td>\n",
       "      <td>NaN</td>\n",
       "      <td>NaN</td>\n",
       "      <td>NaN</td>\n",
       "    </tr>\n",
       "  </tbody>\n",
       "</table>\n",
       "</div>"
      ],
      "text/plain": [
       "    0    1    2         3    4    5   ...   14   15   16   17   18   19\n",
       "0  NaN  NaN  NaN  0.136288  NaN  NaN  ...  NaN  NaN  NaN  NaN  NaN  NaN\n",
       "\n",
       "[1 rows x 20 columns]"
      ]
     },
     "execution_count": 101,
     "metadata": {
      "tags": []
     },
     "output_type": "execute_result"
    }
   ],
   "source": [
    "def topics_document_to_dataframe(topics_document, num_topics):\n",
    "    res = pd.DataFrame(columns=range(num_topics))\n",
    "    for topic_weight in topics_document:\n",
    "        res.loc[0, topic_weight[0]] = topic_weight[1]\n",
    "    return res\n",
    "\n",
    "topics_document_to_dataframe([(3, 0.13628773), (6, 0.19014739), (8, 0.07170159)], 20)"
   ]
  },
  {
   "cell_type": "code",
   "execution_count": null,
   "metadata": {
    "id": "WTfsQacUljY9"
   },
   "outputs": [],
   "source": [
    "# Like TF-IDF, create a matrix of topic weighting, with documents as rows and topics as columns\n",
    "document_topic = pd.concat([topics_document_to_dataframe(topics_document, num_topics=20) for topics_document in topics]) .reset_index(drop=True).fillna(0)"
   ]
  },
  {
   "cell_type": "code",
   "execution_count": null,
   "metadata": {
    "colab": {
     "base_uri": "https://localhost:8080/",
     "height": 222
    },
    "id": "Gfeq9lZ-mAX8",
    "outputId": "552f92bc-afa1-4e74-8ff0-9fcc664c057a"
   },
   "outputs": [
    {
     "data": {
      "text/html": [
       "<div>\n",
       "<style scoped>\n",
       "    .dataframe tbody tr th:only-of-type {\n",
       "        vertical-align: middle;\n",
       "    }\n",
       "\n",
       "    .dataframe tbody tr th {\n",
       "        vertical-align: top;\n",
       "    }\n",
       "\n",
       "    .dataframe thead th {\n",
       "        text-align: right;\n",
       "    }\n",
       "</style>\n",
       "<table border=\"1\" class=\"dataframe\">\n",
       "  <thead>\n",
       "    <tr style=\"text-align: right;\">\n",
       "      <th></th>\n",
       "      <th>0</th>\n",
       "      <th>1</th>\n",
       "      <th>2</th>\n",
       "      <th>3</th>\n",
       "      <th>4</th>\n",
       "      <th>5</th>\n",
       "      <th>6</th>\n",
       "      <th>7</th>\n",
       "      <th>8</th>\n",
       "      <th>9</th>\n",
       "      <th>10</th>\n",
       "      <th>11</th>\n",
       "      <th>12</th>\n",
       "      <th>13</th>\n",
       "      <th>14</th>\n",
       "      <th>15</th>\n",
       "      <th>16</th>\n",
       "      <th>17</th>\n",
       "      <th>18</th>\n",
       "      <th>19</th>\n",
       "    </tr>\n",
       "  </thead>\n",
       "  <tbody>\n",
       "    <tr>\n",
       "      <th>0</th>\n",
       "      <td>0.150056</td>\n",
       "      <td>0.000000</td>\n",
       "      <td>0.000000</td>\n",
       "      <td>0.000000</td>\n",
       "      <td>0.000000</td>\n",
       "      <td>0.000000</td>\n",
       "      <td>0.000000</td>\n",
       "      <td>0.000000</td>\n",
       "      <td>0.259085</td>\n",
       "      <td>0.000000</td>\n",
       "      <td>0.000000</td>\n",
       "      <td>0.000000</td>\n",
       "      <td>0.183105</td>\n",
       "      <td>0.293238</td>\n",
       "      <td>0.000000</td>\n",
       "      <td>0.000000</td>\n",
       "      <td>0.000000</td>\n",
       "      <td>0.000000</td>\n",
       "      <td>0.000000</td>\n",
       "      <td>0.000000</td>\n",
       "    </tr>\n",
       "    <tr>\n",
       "      <th>1</th>\n",
       "      <td>0.012607</td>\n",
       "      <td>0.012607</td>\n",
       "      <td>0.012607</td>\n",
       "      <td>0.012607</td>\n",
       "      <td>0.012607</td>\n",
       "      <td>0.012607</td>\n",
       "      <td>0.012607</td>\n",
       "      <td>0.264152</td>\n",
       "      <td>0.012607</td>\n",
       "      <td>0.262228</td>\n",
       "      <td>0.012607</td>\n",
       "      <td>0.012607</td>\n",
       "      <td>0.012607</td>\n",
       "      <td>0.012607</td>\n",
       "      <td>0.012607</td>\n",
       "      <td>0.012607</td>\n",
       "      <td>0.259309</td>\n",
       "      <td>0.012607</td>\n",
       "      <td>0.012607</td>\n",
       "      <td>0.012607</td>\n",
       "    </tr>\n",
       "    <tr>\n",
       "      <th>2</th>\n",
       "      <td>0.000000</td>\n",
       "      <td>0.000000</td>\n",
       "      <td>0.077290</td>\n",
       "      <td>0.000000</td>\n",
       "      <td>0.000000</td>\n",
       "      <td>0.160686</td>\n",
       "      <td>0.000000</td>\n",
       "      <td>0.081397</td>\n",
       "      <td>0.234713</td>\n",
       "      <td>0.000000</td>\n",
       "      <td>0.160675</td>\n",
       "      <td>0.079999</td>\n",
       "      <td>0.000000</td>\n",
       "      <td>0.000000</td>\n",
       "      <td>0.076298</td>\n",
       "      <td>0.000000</td>\n",
       "      <td>0.000000</td>\n",
       "      <td>0.081854</td>\n",
       "      <td>0.000000</td>\n",
       "      <td>0.000000</td>\n",
       "    </tr>\n",
       "    <tr>\n",
       "      <th>3</th>\n",
       "      <td>0.000000</td>\n",
       "      <td>0.133995</td>\n",
       "      <td>0.314346</td>\n",
       "      <td>0.000000</td>\n",
       "      <td>0.000000</td>\n",
       "      <td>0.095583</td>\n",
       "      <td>0.000000</td>\n",
       "      <td>0.000000</td>\n",
       "      <td>0.000000</td>\n",
       "      <td>0.121090</td>\n",
       "      <td>0.000000</td>\n",
       "      <td>0.000000</td>\n",
       "      <td>0.000000</td>\n",
       "      <td>0.000000</td>\n",
       "      <td>0.095405</td>\n",
       "      <td>0.000000</td>\n",
       "      <td>0.175770</td>\n",
       "      <td>0.000000</td>\n",
       "      <td>0.000000</td>\n",
       "      <td>0.000000</td>\n",
       "    </tr>\n",
       "    <tr>\n",
       "      <th>4</th>\n",
       "      <td>0.191568</td>\n",
       "      <td>0.000000</td>\n",
       "      <td>0.000000</td>\n",
       "      <td>0.000000</td>\n",
       "      <td>0.000000</td>\n",
       "      <td>0.000000</td>\n",
       "      <td>0.000000</td>\n",
       "      <td>0.169937</td>\n",
       "      <td>0.195617</td>\n",
       "      <td>0.186931</td>\n",
       "      <td>0.000000</td>\n",
       "      <td>0.108945</td>\n",
       "      <td>0.000000</td>\n",
       "      <td>0.000000</td>\n",
       "      <td>0.000000</td>\n",
       "      <td>0.000000</td>\n",
       "      <td>0.000000</td>\n",
       "      <td>0.079684</td>\n",
       "      <td>0.000000</td>\n",
       "      <td>0.000000</td>\n",
       "    </tr>\n",
       "  </tbody>\n",
       "</table>\n",
       "</div>"
      ],
      "text/plain": [
       "         0         1         2   ...        17        18        19\n",
       "0  0.150056  0.000000  0.000000  ...  0.000000  0.000000  0.000000\n",
       "1  0.012607  0.012607  0.012607  ...  0.012607  0.012607  0.012607\n",
       "2  0.000000  0.000000  0.077290  ...  0.081854  0.000000  0.000000\n",
       "3  0.000000  0.133995  0.314346  ...  0.000000  0.000000  0.000000\n",
       "4  0.191568  0.000000  0.000000  ...  0.079684  0.000000  0.000000\n",
       "\n",
       "[5 rows x 20 columns]"
      ]
     },
     "execution_count": 103,
     "metadata": {
      "tags": []
     },
     "output_type": "execute_result"
    }
   ],
   "source": [
    "document_topic.head()"
   ]
  },
  {
   "cell_type": "code",
   "execution_count": null,
   "metadata": {
    "colab": {
     "base_uri": "https://localhost:8080/"
    },
    "id": "h4xpUm79mvpk",
    "outputId": "870efeee-9fa7-4337-cfac-103d3737c648"
   },
   "outputs": [
    {
     "data": {
      "text/plain": [
       "1006     0.762166\n",
       "3495     0.758995\n",
       "19114    0.719903\n",
       "979      0.683317\n",
       "6505     0.683301\n",
       "22714    0.683231\n",
       "21744    0.683206\n",
       "12237    0.683163\n",
       "3159     0.682996\n",
       "18101    0.682955\n",
       "8996     0.682855\n",
       "20049    0.682676\n",
       "10761    0.681467\n",
       "8045     0.679671\n",
       "1661     0.679190\n",
       "1662     0.679190\n",
       "4693     0.676332\n",
       "3165     0.674923\n",
       "18340    0.633726\n",
       "19433    0.625967\n",
       "Name: 8, dtype: float64"
      ]
     },
     "execution_count": 104,
     "metadata": {
      "tags": []
     },
     "output_type": "execute_result"
    }
   ],
   "source": [
    "# Which document are about topic 8\n",
    "document_topic.sort_values(8, ascending=False)[8].head(20)"
   ]
  },
  {
   "cell_type": "markdown",
   "metadata": {
    "id": "uu_1gzV0JXjP"
   },
   "source": [
    "**Heatmap visulisation on the topics shows that most of the books are related to topic 9**"
   ]
  },
  {
   "cell_type": "code",
   "execution_count": null,
   "metadata": {
    "colab": {
     "base_uri": "https://localhost:8080/",
     "height": 1000
    },
    "id": "NyzRyeg0m81V",
    "outputId": "fe7091a5-31fa-4a05-baa3-7e79bb00d35e"
   },
   "outputs": [
    {
     "data": {
      "text/plain": [
       "<matplotlib.axes._subplots.AxesSubplot at 0x7f079beb09b0>"
      ]
     },
     "execution_count": 105,
     "metadata": {
      "tags": []
     },
     "output_type": "execute_result"
    },
    {
     "data": {
      "image/png": "[encoded data removed]",
      "text/plain": [
       "<Figure size 1440x1440 with 2 Axes>"
      ]
     },
     "metadata": {
      "tags": []
     },
     "output_type": "display_data"
    }
   ],
   "source": [
    "%matplotlib inline\n",
    "import seaborn as sns; sns.set(rc={'figure.figsize':(20,20)})\n",
    "sns.heatmap(document_topic.loc[document_topic.idxmax(axis=1).sort_values().index])"
   ]
  },
  {
   "cell_type": "code",
   "execution_count": null,
   "metadata": {
    "colab": {
     "base_uri": "https://localhost:8080/",
     "height": 343
    },
    "id": "TCayK7GHnUhV",
    "outputId": "c9b4e979-45ff-4efa-9d5a-c6270ed502df"
   },
   "outputs": [
    {
     "data": {
      "text/plain": [
       "<matplotlib.axes._subplots.AxesSubplot at 0x7f079bea7e10>"
      ]
     },
     "execution_count": 106,
     "metadata": {
      "tags": []
     },
     "output_type": "execute_result"
    },
    {
     "data": {
      "image/png": "[encoded data removed]",
      "text/plain": [
       "<Figure size 720x360 with 1 Axes>"
      ]
     },
     "metadata": {
      "tags": []
     },
     "output_type": "display_data"
    }
   ],
   "source": [
    "#From the graph it can be seen that more than 4k books are related to topic 9 and least on topic 18\n",
    "sns.set(rc={'figure.figsize':(10,5)})\n",
    "document_topic.idxmax(axis=1).value_counts().plot.bar(color='lightblue')"
   ]
  },
  {
   "cell_type": "code",
   "execution_count": 1,
   "metadata": {
    "id": "5_fezc0Onlvc"
   },
   "outputs": [],
   "source": [
    "#pip install xlsxwriter\n"
   ]
  },
  {
   "cell_type": "code",
   "execution_count": null,
   "metadata": {
    "id": "7qpS2KHSKlrm"
   },
   "outputs": [],
   "source": [
    "#import xlsxwriter\n",
    "#writer = pd.ExcelWriter(r'hybrid_dataset.xlsx', engine='xlsxwriter',options={'strings_to_urls': False})\n",
    "#hybrid.to_excel(writer)\n",
    "#writer.close()"
   ]
  }
 ],
 "metadata": {
  "colab": {
   "collapsed_sections": [],
   "name": "4#NLP_topicmodel_description.ipynb",
   "provenance": []
  },
  "kernelspec": {
   "display_name": "Python 3",
   "language": "python",
   "name": "python3"
  },
  "language_info": {
   "codemirror_mode": {
    "name": "ipython",
    "version": 3
   },
   "file_extension": ".py",
   "mimetype": "text/x-python",
   "name": "python",
   "nbconvert_exporter": "python",
   "pygments_lexer": "ipython3",
   "version": "3.8.3"
  }
 },
 "nbformat": 4,
 "nbformat_minor": 1
}
